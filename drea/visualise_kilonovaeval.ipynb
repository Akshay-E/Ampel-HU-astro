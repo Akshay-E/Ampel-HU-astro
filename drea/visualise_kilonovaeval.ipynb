{
 "cells": [
  {
   "cell_type": "code",
   "execution_count": 14,
   "metadata": {},
   "outputs": [],
   "source": [
    "import numpy as np\n",
    "import pandas as pd\n",
    "import matplotlib.pyplot as plt\n",
    "import os"
   ]
  },
  {
   "cell_type": "code",
   "execution_count": 32,
   "metadata": {},
   "outputs": [],
   "source": [
    "# goal: automate reading in of transienttables in a directory / from directories\n",
    "# problem: transienttables or named same, no differentiation in skymaps --> might be sensible to add skymap name to file name? or can there be several healpix maps per table\n",
    "# would maybe make sense to let jobfile make own directory for skymap named by skymap"
   ]
  },
  {
   "cell_type": "code",
   "execution_count": 9,
   "metadata": {},
   "outputs": [
    {
     "data": {
      "text/plain": [
       "['TransientTable_1.csv']"
      ]
     },
     "execution_count": 9,
     "metadata": {},
     "output_type": "execute_result"
    }
   ],
   "source": [
    "file_dir = os.environ[\"AMPELDEV\"] + \"/../ampel-results/visualise\"\n",
    "\n",
    "os.listdir(file_dir)"
   ]
  },
  {
   "cell_type": "code",
   "execution_count": 29,
   "metadata": {},
   "outputs": [
    {
     "name": "stdout",
     "output_type": "stream",
     "text": [
      "Index(['Unnamed: 0', 'Ampel z', 'Ampel z (precision)', 'Ampel distance',\n",
      "       'Peak absmag (Possis)', 'Fit chisq (Possis)', 'Fit ndof (Possis)',\n",
      "       'Kilonovaness', 'Rejects', 'Kilonovaness/Number of Checks',\n",
      "       'Trigger time', 'Prob. contour', 'Healpix map', 'stock', 'channels'],\n",
      "      dtype='object')\n"
     ]
    },
    {
     "data": {
      "text/html": [
       "<div>\n",
       "<style scoped>\n",
       "    .dataframe tbody tr th:only-of-type {\n",
       "        vertical-align: middle;\n",
       "    }\n",
       "\n",
       "    .dataframe tbody tr th {\n",
       "        vertical-align: top;\n",
       "    }\n",
       "\n",
       "    .dataframe thead th {\n",
       "        text-align: right;\n",
       "    }\n",
       "</style>\n",
       "<table border=\"1\" class=\"dataframe\">\n",
       "  <thead>\n",
       "    <tr style=\"text-align: right;\">\n",
       "      <th></th>\n",
       "      <th>Unnamed: 0</th>\n",
       "      <th>Ampel z</th>\n",
       "      <th>Ampel z (precision)</th>\n",
       "      <th>Ampel distance</th>\n",
       "      <th>Peak absmag (Possis)</th>\n",
       "      <th>Fit chisq (Possis)</th>\n",
       "      <th>Fit ndof (Possis)</th>\n",
       "      <th>Kilonovaness</th>\n",
       "      <th>Rejects</th>\n",
       "      <th>Kilonovaness/Number of Checks</th>\n",
       "      <th>Trigger time</th>\n",
       "      <th>Prob. contour</th>\n",
       "      <th>Healpix map</th>\n",
       "      <th>stock</th>\n",
       "      <th>channels</th>\n",
       "    </tr>\n",
       "  </thead>\n",
       "  <tbody>\n",
       "    <tr>\n",
       "      <th>0</th>\n",
       "      <td>0</td>\n",
       "      <td>NaN</td>\n",
       "      <td>NaN</td>\n",
       "      <td>NaN</td>\n",
       "      <td>NaN</td>\n",
       "      <td>NaN</td>\n",
       "      <td>NaN</td>\n",
       "      <td>-8</td>\n",
       "      <td>('no ampelz match', 'no possis fits', 'maglim_...</td>\n",
       "      <td>0.0</td>\n",
       "      <td>2.458893e+06</td>\n",
       "      <td>0.858171</td>\n",
       "      <td>S200213t.fits.gz</td>\n",
       "      <td>91846547</td>\n",
       "      <td>ligo</td>\n",
       "    </tr>\n",
       "    <tr>\n",
       "      <th>1</th>\n",
       "      <td>1</td>\n",
       "      <td>0.041456</td>\n",
       "      <td>0.010</td>\n",
       "      <td>5.435030</td>\n",
       "      <td>-18.696491</td>\n",
       "      <td>7972.912447</td>\n",
       "      <td>29.0</td>\n",
       "      <td>18</td>\n",
       "      <td>('age', 'maglim_maxago')</td>\n",
       "      <td>0.9</td>\n",
       "      <td>2.458893e+06</td>\n",
       "      <td>0.869095</td>\n",
       "      <td>S200213t.fits.gz</td>\n",
       "      <td>42737251</td>\n",
       "      <td>ligo</td>\n",
       "    </tr>\n",
       "    <tr>\n",
       "      <th>2</th>\n",
       "      <td>2</td>\n",
       "      <td>0.044799</td>\n",
       "      <td>0.003</td>\n",
       "      <td>2.739695</td>\n",
       "      <td>-17.703313</td>\n",
       "      <td>1515.386507</td>\n",
       "      <td>9.0</td>\n",
       "      <td>18</td>\n",
       "      <td>('age', 'maglim_maxago')</td>\n",
       "      <td>0.9</td>\n",
       "      <td>2.458893e+06</td>\n",
       "      <td>0.888584</td>\n",
       "      <td>S200213t.fits.gz</td>\n",
       "      <td>50844323</td>\n",
       "      <td>ligo</td>\n",
       "    </tr>\n",
       "    <tr>\n",
       "      <th>3</th>\n",
       "      <td>3</td>\n",
       "      <td>0.054102</td>\n",
       "      <td>0.020</td>\n",
       "      <td>1.482480</td>\n",
       "      <td>-20.779976</td>\n",
       "      <td>830.349662</td>\n",
       "      <td>16.0</td>\n",
       "      <td>16</td>\n",
       "      <td>('min_dist', 'min_absmag', 'age', 'maglim_maxa...</td>\n",
       "      <td>0.8</td>\n",
       "      <td>2.458893e+06</td>\n",
       "      <td>0.878781</td>\n",
       "      <td>S200213t.fits.gz</td>\n",
       "      <td>36286595</td>\n",
       "      <td>ligo</td>\n",
       "    </tr>\n",
       "    <tr>\n",
       "      <th>4</th>\n",
       "      <td>4</td>\n",
       "      <td>0.022040</td>\n",
       "      <td>0.003</td>\n",
       "      <td>19.123570</td>\n",
       "      <td>-17.725105</td>\n",
       "      <td>13272.541653</td>\n",
       "      <td>36.0</td>\n",
       "      <td>18</td>\n",
       "      <td>('age', 'maglim_maxago')</td>\n",
       "      <td>0.9</td>\n",
       "      <td>2.458893e+06</td>\n",
       "      <td>0.894188</td>\n",
       "      <td>S200213t.fits.gz</td>\n",
       "      <td>511474226</td>\n",
       "      <td>ligo</td>\n",
       "    </tr>\n",
       "  </tbody>\n",
       "</table>\n",
       "</div>"
      ],
      "text/plain": [
       "   Unnamed: 0   Ampel z  Ampel z (precision)  Ampel distance  \\\n",
       "0           0       NaN                  NaN             NaN   \n",
       "1           1  0.041456                0.010        5.435030   \n",
       "2           2  0.044799                0.003        2.739695   \n",
       "3           3  0.054102                0.020        1.482480   \n",
       "4           4  0.022040                0.003       19.123570   \n",
       "\n",
       "   Peak absmag (Possis)  Fit chisq (Possis)  Fit ndof (Possis)  Kilonovaness  \\\n",
       "0                   NaN                 NaN                NaN            -8   \n",
       "1            -18.696491         7972.912447               29.0            18   \n",
       "2            -17.703313         1515.386507                9.0            18   \n",
       "3            -20.779976          830.349662               16.0            16   \n",
       "4            -17.725105        13272.541653               36.0            18   \n",
       "\n",
       "                                             Rejects  \\\n",
       "0  ('no ampelz match', 'no possis fits', 'maglim_...   \n",
       "1                           ('age', 'maglim_maxago')   \n",
       "2                           ('age', 'maglim_maxago')   \n",
       "3  ('min_dist', 'min_absmag', 'age', 'maglim_maxa...   \n",
       "4                           ('age', 'maglim_maxago')   \n",
       "\n",
       "   Kilonovaness/Number of Checks  Trigger time  Prob. contour  \\\n",
       "0                            0.0  2.458893e+06       0.858171   \n",
       "1                            0.9  2.458893e+06       0.869095   \n",
       "2                            0.9  2.458893e+06       0.888584   \n",
       "3                            0.8  2.458893e+06       0.878781   \n",
       "4                            0.9  2.458893e+06       0.894188   \n",
       "\n",
       "        Healpix map      stock channels  \n",
       "0  S200213t.fits.gz   91846547     ligo  \n",
       "1  S200213t.fits.gz   42737251     ligo  \n",
       "2  S200213t.fits.gz   50844323     ligo  \n",
       "3  S200213t.fits.gz   36286595     ligo  \n",
       "4  S200213t.fits.gz  511474226     ligo  "
      ]
     },
     "execution_count": 29,
     "metadata": {},
     "output_type": "execute_result"
    }
   ],
   "source": [
    "df = pd.read_csv(os.path.join(file_dir, os.listdir(file_dir)[0]), sep=\";\")\n",
    "print(df.keys())\n",
    "name = df[\"Healpix map\"][0]\n",
    "df.head()"
   ]
  },
  {
   "cell_type": "code",
   "execution_count": 31,
   "metadata": {},
   "outputs": [
    {
     "data": {
      "text/plain": [
       "<matplotlib.legend.Legend at 0x7f8c8979d2d0>"
      ]
     },
     "execution_count": 31,
     "metadata": {},
     "output_type": "execute_result"
    },
    {
     "data": {
      "image/png": "[encoded data removed]",
      "text/plain": [
       "<Figure size 640x480 with 1 Axes>"
      ]
     },
     "metadata": {},
     "output_type": "display_data"
    }
   ],
   "source": [
    "key_ind = 9\n",
    "bins = 20\n",
    "\n",
    "key = df.keys()[key_ind]\n",
    "plt.hist(df[key], bins=bins, label=\"{} Counts = {}\".format(name, df.shape[0]))\n",
    "plt.xlabel(key)\n",
    "plt.ylabel(\"Counts\")\n",
    "plt.legend()"
   ]
  },
  {
   "cell_type": "code",
   "execution_count": null,
   "metadata": {},
   "outputs": [],
   "source": []
  }
 ],
 "metadata": {
  "kernelspec": {
   "display_name": "ampel-hu",
   "language": "python",
   "name": "python3"
  },
  "language_info": {
   "codemirror_mode": {
    "name": "ipython",
    "version": 3
   },
   "file_extension": ".py",
   "mimetype": "text/x-python",
   "name": "python",
   "nbconvert_exporter": "python",
   "pygments_lexer": "ipython3",
   "version": "3.10.9"
  },
  "orig_nbformat": 4
 },
 "nbformat": 4,
 "nbformat_minor": 2
}
