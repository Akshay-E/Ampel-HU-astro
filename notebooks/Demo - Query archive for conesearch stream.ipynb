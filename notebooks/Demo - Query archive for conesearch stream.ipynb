{
 "cells": [
  {
   "cell_type": "markdown",
   "id": "0f44e097",
   "metadata": {},
   "source": [
    "A typical use of the ZTF alert archive will involve retrieving all alerts fulfilling certain criteria, e.g. occuring within a particular time, being sufficiently bright and so forth. These alert samples can be used both for archive based scientific inquires as well as for larger scale testing of algorithms prior to using them live.\n",
    "\n",
    "This notebook demonstrates a cone-based search around specific coordinates, to which candidate quality metrics are added. This notebook uses stream query setup. This query does not immediately return a set of alerts but a _resume token_. This resume token can then be used to generate an iterator which obtaines chunked set of alerts. This setup allows for large alert samples to be processed without waiting for the archive processing or transferring a single large query result.\n"
   ]
  },
  {
   "cell_type": "code",
   "execution_count": null,
   "id": "cc4d474e",
   "metadata": {},
   "outputs": [],
   "source": [
    "import requests, os"
   ]
  },
  {
   "cell_type": "code",
   "execution_count": null,
   "id": "2304d7c2",
   "metadata": {},
   "outputs": [],
   "source": [
    "# This is the archive token which can be obtained from https://ampel.zeuthen.desy.de/live/dashboard/tokens\n",
    "# In order to retrieve ZTF partnership alerts your token needs to have the appropriate access\n",
    "token = os.environ[\"ARCHIVE_TOKEN\"]   # I have mine stored\n",
    "header = {\"Authorization\": \"bearer \"+token}"
   ]
  },
  {
   "cell_type": "markdown",
   "id": "69b57d5a",
   "metadata": {},
   "source": [
    "##### 1. Creating resume token based on alert properties. \n",
    "\n",
    "This notebooks demonstrates how to submit a query based on alert properties. The sample case includes cuts on time, ra, dec, RealBocus and number of detections. For more options, see the `ztf.alert.candidate` section of https://zwickytransientfacility.github.io/ztf-avro-alert/schema.html"
   ]
  },
  {
   "cell_type": "code",
   "execution_count": null,
   "id": "4cc2223c",
   "metadata": {},
   "outputs": [],
   "source": [
    "endpoint = 'https://ampel.zeuthen.desy.de/api/ztf/archive/v3/streams/from_query?programid=1'"
   ]
  },
  {
   "cell_type": "code",
   "execution_count": null,
   "id": "a438a43b",
   "metadata": {},
   "outputs": [],
   "source": [
    "query = {\n",
    "\"cone\": {\n",
    "    \"ra\": 193.28143551564065,\n",
    "    \"dec\": 33.488720966906016,\n",
    "    \"radius\": 1. / 120\n",
    "  },\n",
    "\"candidate\": {\n",
    "    \"drb\": {\n",
    "      \"$gt\": 0.995\n",
    "    },\n",
    "    \"ndethist\": {\n",
    "      \"$gt\": 1,\n",
    "      \"$lte\": 10000\n",
    "    },\n",
    "    \"isdiffpos\": {\"$in\": [\"t\", \"1\"]},\n",
    "  }\n",
    "}"
   ]
  },
  {
   "cell_type": "code",
   "execution_count": null,
   "id": "67e221e4",
   "metadata": {},
   "outputs": [],
   "source": [
    "response = requests.post(endpoint, headers=header, json=query )"
   ]
  },
  {
   "cell_type": "code",
   "execution_count": null,
   "id": "5f01b054",
   "metadata": {},
   "outputs": [],
   "source": [
    "if not response.ok:\n",
    "    print( 'Query creation failed.')"
   ]
  },
  {
   "cell_type": "code",
   "execution_count": null,
   "id": "e8c9f013",
   "metadata": {},
   "outputs": [],
   "source": [
    "# The full response contains the resume token as well as the chunk size, i.e.\n",
    "# how many alerts will be return in each call to the alert iterator.\n",
    "response.json()"
   ]
  },
  {
   "cell_type": "code",
   "execution_count": null,
   "id": "03a76124",
   "metadata": {},
   "outputs": [],
   "source": [
    "resume_token = response.json()['resume_token']"
   ]
  },
  {
   "cell_type": "markdown",
   "id": "8de4ad30",
   "metadata": {},
   "source": [
    "At this point the alert archive will start the process of staging alerts for release. This process takes a few min (length depending on query size), during which time the resume_token will stay locked. "
   ]
  },
  {
   "cell_type": "markdown",
   "id": "fef58015",
   "metadata": {},
   "source": [
    "##### 2. Retrieve alerts based on resume token\n",
    "\n",
    "The next step will involve using a resume token to locally retrieve all alerts covered by the query. For this purpose we will use the `ZTFArchiveAlertLoader`, which provides an iterator with which we can traverse the alerts. As soon as one alert bunch is exhaused the next will be obtained from the archive. \n",
    "\n"
   ]
  },
  {
   "cell_type": "code",
   "execution_count": null,
   "id": "31af743d",
   "metadata": {},
   "outputs": [],
   "source": [
    "from ampel.ztf.t0.load.ZTFArchiveAlertLoader import ZTFArchiveAlertLoader"
   ]
  },
  {
   "cell_type": "code",
   "execution_count": null,
   "id": "7556e422",
   "metadata": {},
   "outputs": [],
   "source": [
    "# The loader config contains the resume_token as stream identifier\n",
    "config = {'archive':\"https://ampel.zeuthen.desy.de/api/ztf/archive/v3\", \n",
    "          \"stream\":resume_token}"
   ]
  },
  {
   "cell_type": "code",
   "execution_count": null,
   "id": "0baf5c57",
   "metadata": {},
   "outputs": [],
   "source": [
    "config"
   ]
  },
  {
   "cell_type": "code",
   "execution_count": null,
   "id": "d720a067",
   "metadata": {},
   "outputs": [],
   "source": [
    "try:\n",
    "    alertlist = []\n",
    "    alertloader = ZTFArchiveAlertLoader(**config)\n",
    "    alerts = alertloader.get_alerts()\n",
    "    for alert in alerts:\n",
    "        alertlist.append(alert)\n",
    "        print(alert['objectId'], alert['candidate']['jd'])\n",
    "except requests.exceptions.HTTPError as e:\n",
    "    status_code = e.response.status_code\n",
    "    if status_code==423:\n",
    "        print('HTTP error {}: likely caused by server staging process. Wait and try again.'.format(status_code) )\n",
    "    else:\n",
    "        raise e\n",
    "      "
   ]
  },
  {
   "cell_type": "markdown",
   "id": "ae838871",
   "metadata": {},
   "source": [
    "##### We now have a list of alerts which can be examined further, e.g. by an AMPEL filter or processing unit."
   ]
  },
  {
   "cell_type": "code",
   "execution_count": null,
   "id": "f53a812e",
   "metadata": {},
   "outputs": [],
   "source": [
    "print('Found {} alerts'.format(len(alertlist)))"
   ]
  },
  {
   "cell_type": "code",
   "execution_count": null,
   "id": "ff6e07cc",
   "metadata": {},
   "outputs": [],
   "source": []
  }
 ],
 "metadata": {
  "kernelspec": {
   "display_name": "Python 3 (ipykernel)",
   "language": "python",
   "name": "python3"
  },
  "language_info": {
   "codemirror_mode": {
    "name": "ipython",
    "version": 3
   },
   "file_extension": ".py",
   "mimetype": "text/x-python",
   "name": "python",
   "nbconvert_exporter": "python",
   "pygments_lexer": "ipython3",
   "version": "3.10.13"
  }
 },
 "nbformat": 4,
 "nbformat_minor": 5
}
