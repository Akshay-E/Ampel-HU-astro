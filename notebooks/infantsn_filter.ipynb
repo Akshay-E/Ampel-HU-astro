{
 "cells": [
  {
   "cell_type": "markdown",
   "id": "4fd252ee",
   "metadata": {},
   "source": [
    "This notebook shows how to retreieve alerts belonging to either a topic (permanent) or query (temporary) archive token. The alerts are then propagated to a sample T0 filter unit."
   ]
  },
  {
   "cell_type": "code",
   "execution_count": null,
   "id": "cc4d474e",
   "metadata": {},
   "outputs": [],
   "source": [
    "import requests, os"
   ]
  },
  {
   "cell_type": "code",
   "execution_count": null,
   "id": "2304d7c2",
   "metadata": {},
   "outputs": [],
   "source": [
    "token = os.environ[\"ARCHIVE_TOKEN\"]\n",
    "header = {\"Authorization\": \"bearer \"+token}\n",
    "base_url = 'https://ampel.zeuthen.desy.de/api/ztf/archive/v3'\n",
    "from ampel.log.AmpelLogger import AmpelLogger\n",
    "from ampel.ztf.t0.DecentFilter import DecentFilter\n",
    "from ampel.contrib.hu.t0.XShooterFilter import XShooterFilter\n",
    "\n",
    "from ampel.ztf.t0.load.ZTFArchiveAlertLoader import ZTFArchiveAlertLoader\n",
    "from ampel.ztf.alert.ZiAlertSupplier import ZiAlertSupplier"
   ]
  },
  {
   "cell_type": "markdown",
   "id": "6da955a8",
   "metadata": {},
   "source": [
    "## A. Define filter parameters\n",
    "We here choose between two filters: DecentFilter, and XShooterFilter (an extension of the former)."
   ]
  },
  {
   "cell_type": "code",
   "execution_count": null,
   "id": "6d467176",
   "metadata": {},
   "outputs": [],
   "source": [
    "# A basic alert filter with a lot of parameters that can be edited.\n",
    "DecentFilter??"
   ]
  },
  {
   "cell_type": "code",
   "execution_count": null,
   "id": "6070f564",
   "metadata": {},
   "outputs": [],
   "source": [
    "# All DecentFilter options + additional parameters for choosing infant, visible transients.\n",
    "XShooterFilter??"
   ]
  },
  {
   "cell_type": "code",
   "execution_count": null,
   "id": "f779ff60",
   "metadata": {},
   "outputs": [],
   "source": [
    "# Decent filter parameters\n",
    "filter_config = {\n",
    "    \"min_ndet\": 1,          # Min number of detections\n",
    "    \"min_tspan\": -1.,        # Min total detection age in alert\n",
    "    \"max_tspan\": 5.,        # Max total detection age in alert\n",
    "    \"min_archive_tspan\": -1,        # Min total detection age in IPAC DB\n",
    "    \"max_archive_tspan\": 5.,        # Max total detection age in IPAC DB\n",
    "    \"min_rb\": 0.3,             # real bogus score\n",
    "    \"min_drb\": 0.995,         # deep learning real bogus score \n",
    "    \"max_fwhm\": 5.5,        # sexctrator FWHM (assume Gaussian) [pix]\n",
    "    \"max_elong\": 1.4,       # Axis ratio of image: aimage / bimage\n",
    "    \"max_magdiff\": 1,       # Difference: magap - magpsf [mag]\n",
    "    \"max_nbad\": 0,          # number of bad pixels in a 5 x 5 pixel stamp\n",
    "    \"min_sso_dist\": 20,     # distance to nearest solar system object [arcsec]\n",
    "    \"min_gal_lat\": 14,      # minium distance from galactic plane. Set to negative to disable cut.\n",
    "    # Gaia rejection (based on catalog matching)\n",
    "    \"gaia_rs\": 0,            # Disabled for now!\n",
    "    \"gaia_pm_signif\": 3,\n",
    "    \"gaia_plx_signif\": 3,\n",
    "    \"gaia_veto_gmag_min\": 9,\n",
    "    \"gaia_veto_gmag_max\": 20,\n",
    "    \"gaia_excessnoise_sig_max\": 999,\n",
    "    # PS1 rejection (based on alert content)\n",
    "    \"ps1_sgveto_rad\": 1,\n",
    "    \"ps1_sgveto_th\": 0.8,\n",
    "    \"ps1_confusion_rad\": 3,\n",
    "    \"ps1_confusion_sg_tol\": 0.1,\n",
    "}"
   ]
  },
  {
   "cell_type": "code",
   "execution_count": null,
   "id": "0c8b9539",
   "metadata": {},
   "outputs": [],
   "source": [
    "# Additional parameters for the Xshooter filter\n",
    "filter_config.update({\n",
    "    \"max_dec\": 999,         # Max declination, shortcuts to transients visible from the south\n",
    "    \"det_within\": 1.,     # Recent first detection \n",
    "    \"ul_within\": 1.5,         # A previous upper limit with this time (days)\n",
    "    # Updated parameters based on infant detections spring 2021. Defaults conservative\n",
    "    \"max_chipsf\": 4,        # Best guess value 2\n",
    "    \"max_seeratio\": 2,      # Best guess value 1.3\n",
    "    \"min_sumrat\": 0.6,      # Best guess value 0.8    min_tspan: -666\n",
    "\n",
    "} )"
   ]
  },
  {
   "cell_type": "markdown",
   "id": "3f9458b7",
   "metadata": {},
   "source": [
    "## B. Getting a handle to alerts.\n",
    "A _resume token_, which points to a specific set of alerts. We here present three ways of doing this. "
   ]
  },
  {
   "cell_type": "markdown",
   "id": "cfdc6606",
   "metadata": {},
   "source": [
    "### 1. Using a query token\n",
    "In this case a _resume token_ has been produced (and not consumed) e.g. as in `ampel_api_alertquery.ipynb`. "
   ]
  },
  {
   "cell_type": "code",
   "execution_count": null,
   "id": "0c6687b3",
   "metadata": {},
   "outputs": [],
   "source": [
    "# Copy from query\n",
    "resume_token = ''\n",
    "# Skip to Sec 3."
   ]
  },
  {
   "cell_type": "markdown",
   "id": "44ce4d6d",
   "metadata": {},
   "source": [
    "### 2. Using a topic token\n",
    "These are permanent pointers to list of alerts. Here we will first create a stream from this list. "
   ]
  },
  {
   "cell_type": "markdown",
   "id": "d16f662f",
   "metadata": {},
   "source": [
    "\n",
    "\n",
    "topic: Y9R82mkcL1SJq16rTt8_vh-_dx0V7rwEHbGgSgUMlqI\n",
    "\n",
    "description: A list of the final alert of 27 SNe which were detected early during 2020. Created May 24 2022.\n",
    "\n",
    "topic: fz6nmCJwKSdZXhzm3JuBTlMY3xjPsdhkobVLvZzzmt8\n",
    "\n",
    "description: A list of 2565 alerts from 27 2020 SNe which were detected early. Created May 24 2022.\n"
   ]
  },
  {
   "cell_type": "code",
   "execution_count": null,
   "id": "5ef719a6",
   "metadata": {},
   "outputs": [],
   "source": [
    "topic_token = \"fz6nmCJwKSdZXhzm3JuBTlMY3xjPsdhkobVLvZzzmt8\""
   ]
  },
  {
   "cell_type": "code",
   "execution_count": null,
   "id": "4923689e",
   "metadata": {},
   "outputs": [],
   "source": [
    "body = {\n",
    "    \"topic\": topic_token, \n",
    "    \"chunk_size\": 100\n",
    "}"
   ]
  },
  {
   "cell_type": "code",
   "execution_count": null,
   "id": "2b1112c2",
   "metadata": {},
   "outputs": [],
   "source": [
    "response = requests.post(f\"{base_url}/streams/from_topic\", headers={\"Authorization\": \"bearer \"+token}, json=body )"
   ]
  },
  {
   "cell_type": "code",
   "execution_count": null,
   "id": "239c908c",
   "metadata": {},
   "outputs": [],
   "source": [
    "if not response.ok:\n",
    "    print('Accessing stream from topic not successful')\n",
    "    print(response)"
   ]
  },
  {
   "cell_type": "code",
   "execution_count": null,
   "id": "6f04137c",
   "metadata": {},
   "outputs": [],
   "source": [
    "resume_token = response.json()['resume_token']"
   ]
  },
  {
   "cell_type": "code",
   "execution_count": null,
   "id": "abe5a714",
   "metadata": {},
   "outputs": [],
   "source": [
    "# Alerts are now being queued in the archive, and can be retrieved through this token\n",
    "resume_token"
   ]
  },
  {
   "cell_type": "markdown",
   "id": "4fe2b679",
   "metadata": {},
   "source": [
    "### 3. Quering random alerts\n",
    "We will here grab a random set of alerts to check throughput."
   ]
  },
  {
   "cell_type": "code",
   "execution_count": null,
   "id": "9d57df8c",
   "metadata": {},
   "outputs": [],
   "source": [
    "query = {\n",
    "  \"jd\": {\n",
    "    \"$gt\": 2459500.5,\n",
    "    \"$lt\": 2459551.5\n",
    "  },\n",
    "  \"candidate\": {\n",
    "    \"drb\": {\n",
    "      \"$gt\": 0.995\n",
    "    },\n",
    "    \"magpsf\": {\n",
    "      \"$gt\": 16\n",
    "    },\n",
    "    \"ndethist\": {\n",
    "      \"$gt\": 0,\n",
    "      \"$lte\": 2\n",
    "    },\n",
    "  }\n",
    "}"
   ]
  },
  {
   "cell_type": "code",
   "execution_count": null,
   "id": "a8e8bc77",
   "metadata": {},
   "outputs": [],
   "source": [
    "endpoint = 'https://ampel.zeuthen.desy.de/api/ztf/archive/v3/streams/from_query?programid=1'\n",
    "header = {\"Authorization\": \"bearer \"+os.environ[\"ARCHIVE_TOKEN\"]}"
   ]
  },
  {
   "cell_type": "code",
   "execution_count": null,
   "id": "a38013e0",
   "metadata": {},
   "outputs": [],
   "source": [
    "response = requests.post(endpoint, headers=header, json=query )"
   ]
  },
  {
   "cell_type": "code",
   "execution_count": null,
   "id": "6c95574a",
   "metadata": {},
   "outputs": [],
   "source": [
    "response.ok"
   ]
  },
  {
   "cell_type": "code",
   "execution_count": null,
   "id": "2f6de5f4",
   "metadata": {},
   "outputs": [],
   "source": [
    "resume_token = response.json()['resume_token']"
   ]
  },
  {
   "cell_type": "markdown",
   "id": "b8c06b91",
   "metadata": {},
   "source": [
    "### 4. Configure and load a filter\n",
    "As defined above"
   ]
  },
  {
   "cell_type": "code",
   "execution_count": null,
   "id": "7af38731",
   "metadata": {},
   "outputs": [],
   "source": [
    "logger = AmpelLogger.get_logger()"
   ]
  },
  {
   "cell_type": "code",
   "execution_count": null,
   "id": "82d45239",
   "metadata": {},
   "outputs": [],
   "source": [
    "t0filter = DecentFilter( **filter_config, logger=logger )\n",
    "t0filter.post_init()"
   ]
  },
  {
   "cell_type": "code",
   "execution_count": null,
   "id": "190f78fd",
   "metadata": {},
   "outputs": [],
   "source": [
    "t0filter = XShooterFilter( **filter_config, logger=logger )\n",
    "t0filter.post_init()"
   ]
  },
  {
   "cell_type": "markdown",
   "id": "dd513027",
   "metadata": {},
   "source": [
    "## C. Iterate through filters from the stream, checking whether the filter would accept them"
   ]
  },
  {
   "cell_type": "code",
   "execution_count": null,
   "id": "dd3e88d8",
   "metadata": {},
   "outputs": [],
   "source": [
    "config = {'archive':\"https://ampel.zeuthen.desy.de/api/ztf/archive/v3\", \n",
    "          \"stream\": resume_token}   # From above"
   ]
  },
  {
   "cell_type": "code",
   "execution_count": null,
   "id": "a52fae8c",
   "metadata": {},
   "outputs": [],
   "source": [
    "alertloader = ZTFArchiveAlertLoader(**config)"
   ]
  },
  {
   "cell_type": "code",
   "execution_count": null,
   "id": "aab1425a",
   "metadata": {},
   "outputs": [],
   "source": [
    "summary = []"
   ]
  },
  {
   "cell_type": "code",
   "execution_count": null,
   "id": "fb2a7a9b",
   "metadata": {},
   "outputs": [],
   "source": [
    "for alert in alertloader.get_alerts():\n",
    "    #print(alert)\n",
    "    filter_accept = t0filter.process( ZiAlertSupplier.shape_alert_dict( alert, [] ) )\n",
    "    summary.append([alert['candid'], alert['objectId'], alert['candidate']['jd'], filter_accept])\n",
    "\n",
    "    if len(summary) % 100==0:\n",
    "        print(len(summary))\n",
    "        print(summary[-1])"
   ]
  },
  {
   "cell_type": "code",
   "execution_count": null,
   "id": "0f4a583c",
   "metadata": {},
   "outputs": [],
   "source": [
    "print('Number of unique transients selected:', len( set( [s[1] for s in summary if s[-1]] ) ))"
   ]
  },
  {
   "cell_type": "code",
   "execution_count": null,
   "id": "aab65cf6",
   "metadata": {},
   "outputs": [],
   "source": [
    "print('Total number of alertsselected:', len( ( [s[1] for s in summary if s[-1]] ) ) )"
   ]
  },
  {
   "cell_type": "code",
   "execution_count": null,
   "id": "a23ca829",
   "metadata": {},
   "outputs": [],
   "source": [
    "print('Alerts examined', len(summary))"
   ]
  },
  {
   "cell_type": "markdown",
   "id": "6d17a204",
   "metadata": {},
   "source": [
    "Example based on the filter settings last used above:\n",
    "- Processing 50 days of alerts: 1096089 alerts pass query candidates, of these yielded 8179 transient selections from 8215 selected alerts (~160/day).\n",
    "- Processing the 2565 alerts of the 27 2020 infant SNe, 38 alerts of 15 SNe were selected. "
   ]
  }
 ],
 "metadata": {
  "kernelspec": {
   "display_name": "Python 3 (ipykernel)",
   "language": "python",
   "name": "python3"
  },
  "language_info": {
   "codemirror_mode": {
    "name": "ipython",
    "version": 3
   },
   "file_extension": ".py",
   "mimetype": "text/x-python",
   "name": "python",
   "nbconvert_exporter": "python",
   "pygments_lexer": "ipython3",
   "version": "3.9.12"
  }
 },
 "nbformat": 4,
 "nbformat_minor": 5
}
