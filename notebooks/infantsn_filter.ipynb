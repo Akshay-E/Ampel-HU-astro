{
 "cells": [
  {
   "cell_type": "markdown",
   "id": "4fd252ee",
   "metadata": {},
   "source": [
    "### Tuning a filter / channel \n",
    "\n",
    "This notebook shows how to investigate the impact of changing the filter/selection parameters for the Infant SN channel.\n",
    "\n",
    "Selection has three elements:\n",
    "- Filter using the XshooterFilter (a close child of DecentFilter).\n",
    "- Catalog matching to a set of standard catalogs.\n",
    "- Distance and age calculations using T2InfantCatalogEval. \n",
    "\n",
    "The effects are investigated through processing _either_ a set of alerts belonging to known, nearby SNe _or_ alerts obtained through processing all alerts from a certain time-range. Through running the notebook twice it is thus possible to evaluate what fraction of the comparison SNe (and at what age) would be selected, and compare to the number of background alerts selected (likely, but not necessarily, uninteresting).\n",
    "\n",
    "The three main notebook sections are:\n",
    "A. Configurations of unit parameters.\n",
    "B. Retrieval of test alerts through _either_ section B1 _or_ B2.\n",
    "C. Processing of alerts (which can take a while for background tests).\n",
    "\n",
    "The notebook assumes that the dev/0.8.2 branch of Ampel-HU-astro has been installed. "
   ]
  },
  {
   "cell_type": "code",
   "execution_count": null,
   "id": "6f0ccf67",
   "metadata": {},
   "outputs": [],
   "source": [
    "# Archive access is granted through https://ampel.zeuthen.desy.de/live/dashboard/tokens\n",
    "token = os.environ[\"ARCHIVE_TOKEN\"]"
   ]
  },
  {
   "cell_type": "code",
   "execution_count": null,
   "id": "cc4d474e",
   "metadata": {},
   "outputs": [],
   "source": [
    "import requests, os"
   ]
  },
  {
   "cell_type": "code",
   "execution_count": null,
   "id": "2304d7c2",
   "metadata": {
    "scrolled": true
   },
   "outputs": [],
   "source": [
    "header = {\"Authorization\": \"bearer \"+token}\n",
    "base_url = 'https://ampel.zeuthen.desy.de/api/ztf/archive/v3'\n",
    "from ampel.log.AmpelLogger import AmpelLogger\n",
    "from ampel.ztf.t0.DecentFilter import DecentFilter\n",
    "from ampel.contrib.hu.t0.XShooterFilter import XShooterFilter\n",
    "from ampel.ztf.t2.T2CatalogMatch import T2CatalogMatch\n",
    "from ampel.contrib.hu.t2.T2InfantCatalogEval import T2InfantCatalogEval\n",
    "from ampel.view.LightCurve import LightCurve\n",
    "from ampel.view.T2DocView import T2DocView\n",
    "\n",
    "from ampel.ztf.alert.ZiAlertSupplier import ZiAlertSupplier\n",
    "from ampel.ztf.ingest.ZiDataPointShaper import ZiDataPointShaper\n",
    "from ampel.ztf.t0.load.ZTFArchiveAlertLoader import ZTFArchiveAlertLoader\n",
    "from ampel.ztf.alert.ZiAlertSupplier import ZiAlertSupplier"
   ]
  },
  {
   "cell_type": "code",
   "execution_count": null,
   "id": "a846ee2e",
   "metadata": {},
   "outputs": [],
   "source": [
    "# The logger can be used to display information to stdout, or to file, and at different levels\n",
    "logger = AmpelLogger.get_logger()"
   ]
  },
  {
   "cell_type": "markdown",
   "id": "6da955a8",
   "metadata": {},
   "source": [
    "## A. Define filter parameters\n",
    "Actions are carried out by units (python modules), where the behaviour is typically governed by parameters. You can look at the docstring and code for the used units in the cells below."
   ]
  },
  {
   "cell_type": "code",
   "execution_count": null,
   "id": "6070f564",
   "metadata": {},
   "outputs": [],
   "source": [
    "# A filter designed to find transients with a recent non-detection...\n",
    "XShooterFilter??"
   ]
  },
  {
   "cell_type": "code",
   "execution_count": null,
   "id": "6d467176",
   "metadata": {},
   "outputs": [],
   "source": [
    "# ...for the most part it, in turn, uses the DecentFilter\n",
    "DecentFilter??"
   ]
  },
  {
   "cell_type": "code",
   "execution_count": null,
   "id": "ffb50be3",
   "metadata": {},
   "outputs": [],
   "source": [
    "# The position of the alert is used to match to a set of standard catalogs\n",
    "T2CatalogMatch??"
   ]
  },
  {
   "cell_type": "code",
   "execution_count": null,
   "id": "dcbe025b",
   "metadata": {},
   "outputs": [],
   "source": [
    "# The combined lightcurve and redshift (through catalog match) info is used to evaluate \n",
    "# the transient\n",
    "T2InfantCatalogEval??"
   ]
  },
  {
   "cell_type": "markdown",
   "id": "5d58df90",
   "metadata": {},
   "source": [
    "The first set of parameters regulate how alerts are _filtered_. Alerts which are rejected are not considered for further processing."
   ]
  },
  {
   "cell_type": "code",
   "execution_count": null,
   "id": "f779ff60",
   "metadata": {},
   "outputs": [],
   "source": [
    "# The following settings define the filter behaviour\n",
    "filter_config = {\n",
    "    \"min_ndet\": 1,          # Min number of detections\n",
    "    \"min_tspan\": -1.,        # Min total detection age in alert\n",
    "    \"max_tspan\": 5.,        # Max total detection age in alert\n",
    "    \"min_archive_tspan\": -1,        # Min total detection age in IPAC DB\n",
    "    \"max_archive_tspan\": 5.,        # Max total detection age in IPAC DB\n",
    "    \"min_rb\": 0.3,             # real bogus score\n",
    "    \"min_drb\": 0.995,         # deep learning real bogus score \n",
    "    \"max_fwhm\": 5.5,        # sexctrator FWHM (assume Gaussian) [pix]\n",
    "    \"max_elong\": 1.4,       # Axis ratio of image: aimage / bimage\n",
    "    \"max_magdiff\": 1,       # Difference: magap - magpsf [mag]\n",
    "    \"max_nbad\": 0,          # number of bad pixels in a 5 x 5 pixel stamp\n",
    "    \"min_sso_dist\": 20,     # distance to nearest solar system object [arcsec]\n",
    "    \"min_gal_lat\": 14,      # minium distance from galactic plane. Set to negative to disable cut.\n",
    "    # Gaia rejection (based on catalog matching)\n",
    "    \"gaia_rs\": 0,            # Disabled for now!\n",
    "    \"gaia_pm_signif\": 3,\n",
    "    \"gaia_plx_signif\": 3,\n",
    "    \"gaia_veto_gmag_min\": 9,\n",
    "    \"gaia_veto_gmag_max\": 20,\n",
    "    \"gaia_excessnoise_sig_max\": 999,\n",
    "    # PS1 rejection (based on alert content)\n",
    "    \"ps1_sgveto_rad\": 1,\n",
    "    \"ps1_sgveto_th\": 0.8,\n",
    "    \"ps1_confusion_rad\": 3,\n",
    "    \"ps1_confusion_sg_tol\": 0.1,\n",
    "    # The paraeters below are only available for the Xshooter filter:\n",
    "    \"max_dec\": 999,         # Max declination, shortcuts to transients visible from the south\n",
    "    \"det_within\": 1.,     # Recent first detection \n",
    "    \"ul_within\": 1.5,         # A previous upper limit with this time (days)\n",
    "    # Updated parameters based on infant detections spring 2021. Defaults conservative\n",
    "    \"max_chipsf\": 4,        # Best guess value 2\n",
    "    \"max_seeratio\": 2,      # Best guess value 1.3\n",
    "    \"min_sumrat\": 0.6,      # Best guess value 0.8    min_tspan: -666\n",
    "\n",
    "}"
   ]
  },
  {
   "cell_type": "markdown",
   "id": "304a157a",
   "metadata": {},
   "source": [
    "Next, a series of catalogs, together with matching radius, are defined."
   ]
  },
  {
   "cell_type": "code",
   "execution_count": null,
   "id": "a95acc8f",
   "metadata": {},
   "outputs": [],
   "source": [
    "cat_conf = { 'catalogs': \n",
    "            {'SDSS_spec': \n",
    "             {'use': 'extcats',\n",
    "              'rs_arcsec': 10,\n",
    "             'keys_to_append': ['z', 'bptclass', 'subclass']\n",
    "             },\n",
    "              'NEDz': {\n",
    "                  'use': 'catsHTM',\n",
    "                   'rs_arcsec': 10,\n",
    "                   'keys_to_append': ['ObjType', 'Velocity', 'z']\n",
    "              },\n",
    "              'SDSSDR10': {\n",
    "                  'use': 'catsHTM',\n",
    "                   'rs_arcsec': 3,\n",
    "                   'keys_to_append': ['type', 'flags']\n",
    "              },\n",
    "              'brescia': {\n",
    "                  'use': 'extcats',\n",
    "                   'rs_arcsec': 3,\n",
    "                   'keys_to_append': ['subclass', 'z']\n",
    "              },\n",
    "              'milliquas': {\n",
    "                  'use': 'extcats',\n",
    "                   'rs_arcsec': 3,\n",
    "                   'keys_to_append': ['broad_type', 'name', 'redshift', 'qso_prob']\n",
    "              },\n",
    "              'GAIADR2': {\n",
    "                  'use': 'catsHTM',\n",
    "                   'rs_arcsec': 30,\n",
    "                   'keys_to_append': ['Mag_G', 'PMRA', 'ErrPMRA', 'PMDec', 'ErrPMDec',\n",
    "                                    'Plx', 'ErrPlx', 'ExcessNoise', 'ExcessNoiseSig']\n",
    "              },\n",
    "              'CRTS_DR1': {\n",
    "                  'use': 'extcats',\n",
    "                   'rs_arcsec': 3,\n",
    "                   'keys_to_append': ['VarType']\n",
    "              },\n",
    "              'AAVSOVSX': {\n",
    "                  'use': 'extcats', \n",
    "                  'rs_arcsec': 3, \n",
    "                  'keys_to_append': ['TYPE']},\n",
    "              'LAMOSTDR4': {\n",
    "                  'use': 'extcats',\n",
    "                   'rs_arcsec': 3,\n",
    "                   'keys_to_append': ['objtype', 'class', 'subclass', 'snrg']\n",
    "              },\n",
    "              'GLADEv23': {\n",
    "                  'use': 'extcats',\n",
    "                   'rs_arcsec': 10,\n",
    "                   'keys_to_append': ['z', 'dist', 'dist_err', 'flag1', 'flag2', 'flag3']\n",
    "              },\n",
    "              'allWISE_skymotion': {\n",
    "                  'use': 'extcats',\n",
    "                   'rs_arcsec': 30,\n",
    "                   'keys_to_append': ['pmRA', 'e_pmRA', 'pmDE', 'e_pmDE']\n",
    "              },\n",
    "              'NEDz_extcats': {\n",
    "                  'use': 'extcats',\n",
    "                   'rs_arcsec': 60,\n",
    "                   'post_filter': {'z': {'$lte': 0.03, '$gte': 0.002}},\n",
    "                   'keys_to_append': ['ObjType', 'Velocity', 'z']\n",
    "              }\n",
    "           },\n",
    "    \"resource\": {\n",
    "        'ampel-ztf/catalogmatch': 'https://ampel.zeuthen.desy.de/api/catalogmatch/'\n",
    "    }\n",
    "}"
   ]
  },
  {
   "cell_type": "markdown",
   "id": "67c21475",
   "metadata": {},
   "source": [
    "The evaluation unit is defined as follows."
   ]
  },
  {
   "cell_type": "code",
   "execution_count": null,
   "id": "3409bb91",
   "metadata": {},
   "outputs": [],
   "source": [
    "eval_config = {\n",
    "    'max_age': 3,\n",
    "    'det_filterids': [1,2],\n",
    "    'max_kpc_dist': 60,\n",
    "    'min_absmag': -17,\n",
    "    'max_redshift': 0.03,\n",
    "    't2_dependency': [],\n",
    "}"
   ]
  },
  {
   "cell_type": "markdown",
   "id": "867e1286",
   "metadata": {},
   "source": [
    "We will now create the unit instances (which will be used below)."
   ]
  },
  {
   "cell_type": "code",
   "execution_count": null,
   "id": "0c8b9539",
   "metadata": {},
   "outputs": [],
   "source": [
    "# Create the filter instance\n",
    "t0filter = XShooterFilter( **filter_config, logger=logger )\n",
    "t0filter.post_init()\n",
    "t2catalogs = T2CatalogMatch(**cat_conf, logger=logger)\n",
    "t2eval = T2InfantCatalogEval(**eval_config, logger=logger)"
   ]
  },
  {
   "cell_type": "markdown",
   "id": "3a86a88c",
   "metadata": {},
   "source": [
    "### B. Selecting which alerts to run against"
   ]
  },
  {
   "cell_type": "markdown",
   "id": "4e9f08fe",
   "metadata": {},
   "source": [
    "Alerts will be assumed through a _resume token_, which points to a specific set of alerts. In sec B1 we will obtain this for a static list of known nearby SNe, in B2 for a list of alerts found in a given time-range.>"
   ]
  },
  {
   "cell_type": "markdown",
   "id": "44ce4d6d",
   "metadata": {},
   "source": [
    "### B1. Using a topic token\n",
    "These are permanent pointers to list of alerts. Here we will first create a stream from this list. "
   ]
  },
  {
   "cell_type": "markdown",
   "id": "d16f662f",
   "metadata": {},
   "source": [
    "\n",
    "\n",
    "topic: Y9R82mkcL1SJq16rTt8_vh-_dx0V7rwEHbGgSgUMlqI\n",
    "\n",
    "description: A list of the final alert of 27 SNe which were detected early during 2020. Created May 24 2022.\n",
    "\n",
    "topic: fz6nmCJwKSdZXhzm3JuBTlMY3xjPsdhkobVLvZzzmt8\n",
    "\n",
    "description: A list of 2565 alerts from 27 2020 SNe which were detected early. Created May 24 2022.\n"
   ]
  },
  {
   "cell_type": "code",
   "execution_count": null,
   "id": "5ef719a6",
   "metadata": {},
   "outputs": [],
   "source": [
    "topic_token = \"fz6nmCJwKSdZXhzm3JuBTlMY3xjPsdhkobVLvZzzmt8\""
   ]
  },
  {
   "cell_type": "code",
   "execution_count": null,
   "id": "4923689e",
   "metadata": {},
   "outputs": [],
   "source": [
    "body = {\n",
    "    \"topic\": topic_token, \n",
    "    \"chunk_size\": 100\n",
    "}"
   ]
  },
  {
   "cell_type": "code",
   "execution_count": null,
   "id": "2b1112c2",
   "metadata": {},
   "outputs": [],
   "source": [
    "response = requests.post(f\"{base_url}/streams/from_topic\", headers={\"Authorization\": \"bearer \"+token}, json=body )"
   ]
  },
  {
   "cell_type": "code",
   "execution_count": null,
   "id": "239c908c",
   "metadata": {},
   "outputs": [],
   "source": [
    "if not response.ok:\n",
    "    print('Accessing stream from topic not successful')\n",
    "    print(response)"
   ]
  },
  {
   "cell_type": "code",
   "execution_count": null,
   "id": "6f04137c",
   "metadata": {},
   "outputs": [],
   "source": [
    "resume_token = response.json()['resume_token']"
   ]
  },
  {
   "cell_type": "code",
   "execution_count": null,
   "id": "abe5a714",
   "metadata": {},
   "outputs": [],
   "source": [
    "# Alerts are now being queued in the archive, and can be retrieved through this token\n",
    "resume_token"
   ]
  },
  {
   "cell_type": "markdown",
   "id": "4fe2b679",
   "metadata": {},
   "source": [
    "### B2. Quering random alerts\n",
    "We will here grab a random set of alerts to check throughput. Note that we already in the first stage restrict the query based on drb, magpsf and number of detections."
   ]
  },
  {
   "cell_type": "code",
   "execution_count": null,
   "id": "9d57df8c",
   "metadata": {},
   "outputs": [],
   "source": [
    "query = {\n",
    "  \"jd\": {\n",
    "    \"$gt\": 2459500.5,\n",
    "    \"$lt\": 2459511.5\n",
    "  },\n",
    "  \"candidate\": {\n",
    "    \"drb\": {\n",
    "      \"$gt\": 0.995\n",
    "    },\n",
    "    \"magpsf\": {\n",
    "      \"$gt\": 16\n",
    "    },\n",
    "    \"ndethist\": {\n",
    "      \"$gt\": 0,\n",
    "      \"$lte\": 2\n",
    "    },\n",
    "  }\n",
    "}"
   ]
  },
  {
   "cell_type": "code",
   "execution_count": null,
   "id": "a8e8bc77",
   "metadata": {},
   "outputs": [],
   "source": [
    "endpoint = 'https://ampel.zeuthen.desy.de/api/ztf/archive/v3/streams/from_query?programid=1'\n",
    "header = {\"Authorization\": \"bearer \"+os.environ[\"ARCHIVE_TOKEN\"]}"
   ]
  },
  {
   "cell_type": "code",
   "execution_count": null,
   "id": "a38013e0",
   "metadata": {},
   "outputs": [],
   "source": [
    "response = requests.post(endpoint, headers=header, json=query )"
   ]
  },
  {
   "cell_type": "code",
   "execution_count": null,
   "id": "6c95574a",
   "metadata": {},
   "outputs": [],
   "source": [
    "response.ok"
   ]
  },
  {
   "cell_type": "code",
   "execution_count": null,
   "id": "2f6de5f4",
   "metadata": {},
   "outputs": [],
   "source": [
    "resume_token = response.json()['resume_token']"
   ]
  },
  {
   "cell_type": "markdown",
   "id": "b8c06b91",
   "metadata": {},
   "source": [
    "It will take some time to line up a large query. "
   ]
  },
  {
   "cell_type": "markdown",
   "id": "dd513027",
   "metadata": {},
   "source": [
    "## C. Iterate through filters from the stream, checking whether the filter would accept them"
   ]
  },
  {
   "cell_type": "code",
   "execution_count": null,
   "id": "dd3e88d8",
   "metadata": {},
   "outputs": [],
   "source": [
    "config = {'archive':\"https://ampel.zeuthen.desy.de/api/ztf/archive/v3\", \n",
    "          \"stream\": resume_token}   # From above"
   ]
  },
  {
   "cell_type": "code",
   "execution_count": null,
   "id": "f9366ce5",
   "metadata": {},
   "outputs": [],
   "source": [
    "# AMPEL internal - regulates how to parse the ZTF alert schema\n",
    "alertloader = ZTFArchiveAlertLoader(**config)\n",
    "shaper = ZiDataPointShaper(logger=logger)"
   ]
  },
  {
   "cell_type": "code",
   "execution_count": null,
   "id": "b765658b",
   "metadata": {},
   "outputs": [],
   "source": [
    "# Store some evaluation results\n",
    "process_results = {}"
   ]
  },
  {
   "cell_type": "markdown",
   "id": "315d5fe4",
   "metadata": {},
   "source": [
    "The next step will iterate through all alerts."
   ]
  },
  {
   "cell_type": "code",
   "execution_count": null,
   "id": "fb2a7a9b",
   "metadata": {},
   "outputs": [],
   "source": [
    "for alert in alertloader.get_alerts():\n",
    "    if not alert['objectId'] in process_results.keys():\n",
    "        process_results[alert['objectId']] = []\n",
    "        \n",
    "    # Check wether the alert passes the initial filter. If not we go on to the next\n",
    "    filter_accept = t0filter.process( ZiAlertSupplier.shape_alert_dict( alert, [] ) )\n",
    "    if not filter_accept:\n",
    "        process_results[alert['objectId']].append( {'candid':alert['candid'], \n",
    "                                        'jd':alert['candidate']['jd'], 'eval':0} )\n",
    "        continue\n",
    "\n",
    "    # AMPEL internal - create a LightCurve object from alert\n",
    "    ampel_alert = ZiAlertSupplier.shape_alert_dict(alert)\n",
    "    dps = shaper.process(ampel_alert.datapoints, stock=alert['objectId'])\n",
    "    lc = LightCurve.build({'stock':'foo', \"link\":14}, dps)\n",
    "    \n",
    "    # Match the object to the Zeuthen catalog archive\n",
    "    catout = t2catalogs.process(lc.get_photopoints()[0])\n",
    "    \n",
    "    # Format the catalog output, and provide this and the lc to the evaluation unit.\n",
    "    catview = T2DocView(stock='foo', unit='T2CatalogMatch', link=14, tag=[], code=0, t2_type=0, meta=[{'tier':2,'code':0}], body=[catout])\n",
    "    evalout = t2eval.process(lc, [catview])\n",
    "\n",
    "    # Check result and divide according to\n",
    "    # 1. Passed filter criteria, but not T2InfantEval criteria.\n",
    "    # 2. Passes also T2InfantEval criteria\n",
    "    result = {}\n",
    "    first_det = min(lc.get_values('jd'))\n",
    "    result = {'candid':alert['candid'],'jd':alert['candidate']['jd'], 'jd_det':min(lc.get_values('jd'))}\n",
    "    if evalout['action']:\n",
    "        result['eval'] = 2\n",
    "    else:\n",
    "        result['eval'] = 1\n",
    "    process_results[alert['objectId']].append( result )\n",
    "        \n"
   ]
  },
  {
   "cell_type": "code",
   "execution_count": null,
   "id": "0f4a583c",
   "metadata": {},
   "outputs": [],
   "source": [
    "print('Number of unique transients selected:', len( set( [s[1] for s in summary if s[-1]] ) ))"
   ]
  },
  {
   "cell_type": "code",
   "execution_count": null,
   "id": "aab65cf6",
   "metadata": {},
   "outputs": [],
   "source": [
    "print('Total number of alertsselected:', len( ( [s[1] for s in summary if s[-1]] ) ) )"
   ]
  },
  {
   "cell_type": "code",
   "execution_count": null,
   "id": "a23ca829",
   "metadata": {},
   "outputs": [],
   "source": [
    "print('Alerts examined', len(summary))"
   ]
  },
  {
   "cell_type": "markdown",
   "id": "6d17a204",
   "metadata": {},
   "source": [
    "Example based on the filter settings last used above:\n",
    "- Processing 50 days of alerts: 1096089 alerts pass query candidates, of these yielded 8179 transient selections from 8215 selected alerts (~160/day).\n",
    "- Processing the 2565 alerts of the 27 2020 infant SNe, 38 alerts of 15 SNe were selected. "
   ]
  },
  {
   "cell_type": "code",
   "execution_count": null,
   "id": "80c67252",
   "metadata": {},
   "outputs": [],
   "source": [
    "alert = next(alertloader.get_alerts())"
   ]
  },
  {
   "cell_type": "code",
   "execution_count": null,
   "id": "75f50076",
   "metadata": {},
   "outputs": [],
   "source": [
    "alert"
   ]
  },
  {
   "cell_type": "code",
   "execution_count": null,
   "id": "27df6fd7",
   "metadata": {},
   "outputs": [],
   "source": [
    "ampel_alert = ZiAlertSupplier.shape_alert_dict(alert)"
   ]
  },
  {
   "cell_type": "code",
   "execution_count": null,
   "id": "48b1851c",
   "metadata": {},
   "outputs": [],
   "source": [
    "dps = shaper.process(ampel_alert.datapoints, stock=alert['objectId'])"
   ]
  },
  {
   "cell_type": "code",
   "execution_count": null,
   "id": "60d54ea9",
   "metadata": {},
   "outputs": [],
   "source": [
    "t2catalogs.__"
   ]
  },
  {
   "cell_type": "code",
   "execution_count": null,
   "id": "295d04c5",
   "metadata": {},
   "outputs": [],
   "source": [
    "catout = t2catalogs.process(lc.get_photopoints()[0] )"
   ]
  },
  {
   "cell_type": "code",
   "execution_count": null,
   "id": "aa880b9f",
   "metadata": {},
   "outputs": [],
   "source": [
    "t2eval.process??"
   ]
  },
  {
   "cell_type": "code",
   "execution_count": null,
   "id": "dc72895b",
   "metadata": {},
   "outputs": [],
   "source": [
    "lc = LightCurve({'stock':'foo'}, dps)"
   ]
  },
  {
   "cell_type": "code",
   "execution_count": null,
   "id": "a553c413",
   "metadata": {},
   "outputs": [],
   "source": [
    "t2eval.process(lc, [catview])"
   ]
  },
  {
   "cell_type": "code",
   "execution_count": null,
   "id": "99385dc2",
   "metadata": {},
   "outputs": [],
   "source": [
    "catview = T2DocView(stock='foo', unit='T2CatalogMatch', link=14, tag=[],code=0, t2_type=0, meta=[{'tier':2,'code':0}], body=[catout])"
   ]
  },
  {
   "cell_type": "code",
   "execution_count": null,
   "id": "88c30fe1",
   "metadata": {},
   "outputs": [],
   "source": [
    "catview??"
   ]
  },
  {
   "cell_type": "code",
   "execution_count": null,
   "id": "27ba8dbe",
   "metadata": {},
   "outputs": [],
   "source": [
    "catview.body"
   ]
  },
  {
   "cell_type": "code",
   "execution_count": null,
   "id": "2a04c54e",
   "metadata": {},
   "outputs": [],
   "source": [
    "catview.get_payload()"
   ]
  },
  {
   "cell_type": "code",
   "execution_count": null,
   "id": "b4c33d72",
   "metadata": {},
   "outputs": [],
   "source": [
    "catout"
   ]
  },
  {
   "cell_type": "code",
   "execution_count": null,
   "id": "1a53cf9a",
   "metadata": {},
   "outputs": [],
   "source": [
    "dps"
   ]
  },
  {
   "cell_type": "code",
   "execution_count": null,
   "id": "e28afaee",
   "metadata": {},
   "outputs": [],
   "source": [
    "lc = LightCurve.build({'stock':'foo', \"link\":14}, dps)"
   ]
  },
  {
   "cell_type": "code",
   "execution_count": null,
   "id": "065fa7c3",
   "metadata": {},
   "outputs": [],
   "source": [
    "min(lc.get_values('jd'))"
   ]
  },
  {
   "cell_type": "code",
   "execution_count": null,
   "id": "83be5eb5",
   "metadata": {},
   "outputs": [],
   "source": [
    "lc??"
   ]
  },
  {
   "cell_type": "code",
   "execution_count": null,
   "id": "a7e2c4a3",
   "metadata": {},
   "outputs": [],
   "source": [
    "counter = [0,0,0,0]"
   ]
  },
  {
   "cell_type": "code",
   "execution_count": null,
   "id": "c8c6208d",
   "metadata": {},
   "outputs": [],
   "source": [
    "for sn, results in process_results.items():\n",
    "    counter[0] += 1\n",
    "    counter[1] += len(results)\n",
    "    passed = [a['jd']-a['jd_det'] for a in results if a['eval']>0]\n",
    "    print(sn, passed, len(results))\n",
    "    if len(passed)>0:\n",
    "        print('... detected at phase', min(passed))\n",
    "        counter[2]+=1\n",
    "    calc = [a['jd']-a['jd_det'] for a in results if a['eval']>1]\n",
    "    if len(calc)>0:\n",
    "        print('... eval passed at phase', min(calc))\n",
    "        counter[3]+=1\n",
    "    "
   ]
  },
  {
   "cell_type": "code",
   "execution_count": null,
   "id": "2d666613",
   "metadata": {},
   "outputs": [],
   "source": [
    "print('Out of {} targets, which distributed {} alerts, {} were accepted by the filter and {} also by the Infant evaluation unit.'.format(*counter))"
   ]
  },
  {
   "cell_type": "code",
   "execution_count": null,
   "id": "4f7b93cb",
   "metadata": {},
   "outputs": [],
   "source": []
  }
 ],
 "metadata": {
  "kernelspec": {
   "display_name": "Python 3 (ipykernel)",
   "language": "python",
   "name": "python3"
  },
  "language_info": {
   "codemirror_mode": {
    "name": "ipython",
    "version": 3
   },
   "file_extension": ".py",
   "mimetype": "text/x-python",
   "name": "python",
   "nbconvert_exporter": "python",
   "pygments_lexer": "ipython3",
   "version": "3.9.12"
  }
 },
 "nbformat": 4,
 "nbformat_minor": 5
}
