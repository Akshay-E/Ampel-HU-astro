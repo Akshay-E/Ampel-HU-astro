{
 "cells": [
  {
   "cell_type": "code",
   "execution_count": null,
   "id": "0a5c9c45",
   "metadata": {},
   "outputs": [],
   "source": [
    "import matplotlib.pyplot as plt\n",
    "import pandas as pd\n",
    "import seaborn as sns"
   ]
  },
  {
   "cell_type": "code",
   "execution_count": null,
   "id": "de455239",
   "metadata": {},
   "outputs": [],
   "source": [
    "output_kn = '../elasticcAtRest_kn.csv'\n",
    "output_iax = '../elasticcAtRest_iax.csv'\n",
    "output_rand = '../elasticcAtRest_random.csv'"
   ]
  },
  {
   "cell_type": "code",
   "execution_count": null,
   "id": "e6f576d6",
   "metadata": {},
   "outputs": [],
   "source": [
    "df_kn = pd.read_csv(output_kn)\n",
    "df_iax = pd.read_csv(output_iax)\n",
    "df_rand = pd.read_csv(output_rand)"
   ]
  },
  {
   "cell_type": "code",
   "execution_count": null,
   "id": "cd5e0213",
   "metadata": {},
   "outputs": [],
   "source": [
    "alerts_kn = df_kn.shape[0]\n",
    "transients_kn = len(df_kn['stock'].unique())\n",
    "alerts_iax = df_iax.shape[0]\n",
    "transients_iax = len(df_iax['stock'].unique())\n",
    "alerts_rand = df_rand.shape[0]\n",
    "transients_rand = len(df_rand['stock'].unique())\n",
    "print('Based on {} alerts from {} simulated kilonovae'.format(alerts_kn, transients_kn))\n",
    "print('... and {} alerts from {} simulated SNe Iax'.format(alerts_iax, transients_iax))\n",
    "print('... and {} alerts from {} random transients'.format(alerts_rand, transients_rand))"
   ]
  },
  {
   "cell_type": "code",
   "execution_count": null,
   "id": "14a4ae26",
   "metadata": {},
   "outputs": [],
   "source": [
    "accepted_kn = df_kn[(df_kn['ElasticcAtRest_P(2232)']==1)]\n",
    "accepted_iax = df_iax[(df_iax['ElasticcAtRest_P(2232)']==1)]\n",
    "accepted_rand = df_rand[(df_rand['ElasticcAtRest_P(2232)']==1)]"
   ]
  },
  {
   "cell_type": "code",
   "execution_count": null,
   "id": "db078ea1",
   "metadata": {},
   "outputs": [],
   "source": [
    "accepted_alerts_kn = accepted_kn.shape[0]\n",
    "accepted_transients_kn = len(accepted_kn['stock'].unique())\n",
    "accepted_alerts_iax = accepted_iax.shape[0]\n",
    "accepted_transients_iax = len(accepted_iax['stock'].unique())\n",
    "accepted_alerts_rand = accepted_rand.shape[0]\n",
    "accepted_transients_rand = len(accepted_rand['stock'].unique())"
   ]
  },
  {
   "cell_type": "code",
   "execution_count": null,
   "id": "5ec9f810",
   "metadata": {},
   "outputs": [],
   "source": [
    "print('Triggered for {} of KN alerts.'.format(accepted_alerts_kn / alerts_kn))\n",
    "print('... would have cought {} of all KNe .'.format(accepted_transients_kn / transients_kn))"
   ]
  },
  {
   "cell_type": "code",
   "execution_count": null,
   "id": "6a792a49",
   "metadata": {},
   "outputs": [],
   "source": [
    "print('Triggered for {} of SNIax alerts.'.format(accepted_alerts_iax / alerts_iax))\n",
    "print('... would have cought {} of all SNIax .'.format(accepted_transients_iax / transients_iax))"
   ]
  },
  {
   "cell_type": "code",
   "execution_count": null,
   "id": "6d3490b3",
   "metadata": {},
   "outputs": [],
   "source": [
    "print('Triggered for {} of random alerts.'.format(accepted_alerts_rand / alerts_rand))\n",
    "print('... would have triggered for {} of all transients.'.format(accepted_transients_rand / transients_rand))"
   ]
  },
  {
   "cell_type": "code",
   "execution_count": null,
   "id": "5156a944",
   "metadata": {},
   "outputs": [],
   "source": []
  }
 ],
 "metadata": {
  "kernelspec": {
   "display_name": "Python 3 (ipykernel)",
   "language": "python",
   "name": "python3"
  },
  "language_info": {
   "codemirror_mode": {
    "name": "ipython",
    "version": 3
   },
   "file_extension": ".py",
   "mimetype": "text/x-python",
   "name": "python",
   "nbconvert_exporter": "python",
   "pygments_lexer": "ipython3",
   "version": "3.10.13"
  }
 },
 "nbformat": 4,
 "nbformat_minor": 5
}
