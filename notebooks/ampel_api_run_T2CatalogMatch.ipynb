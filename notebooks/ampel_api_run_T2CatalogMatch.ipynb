{
 "cells": [
  {
   "cell_type": "markdown",
   "id": "independent-detail",
   "metadata": {},
   "source": [
    "Notebook which will:\n",
    "- Retrieve a lightcurve belonging to a ZTF SN.\n",
    "- Do a catalog search around the coordinates of this SN."
   ]
  },
  {
   "cell_type": "code",
   "execution_count": null,
   "id": "pursuant-luxury",
   "metadata": {},
   "outputs": [],
   "source": [
    "import requests, os, time"
   ]
  },
  {
   "cell_type": "code",
   "execution_count": null,
   "id": "7a5e9c9f",
   "metadata": {},
   "outputs": [],
   "source": [
    "import ampel_quick_import"
   ]
  },
  {
   "cell_type": "code",
   "execution_count": null,
   "id": "artistic-nelson",
   "metadata": {},
   "outputs": [],
   "source": [
    "%qi AmpelLogger ZTFIdMapper ZiDataPointShaper T1Document LightCurve T2CatalogMatch "
   ]
  },
  {
   "cell_type": "code",
   "execution_count": null,
   "id": "e7656d26",
   "metadata": {},
   "outputs": [],
   "source": [
    "snname = \"ZTF22aafoqrd\"\n",
    "# Access to the AMPEL data archive assumes an individual *archive token* which can be obtained from \n",
    "# https://ampel.zeuthen.desy.de/live/dashboard/tokens\n",
    "# This currently builds on GitHub authorization for AmpelProject members.\n",
    "token = os.environ[\"ARCHIVE_TOKEN\"]"
   ]
  },
  {
   "cell_type": "code",
   "execution_count": null,
   "id": "48a9f580",
   "metadata": {},
   "outputs": [],
   "source": [
    "def api_to_lightcurve(name, token, shaper=None):\n",
    "    \"\"\"\n",
    "    Retrieve the alert history of a SN and convert to LightCurve\n",
    "    \n",
    "    \"\"\"\n",
    "    \n",
    "    # Setup connection\n",
    "    endpoint = \"https://ampel.zeuthen.desy.de/api/ztf/archive/v3/object/{}/photopoints\".format(name)\n",
    "    header = {\"Authorization\": \"bearer \"+token}\n",
    "    response = requests.get(endpoint, headers=header )\n",
    "    \n",
    "    if not response.ok:\n",
    "        print('... failed to get alert')\n",
    "        return None\n",
    "    \n",
    "    # Convert\n",
    "    alert = response.json()\n",
    "    if alert is None:\n",
    "        print(' ... no alert content')\n",
    "        return None\n",
    "    \n",
    "    pps = [alert['candidate']]\n",
    "    pps.extend( [prv_cand for prv_cand in alert['prv_candidates'] ] )\n",
    "\n",
    "    if shaper is None:\n",
    "        tmplog = AmpelLogger.get_logger()\n",
    "        shaper = ZiDataPointShaper(logger=tmplog)\n",
    "    \n",
    "    stockId = ZTFIdMapper.to_ampel_id(name)\n",
    "    dps = shaper.process( pps, stockId)\n",
    "    t1d = T1Document(stock=stockId, link=0)\n",
    "    return LightCurve.build(t1d, dps)"
   ]
  },
  {
   "cell_type": "code",
   "execution_count": null,
   "id": "vietnamese-singapore",
   "metadata": {
    "scrolled": true
   },
   "outputs": [],
   "source": [
    "lc = api_to_lightcurve(snname, token)"
   ]
  },
  {
   "cell_type": "markdown",
   "id": "1efbaccf",
   "metadata": {},
   "source": [
    "I. Make a catalog match to get a redshift."
   ]
  },
  {
   "cell_type": "code",
   "execution_count": null,
   "id": "02d62fcc",
   "metadata": {},
   "outputs": [],
   "source": [
    "catconfig = {\n",
    "        'SDSS_spec' : {\n",
    "            'use' : 'extcats',\n",
    "            'rs_arcsec' : 10.0,\n",
    "            'keys_to_append' : ['z', 'bptclass', 'subclass'],\n",
    "            'all': False,\n",
    "        },\n",
    "        'NEDz' : {\n",
    "            'use' : 'catsHTM',\n",
    "            'rs_arcsec' : 10.0,\n",
    "            'keys_to_append' : ['ObjType', 'Velocity', 'z'],\n",
    "        },\n",
    "        'NEDz_extcats' : {\n",
    "            'use' : 'extcats',\n",
    "            'rs_arcsec' : 30.0,\n",
    "            'keys_to_append' : ['ObjType', 'Velocity', 'z'],\n",
    "        }, \n",
    "        'GLADEv23' : {\n",
    "            'use' : 'extcats',\n",
    "            'rs_arcsec' : 10,\n",
    "            'keys_to_append' : ['z', 'dist', 'dist_err', 'flag1', 'flag2', 'flag3'],\n",
    "        },\n",
    "        'LSPhotoZZou' : {\n",
    "            'use' : 'extcats',\n",
    "            'rs_arcsec' : 10.0,\n",
    "            'keys_to_append' : ['photoz','ra','dec','e_photoz','specz','_6','logMassBest','logMassInf','logMassSup'],\n",
    "            'pre_filter' : None,\n",
    "            'post_filter' : None,\n",
    "            'all': False,\n",
    "        },\n",
    "        'wiseScosPhotoz' : {\n",
    "            'use' : 'extcats',\n",
    "            'rs_arcsec' : 10.0,\n",
    "            'keys_to_append' : ['zPhoto_Corr','ra','dec','wiseID','w1mCorr','w2mCorr'],\n",
    "            'pre_filter' : None,\n",
    "            'post_filter' : None,\n",
    "        },\n",
    "        'twoMPZ' : {\n",
    "            'use' : 'extcats',\n",
    "            'rs_arcsec' : 10.0,\n",
    "            'keys_to_append' : ['zPhoto','ra','dec','zSpec'],\n",
    "            'pre_filter' : None,\n",
    "            'post_filter' : None,\n",
    "        },\n",
    "\n",
    "    }"
   ]
  },
  {
   "cell_type": "code",
   "execution_count": null,
   "id": "8346187c",
   "metadata": {},
   "outputs": [],
   "source": [
    "# Initalize\n",
    "logger = AmpelLogger.get_logger()\n",
    "t2cat = T2CatalogMatch( catalogs = catconfig,\n",
    "    resource = {\"ampel-ztf/catalogmatch\":'https://ampel.zeuthen.desy.de/api/catalogmatch/'},\n",
    "    logger=logger)"
   ]
  },
  {
   "cell_type": "code",
   "execution_count": null,
   "id": "57df8433",
   "metadata": {},
   "outputs": [],
   "source": [
    "# Get a photopoint from which to get coordinates \n",
    "t2cat_out = t2cat.process(lc.photopoints[0])"
   ]
  },
  {
   "cell_type": "code",
   "execution_count": null,
   "id": "c229e150",
   "metadata": {},
   "outputs": [],
   "source": [
    "t2cat_out"
   ]
  }
 ],
 "metadata": {
  "kernelspec": {
   "display_name": "Python 3 (ipykernel)",
   "language": "python",
   "name": "python3"
  },
  "language_info": {
   "codemirror_mode": {
    "name": "ipython",
    "version": 3
   },
   "file_extension": ".py",
   "mimetype": "text/x-python",
   "name": "python",
   "nbconvert_exporter": "python",
   "pygments_lexer": "ipython3",
   "version": "3.9.7"
  }
 },
 "nbformat": 4,
 "nbformat_minor": 5
}
