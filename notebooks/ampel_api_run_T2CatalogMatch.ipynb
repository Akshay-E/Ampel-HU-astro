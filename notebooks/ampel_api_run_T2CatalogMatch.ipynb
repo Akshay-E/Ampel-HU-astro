{
 "cells": [
  {
   "cell_type": "markdown",
   "id": "independent-detail",
   "metadata": {},
   "source": [
    "Notebook which will:\n",
    "- Retrieve a lightcurve belonging to a ZTF SN.\n",
    "- Do a catalog search around the coordinates of this SN."
   ]
  },
  {
   "cell_type": "code",
   "execution_count": null,
   "id": "pursuant-luxury",
   "metadata": {},
   "outputs": [],
   "source": [
    "import requests, os\n",
    "from ampel.log.AmpelLogger import AmpelLogger\n",
    "from ampel.ztf.t2.T2CatalogMatch import T2CatalogMatch\n",
    "from ampel_notebook_utils import api_to_lightcurve"
   ]
  },
  {
   "cell_type": "code",
   "execution_count": null,
   "id": "7a5e9c9f",
   "metadata": {},
   "outputs": [],
   "source": [
    "token = os.environ[\"ARCHIVE_TOKEN\"]\n",
    "header = {\"Authorization\": \"bearer \"+token}\n"
   ]
  },
  {
   "cell_type": "code",
   "execution_count": null,
   "id": "e7656d26",
   "metadata": {},
   "outputs": [],
   "source": [
    "snname = \"ZTF22aafoqrd\"\n",
    "# Access to the AMPEL data archive assumes an individual *archive token* which can be obtained from \n",
    "# https://ampel.zeuthen.desy.de/live/dashboard/tokens\n",
    "# This currently builds on GitHub authorization for AmpelProject members.\n",
    "token = os.environ[\"ARCHIVE_TOKEN\"]"
   ]
  },
  {
   "cell_type": "code",
   "execution_count": null,
   "id": "vietnamese-singapore",
   "metadata": {
    "scrolled": true
   },
   "outputs": [],
   "source": [
    "lc = api_to_lightcurve(snname, token)"
   ]
  },
  {
   "cell_type": "markdown",
   "id": "1efbaccf",
   "metadata": {},
   "source": [
    "I. Make a catalog match to get a redshift."
   ]
  },
  {
   "cell_type": "code",
   "execution_count": null,
   "id": "02d62fcc",
   "metadata": {},
   "outputs": [],
   "source": [
    "catconfig = {\n",
    "        'SDSS_spec' : {\n",
    "            'use' : 'extcats',\n",
    "            'rs_arcsec' : 10.0,\n",
    "            'keys_to_append' : ['z', 'bptclass', 'subclass'],\n",
    "            'all': False,\n",
    "        },\n",
    "        'NEDz' : {\n",
    "            'use' : 'catsHTM',\n",
    "            'rs_arcsec' : 10.0,\n",
    "            'keys_to_append' : ['ObjType', 'Velocity', 'z'],\n",
    "        },\n",
    "        'NEDz_extcats' : {\n",
    "            'use' : 'extcats',\n",
    "            'rs_arcsec' : 30.0,\n",
    "            'keys_to_append' : ['ObjType', 'Velocity', 'z'],\n",
    "        }, \n",
    "        'GLADEv23' : {\n",
    "            'use' : 'extcats',\n",
    "            'rs_arcsec' : 10,\n",
    "            'keys_to_append' : ['z', 'dist', 'dist_err', 'flag1', 'flag2', 'flag3'],\n",
    "        },\n",
    "        'LSPhotoZZou' : {\n",
    "            'use' : 'extcats',\n",
    "            'rs_arcsec' : 10.0,\n",
    "            'keys_to_append' : ['photoz','ra','dec','e_photoz','specz','_6','logMassBest','logMassInf','logMassSup'],\n",
    "            'pre_filter' : None,\n",
    "            'post_filter' : None,\n",
    "            'all': False,\n",
    "        },\n",
    "        'wiseScosPhotoz' : {\n",
    "            'use' : 'extcats',\n",
    "            'rs_arcsec' : 10.0,\n",
    "            'keys_to_append' : ['zPhoto_Corr','ra','dec','wiseID','w1mCorr','w2mCorr'],\n",
    "            'pre_filter' : None,\n",
    "            'post_filter' : None,\n",
    "        },\n",
    "        'twoMPZ' : {\n",
    "            'use' : 'extcats',\n",
    "            'rs_arcsec' : 10.0,\n",
    "            'keys_to_append' : ['zPhoto','ra','dec','zSpec'],\n",
    "            'pre_filter' : None,\n",
    "            'post_filter' : None,\n",
    "        },\n",
    "\n",
    "    }"
   ]
  },
  {
   "cell_type": "code",
   "execution_count": null,
   "id": "8346187c",
   "metadata": {},
   "outputs": [],
   "source": [
    "# Initalize\n",
    "logger = AmpelLogger.get_logger()\n",
    "t2cat = T2CatalogMatch( catalogs = catconfig,\n",
    "    resource = {\"ampel-ztf/catalogmatch\":'https://ampel.zeuthen.desy.de/api/catalogmatch/'},\n",
    "    logger=logger)"
   ]
  },
  {
   "cell_type": "code",
   "execution_count": null,
   "id": "57df8433",
   "metadata": {},
   "outputs": [],
   "source": [
    "# Get a photopoint from which to get coordinates \n",
    "t2cat_out = t2cat.process(lc.photopoints[0])"
   ]
  },
  {
   "cell_type": "code",
   "execution_count": null,
   "id": "c229e150",
   "metadata": {},
   "outputs": [],
   "source": [
    "t2cat_out"
   ]
  }
 ],
 "metadata": {
  "kernelspec": {
   "display_name": "Python 3 (ipykernel)",
   "language": "python",
   "name": "python3"
  },
  "language_info": {
   "codemirror_mode": {
    "name": "ipython",
    "version": 3
   },
   "file_extension": ".py",
   "mimetype": "text/x-python",
   "name": "python",
   "nbconvert_exporter": "python",
   "pygments_lexer": "ipython3",
   "version": "3.9.12"
  }
 },
 "nbformat": 4,
 "nbformat_minor": 5
}
