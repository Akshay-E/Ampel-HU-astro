{
 "cells": [
  {
   "cell_type": "markdown",
   "id": "0f44e097",
   "metadata": {},
   "source": [
    "Retrieve alerts found in a {jd, ra, dec} region."
   ]
  },
  {
   "cell_type": "code",
   "execution_count": null,
   "id": "94cd3d5b",
   "metadata": {},
   "outputs": [],
   "source": [
    "# min, max for time and coordinates. Keep as small as possible\n",
    "jd_region = [2459117., 2459119.]\n",
    "ra_region = [ 32., 33.]\n",
    "dec_region = [8., 10.]\n",
    "# Alert requirements\n",
    "min_rb = 0.3    # RealBogus. 0.3 is the standard cutoff value for rejecting most artifacts while keeping most real\n",
    "min_det = 2.    # Requiring more than one detection makes the selection much cleaner"
   ]
  },
  {
   "cell_type": "code",
   "execution_count": null,
   "id": "cc4d474e",
   "metadata": {},
   "outputs": [],
   "source": [
    "import requests, os"
   ]
  },
  {
   "cell_type": "code",
   "execution_count": null,
   "id": "2304d7c2",
   "metadata": {},
   "outputs": [],
   "source": [
    "# This is the archive token which can be obtained from https://ampel.zeuthen.desy.de/live/dashboard/tokens\n",
    "# In order to retrieve ZTF partnership alerts your token needs to have the appropriate access\n",
    "token = os.environ[\"ARCHIVE_TOKEN\"]   # I have mine stored\n",
    "header = {\"Authorization\": \"bearer \"+token}"
   ]
  },
  {
   "cell_type": "markdown",
   "id": "69b57d5a",
   "metadata": {},
   "source": [
    "#### We design a ZTF alert query, which will be posted to DESY. In return we get a stream token, with which we will later retrieve alerts. "
   ]
  },
  {
   "cell_type": "code",
   "execution_count": null,
   "id": "4cc2223c",
   "metadata": {},
   "outputs": [],
   "source": [
    "endpoint = 'https://ampel.zeuthen.desy.de/api/ztf/archive/v3/streams/from_query?programid=1'"
   ]
  },
  {
   "cell_type": "code",
   "execution_count": null,
   "id": "779a4bad",
   "metadata": {},
   "outputs": [],
   "source": [
    "query = {\n",
    "  \"jd\": {\n",
    "    \"$gt\": jd_region[0],\n",
    "    \"$lt\": jd_region[1]\n",
    "  },\n",
    "  \"candidate\": {\n",
    "    \"ra\": {\n",
    "      \"$gt\": ra_region[0],\n",
    "      \"$lt\": ra_region[1]\n",
    "    },\n",
    "    \"dec\": {\n",
    "      \"$gt\": dec_region[0],\n",
    "      \"$lt\": dec_region[1]\n",
    "    },\n",
    "    \"rb\": {\n",
    "      \"$gt\": min_rb\n",
    "    },\n",
    "    \"ndethist\": {\n",
    "      \"$gte\": min_det,\n",
    "    }\n",
    "\n",
    "  }\n",
    "}"
   ]
  },
  {
   "cell_type": "code",
   "execution_count": null,
   "id": "67e221e4",
   "metadata": {},
   "outputs": [],
   "source": [
    "response = requests.post(endpoint, headers=header, json=query )"
   ]
  },
  {
   "cell_type": "code",
   "execution_count": null,
   "id": "5f01b054",
   "metadata": {},
   "outputs": [],
   "source": [
    "if not response.ok:\n",
    "    print( 'Query creation failed.')"
   ]
  },
  {
   "cell_type": "code",
   "execution_count": null,
   "id": "e8c9f013",
   "metadata": {},
   "outputs": [],
   "source": [
    "response.json()"
   ]
  },
  {
   "cell_type": "markdown",
   "id": "fef58015",
   "metadata": {},
   "source": [
    "#### We can now read alerts from this token using the ZTFArchiveAlertLoader. It takes 5+ min for the archive server to prepare the request, so in case this fails, wait and try again. "
   ]
  },
  {
   "cell_type": "code",
   "execution_count": null,
   "id": "31af743d",
   "metadata": {},
   "outputs": [],
   "source": [
    "from ampel.ztf.t0.load.ZTFArchiveAlertLoader import ZTFArchiveAlertLoader"
   ]
  },
  {
   "cell_type": "code",
   "execution_count": null,
   "id": "7556e422",
   "metadata": {},
   "outputs": [],
   "source": [
    "config = {'archive':\"https://ampel.zeuthen.desy.de/api/ztf/archive/v3\", \"stream\":response.json()['resume_token']}"
   ]
  },
  {
   "cell_type": "code",
   "execution_count": null,
   "id": "0baf5c57",
   "metadata": {},
   "outputs": [],
   "source": [
    "alertloader = ZTFArchiveAlertLoader(**config)"
   ]
  },
  {
   "cell_type": "code",
   "execution_count": null,
   "id": "69779369",
   "metadata": {},
   "outputs": [],
   "source": [
    "alerts = alertloader.get_alerts()"
   ]
  },
  {
   "cell_type": "code",
   "execution_count": null,
   "id": "90799b5a",
   "metadata": {},
   "outputs": [],
   "source": [
    "acount = 0"
   ]
  },
  {
   "cell_type": "code",
   "execution_count": null,
   "id": "f996493d",
   "metadata": {},
   "outputs": [],
   "source": [
    "alertlist = []"
   ]
  },
  {
   "cell_type": "code",
   "execution_count": null,
   "id": "d720a067",
   "metadata": {},
   "outputs": [],
   "source": [
    "for alert in alerts:\n",
    "    acount += 1\n",
    "    alertlist.append(alert)\n",
    "    print(acount, alert['objectId'], alert['candidate']['jd'])"
   ]
  },
  {
   "cell_type": "markdown",
   "id": "ae838871",
   "metadata": {},
   "source": [
    "##### We now have a list of alerts which can be examined further, e.g. by an AMPEL filter or processing unit."
   ]
  },
  {
   "cell_type": "code",
   "execution_count": null,
   "id": "f53a812e",
   "metadata": {},
   "outputs": [],
   "source": [
    "print('Found {} alerts'.format(acount))"
   ]
  }
 ],
 "metadata": {
  "kernelspec": {
   "display_name": "Python 3 (ipykernel)",
   "language": "python",
   "name": "python3"
  },
  "language_info": {
   "codemirror_mode": {
    "name": "ipython",
    "version": 3
   },
   "file_extension": ".py",
   "mimetype": "text/x-python",
   "name": "python",
   "nbconvert_exporter": "python",
   "pygments_lexer": "ipython3",
   "version": "3.9.12"
  }
 },
 "nbformat": 4,
 "nbformat_minor": 5
}
