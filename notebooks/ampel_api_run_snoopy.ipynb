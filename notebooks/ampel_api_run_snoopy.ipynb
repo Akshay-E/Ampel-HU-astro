{
 "cells": [
  {
   "cell_type": "markdown",
   "id": "independent-detail",
   "metadata": {},
   "source": [
    "Notebook which will:\n",
    "- Obtain alert photometry for named SN and convert to AMPEL LightCurve object.\n",
    "- Run snoopy, through the T2RunSnoopy unit.\n",
    "\n",
    "Note: Assumes that the snoopy fork from https://github.com/wombaugh/snpy is used.\n",
    "\n",
    "Reasons why an expert should do this, and that this is different :\n",
    "- filters filters filter\n",
    "- unstable fit (especially restframe band def)\n",
    "- repository forking for performance (EBV)\n",
    "And also why this should be done jointly - this painful process has prob been repeated X times."
   ]
  },
  {
   "cell_type": "code",
   "execution_count": null,
   "id": "e7656d26",
   "metadata": {},
   "outputs": [],
   "source": [
    "# What should be fitted - add name and redshift (required by snoopy)\n",
    "# Live z would be fed from catalog matches see ampel_api_run_T2CatalogMatch.ipynb\n",
    "#snname = \"ZTF21aaampui\"\n",
    "#z =  0.0155\n",
    "snname = \"ZTF22aafoqrd\"\n",
    "z = 0.0047"
   ]
  },
  {
   "cell_type": "code",
   "execution_count": null,
   "id": "adefac31",
   "metadata": {},
   "outputs": [],
   "source": [
    "import os\n",
    "from ampel_notebook_utils import api_to_lightcurve\n",
    "from ampel.log.AmpelLogger import AmpelLogger\n",
    "from ampel.contrib.hu.t2.T2RunSnoopy import T2RunSnoopy"
   ]
  },
  {
   "cell_type": "markdown",
   "id": "197a7197",
   "metadata": {},
   "source": [
    "A AMPEL archive access token needs to be supplied to access the archive. This can be obtained from the archive tab of \n",
    "https://ampel.zeuthen.desy.de/live/dashboard/tokens\n",
    "(assumes user to have joined the AmpelProject github organization). "
   ]
  },
  {
   "cell_type": "code",
   "execution_count": null,
   "id": "636f4d5d",
   "metadata": {},
   "outputs": [],
   "source": [
    "token = os.environ[\"ARCHIVE_TOKEN\"]   # Token here stored as system variable"
   ]
  },
  {
   "cell_type": "code",
   "execution_count": null,
   "id": "48a9f580",
   "metadata": {},
   "outputs": [],
   "source": [
    "alertlc = api_to_lightcurve(snname, token)"
   ]
  },
  {
   "cell_type": "markdown",
   "id": "ed1ed48c",
   "metadata": {},
   "source": [
    "Configure and run Snoopy"
   ]
  },
  {
   "cell_type": "code",
   "execution_count": null,
   "id": "4d781ed4",
   "metadata": {},
   "outputs": [],
   "source": [
    "T2RunSnoopy??"
   ]
  },
  {
   "cell_type": "code",
   "execution_count": null,
   "id": "331f97b7",
   "metadata": {},
   "outputs": [],
   "source": [
    "snoopy_config = {\n",
    "    \"snoopy_model_name\" : 'EBV_model2',\n",
    "    \"backup_z\" : z,\n",
    "    \"t2_dependency\": [],\n",
    "    # Plot settings - real-time usage should not be combined with plotting, but activated here\n",
    "    \"plot_dir\": '/home/jnordin/tmp',   # store png to this path\n",
    "    \"plot_draw\": True,                 # also draw\n",
    "    \"apply_mwcorrection\": True,\n",
    "}"
   ]
  },
  {
   "cell_type": "code",
   "execution_count": null,
   "id": "80ef447b",
   "metadata": {},
   "outputs": [],
   "source": [
    "# Start up the Snoopy instance\n",
    "t2snoopy = T2RunSnoopy( **snoopy_config, logger=AmpelLogger.get_logger())\n",
    "t2snoopy.post_init()"
   ]
  },
  {
   "cell_type": "code",
   "execution_count": null,
   "id": "476cacf5",
   "metadata": {},
   "outputs": [],
   "source": [
    "snoopy_out = t2snoopy.process(alertlc, t2_views=[])"
   ]
  },
  {
   "cell_type": "code",
   "execution_count": null,
   "id": "4b0e0337",
   "metadata": {},
   "outputs": [],
   "source": [
    "snoopy_out"
   ]
  }
 ],
 "metadata": {
  "kernelspec": {
   "display_name": "Python 3 (ipykernel)",
   "language": "python",
   "name": "python3"
  },
  "language_info": {
   "codemirror_mode": {
    "name": "ipython",
    "version": 3
   },
   "file_extension": ".py",
   "mimetype": "text/x-python",
   "name": "python",
   "nbconvert_exporter": "python",
   "pygments_lexer": "ipython3",
   "version": "3.9.12"
  }
 },
 "nbformat": 4,
 "nbformat_minor": 5
}
