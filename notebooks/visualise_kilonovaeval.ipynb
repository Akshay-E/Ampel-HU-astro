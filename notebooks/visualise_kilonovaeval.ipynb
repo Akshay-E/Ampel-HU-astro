{
 "cells": [
  {
   "cell_type": "code",
   "execution_count": 1,
   "metadata": {},
   "outputs": [],
   "source": [
    "import numpy as np\n",
    "import pandas as pd\n",
    "import matplotlib.pyplot as plt\n",
    "import os\n",
    "\n",
    "import ipywidgets as widgets\n",
    "from ipywidgets import interact, interact_manual"
   ]
  },
  {
   "cell_type": "code",
   "execution_count": 2,
   "metadata": {},
   "outputs": [],
   "source": [
    "# goal: automate reading in of transienttables in a directory / from directories\n",
    "# problem: transienttables or named same, no differentiation in skymaps --> might be sensible to add skymap name to file name? or can there be several healpix maps per table\n",
    "# would maybe make sense to let jobfile make own directory for skymap named by skymap"
   ]
  },
  {
   "cell_type": "code",
   "execution_count": 2,
   "metadata": {},
   "outputs": [
    {
     "name": "stdout",
     "output_type": "stream",
     "text": [
      "440\n",
      "['S190426c.fits.gz,1', 'S190901ap.fits.gz,0', 'S190910d.fits.gz,0', 'S190910h.fits.gz,0', 'S190930t.fits.gz,0', 'S191213g.fits.gz', 'S200115j.fits.gz,0', 'ALL', 'FOLLOWUP']\n"
     ]
    }
   ],
   "source": [
    "file_dir = \"/mnt/c/Users/Public/Documents/Uni/master/masterarbeit/ampel/ampel-results/ligo-healpix/test2/\"\n",
    "\n",
    "plot_dir = os.path.join(file_dir, \"visualisePlots\")\n",
    "\n",
    "try:\n",
    "    os.makedirs(plot_dir)\n",
    "except:\n",
    "    pass\n",
    "\n",
    "table_name = \"TransientTable.csv\"\n",
    "os.listdir(file_dir)\n",
    "\n",
    "transient_names = []\n",
    "\n",
    "data_df = pd.DataFrame()\n",
    "\n",
    "for transient in os.listdir(file_dir):\n",
    "    tableFile_dir = os.path.join(file_dir, transient, table_name)\n",
    "    if os.path.isfile(tableFile_dir):\n",
    "        table_df = pd.read_csv(tableFile_dir, sep=\";\")\n",
    "        transient_names.append(table_df[\"Healpix map\"].iloc[0])\n",
    "\n",
    "        #pd.read_csv(tableFile_dir, sep=\";\")\n",
    "\n",
    "        data_df = pd.concat([data_df, table_df])\n",
    "\n",
    "print(len(data_df))\n",
    "\n",
    "try:\n",
    "    possibleSelectKeys = data_df.keys()\n",
    "except:\n",
    "    print(\"No transient tables found.\")\n",
    "\n",
    "transient_names.extend([\"ALL\", \"FOLLOWUP\"])\n",
    "print(transient_names)\n"
   ]
  },
  {
   "cell_type": "code",
   "execution_count": 3,
   "metadata": {},
   "outputs": [
    {
     "name": "stdout",
     "output_type": "stream",
     "text": [
      "58\n"
     ]
    }
   ],
   "source": [
    "kasliwal_candidates_file = \"/mnt/c/Users/Public/Documents/Uni/master/masterarbeit/ampel/ampel-results/ligo-healpix/test2/compareKasliwal_confirmed.ods\"\n",
    "kasliwal_candidates = pd.read_excel(kasliwal_candidates_file)\n",
    "kasliwal_followup = kasliwal_candidates[kasliwal_candidates[\"FOUND O3?\"] == True][\"ztf_id\"]\n",
    "\n",
    "print(len(kasliwal_followup))"
   ]
  },
  {
   "cell_type": "code",
   "execution_count": 4,
   "metadata": {},
   "outputs": [],
   "source": [
    "def HistPlots(key_ind=\"Kilonovaness\", \n",
    "              filterKey=\"Kilonovaness\", \n",
    "              filterMinValue=4, \n",
    "              filterMaxValue=40, \n",
    "              bins=15, \n",
    "              saveFig=False,\n",
    "              displayTransients=[],\n",
    "              density=False):\n",
    "    #key_ind = \"Sigma difference distances\"\n",
    "    #bins = 15\n",
    "\n",
    "    printKeys = True\n",
    "\n",
    "    fig, ax = plt.subplots(figsize=(9, 5))\n",
    "\n",
    "    for  transient in displayTransients:\n",
    "\n",
    "        #if not transient in displayTransients:\n",
    "            #continue\n",
    "\n",
    "        #tableFile_dir = os.path.join(file_dir, transient, table_name)\n",
    "        \n",
    "        #print(tableFile_dir)\n",
    "\n",
    "        if transient==\"ALL\":\n",
    "            df = data_df\n",
    "            legend_text = \"\\n\".join(transient_names[:-2])\n",
    "        elif transient==\"FOLLOWUP\":\n",
    "            if \"ALL\" in displayTransients:\n",
    "                follow_check_names = transient_names\n",
    "                #print(follow_check_names)\n",
    "            else:\n",
    "                follow_check_names = displayTransients\n",
    "            df = data_df[np.logical_and(data_df[\"ztf_id\"].isin(kasliwal_followup), data_df[\"Healpix map\"].isin(follow_check_names))]\n",
    "            legend_text = transient\n",
    "        else:\n",
    "            df = data_df[data_df[\"Healpix map\"] == transient]\n",
    "            legend_text = transient\n",
    "\n",
    "        #try: \n",
    "            #df = pd.read_csv(tableFile_dir, sep=\";\")\n",
    "        #except:\n",
    "            #print(\"No TransientTable.csv\")\n",
    "            #continue\n",
    "        if (type(key_ind) == int):\n",
    "            key = df.keys()[key_ind]\n",
    "        else:\n",
    "            key = key_ind\n",
    "\n",
    "        if printKeys:\n",
    "            #print(df.keys())\n",
    "            printKeys = False\n",
    "\n",
    "        df_filtered = df[np.logical_and(df[filterKey] > filterMinValue, df[filterKey] < filterMaxValue)]\n",
    "\n",
    "        plt.hist(df_filtered[key], bins=bins, label=\"{} - Counts = {}\".format(legend_text, df_filtered.shape[0]), alpha=0.5, density=density)\n",
    "\n",
    "    if \"ALL\" in displayTransients:\n",
    "        title_names = transient_names\n",
    "    else:\n",
    "        title_names = displayTransients\n",
    "    plt.title(f\"Filter: {filterMinValue} < {filterKey} < {filterMaxValue}\")\n",
    "    plt.xlabel(key)\n",
    "    plt.ylabel(\"Counts\")\n",
    "    plt.legend(loc='center left', bbox_to_anchor=(1, 0.5))\n",
    "    plt.tight_layout()\n",
    "\n",
    "    if saveFig:\n",
    "        saveName = \"HIST_\"\n",
    "        print(displayTransients)\n",
    "        saveName +=  \"_\".join(displayTransients) + \"_\" + key + \"_filter-\" + filterKey + str(filterMinValue) + \"-\" + str(filterMaxValue)\n",
    "        saveName = saveName.replace(\".\", \"_\")\n",
    "        saveName = saveName.replace(\" \", \"_\")\n",
    "        saveName = saveName.replace(\":\", \"-\")\n",
    "        saveName = saveName.replace(\",\", \"_\")\n",
    "        plt.savefig(os.path.join(plot_dir, saveName + \".pdf\"), dpi=72, bbox_inches=\"tight\")\n"
   ]
  },
  {
   "cell_type": "code",
   "execution_count": 12,
   "metadata": {},
   "outputs": [],
   "source": [
    "def DependencePlots(key_ind_A=\"Kilonovaness\", \n",
    "                    key_ind_B=\"Kilonovaness\", \n",
    "                    filterKey=\"Kilonovaness\", \n",
    "                    filterMinValue=4, \n",
    "                    filterMaxValue=40, \n",
    "                    displayEventNames=False, \n",
    "                    fontsize=10, \n",
    "                    saveFig=False,\n",
    "                    displayTransients=[]):\n",
    "    #key_ind = \"Sigma difference distances\"\n",
    "\n",
    "    fig, ax = plt.subplots(figsize=(9, 5))\n",
    "\n",
    "    for  transient in transient_names:\n",
    "\n",
    "        if not transient in displayTransients:\n",
    "            continue\n",
    "\n",
    "        #tableFile_dir = os.path.join(file_dir, transient, table_name)\n",
    "        #df = pd.read_csv(tableFile_dir, sep=\";\")\n",
    "\n",
    "        if transient==\"ALL\":\n",
    "            df = data_df\n",
    "            legend_text = \"\\n\".join(transient_names[:-2])\n",
    "        elif transient==\"FOLLOWUP\":\n",
    "            if \"ALL\" in displayTransients:\n",
    "                follow_check_names = transient_names\n",
    "            else:\n",
    "                follow_check_names = displayTransients\n",
    "            df = data_df[np.logical_and(data_df[\"ztf_id\"].isin(kasliwal_followup), data_df[\"Healpix map\"].isin(follow_check_names))]\n",
    "            legend_text = transient\n",
    "        else:\n",
    "            df = data_df[data_df[\"Healpix map\"] == transient]\n",
    "            legend_text = transient\n",
    "\n",
    "        if (type(key_ind_A) == int):\n",
    "            key_A = df.keys()[key_ind_A]\n",
    "        else:\n",
    "            key_A = key_ind_A\n",
    "\n",
    "        if (type(key_ind_B) == int):\n",
    "            key_B = df.keys()[key_ind_B]\n",
    "        else:\n",
    "            key_B = key_ind_B\n",
    "\n",
    "        #if printKeys:\n",
    "            #print(df.keys())\n",
    "            #printKeys = False\n",
    "        \n",
    "        df_filtered = df[np.logical_and(df[filterKey] > filterMinValue, df[filterKey] < filterMaxValue)]\n",
    "\n",
    "        #print(len(df_filtered[\"ztf_id\"]))\n",
    "        #print(df_filtered.size)\n",
    "\n",
    "        plt.scatter(df_filtered[key_A], df_filtered[key_B], label=\"{} - Counts = {}\".format(legend_text, df_filtered.shape[0]), edgecolor=next(ax._get_lines.prop_cycler)['color'], facecolor=\"None\")\n",
    "\n",
    "        if displayEventNames and df_filtered.size>0:\n",
    "\n",
    "            for i in range(len(df_filtered)):\n",
    "                #print(i)\n",
    "                #print(df_filtered.iloc[i][\"ztf_id\"])\n",
    "                plt.annotate(df_filtered[\"ztf_id\"].iloc[i], \n",
    "                            (df_filtered[key_A].iloc[i], df_filtered[key_B].iloc[i]),\n",
    "                            textcoords=\"offset points\", # how to position the text\n",
    "                            xytext=(0,10), # distance from text to points (x,y)\n",
    "                            ha='center', # horizontal alignment can be left, right or center)\n",
    "                            color=\"grey\",\n",
    "                            fontsize=fontsize)\n",
    "\n",
    "    plt.title(f\"Filter: {filterMinValue} < {filterKey} < {filterMaxValue}\")\n",
    "    plt.xlabel(key_A)\n",
    "    plt.ylabel(key_B)\n",
    "    #plt.ylabel(\"Counts\")\n",
    "    if (key_A == filterKey or key_B == filterKey):\n",
    "        plt.xlim((filterMinValue * 0.7, 1.3 * filterMaxValue))\n",
    "    \n",
    "    #plt.legend()\n",
    "    plt.legend(loc='center left', bbox_to_anchor=(1, 0.5))\n",
    "    plt.tight_layout()\n",
    "\n",
    "    if saveFig:\n",
    "        saveName = \"RELATION_\"\n",
    "        saveName += \"_\".join(transient_names) + \"_\" + key_A + \"_\" + key_B + \"_filter-\" + filterKey + str(filterMinValue) + \"-\" + str(filterMaxValue)\n",
    "        saveName = saveName.replace(\".\", \"_\")\n",
    "        saveName = saveName.replace(\" \", \"_\")\n",
    "        saveName = saveName.replace(\":\", \"-\")\n",
    "        saveName = saveName.replace(\",\", \"_\")\n",
    "        plt.savefig(os.path.join(plot_dir, saveName + \".pdf\"), dpi=72, bbox_inches=\"tight\")\n"
   ]
  },
  {
   "cell_type": "code",
   "execution_count": 10,
   "metadata": {},
   "outputs": [],
   "source": [
    "key_ind_A = widgets.Select(\n",
    "    options=possibleSelectKeys,\n",
    "    value=possibleSelectKeys[0],\n",
    "    # rows=10,\n",
    "    description='X-axis',\n",
    "    disabled=False\n",
    ")\n",
    "\n",
    "key_ind = widgets.Select(\n",
    "    options=possibleSelectKeys,\n",
    "    value=possibleSelectKeys[0],\n",
    "    # rows=10,\n",
    "    description='X-axis',\n",
    "    disabled=False\n",
    ")\n",
    "\n",
    "key_ind_B = widgets.Select(\n",
    "    options=possibleSelectKeys,\n",
    "    value=possibleSelectKeys[0],\n",
    "    # rows=10,\n",
    "    description='Y-axis',\n",
    "    disabled=False\n",
    ")\n",
    "\n",
    "filter_key = widgets.Select(\n",
    "    options=possibleSelectKeys,\n",
    "    value=possibleSelectKeys[0],\n",
    "    # rows=10,\n",
    "    description='filter-key',\n",
    "    disabled=False\n",
    ")\n",
    "\n",
    "transient_select = widgets.SelectMultiple(options=transient_names, value=transient_names)"
   ]
  },
  {
   "cell_type": "code",
   "execution_count": 7,
   "metadata": {},
   "outputs": [
    {
     "data": {
      "application/vnd.jupyter.widget-view+json": {
       "model_id": "eb0694adf09f438492b063185c5ab759",
       "version_major": 2,
       "version_minor": 0
      },
      "text/plain": [
       "interactive(children=(Select(description='X-axis', options=('Unnamed: 0', 'Ampel z', 'Ampel z (precision)', 'A…"
      ]
     },
     "metadata": {},
     "output_type": "display_data"
    },
    {
     "data": {
      "text/plain": [
       "<function __main__.HistPlots(key_ind='Kilonovaness', filterKey='Kilonovaness', filterMinValue=4, filterMaxValue=40, bins=15, saveFig=False, displayTransients=[], density=False)>"
      ]
     },
     "execution_count": 7,
     "metadata": {},
     "output_type": "execute_result"
    }
   ],
   "source": [
    "interact(HistPlots, key_ind=key_ind, filterKey=filter_key, filterMinValue=(-30, 30), filterMaxValue=(0, 1000), bins=(0, 45), displayTransients=transient_select)"
   ]
  },
  {
   "cell_type": "code",
   "execution_count": 13,
   "metadata": {},
   "outputs": [
    {
     "data": {
      "application/vnd.jupyter.widget-view+json": {
       "model_id": "c90dccaa0f6847fd8b248e4f5d63ca4c",
       "version_major": 2,
       "version_minor": 0
      },
      "text/plain": [
       "interactive(children=(Select(description='X-axis', index=7, options=('Unnamed: 0', 'Ampel z', 'Ampel z (precis…"
      ]
     },
     "metadata": {},
     "output_type": "display_data"
    },
    {
     "data": {
      "text/plain": [
       "<function __main__.DependencePlots(key_ind_A='Kilonovaness', key_ind_B='Kilonovaness', filterKey='Kilonovaness', filterMinValue=4, filterMaxValue=40, displayEventNames=False, fontsize=10, saveFig=False, displayTransients=[])>"
      ]
     },
     "execution_count": 13,
     "metadata": {},
     "output_type": "execute_result"
    }
   ],
   "source": [
    "interact(DependencePlots, \n",
    "         key_ind_A=key_ind_A, \n",
    "         key_ind_B=key_ind_B, \n",
    "         filterKey=filter_key, \n",
    "         filterMinValue=(-30, 30), \n",
    "         filterMaxValue=(0, 1000, 0.1), \n",
    "         displayEventName=True,\n",
    "         fontsize=(0,15),\n",
    "         displayTransients=transient_select)"
   ]
  },
  {
   "cell_type": "code",
   "execution_count": 29,
   "metadata": {},
   "outputs": [],
   "source": [
    "def CountingPlots(key_ind=\"Kilonovaness\", \n",
    "                    minCount=0,\n",
    "                    maxCount=30,\n",
    "                    stepCount=5,\n",
    "                    filterKey=\"Kilonovaness\", \n",
    "                    filterMinValue=4, \n",
    "                    filterMaxValue=40, \n",
    "                    saveFig=False,\n",
    "                    displayTransients=[]):\n",
    "    #key_ind = \"Sigma difference distances\"\n",
    "\n",
    "    countingRange = np.arange(minCount, maxCount, stepCount)\n",
    "\n",
    "    for  transient in transient_names:\n",
    "\n",
    "        if not transient in displayTransients:\n",
    "            continue\n",
    "\n",
    "        tableFile_dir = os.path.join(file_dir, transient, table_name)\n",
    "        df = pd.read_csv(tableFile_dir, sep=\";\")\n",
    "\n",
    "        df[\"Kilonovaness_wo_distance\"] = df[\"Kilonovaness\"] - df[\"Dist-kilonovaness\"]\n",
    "\n",
    "        if (type(key_ind) == int):\n",
    "            key = df.keys()[key_ind]\n",
    "        else:\n",
    "            key = key_ind\n",
    "       \n",
    "        df_filtered = df[np.logical_and(df[filterKey] > filterMinValue, df[filterKey] < filterMaxValue)]\n",
    "\n",
    "        count_array = [np.count_nonzero(df_filtered[key] > minValue) for minValue in countingRange]\n",
    "\n",
    "        #print(df_filtered[\"ztf_id\"])\n",
    "        #print(df_filtered.size)\n",
    "\n",
    "        plt.scatter(countingRange, count_array, label=\"{} - Total Counts = {}\".format(transient, df_filtered.shape[0]), alpha=0.7)\n",
    "\n",
    "    plt.title(f\"Filter: {filterMinValue} < {filterKey} < {filterMaxValue}\")\n",
    "    plt.xlabel(key + \" more than\")\n",
    "    plt.ylabel(\"Counts\")\n",
    "    #plt.ylabel(\"Counts\")\n",
    "    plt.tight_layout()\n",
    "    plt.legend()\n",
    "\n",
    "    if saveFig:\n",
    "        saveName = \"COUNTSABOVE_\"\n",
    "        saveName += \"_\".join(transient_names) + \"_\" + key + \"_filter-\" + filterKey + str(filterMinValue) + \"-\" + str(filterMaxValue)\n",
    "        saveName = saveName.replace(\".\", \"_\")\n",
    "        saveName = saveName.replace(\" \", \"_\")\n",
    "        saveName = saveName.replace(\":\", \"-\")\n",
    "        saveName = saveName.replace(\",\", \"_\")\n",
    "        plt.savefig(os.path.join(plot_dir, saveName + \".pdf\"), dpi=72, bbox_inches=\"tight\")\n"
   ]
  },
  {
   "cell_type": "code",
   "execution_count": 30,
   "metadata": {},
   "outputs": [
    {
     "data": {
      "application/vnd.jupyter.widget-view+json": {
       "model_id": "fd8165d113334fb6ad4f351c89b5580b",
       "version_major": 2,
       "version_minor": 0
      },
      "text/plain": [
       "interactive(children=(Select(description='X-axis', index=16, options=('Unnamed: 0', 'Ampel z', 'Ampel z (preci…"
      ]
     },
     "metadata": {},
     "output_type": "display_data"
    },
    {
     "data": {
      "text/plain": [
       "<function __main__.CountingPlots(key_ind='Kilonovaness', minCount=0, maxCount=30, stepCount=5, filterKey='Kilonovaness', filterMinValue=4, filterMaxValue=40, saveFig=False, displayTransients=[])>"
      ]
     },
     "execution_count": 30,
     "metadata": {},
     "output_type": "execute_result"
    }
   ],
   "source": [
    "interact(CountingPlots, \n",
    "         key_ind=key_ind, \n",
    "         filterKey=filter_key, \n",
    "         filterMinValue=(-30, 30), \n",
    "         filterMaxValue=(0, 1000, 0.1), \n",
    "         displayTransients=transient_select)"
   ]
  },
  {
   "cell_type": "code",
   "execution_count": 15,
   "metadata": {},
   "outputs": [
    {
     "name": "stdout",
     "output_type": "stream",
     "text": [
      "[0, 1, 2, 3, 4, 5, 6, 7, 8, 9]\n"
     ]
    }
   ],
   "source": [
    "range = np.arange(0,10,1)\n",
    "\n",
    "print([i for i in range])"
   ]
  },
  {
   "cell_type": "code",
   "execution_count": null,
   "metadata": {},
   "outputs": [],
   "source": []
  }
 ],
 "metadata": {
  "kernelspec": {
   "display_name": "ampel-hu",
   "language": "python",
   "name": "python3"
  },
  "language_info": {
   "codemirror_mode": {
    "name": "ipython",
    "version": 3
   },
   "file_extension": ".py",
   "mimetype": "text/x-python",
   "name": "python",
   "nbconvert_exporter": "python",
   "pygments_lexer": "ipython3",
   "version": "3.10.9"
  },
  "orig_nbformat": 4
 },
 "nbformat": 4,
 "nbformat_minor": 2
}
