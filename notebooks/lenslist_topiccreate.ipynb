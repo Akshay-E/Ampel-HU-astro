{
 "cells": [
  {
   "cell_type": "markdown",
   "id": "60df7298",
   "metadata": {},
   "source": [
    "This notebook will create a permanent transient topic based on candidates selected through the lens archive study."
   ]
  },
  {
   "cell_type": "code",
   "execution_count": null,
   "id": "f799b2e9",
   "metadata": {},
   "outputs": [],
   "source": [
    "import os, requests\n",
    "import pandas as pd\n",
    "from ampel_notebook_utils import api_name2candids\n",
    "from ampel_notebook_utils import api_name2candid\n",
    "import matplotlib.pyplot as plt"
   ]
  },
  {
   "cell_type": "code",
   "execution_count": null,
   "id": "26fccb22",
   "metadata": {},
   "outputs": [],
   "source": [
    "# Path to subselected transients\n",
    "df_select = pd.read_csv('/home/jnordin/Downloads/new_candidates_SNor_gal_absmag19.5_z0.1_det5_dist3.csv')\n"
   ]
  },
  {
   "cell_type": "code",
   "execution_count": null,
   "id": "2ea92e06",
   "metadata": {},
   "outputs": [],
   "source": [
    "sne = list(df_select['ZTF name'])"
   ]
  },
  {
   "cell_type": "code",
   "execution_count": null,
   "id": "99e9faac",
   "metadata": {},
   "outputs": [],
   "source": [
    "print('We will create a topic with {} supernovae'.format(len(sne)))"
   ]
  },
  {
   "cell_type": "markdown",
   "id": "9e232310",
   "metadata": {},
   "source": [
    "A AMPEL archive access token needs to be supplied to access the archive. This can be obtained from the archive tab of \n",
    "https://ampel.zeuthen.desy.de/live/dashboard/tokens\n",
    "(assumes user to have joined the AmpelProject github organization). "
   ]
  },
  {
   "cell_type": "code",
   "execution_count": null,
   "id": "c8c56542",
   "metadata": {},
   "outputs": [],
   "source": [
    "token = os.environ[\"ARCHIVE_TOKEN\"]   # Token here stored as system variable"
   ]
  },
  {
   "cell_type": "code",
   "execution_count": null,
   "id": "ee4c6109",
   "metadata": {},
   "outputs": [],
   "source": [
    "# Find alert candidate IDS for the list of sne. This can be done in two ways depending on\n",
    "# whether you wish to include _all_ alerts distributed for a transient or only the _latest.\n",
    "# A. All alerts\n",
    "# Takes a while since this queries the archive for every alert for every sn\n",
    "#candids = [api_name2candids(sn, token) for sn in sne]\n",
    "#mycandids = [a for sncandids in candids for a in sncandids]\n",
    "# B. Only the final (which includes the previous 30 day history)\n",
    "mycandids = [api_name2candid(sn, token) for sn in sne]\n"
   ]
  },
  {
   "cell_type": "code",
   "execution_count": null,
   "id": "d27d3544",
   "metadata": {},
   "outputs": [],
   "source": [
    "print('Preparing to create a topic containing {} alerts from {} sne'.format(len(mycandids), len(candids)))"
   ]
  },
  {
   "cell_type": "markdown",
   "id": "376a59e8",
   "metadata": {},
   "source": [
    "Post topics based on this list. Start by one containing the most populous alert from each."
   ]
  },
  {
   "cell_type": "code",
   "execution_count": null,
   "id": "495444c0",
   "metadata": {},
   "outputs": [],
   "source": [
    "topic_disc = 'A list of 121 alerts from 121 SNe selected as potential lens targets. Created June 7 2022.'"
   ]
  },
  {
   "cell_type": "code",
   "execution_count": null,
   "id": "986a4385",
   "metadata": {},
   "outputs": [],
   "source": [
    "body = {\n",
    "    \"description\" : topic_disc,\n",
    "    \"candids\" : mycandids\n",
    "}"
   ]
  },
  {
   "cell_type": "code",
   "execution_count": null,
   "id": "adbc9c81",
   "metadata": {},
   "outputs": [],
   "source": [
    "base_url = 'https://ampel.zeuthen.desy.de/api/ztf/archive/v3'"
   ]
  },
  {
   "cell_type": "code",
   "execution_count": null,
   "id": "fc612088",
   "metadata": {},
   "outputs": [],
   "source": [
    "response = requests.post(f\"{base_url}/topics/\", headers={\"Authorization\": \"bearer \"+token}, json=body )"
   ]
  },
  {
   "cell_type": "code",
   "execution_count": null,
   "id": "f2f677f7",
   "metadata": {},
   "outputs": [],
   "source": [
    "topic_token = response.json()"
   ]
  },
  {
   "cell_type": "code",
   "execution_count": null,
   "id": "98bd2575",
   "metadata": {},
   "outputs": [],
   "source": [
    "print(topic_token)"
   ]
  },
  {
   "cell_type": "markdown",
   "id": "ed72af4f",
   "metadata": {},
   "source": [
    "This is now a _permanent_ token which should be appropriately stored. Note that it is not possible retrieve a token once created through the api, hence you need to keep track of it."
   ]
  },
  {
   "cell_type": "markdown",
   "id": "ca3e01c2",
   "metadata": {},
   "source": [
    "*** \n",
    "_topic_:  F7nTWtgYG7PV38H5W2fFRJlHM0f-15DOIr0R55Pemsg\n",
    "\n",
    "_description_: A list of 121 alerts from 121 SNe selected as potential lens targets. Created June 7 2022.\n",
    "***\n",
    "\n"
   ]
  },
  {
   "cell_type": "markdown",
   "id": "e65ac394",
   "metadata": {},
   "source": [
    "Once a topic has been defined, it can be traversed using a an alert token. Note that this needs to be recreated - it expires after going through the topic."
   ]
  },
  {
   "cell_type": "code",
   "execution_count": null,
   "id": "8795c816",
   "metadata": {},
   "outputs": [],
   "source": [
    "body = {\n",
    "    \"topic\": topic_token, \n",
    "    \"chunk_size\": 100\n",
    "}"
   ]
  },
  {
   "cell_type": "code",
   "execution_count": null,
   "id": "9644a6ea",
   "metadata": {},
   "outputs": [],
   "source": [
    "response = requests.post(f\"{base_url}/streams/from_topic\", headers={\"Authorization\": \"bearer \"+token}, json=body )"
   ]
  },
  {
   "cell_type": "code",
   "execution_count": null,
   "id": "c6b7dbcb",
   "metadata": {},
   "outputs": [],
   "source": [
    "if not response.ok:\n",
    "    print('Accessing stream from topic not successful')\n",
    "    print(response)"
   ]
  },
  {
   "cell_type": "code",
   "execution_count": null,
   "id": "f831a0ba",
   "metadata": {},
   "outputs": [],
   "source": [
    "resume_token = response.json()['resume_token']"
   ]
  },
  {
   "cell_type": "code",
   "execution_count": null,
   "id": "4ed2c4ef",
   "metadata": {},
   "outputs": [],
   "source": [
    "# Alerts are now being queued in the archive, and can be retrieved through this token\n",
    "resume_token"
   ]
  },
  {
   "cell_type": "code",
   "execution_count": null,
   "id": "d324b21d",
   "metadata": {},
   "outputs": [],
   "source": []
  }
 ],
 "metadata": {
  "kernelspec": {
   "display_name": "Python 3 (ipykernel)",
   "language": "python",
   "name": "python3"
  },
  "language_info": {
   "codemirror_mode": {
    "name": "ipython",
    "version": 3
   },
   "file_extension": ".py",
   "mimetype": "text/x-python",
   "name": "python",
   "nbconvert_exporter": "python",
   "pygments_lexer": "ipython3",
   "version": "3.9.12"
  }
 },
 "nbformat": 4,
 "nbformat_minor": 5
}
