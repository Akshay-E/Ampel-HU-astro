{
 "cells": [
  {
   "cell_type": "markdown",
   "id": "independent-detail",
   "metadata": {},
   "source": [
    "This notebook illustrates how the DESY ZTF alert archive can be accessed through the convenience methods in `ampel_notebook_utils.py`. The full archive API documentation can be found at:\n",
    "https://ampel.zeuthen.desy.de/api/ztf/archive/docs\n",
    "\n",
    "Note that access is controlled through the personal archive token (see below), and the data returned might hence vary from person to person."
   ]
  },
  {
   "cell_type": "code",
   "execution_count": null,
   "id": "82b06c6c",
   "metadata": {},
   "outputs": [],
   "source": [
    "import os\n",
    "from ampel_notebook_utils import * "
   ]
  },
  {
   "cell_type": "code",
   "execution_count": null,
   "id": "e7656d26",
   "metadata": {},
   "outputs": [],
   "source": [
    "# Access to the AMPEL data archive assumes an individual *archive token* which can be obtained from \n",
    "# https://response = requests.get(endpoint, headers=header )ampel.zeuthen.desy.de/live/dashboard/tokens\n",
    "# This currently builds on GitHub authorization for AmpelProject members.\n",
    "archivetoken = os.environ[\"ARCHIVE_TOKEN\"]"
   ]
  },
  {
   "cell_type": "code",
   "execution_count": null,
   "id": "4bfa250d",
   "metadata": {},
   "outputs": [],
   "source": [
    "# ZTF name of transients to explore\n",
    "snname = \"ZTF22aaylnhq\""
   ]
  },
  {
   "cell_type": "markdown",
   "id": "299cae10",
   "metadata": {},
   "source": [
    "#### Accessing raw ZTF alerts.\n",
    "\n",
    "Will return a list of dictionaries, each containing alert information for one detection. \n",
    "Cutouts will have been removed and the `prv_candidates` field left empty (as all photometry is contained in the list)."
   ]
  },
  {
   "cell_type": "code",
   "execution_count": null,
   "id": "371e9dae",
   "metadata": {},
   "outputs": [],
   "source": [
    "alerts = api_name2alerts(snname, archivetoken)"
   ]
  },
  {
   "cell_type": "code",
   "execution_count": null,
   "id": "82bac422",
   "metadata": {},
   "outputs": [],
   "source": [
    "print(f'Found {len(alerts)} ZTF detections.')"
   ]
  },
  {
   "cell_type": "markdown",
   "id": "c1f160e8",
   "metadata": {},
   "source": [
    "#### Return alert candidate ids.\n",
    "\n",
    "Will return a list of alert candidate ids."
   ]
  },
  {
   "cell_type": "code",
   "execution_count": null,
   "id": "ba7965ec",
   "metadata": {},
   "outputs": [],
   "source": [
    "candids = api_name2candids(snname, archivetoken)"
   ]
  },
  {
   "cell_type": "code",
   "execution_count": null,
   "id": "796ce6f2",
   "metadata": {},
   "outputs": [],
   "source": [
    "print(f'First detected in alert candid {min(candids)}')"
   ]
  },
  {
   "cell_type": "markdown",
   "id": "3bc672ef",
   "metadata": {},
   "source": [
    "As a version of the above, we can directly get the latest alert."
   ]
  },
  {
   "cell_type": "code",
   "execution_count": null,
   "id": "000d85a5",
   "metadata": {},
   "outputs": [],
   "source": [
    "api_name2candid(snname, archivetoken)"
   ]
  },
  {
   "cell_type": "markdown",
   "id": "39518ff5",
   "metadata": {},
   "source": [
    "#### Return a `LightCurve` object\n",
    "\n",
    "Will obtain the latest photometry for the SN, and convert this into a ZTF `LightCurve` object, which contains the ZTF alert information in the `photopoints` and `upperlimits` lists (under the `body` field). A `LightCurve` object contains all information present in the Ampel DB corresponding to a particular transient _state_ and acessible to the active user. \n",
    "\n",
    "Ampel T2 (and T3) units are provided `LightCurve` objects for each transient. "
   ]
  },
  {
   "cell_type": "code",
   "execution_count": null,
   "id": "f53fc793",
   "metadata": {},
   "outputs": [],
   "source": [
    "from ampel.view.LightCurve import LightCurve"
   ]
  },
  {
   "cell_type": "code",
   "execution_count": null,
   "id": "5f670146",
   "metadata": {},
   "outputs": [],
   "source": [
    "lightCurve = api_get_lightcurve(snname, archivetoken)"
   ]
  },
  {
   "cell_type": "code",
   "execution_count": null,
   "id": "bf8d2e50",
   "metadata": {},
   "outputs": [],
   "source": [
    "lightCurve"
   ]
  },
  {
   "cell_type": "markdown",
   "id": "965b660f",
   "metadata": {},
   "source": [
    "Similarly, we can obtain a list of lightcurves for transient, each corresponding to one speficic state (i.e. information accessible at some point in time)."
   ]
  },
  {
   "cell_type": "code",
   "execution_count": null,
   "id": "2107d130",
   "metadata": {},
   "outputs": [],
   "source": [
    "lcs = api_get_lightcurves(snname, archivetoken)"
   ]
  },
  {
   "cell_type": "code",
   "execution_count": null,
   "id": "4196fa79",
   "metadata": {},
   "outputs": [],
   "source": [
    "print(f'Found {len(lcs)} object LightCurves.')"
   ]
  },
  {
   "cell_type": "markdown",
   "id": "583b635c",
   "metadata": {},
   "source": [
    "#### Working with LightCurve data\n",
    "\n",
    "LightCurve objects contain several convenience methods for retrieving subsets of the available information. The following cells show an example for doing a crude plot."
   ]
  },
  {
   "cell_type": "code",
   "execution_count": null,
   "id": "ac2c3300",
   "metadata": {},
   "outputs": [],
   "source": [
    "gphot = lightCurve.get_ntuples(['jd', 'magpsf'], \n",
    "                              {'attribute': 'fid', 'operator': '==', 'value': 1})\n",
    "rphot = lightCurve.get_ntuples(['jd', 'magpsf'], \n",
    "                              {'attribute': 'fid', 'operator': '==', 'value': 2})"
   ]
  },
  {
   "cell_type": "code",
   "execution_count": null,
   "id": "c958b3fe",
   "metadata": {},
   "outputs": [],
   "source": [
    "import matplotlib.pyplot as plt"
   ]
  },
  {
   "cell_type": "code",
   "execution_count": null,
   "id": "1f7622ad",
   "metadata": {},
   "outputs": [],
   "source": [
    "plt.plot( [p[0] for p in gphot], [p[1] for p in gphot], 'o', color='g', label='ZTF g')\n",
    "plt.plot( [p[0] for p in rphot], [p[1] for p in rphot], 'o', color='r', label='ZTF r')\n",
    "plt.gca().invert_yaxis()\n",
    "plt.xlabel('JD')\n",
    "plt.ylabel('ZTF mag')\n",
    "_ = plt.legend()"
   ]
  }
 ],
 "metadata": {
  "kernelspec": {
   "display_name": "Python 3 (ipykernel)",
   "language": "python",
   "name": "python3"
  },
  "language_info": {
   "codemirror_mode": {
    "name": "ipython",
    "version": 3
   },
   "file_extension": ".py",
   "mimetype": "text/x-python",
   "name": "python",
   "nbconvert_exporter": "python",
   "pygments_lexer": "ipython3",
   "version": "3.10.7"
  }
 },
 "nbformat": 4,
 "nbformat_minor": 5
}
