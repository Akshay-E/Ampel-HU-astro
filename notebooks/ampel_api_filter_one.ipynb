{
 "cells": [
  {
   "cell_type": "markdown",
   "id": "independent-detail",
   "metadata": {},
   "source": [
    "Notebook which will:\n",
    "- Obtain alert photometry for named SN and create alert.\n",
    "- Check whether this passes through a filter."
   ]
  },
  {
   "cell_type": "code",
   "execution_count": null,
   "id": "pursuant-luxury",
   "metadata": {},
   "outputs": [],
   "source": [
    "import requests, os\n",
    "from ampel.log.AmpelLogger import AmpelLogger\n",
    "from ampel.contrib.hu.t0.SimpleDecentFilter import SimpleDecentFilter\n",
    "from ampel.ztf.alert.ZiAlertSupplier import ZiAlertSupplier"
   ]
  },
  {
   "cell_type": "code",
   "execution_count": null,
   "id": "e251a1c3",
   "metadata": {},
   "outputs": [],
   "source": [
    "logger = AmpelLogger.get_logger()"
   ]
  },
  {
   "cell_type": "code",
   "execution_count": null,
   "id": "e7656d26",
   "metadata": {},
   "outputs": [],
   "source": [
    "# Access to the AMPEL data archive assumes an individual *archive token* which can be obtained from \n",
    "# https://ampel.zeuthen.desy.de/live/dashboard/tokens\n",
    "# This currently builds on GitHub authorization for AmpelProject members.\n",
    "token = os.environ[\"ARCHIVE_TOKEN\"]"
   ]
  },
  {
   "cell_type": "code",
   "execution_count": null,
   "id": "4bfa250d",
   "metadata": {},
   "outputs": [],
   "source": [
    "# Name of ZTF objects to lookup\n",
    "snname = \"ZTF21aaowefe\""
   ]
  },
  {
   "cell_type": "code",
   "execution_count": null,
   "id": "48a9f580",
   "metadata": {},
   "outputs": [],
   "source": [
    "def api_to_alert(name, token, tags=['FilterTest']):\n",
    "    \"\"\"\n",
    "    Retrieve the alert history of a SN and return all recreated alerts.    \n",
    "    \"\"\"\n",
    "    \n",
    "    # Setup connection\n",
    "    #endpoint = \"https://ampel.zeuthen.desy.de/api/ztf/archive/v3/object/{}/photopoints\".format(name)\n",
    "    endpoint = \"https://ampel.zeuthen.desy.de/api/ztf/archive/v3/object/{}/alerts?with_history=true\".format(name)\n",
    "\n",
    "    header = {\"Authorization\": \"bearer \"+token}\n",
    "\n",
    "    response = requests.get(endpoint, headers=header )\n",
    "    \n",
    "    if not response.ok:\n",
    "        print('... failed to get alert')\n",
    "        return None\n",
    "    \n",
    "    return [ZiAlertSupplier.shape_alert_dict( a, tags ) for a in response.json()]"
   ]
  },
  {
   "cell_type": "code",
   "execution_count": null,
   "id": "vietnamese-singapore",
   "metadata": {
    "scrolled": true
   },
   "outputs": [],
   "source": [
    "alerts = api_to_alert(snname, token)"
   ]
  },
  {
   "cell_type": "code",
   "execution_count": null,
   "id": "03fe8457",
   "metadata": {},
   "outputs": [],
   "source": [
    "print('Found %s alerts'%(len(alerts)))"
   ]
  },
  {
   "cell_type": "markdown",
   "id": "1efbaccf",
   "metadata": {},
   "source": [
    "Defining parameters for filter."
   ]
  },
  {
   "cell_type": "code",
   "execution_count": null,
   "id": "02d62fcc",
   "metadata": {},
   "outputs": [],
   "source": [
    "filter_config = {\n",
    "    'min_ndet': 10,\n",
    "    'min_tspan': 0,\n",
    "    'max_tspan': 50,\n",
    "    'min_archive_tspan': 6,\n",
    "    'max_archive_tspan': 500,    \n",
    "    'min_rb': 0.3,\n",
    "    'min_drb': 0.995,\n",
    "    'max_fwhm': 5.5,\n",
    "    'min_gal_lat': 14,\n",
    "    'ps1_sgveto_rad': 1,\n",
    "    'ps1_sgveto_th': 0.8,\n",
    "    'ps1_confusion_rad': 3,\n",
    "    'ps1_confusion_sg_tol': 0.1\n",
    "}"
   ]
  },
  {
   "cell_type": "code",
   "execution_count": null,
   "id": "8346187c",
   "metadata": {},
   "outputs": [],
   "source": [
    "t0filter = SimpleDecentFilter( **filter_config, logger=logger )\n",
    "t0filter.post_init()"
   ]
  },
  {
   "cell_type": "code",
   "execution_count": null,
   "id": "57df8433",
   "metadata": {},
   "outputs": [],
   "source": [
    "for alert in alerts:\n",
    "    t0filter.process(alert)"
   ]
  },
  {
   "cell_type": "code",
   "execution_count": null,
   "id": "5073a144",
   "metadata": {},
   "outputs": [],
   "source": [
    "for a in alerts:\n",
    "    latest = a.datapoints[0]\n",
    "    # drb\n",
    "    try:\n",
    "        print('drb', latest['drb'])\n",
    "    except KeyError:\n",
    "        print('no drb')\n",
    "    # rb\n",
    "    try:\n",
    "        print('rb', latest['rb'])\n",
    "    except KeyError:\n",
    "        print('no rb')\n",
    "    # isdiffpos\n",
    "    try:\n",
    "        print('isdiffpos', latest['isdiffpos'])\n",
    "    except KeyError:\n",
    "        print('no isdiffpos')\n"
   ]
  },
  {
   "cell_type": "code",
   "execution_count": null,
   "id": "36f39516",
   "metadata": {},
   "outputs": [],
   "source": []
  }
 ],
 "metadata": {
  "kernelspec": {
   "display_name": "Python 3 (ipykernel)",
   "language": "python",
   "name": "python3"
  },
  "language_info": {
   "codemirror_mode": {
    "name": "ipython",
    "version": 3
   },
   "file_extension": ".py",
   "mimetype": "text/x-python",
   "name": "python",
   "nbconvert_exporter": "python",
   "pygments_lexer": "ipython3",
   "version": "3.9.7"
  }
 },
 "nbformat": 4,
 "nbformat_minor": 5
}
