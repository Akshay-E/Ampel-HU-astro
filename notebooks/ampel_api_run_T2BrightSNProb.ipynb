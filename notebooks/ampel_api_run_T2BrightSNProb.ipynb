{
 "cells": [
  {
   "cell_type": "markdown",
   "id": "independent-detail",
   "metadata": {},
   "source": [
    "Notebook which will:\n",
    "- Obtain alert photometry for named SN and convert to AMPEL LightCurve object.\n",
    "- Run T2BrightSNProb / T2SNGuess for each state.\n",
    "- Print eval."
   ]
  },
  {
   "cell_type": "code",
   "execution_count": null,
   "id": "pursuant-luxury",
   "metadata": {},
   "outputs": [],
   "source": [
    "import pandas as pd\n",
    "import requests, os, time\n",
    "from requests.auth import HTTPBasicAuth\n",
    "import numpy as np\n",
    "import matplotlib.pyplot as plt\n",
    "#import lcdata\n",
    "from astropy.table import Table\n",
    "from IPython.core.display import Image, display"
   ]
  },
  {
   "cell_type": "code",
   "execution_count": null,
   "id": "artistic-nelson",
   "metadata": {},
   "outputs": [],
   "source": [
    "%load_ext ampel_quick_import\n",
    "%qi AmpelLogger ZTFIdMapper ZiDataPointShaper T1Document LightCurve T2BrightSNProb "
   ]
  },
  {
   "cell_type": "code",
   "execution_count": null,
   "id": "e7656d26",
   "metadata": {},
   "outputs": [],
   "source": [
    "name = \"ZTF21aclhsxb\"\n",
    "desy_archive_user =   # Add username \n",
    "desy_archive_pw =    # Add pw"
   ]
  },
  {
   "cell_type": "code",
   "execution_count": null,
   "id": "8346187c",
   "metadata": {},
   "outputs": [],
   "source": [
    "# Initalize t2 unit\n",
    "logger = AmpelLogger.get_logger()\n",
    "t2snguess = T2BrightSNProb( logger=logger)\n",
    "t2snguess.post_init()\n",
    "# Shaper which knows structure of ZTF alerts\n",
    "shaper = ZiDataPointShaper(logger=logger)"
   ]
  },
  {
   "cell_type": "code",
   "execution_count": null,
   "id": "d26d565f",
   "metadata": {},
   "outputs": [],
   "source": [
    "# Get *all* alerts for transient\n",
    "endpoint = \"https://ampel.zeuthen.desy.de/api/ztf/archive/object/{}/alerts?with_history=true&with_cutouts=false\".format(name)\n",
    "auth = HTTPBasicAuth(desy_archive_user, desy_archive_pw)\n",
    "response = requests.get(endpoint, auth=auth )"
   ]
  },
  {
   "cell_type": "code",
   "execution_count": null,
   "id": "0cf68264",
   "metadata": {},
   "outputs": [],
   "source": [
    "if not response.ok:\n",
    "    print('... failed to get alert')\n",
    "alerts = response.json()\n",
    "if alerts is None:\n",
    "    print(' ... no alert content')"
   ]
  },
  {
   "cell_type": "code",
   "execution_count": null,
   "id": "51d57338",
   "metadata": {},
   "outputs": [],
   "source": [
    "print(\"Found {} alerts for {}\".format(len(alerts), name ) )"
   ]
  },
  {
   "cell_type": "markdown",
   "id": "6cf9cba2",
   "metadata": {},
   "source": [
    "Loop through alerts, create LightCurve object and run T2BrightSNProb"
   ]
  },
  {
   "cell_type": "code",
   "execution_count": null,
   "id": "8ed3d842",
   "metadata": {},
   "outputs": [],
   "source": [
    "summary = []\n",
    "for alert in alerts:\n",
    "    \n",
    "    # Create standardized LightCurve object\n",
    "    pps = [alert['candidate']]\n",
    "    pps.extend( [prv_cand for prv_cand in alert['prv_candidates'] ] )\n",
    "    \n",
    "    # The following loop is _likely_ due to an inconsistency in the alert archive with the shaper\n",
    "    # and can hopefully be removed soon\n",
    "    for pp in pps:\n",
    "        if \"magpsf\" in pp.keys():\n",
    "            pp[\"candid\"] = 999\n",
    "\n",
    "    stockId = ZTFIdMapper.to_ampel_id(name)\n",
    "    dps = shaper.process( pps, stockId)\n",
    "    t1d = T1Document(stock=stockId, link=0)\n",
    "    lc = LightCurve.build(t1d, dps)\n",
    "    \n",
    "    # Concent\n",
    "    jds = lc.get_values(\"jd\")\n",
    "    if jds is None:\n",
    "        continue\n",
    "    \n",
    "    t2out = t2snguess.process(lc)\n",
    "    print(t2out)\n",
    "    \n",
    "    if t2out['success']:\n",
    "        summary.append( [max(jds),len(jds),t2out['success'], t2out['SNGuess'], t2out['SNGuessBool'] ])\n",
    "    else:\n",
    "        summary.append( [max(jds),len(jds),t2out['success'] ])\n",
    "        "
   ]
  },
  {
   "cell_type": "code",
   "execution_count": null,
   "id": "vietnamese-singapore",
   "metadata": {
    "scrolled": true
   },
   "outputs": [],
   "source": [
    "summary"
   ]
  }
 ],
 "metadata": {
  "kernelspec": {
   "display_name": "Python 3 (ipykernel)",
   "language": "python",
   "name": "python3"
  },
  "language_info": {
   "codemirror_mode": {
    "name": "ipython",
    "version": 3
   },
   "file_extension": ".py",
   "mimetype": "text/x-python",
   "name": "python",
   "nbconvert_exporter": "python",
   "pygments_lexer": "ipython3",
   "version": "3.9.7"
  }
 },
 "nbformat": 4,
 "nbformat_minor": 5
}
