{
 "cells": [
  {
   "cell_type": "markdown",
   "id": "43827f56",
   "metadata": {},
   "source": [
    "Do a consistent nuclear transient archive query."
   ]
  },
  {
   "cell_type": "code",
   "execution_count": null,
   "id": "2e1e53d4",
   "metadata": {},
   "outputs": [],
   "source": [
    "import sys, os\n",
    "import requests"
   ]
  },
  {
   "cell_type": "code",
   "execution_count": null,
   "id": "9f65a940",
   "metadata": {},
   "outputs": [],
   "source": [
    "from ampel.secret.AmpelVault import AmpelVault\n",
    "from ampel.secret.DictSecretProvider import DictSecretProvider\n",
    "from ampel.dev.DevAmpelContext import DevAmpelContext"
   ]
  },
  {
   "cell_type": "code",
   "execution_count": null,
   "id": "b6e106ea",
   "metadata": {},
   "outputs": [],
   "source": [
    "token = \"\"   # archive token\n",
    "header = {\"Authorization\": \"bearer \"+token}\n",
    "endpoint = 'https://ampel.zeuthen.desy.de/api/ztf/archive/v3/streams/from_query?programid=1'"
   ]
  },
  {
   "cell_type": "code",
   "execution_count": null,
   "id": "c42fb5a5",
   "metadata": {},
   "outputs": [],
   "source": [
    "query = {\n",
    "  \"jd\": {\n",
    "    \"$gt\": 2459401.5,\n",
    "    \"$lt\": 2459401.8\n",
    "  },\n",
    "  \"candidate\": {\n",
    "    \"drb\": {\n",
    "      \"$gt\": 0.995\n",
    "    },\n",
    "    \"ndethist\": {\n",
    "      \"$gt\": 10,\n",
    "      \"$lte\": 10000\n",
    "    },\n",
    "    \"sgmag1\": { \"$gt\": 12 },\n",
    "    \"srmag1\": { \"$gt\": 12 },\n",
    "    \"simag1\": { \"$gt\": 12 },\n",
    "    \"szmag1\": { \"$gt\": 12 },\n",
    "    \"magnr\": { \"$gt\": 12 },\n",
    "    \"distpsnr1\": {\n",
    "      \"$gt\": 0.00001,\n",
    "      \"$lte\": 0.5\n",
    "    },\n",
    "    \"isdiffpos\": {\"$in\": [\"t\", \"1\"]},\n",
    "  }\n",
    "}"
   ]
  },
  {
   "cell_type": "code",
   "execution_count": null,
   "id": "4d4c11a2",
   "metadata": {},
   "outputs": [],
   "source": [
    "response = requests.post(endpoint, headers=header, json=query )"
   ]
  },
  {
   "cell_type": "code",
   "execution_count": null,
   "id": "8ed4c09f",
   "metadata": {},
   "outputs": [],
   "source": [
    "if not response.ok:\n",
    "    print( 'Query creation failed' )\n",
    "    print(response)"
   ]
  },
  {
   "cell_type": "code",
   "execution_count": null,
   "id": "2c7e9667",
   "metadata": {},
   "outputs": [],
   "source": [
    "response.json()"
   ]
  },
  {
   "cell_type": "code",
   "execution_count": null,
   "id": "564f4a94",
   "metadata": {},
   "outputs": [],
   "source": [
    "loader_config = {'archive':\"https://ampel.zeuthen.desy.de/api/ztf/archive/v3\", \"stream\":response.json()['resume_token']}"
   ]
  },
  {
   "cell_type": "code",
   "execution_count": null,
   "id": "0c05a781",
   "metadata": {},
   "outputs": [],
   "source": [
    "AMPEL_CONF = '/home/jnordin/github/ampel82/ampel_conf_cdc431.yaml'"
   ]
  },
  {
   "cell_type": "code",
   "execution_count": null,
   "id": "241454f0",
   "metadata": {},
   "outputs": [],
   "source": [
    "# Create a secret vault\n",
    "secrets = { 'slack/ztf_general/jno': os.environ[\"SNIaSLACK\"],\n",
    "                              'mongo/logger':{},\n",
    "                              'mongo/writer':{},\n",
    "                              'extcats/reader':{},\n",
    "            'ztf/archive/auth' : {'user' : '', 'password' : ''},\n",
    "            'datalab/pwd':os.environ[\"DATALABPWD\"],\n",
    "            \"desycloud\" : {},\n",
    "            \"ztf/archive/token\": os.environ[\"ARCHIVE_TOKEN\"],\n",
    "          }\n",
    "vault = AmpelVault([DictSecretProvider(secrets)])"
   ]
  },
  {
   "cell_type": "code",
   "execution_count": null,
   "id": "24fbac12",
   "metadata": {},
   "outputs": [],
   "source": [
    "# Select date of query with format e.g. '20210610'\n",
    "channel = 'Nuclear'\n",
    "ITER_MAX = 1000000"
   ]
  },
  {
   "cell_type": "code",
   "execution_count": null,
   "id": "13471b29",
   "metadata": {},
   "outputs": [],
   "source": [
    "ctx = DevAmpelContext.load(\n",
    "    config = AMPEL_CONF,\n",
    "    db_prefix = 'dumpme',\n",
    "    purge_db = True,\n",
    "    vault = vault\n",
    ")\n",
    "ctx.add_channel(\n",
    "    name=channel,\n",
    "    access=['ZTF', 'ZTF_PUB', 'ZTF_PRIV']\n",
    ")"
   ]
  },
  {
   "cell_type": "code",
   "execution_count": null,
   "id": "706a8573",
   "metadata": {},
   "outputs": [],
   "source": []
  },
  {
   "cell_type": "code",
   "execution_count": null,
   "id": "04aa902c",
   "metadata": {},
   "outputs": [],
   "source": [
    "\n"
   ]
  },
  {
   "cell_type": "code",
   "execution_count": null,
   "id": "05c901eb",
   "metadata": {},
   "outputs": [],
   "source": []
  },
  {
   "cell_type": "code",
   "execution_count": null,
   "id": "b3959cc9",
   "metadata": {},
   "outputs": [],
   "source": []
  },
  {
   "cell_type": "code",
   "execution_count": null,
   "id": "4039e71f",
   "metadata": {},
   "outputs": [],
   "source": [
    "# These are configuration parameters for the initial alert filter step.\n",
    "# Note that this filter configuration assumes that a first filter based on nbr of points were made in the alert query\n",
    "# The T0 stage will not be exposed to the full candidate history. \n",
    "filter_config = {\n",
    "    'min_ndet': 1,\n",
    "    'min_tspan': 0,\n",
    "    'max_tspan': 50000000,\n",
    "    'min_archive_tspan': 5,\n",
    "    'max_archive_tspan': 5000000,    \n",
    "    'min_rb': 0.3,\n",
    "    'min_drb': 0.9,\n",
    "    'max_fwhm': 5.5,\n",
    "    'min_gal_lat': 8,\n",
    "    'ps1_sgveto_rad': 1,\n",
    "    'ps1_sgveto_th': 0.8,\n",
    "    'ps1_confusion_rad': 3,\n",
    "    'ps1_confusion_sg_tol': 0.1\n",
    "}"
   ]
  },
  {
   "cell_type": "code",
   "execution_count": null,
   "id": "4deca441",
   "metadata": {},
   "outputs": [],
   "source": [
    "# Will use NED for spectroscopic redshifts.\n",
    "cat_conf = {\n",
    "    'catalogs' : {\n",
    "        'SDSS_spec' : {\n",
    "            'use' : 'extcats',\n",
    "            'rs_arcsec' : 10.0,\n",
    "            'keys_to_append' : ['z', 'bptclass', 'subclass'],\n",
    "            'all': False,\n",
    "        },\n",
    "        'NEDz' : {\n",
    "            'use' : 'catsHTM',\n",
    "            'rs_arcsec' : 10.0,\n",
    "            'keys_to_append' : ['ObjType', 'Velocity', 'z'],\n",
    "        },\n",
    "        'GLADEv23' : {\n",
    "            'use' : 'extcats',\n",
    "            'rs_arcsec' : 10,\n",
    "            'keys_to_append' : ['z', 'dist', 'dist_err', 'flag1', 'flag2', 'flag3'],\n",
    "        },\n",
    "        'LSPhotoZZou' : {\n",
    "            'use' : 'extcats',\n",
    "            'rs_arcsec' : 10.0,\n",
    "            'keys_to_append' : ['photoz','ra','dec','e_photoz','specz','_6','logMassBest','logMassInf','logMassSup'],\n",
    "            'pre_filter' : None,\n",
    "            'post_filter' : None,\n",
    "            'all': False,\n",
    "        },\n",
    "        'wiseScosPhotoz' : {\n",
    "            'use' : 'extcats',\n",
    "            'rs_arcsec' : 10.0,\n",
    "            'keys_to_append' : ['zPhoto_Corr','ra','dec','wiseID','w1mCorr','w2mCorr'],\n",
    "            'pre_filter' : None,\n",
    "            'post_filter' : None,\n",
    "        },\n",
    "        'twoMPZ' : {\n",
    "            'use' : 'extcats',\n",
    "            'rs_arcsec' : 10.0,\n",
    "            'keys_to_append' : ['zPhoto','ra','dec','zSpec'],\n",
    "            'pre_filter' : None,\n",
    "            'post_filter' : None,\n",
    "        },\n",
    "\n",
    "    }\n",
    "}"
   ]
  },
  {
   "cell_type": "code",
   "execution_count": null,
   "id": "62837c3b",
   "metadata": {},
   "outputs": [],
   "source": [
    "# We with to digest available redshift to one used for lightcurve template\n",
    "# the \"Ampel\" z weighs available matches and returns the mean of the most accurate ones (if available)\n",
    "ampelz_conf = {\n",
    "    \"max_redshift_category\" : 6,\n",
    "    \"t2_dependency\": [\n",
    "        {\n",
    "            \"unit\": \"T2CatalogMatch\",\n",
    "            \"config\": cat_conf,\n",
    "            \"link_override\": {\n",
    "                'filter': 'PPSFilter', 'sort': 'jd', \"select\": \"first\"\n",
    "                }\n",
    "        },\n",
    "    ]\n",
    "}"
   ]
  },
  {
   "cell_type": "code",
   "execution_count": null,
   "id": "44d396e4",
   "metadata": {},
   "outputs": [],
   "source": [
    "# Finally, we perform a salt-fit using the aggregated data and the redshift from above\n",
    "sncosmo_conf = {\n",
    "    \"sncosmo_model_name\" : \"salt2\",\n",
    "    \"redshift_kind\" : 'T2DigestRedshifts',\n",
    "    \"max_ampelz_group\" : 7,      # For this purpose we use any available redshift\n",
    "    \"t2_dependency\": [\n",
    "        {\n",
    "            \"unit\": \"T2DigestRedshifts\",\n",
    "            \"config\": ampelz_conf,\n",
    "        },\n",
    "    ], \n",
    "    \"plot_props\": {\n",
    "        \"tags\": [\"SALT\", \"SNCOSMO\"],\n",
    "        \"file_name\": {\n",
    "            \"format_str\": \"%s_%s_%s.svg\",\n",
    "            \"arg_keys\": [\"stock\", \"model\", \"redshift_kind\"]\n",
    "        },\n",
    "        \"title\": {\n",
    "            \"format_str\": \"%s %s %s\",\n",
    "            \"arg_keys\": [\"stock\", \"model\", \"redshift_kind\"]\n",
    "        },\n",
    "        \"fig_text\": {\n",
    "            \"format_str\": \"%s %s \\nz-source %s \\nchisq %.2f ndof %s\",\n",
    "            \"arg_keys\": [\"stock\", \"model\", \"redshift_kind\", \"chisq\", \"ndof\"]\n",
    "        },\n",
    "        \"width\": 10,\n",
    "        \"height\": 6,\n",
    "        \"id_mapper\": \"ZTFIdMapper\",\n",
    "        \"disk_save\": \"/home/jnordin/tmp/ztfsalt\",\n",
    "    }\n",
    "   \n",
    "}"
   ]
  },
  {
   "cell_type": "code",
   "execution_count": null,
   "id": "062107ad",
   "metadata": {},
   "outputs": [],
   "source": [
    "directives = [\n",
    "        {\n",
    "            \"channel\": channel,\n",
    "            \"filter\": {\n",
    "                \"unit\": \"SimpleDecentFilter\",\n",
    "                \"config\": filter_config,\n",
    "                \"on_stock_match\": 'bypass',\n",
    "            },\n",
    "            \"ingest\": {\n",
    "                \"mux\": {\n",
    "                    \"unit\": \"ZiArchiveMuxer\",\n",
    "                    \"config\": {\n",
    "                        \"history_days\": 999,\n",
    "                        \"future_days\": 999\n",
    "                    },\n",
    "                    \"combine\": [\n",
    "                        {\n",
    "                            \"unit\": \"ZiT1Combiner\",\n",
    "                            \"state_t2\": [\n",
    "                                {\n",
    "                                    \"unit\": \"T2DigestRedshifts\",\n",
    "                                    \"config\": ampelz_conf,\n",
    "                                },\n",
    "                                {\n",
    "                                    \"unit\": \"T2RunSncosmo\",\n",
    "                                    \"config\": sncosmo_conf,\n",
    "                                },\n",
    "                            ]\n",
    "                        }\n",
    "                    ],\n",
    "                    \"insert\": {\n",
    "                        \"point_t2\": [\n",
    "                            {\n",
    "                                'unit': 'T2CatalogMatch',\n",
    "                                'config': cat_conf,\n",
    "                                \"ingest\": {\n",
    "                                    'filter': 'PPSFilter', 'sort': 'jd', 'select': 'first'\n",
    "                                }\n",
    "                            },\n",
    "                        ],\n",
    "                    }\n",
    "\n",
    "                }\n",
    "            }\n",
    "        }\n",
    "    ]"
   ]
  },
  {
   "cell_type": "code",
   "execution_count": null,
   "id": "aa341787",
   "metadata": {},
   "outputs": [],
   "source": [
    "ac = ctx.new_context_unit(\n",
    "    unit = \"AlertConsumer\",\n",
    "    process_name = \"AP_test\",\n",
    "    iter_max = ITER_MAX,\n",
    "    log_profile = os.environ.get('log_profile', 'debug'),\n",
    "    shaper = \"ZiDataPointShaper\",\n",
    "    compiler_opts = \"ZiCompilerOptions\",\n",
    "    supplier = {\n",
    "        \"unit\": \"ZiAlertSupplier\",\n",
    "        'config': {\n",
    "            'deserialize': None,\n",
    "            'loader': {\n",
    "                'unit': 'ZTFArchiveAlertLoader',\n",
    "                'config': loader_config\n",
    "            }\n",
    "        }\n",
    "    },\n",
    "    directives = directives\n",
    ")\n"
   ]
  },
  {
   "cell_type": "code",
   "execution_count": null,
   "id": "75650ff7",
   "metadata": {},
   "outputs": [],
   "source": [
    "n = ac.run()"
   ]
  },
  {
   "cell_type": "code",
   "execution_count": null,
   "id": "ae825934",
   "metadata": {},
   "outputs": [],
   "source": [
    "print(f\"{n} alerts processed for channel {channel}\")"
   ]
  },
  {
   "cell_type": "code",
   "execution_count": null,
   "id": "4154d0ed",
   "metadata": {},
   "outputs": [],
   "source": [
    "badsfasdf"
   ]
  },
  {
   "cell_type": "code",
   "execution_count": null,
   "id": "f08b8043",
   "metadata": {},
   "outputs": [],
   "source": [
    "t2w = ctx.new_context_unit(\n",
    "    unit = 'T2Worker',\n",
    "    process_name = 'T2Processor_test',\n",
    "    log_profile = os.environ.get('log_profile', 'default')\n",
    ")"
   ]
  },
  {
   "cell_type": "code",
   "execution_count": null,
   "id": "b7e92bba",
   "metadata": {},
   "outputs": [],
   "source": [
    "t2w.run()"
   ]
  },
  {
   "cell_type": "code",
   "execution_count": null,
   "id": "22c8e3f5",
   "metadata": {},
   "outputs": [],
   "source": [
    "table_config =  {\n",
    "                                        'table_schema' : {\n",
    "                                            'T2DigestRedshifts': {\n",
    "                                                'Ampel z' : ['ampel_z'],\n",
    "                                                'Ampel z group' : ['group_z_nbr'],\n",
    "                                            },\n",
    "                                            'T2RunSncosmo' : {\n",
    "                                                'Peak brightness (abs mag)' : ['fit_metrics','restpeak_model_absmag_B'],\n",
    "                                                'SALT2 X1' : ['sncosmo_result','paramdict','x1'],\n",
    "                                                'SALT2 X1 (err)' : ['sncosmo_result','errors','x1'],\n",
    "                                                'SALT2 Color' : ['sncosmo_result','paramdict','c'],\n",
    "                                                'SALT2 Color (err)' : ['sncosmo_result','errors','c'],\n",
    "                                                'Pulls around peak' : ['fit_metrics','absmean_peak_pull'],\n",
    "                                                'Det. around peak' : ['fit_metrics','nbr_peak_pulls'],\n",
    "                                            },\n",
    "                                        },\n",
    "                                        'transient_table_schema' : {\n",
    "                                            'T2CatalogMatch': {\n",
    "                                                'SDSS spec z' : ['SDSS_spec','z'],\n",
    "                                                \"NED z\" : ['NEDz','z'],\n",
    "                                                \"NED dist\" : ['NEDz','dist2transient'],\n",
    "                                                \"Glade z\" : ['GLADEv23','z'],\n",
    "                                                \"LS_Zou Photo-z\": ['LSPhotoZZou','photoz'],\n",
    "                                                \"LS_Zou dist\": ['LSPhotoZZou','dist2transient'],\n",
    "                                                \"WiseCos Photo-z\": ['wiseScosPhotoz','zPhoto_Corr'],\n",
    "                                                \"WiseCos dist\": ['wiseScosPhotoz','dist2transient'],\n",
    "                                            },\n",
    "                                        },\n",
    "                                        'include_stock' : True,\n",
    "                                        'include_channels' : True,\n",
    "                                        'fmt' : 'csv',\n",
    "                                        'local_path' : '/home/jnordin/tmp'\n",
    "                                    }"
   ]
  },
  {
   "cell_type": "code",
   "execution_count": null,
   "id": "b477b980",
   "metadata": {},
   "outputs": [],
   "source": [
    "t2_filter =  {'all_of':\n",
    "              [\n",
    "                {\n",
    "                    'unit': 'T2DigestRedshifts',\n",
    "                    'match': {\n",
    "                        'ampel_z': {\"$lt\":2.6},\n",
    "                        'group_z_nbr': {\"$lt\":7},\n",
    "                    }\n",
    "                },\n",
    "             ]\n",
    "    }"
   ]
  },
  {
   "cell_type": "code",
   "execution_count": null,
   "id": "b3eec499",
   "metadata": {},
   "outputs": [],
   "source": [
    "t3p = ctx.new_context_unit(\n",
    "    process_name = \"LensPrint\",\n",
    "    unit = \"T3Processor\",\n",
    "    execute = [\n",
    "        {\n",
    "            \"unit\": \"T3ReviewUnitExecutor\",\n",
    "            \"config\": {\n",
    "                \"supply\": {\n",
    "                    \"unit\": \"T3DefaultBufferSupplier\",\n",
    "                    \"config\": {\n",
    "                        \"select\": {\n",
    "                            \"unit\": \"T3StockSelector\",\n",
    "                            \"config\": {\"channel\": channel}\n",
    "                        },\n",
    "                        \"load\": {\n",
    "                            \"unit\": \"T3SimpleDataLoader\",\n",
    "                            \"config\": {\n",
    "                                \"directives\": [\"STOCK\", \"T1\", \"T2DOC\"],\n",
    "                                \"channel\": channel\n",
    "                            }\n",
    "                        }\n",
    "                     }\n",
    "                },\n",
    "                \"stage\" : {\n",
    "                    \"unit\": \"T3SimpleStager\",\n",
    "                    \"config\": {\n",
    "                        \"execute\": [\n",
    "                            {\n",
    "                                \"unit\": \"TransientTablePublisher\",\n",
    "                                \"config\": table_config\n",
    "                            }\n",
    "                        ]\n",
    "                    }\n",
    "                }\n",
    "            }\n",
    "        }\n",
    "    ]\n",
    ")"
   ]
  },
  {
   "cell_type": "code",
   "execution_count": null,
   "id": "62941364",
   "metadata": {},
   "outputs": [],
   "source": [
    "t3p.run()"
   ]
  },
  {
   "cell_type": "code",
   "execution_count": null,
   "id": "edf4056c",
   "metadata": {},
   "outputs": [],
   "source": []
  }
 ],
 "metadata": {
  "kernelspec": {
   "display_name": "Python 3 (ipykernel)",
   "language": "python",
   "name": "python3"
  },
  "language_info": {
   "codemirror_mode": {
    "name": "ipython",
    "version": 3
   },
   "file_extension": ".py",
   "mimetype": "text/x-python",
   "name": "python",
   "nbconvert_exporter": "python",
   "pygments_lexer": "ipython3",
   "version": "3.9.7"
  }
 },
 "nbformat": 4,
 "nbformat_minor": 5
}
