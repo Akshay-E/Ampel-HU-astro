{
 "cells": [
  {
   "cell_type": "markdown",
   "id": "43827f56",
   "metadata": {},
   "source": [
    "First steps towards a sample of spec/photometric Ias. \n",
    "\n",
    "Final goal will be to have saltfits (based on both bts, ampel-spec and ampel-photo z), host dist/mass (LS?) and BTS type for a large sample.\n",
    "\n",
    "Steps:\n",
    "* Create a filter query and process candidates. (this notebook)\n",
    "* Run a bunch of T2s (next).\n",
    "\n",
    "\n",
    "Q1: How long does it take to process one week of alerts? (and how many do that end up being)\n",
    "Roughly started at 14.40 Let it run to 15.30. At that time roughly a third of ~15000 chunks were processed. Saved O(200) transients. Seems very inefficient, since the same transients can be processed many times. The token request goes faster, but it seems like the field based works \"fast enough\".\n",
    "\n",
    "Q2: How long does it take to process one field? Started roughly 15.30. Took ~15 min for the token to yield alerts. Ended up with ~150 chunks. This took ~20 min to process and led to 80 saved candidates. O(800) T2 tickets created. This processing started ~16.10. \n",
    "\n",
    "Conclusion: we will go through each field (as many as possible) and try to parse data and run t2s in parallel. "
   ]
  },
  {
   "cell_type": "code",
   "execution_count": null,
   "id": "7d2ea3dd",
   "metadata": {},
   "outputs": [],
   "source": [
    "dbname = 'allIa'"
   ]
  },
  {
   "cell_type": "code",
   "execution_count": null,
   "id": "2e1e53d4",
   "metadata": {},
   "outputs": [],
   "source": [
    "import sys, os\n",
    "import requests"
   ]
  },
  {
   "cell_type": "code",
   "execution_count": null,
   "id": "9f65a940",
   "metadata": {},
   "outputs": [],
   "source": [
    "from ampel.secret.AmpelVault import AmpelVault\n",
    "from ampel.secret.DictSecretProvider import DictSecretProvider\n",
    "from ampel.dev.DevAmpelContext import DevAmpelContext"
   ]
  },
  {
   "cell_type": "code",
   "execution_count": null,
   "id": "241454f0",
   "metadata": {},
   "outputs": [],
   "source": [
    "# Create a secret vault\n",
    "secrets = { 'slack/ztf_general/jno': os.environ[\"SNIaSLACK\"],\n",
    "                              'mongo/logger':{},\n",
    "                              'mongo/writer':{},\n",
    "                              'extcats/reader':{},\n",
    "            'ztf/archive/auth' : {'user' : '', 'password' : ''},\n",
    "            'datalab/pwd':os.environ[\"DATALABPWD\"],\n",
    "            \"desycloud\" : {},\n",
    "            \"ztf/archive/token\": os.environ[\"ARCHIVE_TOKEN\"],\n",
    "          }\n",
    "vault = AmpelVault([DictSecretProvider(secrets)])"
   ]
  },
  {
   "cell_type": "code",
   "execution_count": null,
   "id": "0c05a781",
   "metadata": {},
   "outputs": [],
   "source": [
    "AMPEL_CONF = '/home/jnordin/github/ampel82/ampel_conf_630434.yaml'"
   ]
  },
  {
   "cell_type": "code",
   "execution_count": null,
   "id": "13471b29",
   "metadata": {},
   "outputs": [],
   "source": [
    "ctx = DevAmpelContext.load(\n",
    "    config = AMPEL_CONF,\n",
    "    db_prefix = dbname,\n",
    "    purge_db = False,\n",
    "    vault = vault\n",
    ")"
   ]
  },
  {
   "cell_type": "code",
   "execution_count": null,
   "id": "f08b8043",
   "metadata": {},
   "outputs": [],
   "source": [
    "t2w = ctx.new_context_unit(\n",
    "    unit = 'T2Worker',\n",
    "    process_name = 'T2Processor_7',\n",
    "    log_profile = os.environ.get('log_profile', 'default')\n",
    ")"
   ]
  },
  {
   "cell_type": "code",
   "execution_count": null,
   "id": "b7e92bba",
   "metadata": {},
   "outputs": [],
   "source": [
    "t2w.run()"
   ]
  },
  {
   "cell_type": "code",
   "execution_count": null,
   "id": "7d7d4c61",
   "metadata": {},
   "outputs": [],
   "source": []
  }
 ],
 "metadata": {
  "kernelspec": {
   "display_name": "Python 3 (ipykernel)",
   "language": "python",
   "name": "python3"
  },
  "language_info": {
   "codemirror_mode": {
    "name": "ipython",
    "version": 3
   },
   "file_extension": ".py",
   "mimetype": "text/x-python",
   "name": "python",
   "nbconvert_exporter": "python",
   "pygments_lexer": "ipython3",
   "version": "3.9.7"
  }
 },
 "nbformat": 4,
 "nbformat_minor": 5
}
