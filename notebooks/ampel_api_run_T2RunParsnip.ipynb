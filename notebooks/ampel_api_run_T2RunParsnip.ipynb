{
 "cells": [
  {
   "cell_type": "markdown",
   "id": "independent-detail",
   "metadata": {},
   "source": [
    "Notebook which will:\n",
    "- Obtain alert photometry for named SN and convert to AMPEL LightCurve object.\n",
    "- Match with catalogs from the DESY match service.\n",
    "- Carry out a model fit using T2Parsnip"
   ]
  },
  {
   "cell_type": "code",
   "execution_count": null,
   "id": "pursuant-luxury",
   "metadata": {},
   "outputs": [],
   "source": [
    "import pandas as pd\n",
    "import requests, os, time\n",
    "from requests.auth import HTTPBasicAuth\n",
    "import numpy as np\n",
    "import matplotlib.pyplot as plt\n",
    "#import lcdata\n",
    "from astropy.table import Table\n",
    "from IPython.core.display import Image, display"
   ]
  },
  {
   "cell_type": "code",
   "execution_count": null,
   "id": "7a5e9c9f",
   "metadata": {},
   "outputs": [],
   "source": [
    "import ampel_quick_import"
   ]
  },
  {
   "cell_type": "code",
   "execution_count": null,
   "id": "artistic-nelson",
   "metadata": {},
   "outputs": [],
   "source": [
    "%qi AmpelLogger ZTFIdMapper ZiDataPointShaper T1Document LightCurve T2RunParsnip"
   ]
  },
  {
   "cell_type": "code",
   "execution_count": null,
   "id": "e7656d26",
   "metadata": {},
   "outputs": [],
   "source": [
    "snname = \"ZTF20aaumsrr\"\n",
    "token = os.environ[\"ARCHIVE_TOKEN\"]\n",
    "logger = AmpelLogger.get_logger()"
   ]
  },
  {
   "cell_type": "code",
   "execution_count": null,
   "id": "48a9f580",
   "metadata": {},
   "outputs": [],
   "source": [
    "def api_to_lightcurve(name, token, shaper=None):\n",
    "    \"\"\"\n",
    "    Retrieve the alert history of a SN and convert to LightCurve\n",
    "    \n",
    "    \"\"\"\n",
    "    \n",
    "    # Setup connection\n",
    "    endpoint = \"https://ampel.zeuthen.desy.de/api/ztf/archive/v3/object/{}/photopoints\".format(name)\n",
    "    header = {\"Authorization\": \"bearer \"+token}\n",
    "\n",
    "    response = requests.get(endpoint, headers=header )\n",
    "    \n",
    "    if not response.ok:\n",
    "        print('... failed to get alert')\n",
    "        return None\n",
    "    \n",
    "    # Convert\n",
    "    alert = response.json()\n",
    "    if alert is None:\n",
    "        print(' ... no alert content')\n",
    "        return None\n",
    "    \n",
    "    pps = [alert['candidate']]\n",
    "    pps.extend( [prv_cand for prv_cand in alert['prv_candidates'] ] )\n",
    "\n",
    "    if shaper is None:\n",
    "        tmplog = AmpelLogger.get_logger()\n",
    "        shaper = ZiDataPointShaper(logger=tmplog)\n",
    "    \n",
    "    stockId = ZTFIdMapper.to_ampel_id(name)\n",
    "    dps = shaper.process( pps, stockId)\n",
    "    t1d = T1Document(stock=stockId, link=0)\n",
    "    return LightCurve.build(t1d, dps)"
   ]
  },
  {
   "cell_type": "code",
   "execution_count": null,
   "id": "vietnamese-singapore",
   "metadata": {
    "scrolled": true
   },
   "outputs": [],
   "source": [
    "lc = api_to_lightcurve(snname, token=token)"
   ]
  },
  {
   "cell_type": "markdown",
   "id": "ed1ed48c",
   "metadata": {},
   "source": [
    "I. Run Parsnip using a single fixed redshift. Note that in live processing redshifts are  dynamically provied through chaining to the DigestRedshift unit. See T2RunSncosmo for demo on how to first search catalogs. "
   ]
  },
  {
   "cell_type": "code",
   "execution_count": null,
   "id": "f00e6429",
   "metadata": {},
   "outputs": [],
   "source": [
    "parsnip_config = {\n",
    "    'parsnip_model':'/home/jnordin/data/parsnip/parsnip_ps1_ztf.pt', \n",
    "    'parsnip_classifier':'/home/jnordin/data/parsnip/ztf_classifier.pkl', \n",
    "    'fixed_z' : 0.1,\n",
    "    't2_dependency': [],\n",
    "    'plot_suffix': 'png',\n",
    "    'plot_dir': '/home/jnordin/tmp',\n",
    "    'apply_mwcorrection': True,\n",
    "}"
   ]
  },
  {
   "cell_type": "code",
   "execution_count": null,
   "id": "80ef447b",
   "metadata": {},
   "outputs": [],
   "source": [
    "t2parsnip = T2RunParsnip( **parsnip_config, logger=logger)"
   ]
  },
  {
   "cell_type": "code",
   "execution_count": null,
   "id": "118f2e8d",
   "metadata": {},
   "outputs": [],
   "source": [
    "t2parsnip.post_init()"
   ]
  },
  {
   "cell_type": "code",
   "execution_count": null,
   "id": "476cacf5",
   "metadata": {
    "scrolled": true
   },
   "outputs": [],
   "source": [
    "parsnip_out = t2parsnip.process(lc, t2_views=[])"
   ]
  },
  {
   "cell_type": "code",
   "execution_count": null,
   "id": "4b0e0337",
   "metadata": {},
   "outputs": [],
   "source": [
    "parsnip_out"
   ]
  },
  {
   "cell_type": "code",
   "execution_count": null,
   "id": "04b59e30",
   "metadata": {},
   "outputs": [],
   "source": [
    "fname = \"{}/t2parsnip_{}.{}\".format(parsnip_config['plot_dir'],snname,parsnip_config['plot_suffix']) \n",
    "print(fname)"
   ]
  },
  {
   "cell_type": "code",
   "execution_count": null,
   "id": "98629856",
   "metadata": {},
   "outputs": [],
   "source": [
    "display(Image(filename=fname))"
   ]
  },
  {
   "cell_type": "markdown",
   "id": "9de425b5",
   "metadata": {},
   "source": [
    "II. Run Parsnip using a list of fixed redshifts. The individual results will be found in the output, together with marginalized results as well as the one for the min chi2/dof. "
   ]
  },
  {
   "cell_type": "code",
   "execution_count": null,
   "id": "572202d9",
   "metadata": {},
   "outputs": [],
   "source": [
    "parsnip_config = {\n",
    "    'parsnip_model':'/home/jnordin/data/parsnip/parsnip_ps1_ztf.pt', \n",
    "    'parsnip_classifier':'/home/jnordin/data/parsnip/ztf_classifier.pkl', \n",
    "    'fixed_z' : [0.03, 0.07, 0.1,0.15, 0.2,0.3],\n",
    "    't2_dependency': [],\n",
    "    'plot_suffix': 'png',\n",
    "    'plot_dir': '/home/jnordin/tmp',\n",
    "    'apply_mwcorrection': True,\n",
    "}"
   ]
  },
  {
   "cell_type": "code",
   "execution_count": null,
   "id": "c7888eb5",
   "metadata": {},
   "outputs": [],
   "source": [
    "t2parsnip = T2RunParsnip( **parsnip_config, logger=logger)"
   ]
  },
  {
   "cell_type": "code",
   "execution_count": null,
   "id": "040582a9",
   "metadata": {},
   "outputs": [],
   "source": [
    "t2parsnip.post_init()"
   ]
  },
  {
   "cell_type": "code",
   "execution_count": null,
   "id": "cbd087b4",
   "metadata": {},
   "outputs": [],
   "source": [
    "parsnip_out = t2parsnip.process(lc, t2_views=[]) "
   ]
  },
  {
   "cell_type": "code",
   "execution_count": null,
   "id": "276525a2",
   "metadata": {},
   "outputs": [],
   "source": [
    "display(Image(filename=fname))"
   ]
  },
  {
   "cell_type": "code",
   "execution_count": null,
   "id": "aa9712d4",
   "metadata": {},
   "outputs": [],
   "source": [
    "parsnip_out"
   ]
  }
 ],
 "metadata": {
  "kernelspec": {
   "display_name": "Python 3 (ipykernel)",
   "language": "python",
   "name": "python3"
  },
  "language_info": {
   "codemirror_mode": {
    "name": "ipython",
    "version": 3
   },
   "file_extension": ".py",
   "mimetype": "text/x-python",
   "name": "python",
   "nbconvert_exporter": "python",
   "pygments_lexer": "ipython3",
   "version": "3.9.7"
  }
 },
 "nbformat": 4,
 "nbformat_minor": 5
}
