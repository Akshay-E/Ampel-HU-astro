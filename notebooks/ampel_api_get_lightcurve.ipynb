{
 "cells": [
  {
   "cell_type": "markdown",
   "id": "independent-detail",
   "metadata": {},
   "source": [
    "Notebook which will:\n",
    "- Obtain alert photometry for named SN and convert to AMPEL LightCurve object.\n",
    "- Match with catalogs from the DESY match service."
   ]
  },
  {
   "cell_type": "code",
   "execution_count": null,
   "id": "e7656d26",
   "metadata": {},
   "outputs": [],
   "source": [
    "# Access to the AMPEL data archive assumes an individual *archive token* which can be obtained from \n",
    "# https://ampel.zeuthen.desy.de/live/dashboard/tokens\n",
    "# This currently builds on GitHub authorization for AmpelProject members.\n",
    "token = \"\""
   ]
  },
  {
   "cell_type": "code",
   "execution_count": null,
   "id": "4bfa250d",
   "metadata": {},
   "outputs": [],
   "source": [
    "# Name of ZTF objects to lookup\n",
    "snname = \"ZTF22aabjpxh\""
   ]
  },
  {
   "cell_type": "code",
   "execution_count": null,
   "id": "pursuant-luxury",
   "metadata": {},
   "outputs": [],
   "source": [
    "import requests\n",
    "from ampel.log.AmpelLogger import AmpelLogger\n",
    "from ampel.ztf.util.ZTFIdMapper import ZTFIdMapper\n",
    "from ampel.ztf.ingest.ZiDataPointShaper import ZiDataPointShaper\n",
    "from ampel.content.T1Document import T1Document\n",
    "from ampel.view.LightCurve import LightCurve\n",
    "from ampel.ztf.t2.T2CatalogMatch import T2CatalogMatch"
   ]
  },
  {
   "cell_type": "code",
   "execution_count": null,
   "id": "48a9f580",
   "metadata": {},
   "outputs": [],
   "source": [
    "def api_to_lightcurve(name, token, shaper=None):\n",
    "    \"\"\"\n",
    "    Retrieve the alert history of a SN and convert to LightCurve\n",
    "    \n",
    "    \"\"\"\n",
    "    \n",
    "    # Setup connection\n",
    "    endpoint = \"https://ampel.zeuthen.desy.de/api/ztf/archive/v3/object/{}/photopoints\".format(name)\n",
    "    header = {\"Authorization\": \"bearer \"+token}\n",
    "\n",
    "    response = requests.get(endpoint, headers=header )\n",
    "    \n",
    "    if not response.ok:\n",
    "        print('... failed to get alert')\n",
    "        return None\n",
    "    \n",
    "    # Convert\n",
    "    alert = response.json()\n",
    "    if alert is None:\n",
    "        print(' ... no alert content')\n",
    "        return None\n",
    "    \n",
    "    pps = [alert['candidate']]\n",
    "    pps.extend( [prv_cand for prv_cand in alert['prv_candidates'] ] )\n",
    "\n",
    "    if shaper is None:\n",
    "        tmplog = AmpelLogger.get_logger()\n",
    "        shaper = ZiDataPointShaper(logger=tmplog)\n",
    "    \n",
    "    stockId = ZTFIdMapper.to_ampel_id(name)\n",
    "    dps = shaper.process( pps, stockId)\n",
    "    t1d = T1Document(stock=stockId, link=0)\n",
    "    return LightCurve.build(t1d, dps)"
   ]
  },
  {
   "cell_type": "code",
   "execution_count": null,
   "id": "vietnamese-singapore",
   "metadata": {
    "scrolled": true
   },
   "outputs": [],
   "source": [
    "lc = api_to_lightcurve(snname, token)"
   ]
  },
  {
   "cell_type": "code",
   "execution_count": null,
   "id": "e251a1c3",
   "metadata": {},
   "outputs": [],
   "source": [
    "# The returned data has been shifted to a LightCurve view, the representation of a series of photometry\n",
    "# available to e.g. T2 units in AMPEL. For more info:\n",
    "# https://github.com/AmpelProject/Ampel-photometry/blob/master/ampel/view/LightCurve.py\n",
    "# For example, to return the date, magnitue and magnitude error in the ZTF r filter (fid=2):\n",
    "lc.get_ntuples([\"jd\", \"magpsf\", \"sigmapsf\"], {'attribute': 'fid', 'operator': '==', 'value': 2})"
   ]
  },
  {
   "cell_type": "markdown",
   "id": "1efbaccf",
   "metadata": {},
   "source": [
    "We will additionally use the online catalog matching service to check for information in NED."
   ]
  },
  {
   "cell_type": "code",
   "execution_count": null,
   "id": "02d62fcc",
   "metadata": {},
   "outputs": [],
   "source": [
    "# Match to the DESY ned copy\n",
    "catconfig = {\n",
    "        'NEDz' : {\n",
    "            'use' : 'catsHTM',\n",
    "            'rs_arcsec' : 10.0,\n",
    "            'keys_to_append' : ['ObjType', 'Velocity', 'z'],\n",
    "        }, }"
   ]
  },
  {
   "cell_type": "code",
   "execution_count": null,
   "id": "8346187c",
   "metadata": {},
   "outputs": [],
   "source": [
    "# Initalize\n",
    "logger = AmpelLogger.get_logger()\n",
    "t2cat = T2CatalogMatch( catalogs = catconfig,\n",
    "    resource = {\"ampel-ztf/catalogmatch\":'https://ampel.zeuthen.desy.de/api/catalogmatch/'},\n",
    "    logger=logger)"
   ]
  },
  {
   "cell_type": "code",
   "execution_count": null,
   "id": "57df8433",
   "metadata": {},
   "outputs": [],
   "source": [
    "# Get a photopoint from which to get coordinates \n",
    "t2cat_out = t2cat.process(lc.photopoints[0])"
   ]
  },
  {
   "cell_type": "code",
   "execution_count": null,
   "id": "c229e150",
   "metadata": {},
   "outputs": [],
   "source": [
    "t2cat_out"
   ]
  }
 ],
 "metadata": {
  "kernelspec": {
   "display_name": "Python 3 (ipykernel)",
   "language": "python",
   "name": "python3"
  },
  "language_info": {
   "codemirror_mode": {
    "name": "ipython",
    "version": 3
   },
   "file_extension": ".py",
   "mimetype": "text/x-python",
   "name": "python",
   "nbconvert_exporter": "python",
   "pygments_lexer": "ipython3",
   "version": "3.9.7"
  }
 },
 "nbformat": 4,
 "nbformat_minor": 5
}
