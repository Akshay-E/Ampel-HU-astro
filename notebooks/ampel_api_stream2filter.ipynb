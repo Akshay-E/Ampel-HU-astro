{
 "cells": [
  {
   "cell_type": "markdown",
   "id": "4fd252ee",
   "metadata": {},
   "source": [
    "This notebook shows how to retreieve alerts belonging to either a topic (permanent) or query (temporary) archive token. The alerts are then propagated to a sample T0 filter unit."
   ]
  },
  {
   "cell_type": "code",
   "execution_count": null,
   "id": "cc4d474e",
   "metadata": {},
   "outputs": [],
   "source": [
    "import requests, os"
   ]
  },
  {
   "cell_type": "code",
   "execution_count": null,
   "id": "2304d7c2",
   "metadata": {},
   "outputs": [],
   "source": [
    "token = os.environ[\"ARCHIVE_TOKEN\"]\n",
    "header = {\"Authorization\": \"bearer \"+token}\n",
    "base_url = 'https://ampel.zeuthen.desy.de/api/ztf/archive/v3'\n",
    "from ampel.log.AmpelLogger import AmpelLogger\n",
    "from ampel.contrib.hu.t0.SimpleDecentFilter import SimpleDecentFilter\n",
    "from ampel.ztf.t0.load.ZTFArchiveAlertLoader import ZTFArchiveAlertLoader\n",
    "from ampel.ztf.alert.ZiAlertSupplier import ZiAlertSupplier"
   ]
  },
  {
   "cell_type": "markdown",
   "id": "cfdc6606",
   "metadata": {},
   "source": [
    "### 1. Using a query token\n",
    "In this case a _resume token_ has been produced (and not consumed) e.g. as in `ampel_api_alertquery.ipynb`. "
   ]
  },
  {
   "cell_type": "code",
   "execution_count": null,
   "id": "0c6687b3",
   "metadata": {},
   "outputs": [],
   "source": [
    "# Copy from query\n",
    "resume_token = ''\n",
    "# Skip to Sec 3."
   ]
  },
  {
   "cell_type": "markdown",
   "id": "44ce4d6d",
   "metadata": {},
   "source": [
    "### 2. Using a topic token\n",
    "These are permanent pointers to list of alerts. Here we will first create a stream from this list. "
   ]
  },
  {
   "cell_type": "code",
   "execution_count": null,
   "id": "03ec613f",
   "metadata": {},
   "outputs": [],
   "source": [
    "# This is a token e.g. from api_create_topic.ipynb\n",
    "topic_token = 'IbuZVkaJsYXFtuzuO15LHwGBpB4O3RLJTNvKZI2D-88'"
   ]
  },
  {
   "cell_type": "code",
   "execution_count": null,
   "id": "4923689e",
   "metadata": {},
   "outputs": [],
   "source": [
    "body = {\n",
    "    \"topic\": topic_token, \n",
    "    \"chunk_size\": 100\n",
    "}"
   ]
  },
  {
   "cell_type": "code",
   "execution_count": null,
   "id": "2b1112c2",
   "metadata": {},
   "outputs": [],
   "source": [
    "response = requests.post(f\"{base_url}/streams/from_topic\", headers={\"Authorization\": \"bearer \"+token}, json=body )"
   ]
  },
  {
   "cell_type": "code",
   "execution_count": null,
   "id": "239c908c",
   "metadata": {},
   "outputs": [],
   "source": [
    "if not response.ok:\n",
    "    print('Accessing stream from topic not successful')\n",
    "    print(response)"
   ]
  },
  {
   "cell_type": "code",
   "execution_count": null,
   "id": "6f04137c",
   "metadata": {},
   "outputs": [],
   "source": [
    "resume_token = response.json()['resume_token']"
   ]
  },
  {
   "cell_type": "markdown",
   "id": "b8c06b91",
   "metadata": {},
   "source": [
    "### 3. Configure and load a filter"
   ]
  },
  {
   "cell_type": "code",
   "execution_count": null,
   "id": "3d6e98ab",
   "metadata": {},
   "outputs": [],
   "source": [
    "filter_config = {\n",
    "    'min_ndet': 1,\n",
    "    'min_tspan': 0,\n",
    "    'max_tspan': 50,\n",
    "    'min_archive_tspan': 0,\n",
    "    'max_archive_tspan': 500,    \n",
    "    'min_rb': 0.3,\n",
    "    'min_drb': 0.995,\n",
    "    'max_fwhm': 5.5,\n",
    "    'min_gal_lat': 14,\n",
    "    'ps1_sgveto_rad': 1,\n",
    "    'ps1_sgveto_th': 0.8,\n",
    "    'ps1_confusion_rad': 3,\n",
    "    'ps1_confusion_sg_tol': 0.1\n",
    "}"
   ]
  },
  {
   "cell_type": "code",
   "execution_count": null,
   "id": "badad062",
   "metadata": {},
   "outputs": [],
   "source": [
    "t0filter = SimpleDecentFilter( **filter_config, logger=AmpelLogger.get_logger() )\n",
    "t0filter.post_init()"
   ]
  },
  {
   "cell_type": "markdown",
   "id": "dd513027",
   "metadata": {},
   "source": [
    "### 4. Iterate through filters from the stream, checking whether the filter would accept them"
   ]
  },
  {
   "cell_type": "code",
   "execution_count": null,
   "id": "dd3e88d8",
   "metadata": {},
   "outputs": [],
   "source": [
    "config = {'archive':\"https://ampel.zeuthen.desy.de/api/ztf/archive/v3\", \n",
    "          \"stream\": resume_token}   # From above"
   ]
  },
  {
   "cell_type": "code",
   "execution_count": null,
   "id": "a52fae8c",
   "metadata": {},
   "outputs": [],
   "source": [
    "alertloader = ZTFArchiveAlertLoader(**config)"
   ]
  },
  {
   "cell_type": "code",
   "execution_count": null,
   "id": "fb2a7a9b",
   "metadata": {},
   "outputs": [],
   "source": [
    "for alert in alertloader.get_alerts():\n",
    "    print(alert)\n",
    "    filter_accept = t0filter.process( ZiAlertSupplier.shape_alert_dict( alert, [] ) )\n",
    "    print(alert['candid'], alert['objectId'], alert['candidate']['jd'], filter_accept)"
   ]
  },
  {
   "cell_type": "code",
   "execution_count": null,
   "id": "e7ccc97a",
   "metadata": {},
   "outputs": [],
   "source": []
  }
 ],
 "metadata": {
  "kernelspec": {
   "display_name": "Python 3 (ipykernel)",
   "language": "python",
   "name": "python3"
  },
  "language_info": {
   "codemirror_mode": {
    "name": "ipython",
    "version": 3
   },
   "file_extension": ".py",
   "mimetype": "text/x-python",
   "name": "python",
   "nbconvert_exporter": "python",
   "pygments_lexer": "ipython3",
   "version": "3.9.12"
  }
 },
 "nbformat": 4,
 "nbformat_minor": 5
}
