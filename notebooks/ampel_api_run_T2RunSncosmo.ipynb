{
 "cells": [
  {
   "cell_type": "markdown",
   "id": "independent-detail",
   "metadata": {},
   "source": [
    "Notebook which will:\n",
    "- Obtain alert photometry for named SN and convert to AMPEL LightCurve object.\n",
    "- Match with catalogs from the DESY match service.\n",
    "- Carry out an SNCosmo fit using the T2RunSncosmo unit."
   ]
  },
  {
   "cell_type": "code",
   "execution_count": null,
   "id": "pursuant-luxury",
   "metadata": {},
   "outputs": [],
   "source": [
    "import pandas as pd\n",
    "import requests, os, time\n",
    "from requests.auth import HTTPBasicAuth\n",
    "import numpy as np\n",
    "import matplotlib.pyplot as plt\n",
    "#import lcdata\n",
    "from astropy.table import Table\n",
    "from IPython.core.display import Image, display"
   ]
  },
  {
   "cell_type": "code",
   "execution_count": null,
   "id": "7a5e9c9f",
   "metadata": {},
   "outputs": [],
   "source": [
    "import ampel_quick_import"
   ]
  },
  {
   "cell_type": "code",
   "execution_count": null,
   "id": "artistic-nelson",
   "metadata": {},
   "outputs": [],
   "source": [
    "%qi AmpelLogger ZTFIdMapper ZiDataPointShaper T1Document LightCurve T2CatalogMatch T2RunSncosmo \n",
    "#     T2RunSncosmo T2DocView "
   ]
  },
  {
   "cell_type": "code",
   "execution_count": null,
   "id": "e7656d26",
   "metadata": {},
   "outputs": [],
   "source": [
    "snname = \"ZTF20abfadbm\"\n",
    "desy_archive_user = \"\"  # Add username \n",
    "desy_archive_pwd = \"\"   # Add pwd"
   ]
  },
  {
   "cell_type": "code",
   "execution_count": null,
   "id": "48a9f580",
   "metadata": {},
   "outputs": [],
   "source": [
    "def api_to_lightcurve(name, archive_user, archive_pw, shaper=None):\n",
    "    \"\"\"\n",
    "    Retrieve the alert history of a SN and convert to LightCurve\n",
    "    \n",
    "    \"\"\"\n",
    "    \n",
    "    # Setup connection\n",
    "    endpoint = \"https://ampel.zeuthen.desy.de/api/ztf/archive/object/{}/photopoints\".format(name)\n",
    "    auth = HTTPBasicAuth(archive_user, archive_pw)\n",
    "    response = requests.get(endpoint, auth=auth )\n",
    "    \n",
    "    if not response.ok:\n",
    "        print('... failed to get alert')\n",
    "        return None\n",
    "    \n",
    "    # Convert\n",
    "    alert = response.json()\n",
    "    if alert is None:\n",
    "        print(' ... no alert content')\n",
    "        return None\n",
    "    \n",
    "    pps = [alert['candidate']]\n",
    "    pps.extend( [prv_cand for prv_cand in alert['prv_candidates'] ] )\n",
    "\n",
    "    if shaper is None:\n",
    "        tmplog = AmpelLogger.get_logger()\n",
    "        shaper = ZiDataPointShaper(logger=tmplog)\n",
    "    \n",
    "    stockId = ZTFIdMapper.to_ampel_id(name)\n",
    "    dps = shaper.process( pps, stockId)\n",
    "    t1d = T1Document(stock=stockId, link=0)\n",
    "    return LightCurve.build(t1d, dps)"
   ]
  },
  {
   "cell_type": "code",
   "execution_count": null,
   "id": "vietnamese-singapore",
   "metadata": {
    "scrolled": true
   },
   "outputs": [],
   "source": [
    "lc = api_to_lightcurve(snname, desy_archive_user, desy_archive_pwd)"
   ]
  },
  {
   "cell_type": "markdown",
   "id": "1efbaccf",
   "metadata": {},
   "source": [
    "I. Make a catalog match to get a redshift."
   ]
  },
  {
   "cell_type": "code",
   "execution_count": null,
   "id": "02d62fcc",
   "metadata": {},
   "outputs": [],
   "source": [
    "# Match to the DESY ned copy\n",
    "catconfig = {\n",
    "        'NEDz' : {\n",
    "            'use' : 'catsHTM',\n",
    "            'rs_arcsec' : 30.0,\n",
    "            'catq_kwargs' : {\n",
    "                'ra_key' : 'RA',\n",
    "                'dec_key' : 'Dec'\n",
    "                },\n",
    "            'keys_to_append' : ['ObjType', 'Velocity', 'z'],\n",
    "        }, }"
   ]
  },
  {
   "cell_type": "code",
   "execution_count": null,
   "id": "8346187c",
   "metadata": {},
   "outputs": [],
   "source": [
    "# Initalize\n",
    "logger = AmpelLogger.get_logger()\n",
    "#t2cat = T2CatalogMatch( catalogs = catconfig,\n",
    "#    resource = {\"ampel-ztf/catalogmatch\":'https://ampel.zeuthen.desy.de/api/catalogmatch/'},\n",
    "#    logger=logger)"
   ]
  },
  {
   "cell_type": "code",
   "execution_count": null,
   "id": "57df8433",
   "metadata": {},
   "outputs": [],
   "source": [
    "# Get a photopoint from which to get coordinates \n",
    "t2cat_out = t2cat.process(lc.photopoints[0])"
   ]
  },
  {
   "cell_type": "code",
   "execution_count": null,
   "id": "c229e150",
   "metadata": {},
   "outputs": [],
   "source": [
    "t2cat_out"
   ]
  },
  {
   "cell_type": "code",
   "execution_count": null,
   "id": "b1055876",
   "metadata": {},
   "outputs": [],
   "source": [
    "# Use a match if there was one, otherwise enter manually\n",
    "# z = float( t2out['NEDz']['z'] )\n",
    "\n",
    "# Manually add a redshift if no NED match was found\n",
    "z =  0.4"
   ]
  },
  {
   "cell_type": "markdown",
   "id": "ed1ed48c",
   "metadata": {},
   "source": [
    "II. Run Sncosmo using a fixed redshift from the catalog match. Note that in live processing redshifts are  dynamically provied through chaining to the DigestRedshift unit. "
   ]
  },
  {
   "cell_type": "code",
   "execution_count": null,
   "id": "f00e6429",
   "metadata": {},
   "outputs": [],
   "source": [
    "sncosmo_config = {\n",
    "    \"sncosmo_model_name\" : \"salt2\",\n",
    "    \"backup_z\" : z,\n",
    "    \"t2_dependency\": [], \n",
    "#    \"sncosmo_bounds\": {\"t0\":[2458859,2458879]},\n",
    "    \"plot_props\": {\n",
    "        \"tags\": [\"SALT\", \"SNCOSMO\"],\n",
    "        \"file_name\": {\n",
    "            \"format_str\": \"%s_%s.svg\",\n",
    "            \"arg_keys\": [\"stock\", \"model\"]\n",
    "        },\n",
    "        \"title\": {\n",
    "            \"format_str\": \"%s %s\",\n",
    "            \"arg_keys\": [\"stock\", \"model\"]\n",
    "        },\n",
    "        \"fig_text\": {\n",
    "            \"format_str\": \"%s %s \\nchisq %.2f ndof %s\",\n",
    "            \"arg_keys\": [\"stock\", \"model\", \"chisq\", \"ndof\"]\n",
    "        },\n",
    "        \"width\": 10,\n",
    "        \"height\": 6,\n",
    "        \"disk_save\": \"/home/jnordin/tmp\",\n",
    "    },\n",
    "}"
   ]
  },
  {
   "cell_type": "code",
   "execution_count": null,
   "id": "80ef447b",
   "metadata": {},
   "outputs": [],
   "source": [
    "t2sncosmo = T2RunSncosmo( **sncosmo_config, logger=logger)"
   ]
  },
  {
   "cell_type": "code",
   "execution_count": null,
   "id": "118f2e8d",
   "metadata": {},
   "outputs": [],
   "source": [
    "t2sncosmo.post_init()"
   ]
  },
  {
   "cell_type": "code",
   "execution_count": null,
   "id": "476cacf5",
   "metadata": {},
   "outputs": [],
   "source": [
    "sncosmo_out = t2sncosmo.process(lc, t2_views=[])"
   ]
  },
  {
   "cell_type": "code",
   "execution_count": null,
   "id": "4b0e0337",
   "metadata": {},
   "outputs": [],
   "source": [
    "sncosmo_out"
   ]
  },
  {
   "cell_type": "code",
   "execution_count": null,
   "id": "04b59e30",
   "metadata": {},
   "outputs": [],
   "source": [
    "fname = \"{}/{}_salt2.png\".format(sncosmo_config['plot_dir'],snname) \n",
    "print(fname)"
   ]
  },
  {
   "cell_type": "code",
   "execution_count": null,
   "id": "98629856",
   "metadata": {},
   "outputs": [],
   "source": [
    "display(Image(filename=fname))"
   ]
  },
  {
   "cell_type": "code",
   "execution_count": null,
   "id": "34bd690b",
   "metadata": {},
   "outputs": [],
   "source": []
  }
 ],
 "metadata": {
  "kernelspec": {
   "display_name": "Python 3 (ipykernel)",
   "language": "python",
   "name": "python3"
  },
  "language_info": {
   "codemirror_mode": {
    "name": "ipython",
    "version": 3
   },
   "file_extension": ".py",
   "mimetype": "text/x-python",
   "name": "python",
   "nbconvert_exporter": "python",
   "pygments_lexer": "ipython3",
   "version": "3.9.7"
  }
 },
 "nbformat": 4,
 "nbformat_minor": 5
}
