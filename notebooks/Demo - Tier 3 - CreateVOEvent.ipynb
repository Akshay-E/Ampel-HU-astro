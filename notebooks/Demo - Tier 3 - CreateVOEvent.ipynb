{
 "cells": [
  {
   "cell_type": "markdown",
   "id": "99f3171e",
   "metadata": {},
   "source": [
    "Designing a T3:\n",
    "- Get a lightcurve\n",
    "- Complement with a T2 result (CatalogMatch here)\n",
    "- Assemble to T3 input.\n",
    "- Create T3 like functionality."
   ]
  },
  {
   "cell_type": "code",
   "execution_count": null,
   "id": "1ef38399",
   "metadata": {},
   "outputs": [],
   "source": [
    "import requests, os\n",
    "from astropy.time import Time\n",
    "from ampel.ztf.t0.load.ZTFArchiveAlertLoader import ZTFArchiveAlertLoader\n",
    "from ampel.ztf.alert.ZiAlertSupplier import ZiAlertSupplier\n",
    "from ampel.ztf.ingest.ZiDataPointShaper import ZiDataPointShaper\n",
    "from ampel.log.AmpelLogger import AmpelLogger\n",
    "from ampel_notebook_utils import alert2dps"
   ]
  },
  {
   "cell_type": "code",
   "execution_count": null,
   "id": "d63d782e",
   "metadata": {},
   "outputs": [],
   "source": [
    "# This is the archive token which can be obtained from https://ampel.zeuthen.desy.de/live/dashboard/tokens\n",
    "# In order to retrieve ZTF partnership alerts your token needs to have the appropriate access\n",
    "token = os.environ[\"ARCHIVE_TOKEN\"]   # I have mine stored\n",
    "header = {\"Authorization\": \"bearer \"+token}"
   ]
  },
  {
   "cell_type": "markdown",
   "id": "903e409a",
   "metadata": {},
   "source": [
    "##### 1. Obtaining a stream of alerts \n",
    "This demonstration will be carried out using a pre-selected set of alerts taken from one ZTF field, and with a set of minimal properties.\n"
   ]
  },
  {
   "cell_type": "code",
   "execution_count": null,
   "id": "90cacb5e",
   "metadata": {},
   "outputs": [],
   "source": [
    "endpoint = 'https://ampel.zeuthen.desy.de/api/ztf/archive/v3/streams/from_query?programid=1'"
   ]
  },
  {
   "cell_type": "code",
   "execution_count": null,
   "id": "a04fae45",
   "metadata": {},
   "outputs": [],
   "source": [
    "# Time window to search archive \n",
    "#jdend = Time.now().jd\n",
    "jdend = 2459800\n",
    "time_window = 2."
   ]
  },
  {
   "cell_type": "code",
   "execution_count": null,
   "id": "528aec04",
   "metadata": {},
   "outputs": [],
   "source": [
    "# Alert query aimed at finding new objects (few detections) in a narrow time-span.\n",
    "query = {\n",
    "  \"jd\": {\n",
    "    \"$gt\": jdend - time_window,\n",
    "    \"$lt\": jdend + 0.1,\n",
    "  },\n",
    "  \"candidate\": {\n",
    "    \"drb\": {\n",
    "      \"$gt\": 0.995\n",
    "    },\n",
    "    \"ndethist\": {\n",
    "      \"$gt\": 1,\n",
    "      \"$lt\": 5,\n",
    "    },\n",
    "    \"isdiffpos\": {\"$in\": [\"t\", \"1\"]},\n",
    "  }\n",
    "}"
   ]
  },
  {
   "cell_type": "code",
   "execution_count": null,
   "id": "3816a20c",
   "metadata": {},
   "outputs": [],
   "source": [
    "response = requests.post(endpoint, headers=header, json=query )\n",
    "\n",
    "if not response.ok:\n",
    "    print( 'Query creation failed.')\n",
    "resume_token = response.json()['resume_token']\n"
   ]
  },
  {
   "cell_type": "code",
   "execution_count": null,
   "id": "294ff3bc",
   "metadata": {},
   "outputs": [],
   "source": [
    "# The loader config contains the resume_token as stream identifier\n",
    "config = {'archive':\"https://ampel.zeuthen.desy.de/api/ztf/archive/v3\", \n",
    "          \"stream\":resume_token}"
   ]
  },
  {
   "cell_type": "markdown",
   "id": "030c8730",
   "metadata": {},
   "source": [
    "Configure and initialize a unit designed for catalog matching."
   ]
  },
  {
   "cell_type": "code",
   "execution_count": null,
   "id": "970cf469",
   "metadata": {},
   "outputs": [],
   "source": [
    "from ampel.ztf.t2.T2CatalogMatch import T2CatalogMatch"
   ]
  },
  {
   "cell_type": "code",
   "execution_count": null,
   "id": "797071eb",
   "metadata": {},
   "outputs": [],
   "source": [
    "lenscatconfig = {\n",
    "        'NEDz' : {\n",
    "            'use' : 'catsHTM',\n",
    "            'rs_arcsec' : 10.0,\n",
    "            'keys_to_append' : ['ObjType', 'Velocity', 'z'],\n",
    "        },\n",
    "        'LSPhotoZZou' : {\n",
    "            'use' : 'extcats',\n",
    "            'rs_arcsec' : 10.0,\n",
    "            'keys_to_append' : ['photoz','ra','dec','e_photoz','specz','_6','logMassBest','logMassInf','logMassSup'],\n",
    "            'pre_filter' : None,\n",
    "            'post_filter' : None,\n",
    "            'all': False,\n",
    "        },\n",
    "        'masterlens' : {\n",
    "            'use' : 'extcats',\n",
    "            'rs_arcsec' : 10.0,\n",
    "            'keys_to_append' : ['ra_degrees','dec_degrees','z_lens','z_source',\n",
    "                                'radius','system_name','comment'],\n",
    "            'pre_filter' : None,\n",
    "            'post_filter' : None,\n",
    "            'all': False,\n",
    "        },\n",
    "\n",
    "    }"
   ]
  },
  {
   "cell_type": "code",
   "execution_count": null,
   "id": "660c0c65",
   "metadata": {},
   "outputs": [],
   "source": [
    "# Initalize\n",
    "logger = AmpelLogger.get_logger()"
   ]
  },
  {
   "cell_type": "code",
   "execution_count": null,
   "id": "0412824f",
   "metadata": {},
   "outputs": [],
   "source": [
    "t2cat = T2CatalogMatch( catalogs = lenscatconfig,\n",
    "    resource = {\"ampel-ztf/catalogmatch\":'https://ampel.zeuthen.desy.de/api/catalogmatch/'},\n",
    "    logger=logger)"
   ]
  },
  {
   "cell_type": "code",
   "execution_count": null,
   "id": "bdeddb52",
   "metadata": {},
   "outputs": [],
   "source": []
  },
  {
   "cell_type": "code",
   "execution_count": null,
   "id": "95d0251b",
   "metadata": {},
   "outputs": [],
   "source": []
  },
  {
   "cell_type": "code",
   "execution_count": null,
   "id": "0b2ef91a",
   "metadata": {},
   "outputs": [],
   "source": [
    "shaper = ZiDataPointShaper(logger=AmpelLogger.get_logger())"
   ]
  },
  {
   "cell_type": "code",
   "execution_count": null,
   "id": "14f2430a",
   "metadata": {},
   "outputs": [],
   "source": [
    "alert_matches = []"
   ]
  },
  {
   "cell_type": "code",
   "execution_count": null,
   "id": "2d6abc9d",
   "metadata": {},
   "outputs": [],
   "source": [
    "try:\n",
    "    alertloader = ZTFArchiveAlertLoader(**config)\n",
    "    for k, alert in enumerate(alertloader.get_alerts()):\n",
    "        \n",
    "        # Modify alert so the shaper understands\n",
    "        alert['candidate']['candid'] = alert['candid']\n",
    "        dps = alert2dps(alert,shaper=shaper)\n",
    "        t2cat_out = t2cat.process(dps[0])\n",
    "        if t2cat_out['masterlens'] is not None:\n",
    "            print('Found match to masterlens catalog')\n",
    "            alert_matches.append({'alert':alert, 'catalog_match':t2cat_out})\n",
    "        elif t2cat_out['NEDz'] is not None:\n",
    "            print('Found match to NED z catalog')\n",
    "            alert_matches.append({'alert':alert, 'catalog_match':t2cat_out})\n",
    "            \n",
    "        if k%500==0:\n",
    "            print('Alert counter:', k)\n",
    "            \n",
    "except requests.exceptions.HTTPError as e:\n",
    "    status_code = e.response.status_code\n",
    "    if status_code==423:\n",
    "        print('HTTP error {}: likely caused by server staging process. Wait and try again.'.format(status_code) )\n",
    "    else:\n",
    "        raise e"
   ]
  },
  {
   "cell_type": "markdown",
   "id": "4a095db0",
   "metadata": {},
   "source": [
    "Alerts and the catalog matches that were detected can now be inspected:"
   ]
  },
  {
   "cell_type": "code",
   "execution_count": null,
   "id": "9e23593a",
   "metadata": {},
   "outputs": [],
   "source": [
    "print('Found {} alerts with coordinates matching NED or masterlens in the query.'.format(len(alert_matches)))"
   ]
  },
  {
   "cell_type": "code",
   "execution_count": null,
   "id": "a441f54a",
   "metadata": {},
   "outputs": [],
   "source": [
    "alert_matches[0]['catalog_match']"
   ]
  },
  {
   "cell_type": "code",
   "execution_count": null,
   "id": "d628b2bd",
   "metadata": {},
   "outputs": [],
   "source": [
    "import voeventparse as vp"
   ]
  },
  {
   "cell_type": "code",
   "execution_count": null,
   "id": "b026e6c5",
   "metadata": {},
   "outputs": [],
   "source": [
    "with open('/home/jnordin/Downloads/voevent.xml','rb') as f:\n",
    "    v = vp.load(f)\n"
   ]
  },
  {
   "cell_type": "code",
   "execution_count": null,
   "id": "19dd7da8",
   "metadata": {},
   "outputs": [],
   "source": [
    "v.Why.Inference.attrib"
   ]
  },
  {
   "cell_type": "code",
   "execution_count": null,
   "id": "9abc1a63",
   "metadata": {},
   "outputs": [],
   "source": []
  }
 ],
 "metadata": {
  "kernelspec": {
   "display_name": "Python 3 (ipykernel)",
   "language": "python",
   "name": "python3"
  },
  "language_info": {
   "codemirror_mode": {
    "name": "ipython",
    "version": 3
   },
   "file_extension": ".py",
   "mimetype": "text/x-python",
   "name": "python",
   "nbconvert_exporter": "python",
   "pygments_lexer": "ipython3",
   "version": "3.10.6"
  }
 },
 "nbformat": 4,
 "nbformat_minor": 5
}
