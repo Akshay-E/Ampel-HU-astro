{
 "cells": [
  {
   "cell_type": "markdown",
   "id": "burning-arrow",
   "metadata": {},
   "source": [
    "Run a complete test of the NearbyInfantReact process, which incorporates the HU_RAPID_SINGLE filter, a chained T2 catalog match and then either RapidBase or RapidLco as output.. "
   ]
  },
  {
   "cell_type": "code",
   "execution_count": null,
   "id": "silent-break",
   "metadata": {},
   "outputs": [],
   "source": [
    "import os\n",
    "%load_ext ampel_quick_import\n",
    "%qi DevAmpelContext DictSecretProvider AmpelLogger T2Processor ChannelModel AlertProcessor TarAlertLoader ChannelModel AbsAlertFilter T3Processor TransientInfoPrinter"
   ]
  },
  {
   "cell_type": "code",
   "execution_count": null,
   "id": "modern-tenant",
   "metadata": {},
   "outputs": [],
   "source": [
    "# See other sample notebooks for path to download\n",
    "#ALERT_ARCHIVE = \"/home/jnordin/data/ztfalerts/ztf_public_20180731_nostars.tar.gz\"\n",
    "#ALERT_ARCHIVE = \"/home/jnordin/github/ampelv07/Ampel-notebooks/ztf/skyportal/HU_TNS_PARTNER.tar.gz\"\n",
    "ALERT_ARCHIVE = \"/home/jnordin/github/ampelv07/Ampel-notebooks/ztf/skyportal/HU_RAPID|HU_RAPID_SINGLE.tar.gz\"\n",
    "AMPEL_CONF = \"/home/jnordin/github/ampelv71/ampel_conf.yaml\""
   ]
  },
  {
   "cell_type": "code",
   "execution_count": null,
   "id": "indonesian-patrol",
   "metadata": {},
   "outputs": [],
   "source": [
    "secrets = DictSecretProvider( {'slack/ztf_general/jno': None,\n",
    "                              'mongo/logger':{},\n",
    "                              'mongo/writer':{},\n",
    "                              'extcats/reader':{},\n",
    "                              'lco/jnordin':None,\n",
    "                              })"
   ]
  },
  {
   "cell_type": "code",
   "execution_count": null,
   "id": "pacific-weather",
   "metadata": {},
   "outputs": [],
   "source": [
    "ctx = DevAmpelContext.load(\n",
    "    config_file_path = AMPEL_CONF,\n",
    "    db_prefix = \"AmpelTestAP\",\n",
    "    purge_db = True,\n",
    "    secrets = secrets,\n",
    ")"
   ]
  },
  {
   "cell_type": "code",
   "execution_count": null,
   "id": "cheap-leather",
   "metadata": {},
   "outputs": [],
   "source": [
    "ctx.add_channel(\n",
    "    name=\"TEST_CHAN2\",\n",
    "    access=['ZTF', 'ZTF_PUB', 'ZTF_COLLAB']\n",
    ")"
   ]
  },
  {
   "cell_type": "code",
   "execution_count": null,
   "id": "speaking-exercise",
   "metadata": {},
   "outputs": [],
   "source": []
  },
  {
   "cell_type": "code",
   "execution_count": null,
   "id": "removable-brake",
   "metadata": {},
   "outputs": [],
   "source": [
    "cat_conf = { 'catalogs' : {\n",
    "             'SDSS_spec' : {\n",
    "                 'use' : 'extcats',\n",
    "                 'catq_kwargs' : {\n",
    "                     'ra_key' : 'ra',\n",
    "                     'dec_key' : 'dec',\n",
    "                 },\n",
    "                 'rs_arcsec' : 10,\n",
    "                 'keys_to_append' : ['z','bptclass','subclass'],\n",
    "                 'pre_filter' : None,\n",
    "                 'post_filter' : None,\n",
    "             },\n",
    "             'milliquas' : {\n",
    "                 'use' : 'extcats',\n",
    "                 'catq_kwargs' : {\n",
    "                     'ra_key' : 'ra',\n",
    "                     'dec_key' : 'dec',\n",
    "                 },\n",
    "                 'rs_arcsec' : 3,\n",
    "                 'keys_to_append' : ['broad_type', 'name', 'redshift', 'qso_prob'],\n",
    "                 'pre_filter' : None,\n",
    "                 'post_filter' : None,\n",
    "             }\n",
    "        },\n",
    "        'extcats' : {\n",
    "            'auth' : {'key' : 'extcats/reader'},\n",
    "            'max_time' : 300.0            \n",
    "        }\n",
    "}"
   ]
  },
  {
   "cell_type": "code",
   "execution_count": null,
   "id": "northern-montgomery",
   "metadata": {},
   "outputs": [],
   "source": [
    "extcat_config_id = ctx.add_config_id( cat_conf )\n",
    "print(extcat_config_id)"
   ]
  },
  {
   "cell_type": "code",
   "execution_count": null,
   "id": "other-bloom",
   "metadata": {},
   "outputs": [],
   "source": [
    "point_conf = {\n",
    "    \"max_age\": 500,\n",
    "    \"det_filterids\" : [1,2],\n",
    "    \"t2_dependency\": [\n",
    "        {\n",
    "            \"unit\": \"T2CatalogMatch\",\n",
    "            \"config\": extcat_config_id,\n",
    "            \"link_override\": {\n",
    "                \"pps\": \"last\"\n",
    "                }\n",
    "        }\n",
    "    ]\n",
    "}"
   ]
  },
  {
   "cell_type": "code",
   "execution_count": null,
   "id": "accessible-monte",
   "metadata": {},
   "outputs": [],
   "source": [
    "point_config_id = ctx.add_config_id( point_conf )\n",
    "print(point_config_id)"
   ]
  },
  {
   "cell_type": "code",
   "execution_count": null,
   "id": "distinguished-council",
   "metadata": {},
   "outputs": [],
   "source": [
    "ap = AlertProcessor(\n",
    "    context = ctx,\n",
    "    process_name = \"ipyton_notebook_test\",\n",
    "    supplier = \"ZiAlertSupplier\",\n",
    "    log_profile = \"debug\",\n",
    "    directives = [\n",
    "        {\n",
    "            \"channel\": \"TEST_CHAN2\", \n",
    "            \"filter\": {\"unit\": \"SimpleDecentFilter\",\"config\": {\n",
    "                                                                \"min_drb\":0.995,\n",
    "                                                                \"min_ndet\":1,\n",
    "                                                                \"min_tspan\":0.0,\n",
    "                                                                \"max_tspan\" : 3,\n",
    "                                                                \"min_gal_lat\" : 15\n",
    "                                                              }\n",
    "                        },\n",
    "            \"stock_update\": \"ZiStockIngester\",\n",
    "            't0_add': {\n",
    "                \"ingester\": \"ZiAlertContentIngester\",\n",
    "                \"t1_combine\": [\n",
    "                    {\n",
    "                        \"ingester\": \"PhotoCompoundIngester\",\n",
    "                        \"config\": {\"combiner\": \"ZiT1Combiner\"},\n",
    "                        \"t2_compute\": {\n",
    "                            \"ingester\": \"PhotoT2Ingester\",\n",
    "                            \"config\": {\"tags\": [\"ZTF\"]},\n",
    "                            \"units\": [\n",
    "                                {'unit': 'T2InfantCatalogEval',\n",
    "                                 'config': point_config_id\n",
    "                                },\n",
    "                            ]\n",
    "                        }\n",
    "                    }\n",
    "                ],\n",
    "                \"t2_compute\": {\n",
    "                    'unit': 'DualPointT2Ingester',\n",
    "                    'config': {'tags': ['ZTF']},\n",
    "                    'units': [\n",
    "                        {\n",
    "                            'unit': 'T2CatalogMatch', \n",
    "                            'config' : extcat_config_id,\n",
    "                            \"ingest\": {'eligible': {'pps': 'first'}}\n",
    "                        }\n",
    "                    ],\n",
    "                },\n",
    "            }\n",
    "        }\n",
    "    ]\n",
    ")"
   ]
  },
  {
   "cell_type": "code",
   "execution_count": null,
   "id": "representative-country",
   "metadata": {},
   "outputs": [],
   "source": [
    "ap.set_loader(TarAlertLoader(ALERT_ARCHIVE))"
   ]
  },
  {
   "cell_type": "code",
   "execution_count": null,
   "id": "rotary-islam",
   "metadata": {},
   "outputs": [],
   "source": [
    "ap.set_iter_max(10000)"
   ]
  },
  {
   "cell_type": "code",
   "execution_count": null,
   "id": "scientific-principal",
   "metadata": {},
   "outputs": [],
   "source": [
    "ap.run()"
   ]
  },
  {
   "cell_type": "code",
   "execution_count": null,
   "id": "occupational-worth",
   "metadata": {},
   "outputs": [],
   "source": [
    "t2p = T2Processor(context=ctx, process_name=\"T2Processor_test\", log_profile=\"debug\")"
   ]
  },
  {
   "cell_type": "code",
   "execution_count": null,
   "id": "administrative-publication",
   "metadata": {},
   "outputs": [],
   "source": [
    "t2p.run()"
   ]
  },
  {
   "cell_type": "markdown",
   "id": "looking-wildlife",
   "metadata": {},
   "source": []
  },
  {
   "cell_type": "code",
   "execution_count": null,
   "id": "crude-eight",
   "metadata": {},
   "outputs": [],
   "source": []
  },
  {
   "cell_type": "code",
   "execution_count": null,
   "id": "qualified-writing",
   "metadata": {},
   "outputs": [],
   "source": [
    "# Test base\n",
    "t3p = T3Processor(\n",
    "    context=ctx,\n",
    "    process_name = \"T3Processor_test\",\n",
    "    log_profile = \"default\", # debug\n",
    "    channel = \"TEST_CHAN2\",\n",
    "    directives = [ {\n",
    "        \"context\": [\n",
    "            {\"unit\": \"T3AddLastRunTime\"},\n",
    "            {\"unit\": \"T3AddAlertsNumber\"}\n",
    "        ],\n",
    "        \"select\": {\n",
    "            \"unit\": \"T3FilteringStockSelector\",\n",
    "            \"config\": {\n",
    "                \"created\": {\"after\": {\"match_type\": \"time_delta\", \"days\": -400000}},\n",
    "                'tag': {'with': \"ZTF\", 'without': 'HAS_ERROR'},\n",
    "                't2_filter':  {\n",
    "                    'unit': 'T2InfantCatalogEval',\n",
    "                    'match': {'action': True}\n",
    "                }, \n",
    "            }\n",
    "        },\n",
    "        \"load\": {\n",
    "            \"unit\": \"T3SimpleDataLoader\",\n",
    "            \"config\": {\n",
    "                \"directives\": [\"TRANSIENT\", \"DATAPOINT\", \"COMPOUND\", \"T2RECORD\"],\n",
    "            }\n",
    "\n",
    "        },\n",
    "        \"run\": {\n",
    "            \"unit\": \"T3UnitRunner\",\n",
    "            \"config\": {\n",
    "                \"directives\": [\n",
    "                      {\n",
    "                            \"project\": {\n",
    "                                \"unit\": \"T3ChannelProjector\",\n",
    "                                \"config\": {\n",
    "                                    \"channel\": \"TEST_CHAN2\"\n",
    "                                }\n",
    "                            },\n",
    "                            \"execute\": [\n",
    "                                {\"unit\": \"TransientInfoPrinter\"},\n",
    "                                {\n",
    "                                    \"unit\": \"RapidBase\",\n",
    "                                    \"config\": {\n",
    "                                        'do_react': False,\n",
    "                                        'do_testreact': True,\n",
    "                                        'slack_token': {\n",
    "                                            \"key\": \"slack/ztf_general/jno\",\n",
    "                                        },\n",
    "                                        'slack_channel': '#ztf_auto',\n",
    "                                        'slack_username': 'AMPEL',\n",
    "                                        't2info_from' : ['T2InfantCatalogEval']\n",
    "                                    },\n",
    "                                },\n",
    "                            ]\n",
    "\n",
    "                      }\n",
    "                ]\n",
    "            }\n",
    "        }\n",
    "    } ]\n",
    ")\n"
   ]
  },
  {
   "cell_type": "code",
   "execution_count": null,
   "id": "rolled-dover",
   "metadata": {},
   "outputs": [],
   "source": [
    "# Test Lco\n",
    "t3p2 = T3Processor(\n",
    "    context=ctx,\n",
    "    process_name = \"T3Processor_test\",\n",
    "    log_profile = \"default\", # debug\n",
    "    channel = \"TEST_CHAN2\",\n",
    "    directives = [ {\n",
    "        \"context\": [\n",
    "            {\"unit\": \"T3AddLastRunTime\"},\n",
    "            {\"unit\": \"T3AddAlertsNumber\"}\n",
    "        ],\n",
    "        \"select\": {\n",
    "            \"unit\": \"T3FilteringStockSelector\",\n",
    "            \"config\": {\n",
    "                \"created\": {\"after\": {\"match_type\": \"time_delta\", \"days\": -400000}},\n",
    "                'tag': {'with': \"ZTF\", 'without': 'HAS_ERROR'},\n",
    "                't2_filter':  {\n",
    "                    'unit': 'T2InfantCatalogEval',\n",
    "                    'match': {'action': True}\n",
    "                }, \n",
    "            }\n",
    "        },\n",
    "        \"load\": {\n",
    "            \"unit\": \"T3SimpleDataLoader\",\n",
    "            \"config\": {\n",
    "                \"directives\": [\"TRANSIENT\", \"DATAPOINT\", \"COMPOUND\", \"T2RECORD\"],\n",
    "            }\n",
    "\n",
    "        },\n",
    "        \"run\": {\n",
    "            \"unit\": \"T3UnitRunner\",\n",
    "            \"config\": {\n",
    "                \"directives\": [\n",
    "                      {\n",
    "                            \"project\": {\n",
    "                                \"unit\": \"T3ChannelProjector\",\n",
    "                                \"config\": {\n",
    "                                    \"channel\": \"TEST_CHAN2\"\n",
    "                                }\n",
    "                            },\n",
    "                            \"execute\": [\n",
    "                                {\"unit\": \"TransientInfoPrinter\"},\n",
    "                                {\n",
    "                                    \"unit\": \"RapidLco\",\n",
    "                                    \"config\": {\n",
    "                                        'do_react': True,\n",
    "                                        'do_testreact': True,\n",
    "                                        'slack_token': {\n",
    "                                            \"key\": \"slack/ztf_general/jno\",\n",
    "                                        },\n",
    "                                        'slack_channel': '#ztf_auto',\n",
    "                                        'slack_username': 'AMPEL',\n",
    "                                        't2info_from' : ['T2InfantCatalogEval'],\n",
    "                                        'lco_api': {\n",
    "                                            \"key\": \"lco/jnordin\",\n",
    "                                        }\n",
    "                                    },\n",
    "                                },\n",
    "                            ]\n",
    "\n",
    "                      }\n",
    "                ]\n",
    "            }\n",
    "        }\n",
    "    } ]\n",
    ")\n"
   ]
  },
  {
   "cell_type": "code",
   "execution_count": null,
   "id": "cleared-parameter",
   "metadata": {},
   "outputs": [],
   "source": [
    "t3p2.run()"
   ]
  }
 ],
 "metadata": {
  "kernelspec": {
   "display_name": "Python 3",
   "language": "python",
   "name": "python3"
  },
  "language_info": {
   "codemirror_mode": {
    "name": "ipython",
    "version": 3
   },
   "file_extension": ".py",
   "mimetype": "text/x-python",
   "name": "python",
   "nbconvert_exporter": "python",
   "pygments_lexer": "ipython3",
   "version": "3.8.8"
  }
 },
 "nbformat": 4,
 "nbformat_minor": 5
}
