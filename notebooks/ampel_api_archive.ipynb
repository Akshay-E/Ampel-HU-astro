{
 "cells": [
  {
   "cell_type": "markdown",
   "id": "independent-detail",
   "metadata": {},
   "source": [
    "Notebook which will:\n",
    "- Obtain alert photometry for named SN from DESY archive.\n",
    "- Create sample plot."
   ]
  },
  {
   "cell_type": "code",
   "execution_count": null,
   "id": "pursuant-luxury",
   "metadata": {},
   "outputs": [],
   "source": [
    "import os, requests\n",
    "import matplotlib.pyplot as plt\n",
    "import pandas as pd\n",
    "from requests.auth import HTTPBasicAuth"
   ]
  },
  {
   "cell_type": "code",
   "execution_count": null,
   "id": "e7656d26",
   "metadata": {},
   "outputs": [],
   "source": [
    "# Access to the AMPEL data archive assumes an individual *archive token* which can be obtained from \n",
    "# https://ampel.zeuthen.desy.de/live/dashboard/tokens\n",
    "# This currently builds on GitHub authorization for AmpelProject members.\n",
    "token = os.environ[\"ARCHIVE_TOKEN\"]"
   ]
  },
  {
   "cell_type": "code",
   "execution_count": null,
   "id": "4bfa250d",
   "metadata": {},
   "outputs": [],
   "source": [
    "# Name of ZTF objects to lookup\n",
    "ztfname = \"ZTF21abrxoir\""
   ]
  },
  {
   "cell_type": "code",
   "execution_count": null,
   "id": "ccdb0cac",
   "metadata": {},
   "outputs": [],
   "source": [
    "# Retrieve (combined) alert data from DESY archive\n",
    "endpoint = \"https://ampel.zeuthen.desy.de/api/ztf/archive/v3/object/{}/photopoints\".format(ztfname)\n",
    "header = {\"Authorization\": \"bearer \"+token}\n",
    "response = requests.get(endpoint, headers=header )\n",
    "alert = response.json()"
   ]
  },
  {
   "cell_type": "code",
   "execution_count": null,
   "id": "e251a1c3",
   "metadata": {},
   "outputs": [],
   "source": [
    "# For a quick plot, grab detections\n",
    "datapoints = [alert['candidate']]\n",
    "datapoints.extend( [dp for dp in alert['prv_candidates'] if 'magpsf' in dp.keys()] )\n",
    "df = pd.DataFrame(datapoints)"
   ]
  },
  {
   "cell_type": "code",
   "execution_count": null,
   "id": "02d62fcc",
   "metadata": {},
   "outputs": [],
   "source": [
    "plt.plot(df['jd'][df['fid']==1], df['magpsf'][df['fid']==1], 'o', label='ZTF g')\n",
    "plt.plot(df['jd'][df['fid']==2], df['magpsf'][df['fid']==2], 'o', label='ZTF r')\n",
    "plt.gca().invert_yaxis()\n",
    "plt.xlabel('JD')\n",
    "plt.ylabel('ZTF mag')\n",
    "plt.legend()"
   ]
  }
 ],
 "metadata": {
  "kernelspec": {
   "display_name": "Python 3 (ipykernel)",
   "language": "python",
   "name": "python3"
  },
  "language_info": {
   "codemirror_mode": {
    "name": "ipython",
    "version": 3
   },
   "file_extension": ".py",
   "mimetype": "text/x-python",
   "name": "python",
   "nbconvert_exporter": "python",
   "pygments_lexer": "ipython3",
   "version": "3.9.7"
  }
 },
 "nbformat": 4,
 "nbformat_minor": 5
}
