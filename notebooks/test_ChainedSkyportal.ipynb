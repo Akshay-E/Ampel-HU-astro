{
 "cells": [
  {
   "cell_type": "markdown",
   "id": "burning-arrow",
   "metadata": {},
   "source": [
    "Thest chained T2 and T2 filter selection for SkyPortal submission."
   ]
  },
  {
   "cell_type": "code",
   "execution_count": null,
   "id": "silent-break",
   "metadata": {},
   "outputs": [],
   "source": [
    "import os\n",
    "%load_ext ampel_quick_import\n",
    "%qi DevAmpelContext DictSecretProvider AmpelLogger T2Processor ChannelModel AlertProcessor TarAlertLoader ChannelModel AbsAlertFilter T3Processor TransientInfoPrinter"
   ]
  },
  {
   "cell_type": "code",
   "execution_count": null,
   "id": "modern-tenant",
   "metadata": {},
   "outputs": [],
   "source": [
    "# See other sample notebooks for path to download\n",
    "ALERT_ARCHIVE = \"/home/jnordin/data/ztfalerts/ztf_public_20180731_nostars.tar.gz\"\n",
    "AMPEL_CONF = \"/home/jnordin/github/ampelv71/ampel_conf.yaml\""
   ]
  },
  {
   "cell_type": "code",
   "execution_count": null,
   "id": "indonesian-patrol",
   "metadata": {},
   "outputs": [],
   "source": [
    "secrets = DictSecretProvider( {'slack/ztf_general/jno':None,\n",
    "                              'mongo/logger':{},\n",
    "                              'mongo/writer':{},\n",
    "                               'fritz/jvs/ampelbot': None,\n",
    "                               'desi/skyportal/jno': None,\n",
    "                              })"
   ]
  },
  {
   "cell_type": "code",
   "execution_count": null,
   "id": "pacific-weather",
   "metadata": {},
   "outputs": [],
   "source": [
    "ctx = DevAmpelContext.load(\n",
    "    config_file_path = AMPEL_CONF,\n",
    "    db_prefix = \"DESITest\",\n",
    "    purge_db = True,\n",
    "    secrets = secrets,\n",
    ")"
   ]
  },
  {
   "cell_type": "code",
   "execution_count": null,
   "id": "cheap-leather",
   "metadata": {},
   "outputs": [],
   "source": [
    "# First channel, general look combined with SNGuess\n",
    "ctx.add_channel(\n",
    "    name=\"DESI_1\",\n",
    "    access=['ZTF', 'ZTF_PUB', 'ZTF_COLLAB']\n",
    ")"
   ]
  },
  {
   "cell_type": "code",
   "execution_count": null,
   "id": "other-bloom",
   "metadata": {},
   "outputs": [],
   "source": [
    "salt_conf = {\n",
    "    \"model\": \"salt2\",\n",
    "    \"upper_limits\": False,\n",
    "    \"plot_props\": {\n",
    "        \"tags\": [\"SALT\", \"SNCOSMO\"],\n",
    "        \"file_name\": {\n",
    "            \"format_str\": \"%s_%s_fit.svg\",\n",
    "            \"arg_keys\": [\"stock\", \"model\"]\n",
    "        },\n",
    "        \"title\": {\n",
    "            \"format_str\": \"%s %s lightcurve fit\",\n",
    "            \"arg_keys\": [\"stock\", \"model\"]\n",
    "        },\n",
    "        \"width\": 10,\n",
    "        \"height\": 6,\n",
    "        \"id_mapper\": \"ZTFIdMapper\",\n",
    "        \"disk_save\": \"/home/jnordin/tmp/\"\n",
    "    }\n",
    "}"
   ]
  },
  {
   "cell_type": "code",
   "execution_count": null,
   "id": "accessible-monte",
   "metadata": {},
   "outputs": [],
   "source": [
    "salt_config_id = ctx.add_config_id( salt_conf )\n",
    "print(salt_config_id)"
   ]
  },
  {
   "cell_type": "code",
   "execution_count": null,
   "id": "distinguished-council",
   "metadata": {},
   "outputs": [],
   "source": [
    "ap = AlertProcessor(\n",
    "    context = ctx,\n",
    "    process_name = \"ipyton_notebook_test\",\n",
    "    supplier = \"ZiAlertSupplier\",\n",
    "    log_profile = \"debug\",\n",
    "    directives = [\n",
    "        {\n",
    "            \"channel\": \"DESI_1\", \n",
    "            \"filter\": {\"unit\": \"SimpleDecentFilter\",\"config\": {\n",
    "#                                                                \"min_drb\":0.995,\n",
    "                                                                \"min_rb\":0.3,\n",
    "                                                                \"min_ndet\":3,\n",
    "                                                                \"min_tspan\":0.02,\n",
    "                                                                \"max_tspan\" : 999,\n",
    "                                                                \"min_gal_lat\" : 14\n",
    "                                                              }\n",
    "                        },\n",
    "            \"stock_update\": \"ZiStockIngester\",\n",
    "            't0_add': {\n",
    "                \"ingester\": \"ZiAlertContentIngester\",\n",
    "                \"t1_combine\": [\n",
    "                    {\n",
    "                        \"ingester\": \"PhotoCompoundIngester\",\n",
    "                        \"config\": {\"combiner\": \"ZiT1Combiner\"},\n",
    "                        \"t2_compute\": {\n",
    "                            \"ingester\": \"PhotoT2Ingester\",\n",
    "                            \"config\": {\"tags\": [\"ZTF\"]},\n",
    "                            \"units\": [\n",
    "                                {'unit': 'T2SNCosmo',\n",
    "                                 'config': salt_config_id\n",
    "                                },\n",
    "                                {'unit': 'T2BrightSNProb'\n",
    "                                },\n",
    "                            ]\n",
    "                        }\n",
    "                    }\n",
    "                ],\n",
    "            }\n",
    "        }\n",
    "    ]\n",
    ")"
   ]
  },
  {
   "cell_type": "code",
   "execution_count": null,
   "id": "representative-country",
   "metadata": {},
   "outputs": [],
   "source": [
    "ap.set_loader(TarAlertLoader(ALERT_ARCHIVE))"
   ]
  },
  {
   "cell_type": "code",
   "execution_count": null,
   "id": "rotary-islam",
   "metadata": {},
   "outputs": [],
   "source": [
    "ap.set_iter_max(20)"
   ]
  },
  {
   "cell_type": "code",
   "execution_count": null,
   "id": "scientific-principal",
   "metadata": {},
   "outputs": [],
   "source": [
    "ap.run()"
   ]
  },
  {
   "cell_type": "code",
   "execution_count": null,
   "id": "occupational-worth",
   "metadata": {},
   "outputs": [],
   "source": [
    "t2p = T2Processor(context=ctx, process_name=\"T2Processor_test\", log_profile=\"debug\")"
   ]
  },
  {
   "cell_type": "code",
   "execution_count": null,
   "id": "administrative-publication",
   "metadata": {},
   "outputs": [],
   "source": [
    "t2p.run()"
   ]
  },
  {
   "cell_type": "code",
   "execution_count": null,
   "id": "qualified-writing",
   "metadata": {},
   "outputs": [],
   "source": [
    "t3p = T3Processor(\n",
    "    context=ctx,\n",
    "    process_name = \"T3Processor_test\",\n",
    "    log_profile = \"default\", # debug\n",
    "    channel = \"DESI_1\",\n",
    "    directives = [ {\n",
    "        \"context\": [\n",
    "            {\"unit\": \"T3AddLastRunTime\"},\n",
    "            {\"unit\": \"T3AddAlertsNumber\"}\n",
    "        ],\n",
    "        \"select\": {\n",
    "            \"unit\": \"T3FilteringStockSelector\",\n",
    "            \"config\": {\n",
    "                \"created\": {\"after\": {\"match_type\": \"time_delta\", \"days\": -400000}},\n",
    "                'tag': {'with': \"ZTF\", 'without': 'HAS_ERROR'},\n",
    "                't2_filter':  {\n",
    "                    'unit': 'T2SNCosmo',\n",
    "                    'match': {'sncosmo_info.ndof':{\"$gt\":2} },\n",
    "                }, \n",
    "            }\n",
    "        },\n",
    "        \"load\": {\n",
    "            \"unit\": \"T3SimpleDataLoader\",\n",
    "            \"config\": {\n",
    "                \"directives\": [\"TRANSIENT\", \"DATAPOINT\", \"COMPOUND\", \"T2RECORD\"],\n",
    "            }\n",
    "\n",
    "        },\n",
    "        \"run\": {\n",
    "            \"unit\": \"T3UnitRunner\",\n",
    "            \"config\": {\n",
    "                \"directives\": [\n",
    "                      {\n",
    "\n",
    "                            \"project\": {\n",
    "                                \"unit\": \"T3ChannelProjector\",\n",
    "                                \"config\": {\n",
    "                                    \"channel\": \"DESI_1\"\n",
    "                                }\n",
    "                            },\n",
    "                            \"execute\": [\n",
    "                                {\n",
    "                                    \"unit\": \"RapidBase\",\n",
    "                                    \"config\": {\n",
    "                                        'do_react': False,\n",
    "                                        'do_testreact': True,\n",
    "                                        'slack_token': {\n",
    "                                            \"key\": \"slack/ztf_general/jno\",\n",
    "                                        },\n",
    "                                        'slack_channel': '#ztf_auto',\n",
    "                                        'slack_username': 'AMPEL',\n",
    "                                        't2info_from' : []\n",
    "                                    },\n",
    "                                },\n",
    "                                {\n",
    "                                    \"unit\": \"SkyPortalPublisher\",\n",
    "                                    \"config\": {\n",
    "                                        'token': {\n",
    "                                            \"key\": \"fritz/jvs/ampelbot\",\n",
    "                                        },\n",
    "                                        'base_url': 'https://fritz.science',\n",
    "                                        'filters': ['AMPEL.OKC_LENSED'],\n",
    "                                    },\n",
    "                                },\n",
    "                            ]\n",
    "\n",
    "                      }\n",
    "                ]\n",
    "            }\n",
    "        }\n",
    "    } ]\n",
    ")\n"
   ]
  },
  {
   "cell_type": "code",
   "execution_count": null,
   "id": "ongoing-civilian",
   "metadata": {},
   "outputs": [],
   "source": [
    "t3p.run()"
   ]
  }
 ],
 "metadata": {
  "kernelspec": {
   "display_name": "Python 3",
   "language": "python",
   "name": "python3"
  },
  "language_info": {
   "codemirror_mode": {
    "name": "ipython",
    "version": 3
   },
   "file_extension": ".py",
   "mimetype": "text/x-python",
   "name": "python",
   "nbconvert_exporter": "python",
   "pygments_lexer": "ipython3",
   "version": "3.8.8"
  }
 },
 "nbformat": 4,
 "nbformat_minor": 5
}
