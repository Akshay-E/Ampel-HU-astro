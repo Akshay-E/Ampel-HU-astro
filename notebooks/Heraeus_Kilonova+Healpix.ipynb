{
 "cells": [
  {
   "cell_type": "markdown",
   "id": "d29f68c9",
   "metadata": {},
   "source": [
    "# AMPEL demo: Matching ZTF transients in Healpix map to model."
   ]
  },
  {
   "cell_type": "markdown",
   "id": "c00f1bb7",
   "metadata": {},
   "source": [
    "This notebook compares the core elements of comparing a model for the optical emission from a NS merger (a kilonova) with optical alerts form the ZTF survey found within the bounaries of a LIGO/Virgo Healpix map. Consists of three main segments:\n",
    "- Defining a model for kilonova emission & matching this with a (random) ZTF transient.\n",
    "- Finding a suitable Healpix map. \n",
    "- AMPEL processing: Setting up a local instance, retrieving optical data and matching these to catalogs and lightcurves.\n",
    "\n",
    "Running this notebook requires a local AMPEL build. Quick conda-based install instructions:\n"
   ]
  },
  {
   "cell_type": "code",
   "execution_count": null,
   "id": "efa38f88",
   "metadata": {},
   "outputs": [],
   "source": [
    "%%capture --no-display\n",
    "import os, requests\n",
    "import numpy as np\n",
    "import matplotlib.pyplot as plt\n",
    "import matplotlib.style as style\n",
    "style.use('seaborn-colorblind')\n",
    "from IPython.display import SVG\n",
    "from IPython.display import Image\n",
    "import ampel_quick_import\n",
    "%qi AmpelLogger T2RunPossis DevAmpelContext T0HealpixPathProcessor ZiCompilerOptions ZTFHealpixAlertLoader AmpelVault DictSecretProvider T2CatalogMatch "
   ]
  },
  {
   "cell_type": "code",
   "execution_count": null,
   "id": "1e0b6290",
   "metadata": {},
   "outputs": [],
   "source": [
    "from util_tutorial import api_to_lightcurve\n",
    "from util_tutorial import standard_configs"
   ]
  },
  {
   "cell_type": "code",
   "execution_count": null,
   "id": "156b5440",
   "metadata": {},
   "outputs": [],
   "source": [
    "# Access to the ZTF archive requires an access token:\n",
    "# These are public and free to get, but required to monitor loads.  \n",
    "token = os.environ[\"ARCHIVE_TOKEN\"]\n",
    "AMPEL_CONF = '/home/jnordin/github/ampelTutorial/ampel_conf_707140.yaml'"
   ]
  },
  {
   "cell_type": "markdown",
   "id": "6f61c151",
   "metadata": {},
   "source": [
    "## I. A kilonova model\n",
    "\n",
    "As an example of optical emission we will use a (random) one from the POSSIS library (Bulla et al, 2019). This can be used to predict the output in any optical band as a function of time since explosion."
   ]
  },
  {
   "cell_type": "code",
   "execution_count": null,
   "id": "9a0a66dd",
   "metadata": {},
   "outputs": [],
   "source": [
    "Image(url=\"https://oup.silverchair-cdn.com/oup/backfile/Content_public/Journal/mnras/489/4/10.1093_mnras_stz2495/2/m_stz2495fig5.jpeg?Expires=1653663985&Signature=iGZTSOeDkTa6uOZ1saQFtfyjkesfVWdVmg-fDx842Nui-~Qr~lYmNy7aL13RANasKWQ80EFV3IUuK~OoysAAvjJxmmvyY0wwL6pFr5~fRSteXi7~3xPv0LypDf3VOIDzCnXYcbjsQndp8i2dWYi6oCAIG6MKrgLmVLNIbW3FOFL8eBxGTjVZLBpoWjwDccaiNCekORboDJMO62guW863UNqbyPilt~Dvagmg3B-UcadL16C0fin-rWL78Z0P73t0Y71s~WZs05xkf1c63Vpbysj1zuXYnuW3f7zckTsuLMXZluBq40GUqg65qYzlCO25qRAQ8sNEDxLpARzq1-Kk2Q__&Key-Pair-Id=APKAIE5G5CRDK6RD3PGA\")"
   ]
  },
  {
   "cell_type": "code",
   "execution_count": null,
   "id": "83e50bef",
   "metadata": {},
   "outputs": [],
   "source": [
    "# Initialize a wrapper method which retrieves the model (delay)\n",
    "t2 = T2RunPossis(backup_z=0.03, logger=AmpelLogger.get_logger(), t2_dependency=[], plot_props=None)\n",
    "t2.post_init()"
   ]
  },
  {
   "cell_type": "code",
   "execution_count": null,
   "id": "bce5b461",
   "metadata": {},
   "outputs": [],
   "source": [
    "# Plot the model lightcurve (for arbitrary parameters)\n",
    "t = np.arange(0,4,0.4)\n",
    "for b in ['ztfg','ztfr']:\n",
    "    plt.plot(t,t2.sncosmo_model.bandflux(b, t),label=b,linewidth=4)\n",
    "plt.xlabel('Time since explosion (days)')\n",
    "plt.ylabel('Flux')\n",
    "plt.legend()\n",
    "plt.show()"
   ]
  },
  {
   "cell_type": "code",
   "execution_count": null,
   "id": "a8392a85",
   "metadata": {},
   "outputs": [],
   "source": [
    "# Retrieve optical data for a (named) transient and fit to kilonova model.\n",
    "snname = \"ZTF19aakssbm\""
   ]
  },
  {
   "cell_type": "code",
   "execution_count": null,
   "id": "e094366e",
   "metadata": {},
   "outputs": [],
   "source": [
    "lc = api_to_lightcurve(snname, token=token)"
   ]
  },
  {
   "cell_type": "code",
   "execution_count": null,
   "id": "85c0f7e8",
   "metadata": {},
   "outputs": [],
   "source": [
    "t2out = t2.process(lc, t2_views=[])"
   ]
  },
  {
   "cell_type": "code",
   "execution_count": null,
   "id": "f4249c20",
   "metadata": {},
   "outputs": [],
   "source": [
    "t2.sncosmo_model.parameters = t2out['sncosmo_result']['parameters']"
   ]
  },
  {
   "cell_type": "code",
   "execution_count": null,
   "id": "9c438e8e",
   "metadata": {},
   "outputs": [],
   "source": [
    "t = np.array([0,0.2,0.5,1,1.5, 2,3]) + t2.sncosmo_model.parameters[1]\n",
    "for b in ['ztfg','ztfr']:\n",
    "    plt.plot(t,t2.sncosmo_model.bandmag(b, 'ab', t),label=b,linewidth=5)\n",
    "for fname, fid in zip([\"Obs ZTF g\", \"Obs ZTF R\"],[1,2]):\n",
    "    phot = np.array(lc.get_ntuples(['jd', 'magpsf', 'sigmapsf'], filters={'attribute': 'fid', 'operator': '==', 'value': fid}))\n",
    "    plt.errorbar(phot[:,0],phot[:,1],yerr=phot[:,2],fmt='.', markersize=20, label=fname)\n",
    "plt.xlabel('Time (JD)')\n",
    "plt.ylabel('Magnitude')\n",
    "plt.xlim([t[0]-3,t[-1]+6])\n",
    "plt.gca().invert_yaxis()\n",
    "plt.legend()\n",
    "plt.show()"
   ]
  },
  {
   "cell_type": "markdown",
   "id": "a35e2f6e",
   "metadata": {},
   "source": [
    "## II. A GW contour\n",
    "\n",
    "We will here use the published map of S200213t as a sample detection region with reasonable size. "
   ]
  },
  {
   "cell_type": "code",
   "execution_count": null,
   "id": "12e31883",
   "metadata": {},
   "outputs": [],
   "source": [
    "Image(url=\"https://gracedb.ligo.org/api/superevents/S200213t/files/LALInference.png\")"
   ]
  },
  {
   "cell_type": "code",
   "execution_count": null,
   "id": "47692a2b",
   "metadata": {},
   "outputs": [],
   "source": [
    "# Define name and path to healpix map, as well as a P-value threshold:\n",
    "map_name = 'S200213t'  # Some cand, ok  no reasonable cuts\n",
    "map_url = f\"https://gracedb.ligo.org/api/superevents/{map_name}/files/LALInference.fits.gz\"\n",
    "pvalue_limit = 0.9"
   ]
  },
  {
   "cell_type": "markdown",
   "id": "d39456ad",
   "metadata": {},
   "source": [
    "# So what do I do now?\n",
    "\n",
    "I have a merger model and I have a GW signal - what is the next step?\n",
    "We can sketch a scientific analysis:\n",
    "- Get hold of a lot of data coming from this (fairly large) region in an efficient fashion.\n",
    "- Go through a galaxy catalogs to find distances, where available.\n",
    "- Compare all of these matches with the merger model, and see whether any are compatible with explosion times and distances in a statistical sense.\n",
    "- Set this up to match all X models, all X template matches or add it to a live stream of alerts or...\n",
    "\n",
    "This seems like a lot of work, and work which someone else is probably better at...\n"
   ]
  },
  {
   "cell_type": "markdown",
   "id": "88e80ee7",
   "metadata": {},
   "source": [
    "## The AMPEL framework\n",
    "\n",
    "We can now identify units which can complete these steps:"
   ]
  },
  {
   "cell_type": "code",
   "execution_count": null,
   "id": "7e0ad0f6",
   "metadata": {},
   "outputs": [],
   "source": [
    "# Already used one interface unit which loaded a particular POSSIS model and made it accessible through\n",
    "# a generalized lightcurve format.\n",
    "T2RunPossis??"
   ]
  },
  {
   "cell_type": "code",
   "execution_count": null,
   "id": "b933b1c1",
   "metadata": {
    "scrolled": true
   },
   "outputs": [],
   "source": [
    "# There is also a general method for matching coordinates to any in a large series of catalgs\n",
    "T2CatalogMatch??"
   ]
  },
  {
   "cell_type": "code",
   "execution_count": null,
   "id": "a809454f",
   "metadata": {},
   "outputs": [],
   "source": [
    "# And a processor which systematically chunks a healpix maps and retrieves alerts for you\n",
    "T0HealpixPathProcessor??"
   ]
  },
  {
   "cell_type": "code",
   "execution_count": null,
   "id": "39e29dc5",
   "metadata": {},
   "outputs": [],
   "source": [
    "# The output data will be stored in an (assumed existing) local MongoDB. \n",
    "# Also, a scratchdir is used to store plots\n",
    "dbname = 'HereusDB'\n",
    "channel = 'Tutorial'\n",
    "scratchdir = '/home/jnordin/tmp/tutorial'"
   ]
  },
  {
   "cell_type": "code",
   "execution_count": null,
   "id": "a926ec6c",
   "metadata": {},
   "outputs": [],
   "source": [
    "%%capture --no-display\n",
    "ctx = DevAmpelContext.load(\n",
    "    config = AMPEL_CONF,\n",
    "    db_prefix = dbname,\n",
    "    purge_db = True,\n",
    "    vault = AmpelVault([DictSecretProvider({\"ztf/archive/token\": os.environ[\"ARCHIVE_TOKEN\"],})]),\n",
    ")\n",
    "ctx.add_channel(\n",
    "    name=channel,\n",
    "    access=['ZTF', 'ZTF_PUB', 'ZTF_PRIV']\n",
    ")"
   ]
  },
  {
   "cell_type": "markdown",
   "id": "b38eff70",
   "metadata": {},
   "source": [
    "The most complex part of an alert schema are the directives which regulate which units should be applied to which datapoints of which streams:"
   ]
  },
  {
   "cell_type": "code",
   "execution_count": null,
   "id": "70141947",
   "metadata": {},
   "outputs": [],
   "source": [
    "directives = {'channel': 'Tutorial',\n",
    "    'filter': {\n",
    "                'unit': 'DecentFilter',\n",
    "                'config': standard_configs('DecentFilter', 'Single'),\n",
    "                'on_stock_match': 'bypass'},\n",
    "    'ingest': {\n",
    "                'stock_t2': [{'unit': 'T2PropagateStockInfo',\n",
    "                'config': standard_configs('T2PropagateStockInfo', 'Healpix')}],\n",
    "                'mux': {'unit': 'ZiArchiveMuxer',\n",
    "                        'config': {'history_days': 50, 'future_days': 50},\n",
    "                        'combine': [{'unit': 'ZiT1Combiner',\n",
    "                        'state_t2': [ {\n",
    "                                        'unit': 'T2DigestRedshifts',\n",
    "                                        'config': standard_configs('T2DigestRedshifts', 'MultipleFirstPPSPhotoZ')},\n",
    "                                    {'unit': 'T2RunPossis', 'config': standard_configs('T2RunPossis', 'StockTriggerPhotoZ')}]}\n",
    "                                   ],\n",
    "                        'insert': {'point_t2': \n",
    "                                   [{'unit': 'T2CatalogMatch', 'config': standard_configs('T2CatalogMatch', 'MultipleFirstPPS'),\n",
    "                                    'ingest': {'filter': 'PPSFilter',\n",
    "                                    'sort': 'jd',\n",
    "                                    'select': 'first'}}]\n",
    "                                  }\n",
    "                       }\n",
    "    }\n",
    "}\n",
    "directives['ingest']['mux']['combine'][0]['state_t2'][1]['config']['plot_props']['disk_save'] = scratchdir"
   ]
  },
  {
   "cell_type": "markdown",
   "id": "73ecfbc0",
   "metadata": {},
   "source": [
    "All of the above os joined in a processor which combined the data streams and allocates tickets for future operations."
   ]
  },
  {
   "cell_type": "code",
   "execution_count": null,
   "id": "411f471c",
   "metadata": {},
   "outputs": [],
   "source": [
    "ac = T0HealpixPathProcessor(\n",
    "    context = ctx,\n",
    "    process_name = \"LIGOScript_{}\".format(channel),\n",
    "    iter_max = 100000,\n",
    "    map_name = map_name,\n",
    "    map_url = map_url,\n",
    "    scratch_dir = scratchdir,\n",
    "    pvalue_limit = pvalue_limit,\n",
    "    supplier = {\n",
    "        \"unit\": \"ZiHealpixAlertSupplier\",\n",
    "        'config': {\n",
    "            'loader': {\n",
    "                'unit': 'ZTFHealpixAlertLoader',\n",
    "                'config':{\n",
    "                    'archive_token': os.environ[\"ARCHIVE_TOKEN\"],\n",
    "                    'chunk_size': 1000,\n",
    "                    'future_days': 3,\n",
    "                    'history_days': 10,\n",
    "                }\n",
    "            },\n",
    "        }\n",
    "    },\n",
    "    shaper = \"ZiDataPointShaper\",\n",
    "    log_profile = \"debug\",\n",
    "    compiler_opts = ZiCompilerOptions(),\n",
    "    database = \"mongo\",\n",
    "    directives = directives,\n",
    ")\n",
    "ac.run()"
   ]
  },
  {
   "cell_type": "code",
   "execution_count": null,
   "id": "75e526f7",
   "metadata": {},
   "outputs": [],
   "source": [
    "%%capture --no-display\n",
    "t2w = ctx.new_context_unit(\n",
    "    unit = 'T2Worker',\n",
    "    process_name = 'T2Processor_7',\n",
    ")\n",
    "t2w.run()"
   ]
  },
  {
   "cell_type": "markdown",
   "id": "71b4f8f6",
   "metadata": {},
   "source": [
    "## Summary of what just happened\n",
    "\n",
    "This notebook skips layers of details regarding what happens. This is a summary:\n",
    "\n",
    "- Read an arbitrary kilonova model into an interface unit.\n",
    "- Download a Healpix map from GraceDB.\n",
    "- Retrieved optical data from potential ZTF counterparts within the 90% contour in bunches.\n",
    "- Filtered for likely astrophysical events, avoiding stars from Gaia/PanStarrs and artifacts.\n",
    "- Matched to a series of catalogs, looking for redshifts (spectroscopic of available, otherwise photo-z).\n",
    "- Fit a kilonva model fixed to the GraceDB explosion time and whatever redshift information was available.\n",
    "\n",
    "A complex process, but it is something which you can run (and improve on)."
   ]
  },
  {
   "cell_type": "code",
   "execution_count": null,
   "id": "71e6b9ef",
   "metadata": {},
   "outputs": [],
   "source": [
    "# Lets look at some (almost random) outcome\n",
    "SVG(filename=\"{}/ZTF20aanlgon.svg\".format(scratchdir))"
   ]
  },
  {
   "cell_type": "markdown",
   "id": "38e3781d",
   "metadata": {},
   "source": [
    "Did we just find a kilonova? Not likely. But we did construct an analysis schema which can be improved, distributed, applied to a large samples or turned into a real-time analysis. "
   ]
  },
  {
   "cell_type": "markdown",
   "id": "426a4ba8",
   "metadata": {},
   "source": [
    "### Takeaway message\n",
    "\n",
    "- Low-latency multi-messenger astronomy will be exciting but also hard: tools, data-streams and models need to be modluar and learn to talk to each other in an efficient and repeatable way. \n",
    "- At the other hand, the same system will open up a wealth of possibilities for creative scientists who comes up with a way to improve one component...\n",
    "- ... if we make sure that what we produce can be accessed and used by others. \n",
    "- AMPEL is a public framework which can allow you to share models, parse data or construct real-time programs."
   ]
  }
 ],
 "metadata": {
  "kernelspec": {
   "display_name": "Python 3 (ipykernel)",
   "language": "python",
   "name": "python3"
  },
  "language_info": {
   "codemirror_mode": {
    "name": "ipython",
    "version": 3
   },
   "file_extension": ".py",
   "mimetype": "text/x-python",
   "name": "python",
   "nbconvert_exporter": "python",
   "pygments_lexer": "ipython3",
   "version": "3.9.12"
  }
 },
 "nbformat": 4,
 "nbformat_minor": 5
}
