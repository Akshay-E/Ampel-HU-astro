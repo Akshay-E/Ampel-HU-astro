{
 "cells": [
  {
   "cell_type": "markdown",
   "id": "4fd252ee",
   "metadata": {},
   "source": [
    "This notebook shows how to retreieve alerts belonging to either a topic (permanent) or query (temporary) archive token, and then filter these through matching with a (remote) catalog hosted at DESY."
   ]
  },
  {
   "cell_type": "code",
   "execution_count": null,
   "id": "cc4d474e",
   "metadata": {},
   "outputs": [],
   "source": [
    "import requests, os\n",
    "from astropy.time import Time"
   ]
  },
  {
   "cell_type": "code",
   "execution_count": null,
   "id": "2304d7c2",
   "metadata": {},
   "outputs": [],
   "source": [
    "from ampel.log.AmpelLogger import AmpelLogger\n",
    "from ampel.contrib.hu.t0.RedshiftCatalogFilter import RedshiftCatalogFilter\n",
    "\n",
    "from ampel.ztf.t0.load.ZTFArchiveAlertLoader import ZTFArchiveAlertLoader\n",
    "from ampel.ztf.alert.ZiAlertSupplier import ZiAlertSupplier\n"
   ]
  },
  {
   "cell_type": "code",
   "execution_count": null,
   "id": "bbfc4e13",
   "metadata": {},
   "outputs": [],
   "source": [
    "header = {\"Authorization\": \"bearer \"+os.environ[\"ARCHIVE_TOKEN\"]}\n",
    "base_url = 'https://ampel.zeuthen.desy.de/api/ztf/archive/v3'"
   ]
  },
  {
   "cell_type": "markdown",
   "id": "6da955a8",
   "metadata": {},
   "source": [
    "## A. Filter parameters\n",
    "We use a redshift catalog filter, based on a selection of nearby galaxies from NED."
   ]
  },
  {
   "cell_type": "code",
   "execution_count": null,
   "id": "6d467176",
   "metadata": {},
   "outputs": [],
   "source": [
    "# This filter is based on ned and has a lot of parameters which can be changed\n",
    "RedshiftCatalogFilter??"
   ]
  },
  {
   "cell_type": "code",
   "execution_count": null,
   "id": "f779ff60",
   "metadata": {},
   "outputs": [],
   "source": [
    "# Decent filter parameters\n",
    "filter_config = {\n",
    "    \"catalog_match_radius\": 30,\n",
    "    \"min_z\": 0.002,\n",
    "    \"max_z\": 0.025,\n",
    "    \"max_tspan\": 5.,        # Max total detection age in alert\n",
    "    \"max_archive_tspan\": 5.,        # Max total detection age in IPAC DB\n",
    "    \"min_rb\": 0.3,             # real bogus score\n",
    "    \"min_drb\": 0.995,         # deep learning real bogus score \n",
    "    # Should be set during proper install\n",
    "    \"resource\": {\"ampel-ztf/catalogmatch\":\"https://ampel.zeuthen.desy.de/api/catalogmatch/\"},\n",
    "}"
   ]
  },
  {
   "cell_type": "markdown",
   "id": "3f9458b7",
   "metadata": {},
   "source": [
    "## B. Getting a handle to alerts.\n",
    "A _resume token_, which points to a specific set of alerts. We will here directly query the alert archives - other notebooks explore other methods for selecting alerts. "
   ]
  },
  {
   "cell_type": "code",
   "execution_count": null,
   "id": "f30c832f",
   "metadata": {},
   "outputs": [],
   "source": [
    "delta_t = 4."
   ]
  },
  {
   "cell_type": "code",
   "execution_count": null,
   "id": "9d57df8c",
   "metadata": {},
   "outputs": [],
   "source": [
    "query = {\n",
    "  \"jd\": {\n",
    "    \"$gt\": Time.now().jd-delta_t,\n",
    "    \"$lt\": Time.now().jd\n",
    "  },\n",
    "  \"candidate\": {\n",
    "    \"drb\": {\n",
    "      \"$gt\": 0.995\n",
    "    },\n",
    "    \"magpsf\": {\n",
    "      \"$gt\": 16.\n",
    "    },\n",
    "    \"ndethist\": {\n",
    "      \"$gt\": 0,\n",
    "      \"$lte\": 5\n",
    "    },\n",
    "# Possible select solar system objects (if allowing few ndet)\n",
    "    \"ssdistnr\": {\n",
    "      \"$gt\": 20.,\n",
    "    },\n",
    "    \"ssdistnr\": {\n",
    "      \"$lt\": 0.\n",
    "    },\n",
    "    \"isdiffpos\": {\"$in\": [\"t\", \"1\"]},\n",
    "  }\n",
    "}"
   ]
  },
  {
   "cell_type": "code",
   "execution_count": null,
   "id": "a8e8bc77",
   "metadata": {},
   "outputs": [],
   "source": [
    "endpoint = 'https://ampel.zeuthen.desy.de/api/ztf/archive/v3/streams/from_query?'\n",
    "header = {\"Authorization\": \"bearer \"+os.environ[\"ARCHIVE_TOKEN\"]}"
   ]
  },
  {
   "cell_type": "code",
   "execution_count": null,
   "id": "a38013e0",
   "metadata": {},
   "outputs": [],
   "source": [
    "response = requests.post(endpoint, headers=header, json=query )"
   ]
  },
  {
   "cell_type": "code",
   "execution_count": null,
   "id": "6c95574a",
   "metadata": {},
   "outputs": [],
   "source": [
    "response.ok"
   ]
  },
  {
   "cell_type": "code",
   "execution_count": null,
   "id": "2f6de5f4",
   "metadata": {},
   "outputs": [],
   "source": [
    "resume_token = response.json()['resume_token']"
   ]
  },
  {
   "cell_type": "markdown",
   "id": "b8c06b91",
   "metadata": {},
   "source": [
    "### 4. Configure and load a filter\n",
    "As defined above"
   ]
  },
  {
   "cell_type": "code",
   "execution_count": null,
   "id": "7af38731",
   "metadata": {},
   "outputs": [],
   "source": [
    "logger = AmpelLogger.get_logger()"
   ]
  },
  {
   "cell_type": "code",
   "execution_count": null,
   "id": "82d45239",
   "metadata": {},
   "outputs": [],
   "source": [
    "t0filter = RedshiftCatalogFilter( **filter_config, logger=logger )\n",
    "t0filter.post_init()"
   ]
  },
  {
   "cell_type": "markdown",
   "id": "dd513027",
   "metadata": {},
   "source": [
    "## C. Iterate through filters from the stream, checking whether the filter would accept them"
   ]
  },
  {
   "cell_type": "code",
   "execution_count": null,
   "id": "dd3e88d8",
   "metadata": {},
   "outputs": [],
   "source": [
    "config = {'archive':\"https://ampel.zeuthen.desy.de/api/ztf/archive/v3\", \n",
    "          \"stream\": resume_token}   # From above"
   ]
  },
  {
   "cell_type": "code",
   "execution_count": null,
   "id": "ebd3f8e6",
   "metadata": {},
   "outputs": [],
   "source": [
    "accepted_alerts = []\n",
    "alertcount = 0"
   ]
  },
  {
   "cell_type": "code",
   "execution_count": null,
   "id": "024f8d01",
   "metadata": {},
   "outputs": [],
   "source": [
    "try:\n",
    "    alertloader = ZTFArchiveAlertLoader(**config)\n",
    "    for alert in alertloader.get_alerts():\n",
    "        alertcount += 1\n",
    "        filter_accept = t0filter.process( ZiAlertSupplier.shape_alert_dict( alert, [] ) )\n",
    "        if filter_accept:\n",
    "            accepted_alerts.append(alert)\n",
    "            print('... accepted')\n",
    "        if alertcount % 100 == 0:\n",
    "            print('Parsed {} alerts, out of which {} passed'.format(alertcount, len(accepted_alerts)))\n",
    "except requests.exceptions.HTTPError as e:\n",
    "    status_code = e.response.status_code\n",
    "    if status_code==423:\n",
    "        print('HTTP error {}: likely caused by server staging process. Wait and try again.'.format(status_code) )\n",
    "    else:\n",
    "        raise e\n"
   ]
  },
  {
   "cell_type": "code",
   "execution_count": null,
   "id": "0f4a583c",
   "metadata": {},
   "outputs": [],
   "source": [
    "print(f'Number of alerts inspected: {alertcount}')"
   ]
  },
  {
   "cell_type": "code",
   "execution_count": null,
   "id": "aab65cf6",
   "metadata": {},
   "outputs": [],
   "source": [
    "print('Total number of alertsselected:', len( accepted_alerts ) )"
   ]
  },
  {
   "cell_type": "code",
   "execution_count": null,
   "id": "a23ca829",
   "metadata": {},
   "outputs": [],
   "source": [
    "set( [a['objectId'] for a in accepted_alerts] )"
   ]
  },
  {
   "cell_type": "code",
   "execution_count": null,
   "id": "66598caa",
   "metadata": {},
   "outputs": [],
   "source": []
  }
 ],
 "metadata": {
  "kernelspec": {
   "display_name": "Python 3 (ipykernel)",
   "language": "python",
   "name": "python3"
  },
  "language_info": {
   "codemirror_mode": {
    "name": "ipython",
    "version": 3
   },
   "file_extension": ".py",
   "mimetype": "text/x-python",
   "name": "python",
   "nbconvert_exporter": "python",
   "pygments_lexer": "ipython3",
   "version": "3.10.6"
  }
 },
 "nbformat": 4,
 "nbformat_minor": 5
}
