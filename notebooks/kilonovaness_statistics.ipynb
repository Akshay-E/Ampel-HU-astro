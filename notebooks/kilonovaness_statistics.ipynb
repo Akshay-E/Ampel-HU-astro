{
 "cells": [
  {
   "cell_type": "code",
   "execution_count": 2,
   "metadata": {},
   "outputs": [],
   "source": [
    "import numpy as np\n",
    "import pandas as pd\n",
    "import matplotlib.pyplot as plt\n",
    "import os"
   ]
  },
  {
   "cell_type": "code",
   "execution_count": 19,
   "metadata": {},
   "outputs": [
    {
     "name": "stdout",
     "output_type": "stream",
     "text": [
      "/mnt/c/Users/Public/Documents/Uni/master/masterarbeit/ampel/ampel-results/ligo-kilonova/S190901ap_rev_0/TransientTable.csv\n",
      "/mnt/c/Users/Public/Documents/Uni/master/masterarbeit/ampel/ampel-results/ligo-kilonova/S190910d_rev_0/TransientTable.csv\n",
      "/mnt/c/Users/Public/Documents/Uni/master/masterarbeit/ampel/ampel-results/ligo-kilonova/S190910h_rev_0/TransientTable.csv\n",
      "/mnt/c/Users/Public/Documents/Uni/master/masterarbeit/ampel/ampel-results/ligo-kilonova/S190930s_rev_0/TransientTable.csv\n",
      "/mnt/c/Users/Public/Documents/Uni/master/masterarbeit/ampel/ampel-results/ligo-kilonova/S190930t_rev_0/TransientTable.csv\n",
      "/mnt/c/Users/Public/Documents/Uni/master/masterarbeit/ampel/ampel-results/ligo-kilonova/S191109d_rev_0/TransientTable.csv\n",
      "/mnt/c/Users/Public/Documents/Uni/master/masterarbeit/ampel/ampel-results/ligo-kilonova/S191110x_rev_0/TransientTable.csv\n",
      "/mnt/c/Users/Public/Documents/Uni/master/masterarbeit/ampel/ampel-results/ligo-kilonova/S200115j_rev_0/TransientTable.csv\n"
     ]
    }
   ],
   "source": [
    "tablefile_dir = \"/mnt/c/Users/Public/Documents/Uni/master/masterarbeit/ampel/ampel-results/ligo-kilonova\"\n",
    "tablefile_name = \"TransientTable.csv\"\n",
    "\n",
    "tablefiles = [os.path.join(tablefile_dir, event_dir, tablefile_name) for event_dir in os.listdir(tablefile_dir) if os.path.exists(os.path.join(tablefile_dir, event_dir, tablefile_name) )]\n",
    "\n",
    "print(\"\\n\".join(tablefiles))"
   ]
  },
  {
   "cell_type": "code",
   "execution_count": 20,
   "metadata": {},
   "outputs": [
    {
     "name": "stdout",
     "output_type": "stream",
     "text": [
      "/mnt/c/Users/Public/Documents/Uni/master/masterarbeit/ampel/ampel-results/ligo-kilonova/S190901ap_rev_0/TransientTable.csv\n",
      "/mnt/c/Users/Public/Documents/Uni/master/masterarbeit/ampel/ampel-results/ligo-kilonova/S190910d_rev_0/TransientTable.csv\n",
      "/mnt/c/Users/Public/Documents/Uni/master/masterarbeit/ampel/ampel-results/ligo-kilonova/S190910h_rev_0/TransientTable.csv\n",
      "/mnt/c/Users/Public/Documents/Uni/master/masterarbeit/ampel/ampel-results/ligo-kilonova/S190930s_rev_0/TransientTable.csv\n",
      "/mnt/c/Users/Public/Documents/Uni/master/masterarbeit/ampel/ampel-results/ligo-kilonova/S190930t_rev_0/TransientTable.csv\n",
      "/mnt/c/Users/Public/Documents/Uni/master/masterarbeit/ampel/ampel-results/ligo-kilonova/S191109d_rev_0/TransientTable.csv\n",
      "/mnt/c/Users/Public/Documents/Uni/master/masterarbeit/ampel/ampel-results/ligo-kilonova/S191110x_rev_0/TransientTable.csv\n",
      "/mnt/c/Users/Public/Documents/Uni/master/masterarbeit/ampel/ampel-results/ligo-kilonova/S200115j_rev_0/TransientTable.csv\n"
     ]
    },
    {
     "data": {
      "text/plain": [
       "(array([380.,  16.,  42.,  24.,  11.,  28.,   8.,   3.,   1.,   2.]),\n",
       " array([4.12776062e-05, 2.38964814e-03, 4.73801868e-03, 7.08638921e-03,\n",
       "        9.43475975e-03, 1.17831303e-02, 1.41315008e-02, 1.64798714e-02,\n",
       "        1.88282419e-02, 2.11766124e-02, 2.35249830e-02]),\n",
       " <BarContainer object of 10 artists>)"
      ]
     },
     "execution_count": 20,
     "metadata": {},
     "output_type": "execute_result"
    },
    {
     "data": {
      "image/png": "[encoded data removed]",
      "text/plain": [
       "<Figure size 640x480 with 1 Axes>"
      ]
     },
     "metadata": {},
     "output_type": "display_data"
    }
   ],
   "source": [
    "data = pd.DataFrame()\n",
    "\n",
    "for file in tablefiles:\n",
    "    print(file)\n",
    "    df_tmp = pd.read_csv(file, sep=\";\")\n",
    "    data = pd.concat([data, df_tmp])\n",
    "\n",
    "data[\"Kilonovaness per area\"] = data[\"Kilonovaness\"] / data[\"Map area\"]\n",
    "\n",
    "#plt.scatter(data[\"Map area\"], data[\"Kilonovaness\"])\n",
    "plt.hist(data[\"Kilonovaness per area\"])"
   ]
  },
  {
   "cell_type": "code",
   "execution_count": null,
   "metadata": {},
   "outputs": [],
   "source": []
  }
 ],
 "metadata": {
  "kernelspec": {
   "display_name": "ampel-hu",
   "language": "python",
   "name": "python3"
  },
  "language_info": {
   "codemirror_mode": {
    "name": "ipython",
    "version": 3
   },
   "file_extension": ".py",
   "mimetype": "text/x-python",
   "name": "python",
   "nbconvert_exporter": "python",
   "pygments_lexer": "ipython3",
   "version": "3.10.9"
  },
  "orig_nbformat": 4
 },
 "nbformat": 4,
 "nbformat_minor": 2
}
