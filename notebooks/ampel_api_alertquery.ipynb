{
 "cells": [
  {
   "cell_type": "code",
   "execution_count": null,
   "id": "cc4d474e",
   "metadata": {},
   "outputs": [],
   "source": [
    "import requests"
   ]
  },
  {
   "cell_type": "code",
   "execution_count": null,
   "id": "2304d7c2",
   "metadata": {},
   "outputs": [],
   "source": [
    "token = \"token\"\n",
    "header = {\"Authorization\": \"bearer \"+token}"
   ]
  },
  {
   "cell_type": "code",
   "execution_count": null,
   "id": "4cc2223c",
   "metadata": {},
   "outputs": [],
   "source": [
    "endpoint = 'https://ampel.zeuthen.desy.de/api/ztf/archive/v3/streams/from_query?programid=1'"
   ]
  },
  {
   "cell_type": "code",
   "execution_count": null,
   "id": "779a4bad",
   "metadata": {},
   "outputs": [],
   "source": [
    "query = {\n",
    "  \"jd\": {\n",
    "    \"gt\": 2459550.5,\n",
    "    \"lt\": 2459551.5\n",
    "  },\n",
    "  \"candidate\": {\n",
    "    \"drb\": {\n",
    "      \"$gt\": 0.995\n",
    "    },\n",
    "    \"magpsf\": {\n",
    "      \"$gt\": 18\n",
    "    },\n",
    "    \"ndethist\": {\n",
    "      \"$gt\": 5,\n",
    "      \"$lte\": 30\n",
    "    },\n",
    "    \"ndethist\": {\n",
    "      \"$gt\": 5,\n",
    "      \"$lte\": 30\n",
    "    }\n",
    "\n",
    "  }\n",
    "}"
   ]
  },
  {
   "cell_type": "code",
   "execution_count": null,
   "id": "6c500692",
   "metadata": {},
   "outputs": [],
   "source": [
    "query"
   ]
  },
  {
   "cell_type": "code",
   "execution_count": null,
   "id": "67e221e4",
   "metadata": {},
   "outputs": [],
   "source": [
    "response = requests.post(endpoint, headers=header, json=query )"
   ]
  },
  {
   "cell_type": "code",
   "execution_count": null,
   "id": "5f01b054",
   "metadata": {},
   "outputs": [],
   "source": [
    "response"
   ]
  },
  {
   "cell_type": "code",
   "execution_count": null,
   "id": "a97420fb",
   "metadata": {},
   "outputs": [],
   "source": [
    "response.headers"
   ]
  },
  {
   "cell_type": "code",
   "execution_count": null,
   "id": "e8c9f013",
   "metadata": {},
   "outputs": [],
   "source": [
    "response.json()"
   ]
  },
  {
   "cell_type": "code",
   "execution_count": null,
   "id": "c4650574",
   "metadata": {},
   "outputs": [],
   "source": [
    "stream_identifier = response.json()['resume_token']"
   ]
  },
  {
   "cell_type": "code",
   "execution_count": null,
   "id": "31af743d",
   "metadata": {},
   "outputs": [],
   "source": [
    "from ampel.ztf.t0.load.ZTFArchiveAlertLoader import ZTFArchiveAlertLoader"
   ]
  },
  {
   "cell_type": "code",
   "execution_count": null,
   "id": "3351339a",
   "metadata": {},
   "outputs": [],
   "source": [
    "ZTFArchiveAlertLoader??"
   ]
  },
  {
   "cell_type": "code",
   "execution_count": null,
   "id": "7556e422",
   "metadata": {},
   "outputs": [],
   "source": [
    "config = {'archive':\"https://ampel.zeuthen.desy.de/api/ztf/archive/v3\", \"stream\":stream_identifier}"
   ]
  },
  {
   "cell_type": "code",
   "execution_count": null,
   "id": "0baf5c57",
   "metadata": {},
   "outputs": [],
   "source": [
    "alertloader = ZTFArchiveAlertLoader(**config)"
   ]
  },
  {
   "cell_type": "code",
   "execution_count": null,
   "id": "b3785b78",
   "metadata": {},
   "outputs": [],
   "source": [
    "alertloader.stream"
   ]
  },
  {
   "cell_type": "code",
   "execution_count": null,
   "id": "69779369",
   "metadata": {},
   "outputs": [],
   "source": [
    "alerts = alertloader.get_alerts()"
   ]
  },
  {
   "cell_type": "code",
   "execution_count": null,
   "id": "90799b5a",
   "metadata": {},
   "outputs": [],
   "source": [
    "acount = 0"
   ]
  },
  {
   "cell_type": "code",
   "execution_count": null,
   "id": "3898a9a5",
   "metadata": {},
   "outputs": [],
   "source": [
    "alert = next(alerts)"
   ]
  },
  {
   "cell_type": "code",
   "execution_count": null,
   "id": "f996493d",
   "metadata": {},
   "outputs": [],
   "source": [
    "alert"
   ]
  },
  {
   "cell_type": "code",
   "execution_count": null,
   "id": "d720a067",
   "metadata": {},
   "outputs": [],
   "source": [
    "for alert in alerts:\n",
    "    acount += 1\n",
    "    print(acount, alert['objectId'])"
   ]
  },
  {
   "cell_type": "code",
   "execution_count": null,
   "id": "e7ccc97a",
   "metadata": {},
   "outputs": [],
   "source": []
  }
 ],
 "metadata": {
  "kernelspec": {
   "display_name": "Python 3 (ipykernel)",
   "language": "python",
   "name": "python3"
  },
  "language_info": {
   "codemirror_mode": {
    "name": "ipython",
    "version": 3
   },
   "file_extension": ".py",
   "mimetype": "text/x-python",
   "name": "python",
   "nbconvert_exporter": "python",
   "pygments_lexer": "ipython3",
   "version": "3.9.7"
  }
 },
 "nbformat": 4,
 "nbformat_minor": 5
}
