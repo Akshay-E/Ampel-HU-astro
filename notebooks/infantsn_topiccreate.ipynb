{
 "cells": [
  {
   "cell_type": "markdown",
   "id": "60df7298",
   "metadata": {},
   "source": [
    "This notebook will read a retrieve a list of infant SNe as described in a series of input lists, and uses these to create a permabent alert topic. This can later be used to repeatedly retrieve the alerts.\n",
    "\n",
    "Targets will be restricted to _names_ belonging to 2020 to create a controlled sample (with dRB, references etc). This will allow the creation of filter that works in the future, but might not work from the start of ZTF."
   ]
  },
  {
   "cell_type": "code",
   "execution_count": null,
   "id": "f799b2e9",
   "metadata": {},
   "outputs": [],
   "source": [
    "import os, requests\n",
    "import pandas as pd\n",
    "from ampel_notebook_utils import api_name2candids\n",
    "import matplotlib.pyplot as plt"
   ]
  },
  {
   "cell_type": "code",
   "execution_count": null,
   "id": "26fccb22",
   "metadata": {},
   "outputs": [],
   "source": [
    "# Early SNe Ia, as collected by M.D.\n",
    "df_ia = pd.read_csv('/home/jnordin/data/ztf/filter_infant_sne/earlyia_maxime.dat', header=None, names=['name'])\n",
    "sne = list(df_ia.name)"
   ]
  },
  {
   "cell_type": "code",
   "execution_count": null,
   "id": "2ea92e06",
   "metadata": {},
   "outputs": [],
   "source": [
    "# Early CCSN, as collected by RB. \n",
    "# We here use the early \n",
    "df_cc = pd.read_csv('/home/jnordin/data/ztf/filter_infant_sne/fup_within_1d_sneII.ascii')\n",
    "sne.extend( list(df_cc['name']) )"
   ]
  },
  {
   "cell_type": "code",
   "execution_count": null,
   "id": "e969751c",
   "metadata": {},
   "outputs": [],
   "source": [
    "df_cc = pd.read_csv('/home/jnordin/data/ztf/filter_infant_sne/fup_m1d_l2d_sneII.ascii')\n",
    "sne.extend( list(df_cc['name']) )"
   ]
  },
  {
   "cell_type": "code",
   "execution_count": null,
   "id": "3c5552f9",
   "metadata": {},
   "outputs": [],
   "source": [
    "# Distribution per year prior to limit\n",
    "_ = plt.hist([int(sn[3:5]) for sn in sne])\n",
    "plt.xlabel('Year of ZTF name')"
   ]
  },
  {
   "cell_type": "code",
   "execution_count": null,
   "id": "75f4252e",
   "metadata": {},
   "outputs": [],
   "source": [
    "sne = [sn for sn in sne if sn[3:5]=='20']"
   ]
  },
  {
   "cell_type": "code",
   "execution_count": null,
   "id": "99e9faac",
   "metadata": {},
   "outputs": [],
   "source": [
    "print('We will create a topic with {} supernovae'.format(len(sne)))"
   ]
  },
  {
   "cell_type": "markdown",
   "id": "9e232310",
   "metadata": {},
   "source": [
    "A AMPEL archive access token needs to be supplied to access the archive. This can be obtained from the archive tab of \n",
    "https://ampel.zeuthen.desy.de/live/dashboard/tokens\n",
    "(assumes user to have joined the AmpelProject github organization). "
   ]
  },
  {
   "cell_type": "code",
   "execution_count": null,
   "id": "c8c56542",
   "metadata": {},
   "outputs": [],
   "source": [
    "token = os.environ[\"ARCHIVE_TOKEN\"]   # Token here stored as system variable"
   ]
  },
  {
   "cell_type": "code",
   "execution_count": null,
   "id": "ee4c6109",
   "metadata": {},
   "outputs": [],
   "source": [
    "# Find alert candidate IDS for the list of sne\n",
    "# Takes a while since this queries the archive for each\n",
    "candids = [api_name2candids(sn, token) for sn in sne]"
   ]
  },
  {
   "cell_type": "code",
   "execution_count": null,
   "id": "14eebfc4",
   "metadata": {},
   "outputs": [],
   "source": [
    "mycandids = [a for sncandids in candids for a in sncandids]"
   ]
  },
  {
   "cell_type": "code",
   "execution_count": null,
   "id": "d27d3544",
   "metadata": {},
   "outputs": [],
   "source": [
    "print('Preparing to create a topic containing {} alerts from {} sne'.format(len(mycandids), len(candids)))"
   ]
  },
  {
   "cell_type": "markdown",
   "id": "376a59e8",
   "metadata": {},
   "source": [
    "Post topics based on this list. Start by one containing the most populous alert from each."
   ]
  },
  {
   "cell_type": "code",
   "execution_count": null,
   "id": "495444c0",
   "metadata": {},
   "outputs": [],
   "source": [
    "topic_disc = 'A list of 2565 alerts from 27 2020 SNe which were detected early. Created May 24 2022.'"
   ]
  },
  {
   "cell_type": "code",
   "execution_count": null,
   "id": "986a4385",
   "metadata": {},
   "outputs": [],
   "source": [
    "body = {\n",
    "    \"description\" : topic_disc,\n",
    "    \"candids\" : mycandids\n",
    "}"
   ]
  },
  {
   "cell_type": "code",
   "execution_count": null,
   "id": "adbc9c81",
   "metadata": {},
   "outputs": [],
   "source": [
    "base_url = 'https://ampel.zeuthen.desy.de/api/ztf/archive/v3'"
   ]
  },
  {
   "cell_type": "code",
   "execution_count": null,
   "id": "fc612088",
   "metadata": {},
   "outputs": [],
   "source": [
    "response = requests.post(f\"{base_url}/topics/\", headers={\"Authorization\": \"bearer \"+token}, json=body )"
   ]
  },
  {
   "cell_type": "code",
   "execution_count": null,
   "id": "f2f677f7",
   "metadata": {},
   "outputs": [],
   "source": [
    "topic_token = response.json()"
   ]
  },
  {
   "cell_type": "code",
   "execution_count": null,
   "id": "98bd2575",
   "metadata": {},
   "outputs": [],
   "source": [
    "print(topic_token)"
   ]
  },
  {
   "cell_type": "markdown",
   "id": "ed72af4f",
   "metadata": {},
   "source": [
    "This is now a _permanent_ token which should be appropriately stored. Note that it is not possible retrieve a token once created through the api, hence you need to keep track of it."
   ]
  },
  {
   "cell_type": "markdown",
   "id": "ca3e01c2",
   "metadata": {},
   "source": [
    "*** \n",
    "_topic_:  Y9R82mkcL1SJq16rTt8_vh-_dx0V7rwEHbGgSgUMlqI\n",
    "\n",
    "_description_: A list of the final alert of 27 SNe which were detected early during 2020. Created May 24 2022.\n",
    "***\n",
    "\n",
    "_topic_:  fz6nmCJwKSdZXhzm3JuBTlMY3xjPsdhkobVLvZzzmt8\n",
    "\n",
    "_description_: A list of 2565 alerts from 27 2020 SNe which were detected early. Created May 24 2022.\n",
    "\n"
   ]
  },
  {
   "cell_type": "code",
   "execution_count": null,
   "id": "5c2c20af",
   "metadata": {},
   "outputs": [],
   "source": []
  }
 ],
 "metadata": {
  "kernelspec": {
   "display_name": "Python 3 (ipykernel)",
   "language": "python",
   "name": "python3"
  },
  "language_info": {
   "codemirror_mode": {
    "name": "ipython",
    "version": 3
   },
   "file_extension": ".py",
   "mimetype": "text/x-python",
   "name": "python",
   "nbconvert_exporter": "python",
   "pygments_lexer": "ipython3",
   "version": "3.9.12"
  }
 },
 "nbformat": 4,
 "nbformat_minor": 5
}
