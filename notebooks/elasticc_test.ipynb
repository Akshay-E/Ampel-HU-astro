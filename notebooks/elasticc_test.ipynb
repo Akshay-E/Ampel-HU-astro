{
 "cells": [
  {
   "cell_type": "markdown",
   "id": "81d2bb05",
   "metadata": {},
   "source": [
    "Test and develop units for elasticc, but based on ZTF alerts. \n",
    "Content:\n",
    "    - Grab a small set of alerts (token, through query?).\n",
    "    - Ingest with the following units scheduled:\n",
    "    - T2ElasticcRedshiftSampler (print journal, then grab default)\n",
    "    - T2RunParsnip (based on redshift weigths)\n",
    "    - T3: ElasticcClassPublisher "
   ]
  },
  {
   "cell_type": "code",
   "execution_count": null,
   "id": "8dfe0d2f",
   "metadata": {},
   "outputs": [],
   "source": [
    "query = {\n",
    "  \"jd\": {\n",
    "    \"$gt\": 2459529.5,\n",
    "    \"$lt\": 2459530.,\n",
    "  },\n",
    "  \"candidate\": {\n",
    "    \"drb\": {\n",
    "      \"$gt\": 0.995\n",
    "    },\n",
    "    \"magpsf\": {\n",
    "      \"$gt\": 17\n",
    "    },\n",
    "    \"ndethist\": {\n",
    "      \"$gt\": 10,\n",
    "    },\n",
    "    \"isdiffpos\": {\"$in\": [\"t\", \"1\"]},\n",
    "  }\n",
    "}"
   ]
  },
  {
   "cell_type": "code",
   "execution_count": null,
   "id": "5edce6fd",
   "metadata": {},
   "outputs": [],
   "source": [
    "import sys, os, time\n",
    "import requests\n",
    "from requests.exceptions import HTTPError\n",
    "from requests.exceptions import ConnectionError"
   ]
  },
  {
   "cell_type": "code",
   "execution_count": null,
   "id": "f74a0072",
   "metadata": {},
   "outputs": [],
   "source": [
    "from ampel.secret.AmpelVault import AmpelVault\n",
    "from ampel.secret.DictSecretProvider import DictSecretProvider\n",
    "from ampel.dev.DevAmpelContext import DevAmpelContext"
   ]
  },
  {
   "cell_type": "code",
   "execution_count": null,
   "id": "28cbfbcb",
   "metadata": {},
   "outputs": [],
   "source": [
    "# Create a secret vault\n",
    "secrets = { 'slack/ztf_general/jno': os.environ[\"SNIaSLACK\"],\n",
    "                              'mongo/logger':{},\n",
    "                              'mongo/writer':{},\n",
    "                              'extcats/reader':{},\n",
    "            'ztf/archive/auth' : {'user' : '', 'password' : ''},\n",
    "            'datalab/pwd':os.environ[\"DATALABPWD\"],\n",
    "            \"desycloud\" : {},\n",
    "            \"ztf/archive/token\": os.environ[\"ARCHIVE_TOKEN\"],\n",
    "           \"desc/user\": \"ampel\",\n",
    "           \"desc/password\": \"manthemachine\",\n",
    "           \n",
    "          }\n",
    "vault = AmpelVault([DictSecretProvider(secrets)])"
   ]
  },
  {
   "cell_type": "code",
   "execution_count": null,
   "id": "73448dcd",
   "metadata": {},
   "outputs": [],
   "source": [
    "AMPEL_CONF = '/home/jnordin/github/ampel82/ampel_conf_9587ed.yaml'\n",
    "channel = 'elasticc'"
   ]
  },
  {
   "cell_type": "code",
   "execution_count": null,
   "id": "c7361c86",
   "metadata": {},
   "outputs": [],
   "source": [
    "ctx = DevAmpelContext.load(\n",
    "    config = AMPEL_CONF,\n",
    "    db_prefix = 'dumpme',\n",
    "    purge_db = False,\n",
    "    vault = vault\n",
    ")\n",
    "ctx.add_channel(\n",
    "    name=channel,\n",
    "    access=['ZTF', 'ZTF_PUB', 'ZTF_PRIV']\n",
    ")"
   ]
  },
  {
   "cell_type": "code",
   "execution_count": null,
   "id": "292c9c3e",
   "metadata": {},
   "outputs": [],
   "source": [
    "header = {\"Authorization\": \"bearer \"+vault.get_named_secret(\"ztf/archive/token\").value}\n",
    "endpoint = 'https://ampel.zeuthen.desy.de/api/ztf/archive/v3/streams/from_query?programid=1'"
   ]
  },
  {
   "cell_type": "code",
   "execution_count": null,
   "id": "d12b0326",
   "metadata": {},
   "outputs": [],
   "source": [
    "response = requests.post(endpoint, headers=header, json=query )\n",
    "if not response.ok:\n",
    "    print( 'Query creation failed' )\n",
    "    print(response)"
   ]
  },
  {
   "cell_type": "code",
   "execution_count": null,
   "id": "74db4e98",
   "metadata": {},
   "outputs": [],
   "source": [
    "loader_config = {'archive':\"https://ampel.zeuthen.desy.de/api/ztf/archive/v3\", \"stream\":response.json()['resume_token']}"
   ]
  },
  {
   "cell_type": "code",
   "execution_count": null,
   "id": "0c684854",
   "metadata": {},
   "outputs": [],
   "source": [
    "loader_config = {'archive': 'https://ampel.zeuthen.desy.de/api/ztf/archive/v3',\n",
    " 'stream': 'G708alr46ux7oLutQjTXhj5zaXSyfQmrw0GsVCaHWxY'}"
   ]
  },
  {
   "cell_type": "code",
   "execution_count": null,
   "id": "7fbb9555",
   "metadata": {},
   "outputs": [],
   "source": [
    "# These are configuration parameters for the initial alert filter step.\n",
    "# Note that this filter configuration assumes that a first filter based on nbr of points were made in the alert query\n",
    "# The T0 stage will not be exposed to the full candidate history. \n",
    "filter_config = {\n",
    "    'min_ndet': 1,\n",
    "    'min_tspan': 15,\n",
    "    'max_tspan': 100,\n",
    "    'min_archive_tspan': 15,\n",
    "    'max_archive_tspan': 100,    \n",
    "    'min_rb': 0.3,\n",
    "    'max_fwhm': 5.5,\n",
    "    'min_gal_lat': 14,\n",
    "    'ps1_sgveto_rad': 1,\n",
    "    'ps1_sgveto_th': 0.8,\n",
    "    'ps1_confusion_rad': 3,\n",
    "    'ps1_confusion_sg_tol': 0.1\n",
    "}"
   ]
  },
  {
   "cell_type": "code",
   "execution_count": null,
   "id": "cf22cdde",
   "metadata": {},
   "outputs": [],
   "source": [
    "parsnip_config = {\n",
    "    'parsnip_model':'/home/jnordin/data/parsnip/parsnip_ps1_ztf.pt', \n",
    "    'parsnip_classifier':'/home/jnordin/data/parsnip/ztf_classifier.pkl', \n",
    "    \"redshift_kind\" : \"T2ElasticcRedshiftSampler\",\n",
    "    \"apply_mwcorrection\": True,\n",
    "    \"t2_dependency\": [\n",
    "        {\n",
    "            \"unit\": \"T2ElasticcRedshiftSampler\",\n",
    "            \"link_override\": {\n",
    "                'filter': 'PPSFilter', 'sort': 'jd', \"select\": \"first\"\n",
    "                }\n",
    "        },     \n",
    "    ], \n",
    "}"
   ]
  },
  {
   "cell_type": "code",
   "execution_count": null,
   "id": "e6b8748c",
   "metadata": {},
   "outputs": [],
   "source": [
    "directives = [\n",
    "        {\n",
    "            \"channel\": channel,\n",
    "            \"filter\": {\n",
    "                \"unit\": \"SimpleDecentFilter\",\n",
    "                \"config\": filter_config,\n",
    "                \"on_stock_match\": 'bypass',\n",
    "            },\n",
    "            \"ingest\": {\n",
    "                \"mux\": {\n",
    "                    \"unit\": \"ZiArchiveMuxer\",\n",
    "                    \"config\": {\n",
    "                        \"history_days\": 999,\n",
    "                        \"future_days\": 999\n",
    "                    },\n",
    "                    \"combine\": [\n",
    "                        {\n",
    "                            \"unit\": \"ZiT1Combiner\",\n",
    "                            \"state_t2\": [\n",
    "                                {\n",
    "                                    \"unit\": \"T2RunParsnip\",\n",
    "                                    \"config\": parsnip_config,\n",
    "                                },                            \n",
    "                            ]\n",
    "                        }\n",
    "                    ],\n",
    "                    \"insert\": {\n",
    "                        \"point_t2\": [\n",
    "                            {\n",
    "                                'unit': 'T2ElasticcRedshiftSampler',\n",
    "                                \"ingest\": {\n",
    "                                    'filter': 'PPSFilter', 'sort': 'jd', 'select': 'first'\n",
    "                                }\n",
    "                                # For elasticc use a filter to select the DP with diaObject props.\n",
    "# ingest: =  DPSelection(filter=UnitModel(unit='SimpleTagFilter', config={'require': ['ZTF_DP']}), sort='jd', select='first'}\n",
    "                            },\n",
    "                        ],\n",
    "                    }\n",
    "\n",
    "                },\n",
    "\n",
    "            }\n",
    "            }\n",
    "        \n",
    "    ]"
   ]
  },
  {
   "cell_type": "code",
   "execution_count": null,
   "id": "96320b86",
   "metadata": {},
   "outputs": [],
   "source": [
    "ac = ctx.new_context_unit(\n",
    "    unit = \"AlertConsumer\",\n",
    "    process_name = \"AP_test\",\n",
    "    iter_max = 1000,\n",
    "    log_profile = os.environ.get('log_profile', 'debug'),\n",
    "    shaper = \"ZiDataPointShaper\",\n",
    "    compiler_opts = \"ZiCompilerOptions\",\n",
    "    supplier = {\n",
    "        \"unit\": \"ZiAlertSupplier\",\n",
    "        'config': {\n",
    "            'deserialize': None,\n",
    "            'loader': {\n",
    "                'unit': 'ZTFArchiveAlertLoader',\n",
    "                'config': loader_config\n",
    "            }\n",
    "        }\n",
    "    },\n",
    "    directives = directives\n",
    ")"
   ]
  },
  {
   "cell_type": "code",
   "execution_count": null,
   "id": "996adcdf",
   "metadata": {},
   "outputs": [],
   "source": [
    "n = ac.run()"
   ]
  },
  {
   "cell_type": "code",
   "execution_count": null,
   "id": "73bb8e1f",
   "metadata": {},
   "outputs": [],
   "source": [
    "n"
   ]
  },
  {
   "cell_type": "code",
   "execution_count": null,
   "id": "8267d494",
   "metadata": {},
   "outputs": [],
   "source": [
    "t2w = ctx.new_context_unit(\n",
    "    unit = 'T2Worker',\n",
    "    process_name = 'T2Processor_6',\n",
    "    log_profile = os.environ.get('log_profile', 'default')\n",
    ")"
   ]
  },
  {
   "cell_type": "code",
   "execution_count": null,
   "id": "8c836db5",
   "metadata": {},
   "outputs": [],
   "source": [
    "t2w.run()"
   ]
  },
  {
   "cell_type": "code",
   "execution_count": null,
   "id": "2d371866",
   "metadata": {},
   "outputs": [],
   "source": [
    "t3config = {\n",
    "    'desc_user': {'label':'desc/user'},\n",
    "    'desc_password': {'label':'desc/password'},\n",
    "    't2classifiers': ['T2RunParsnip'],\n",
    "}"
   ]
  },
  {
   "cell_type": "code",
   "execution_count": null,
   "id": "6a4eadc5",
   "metadata": {},
   "outputs": [],
   "source": [
    "t3p = ctx.new_context_unit(\n",
    "    process_name = \"LensPrint\",\n",
    "    unit = \"T3Processor\",\n",
    "    execute = [\n",
    "        {\n",
    "            \"unit\": \"T3ReviewUnitExecutor\",\n",
    "            \"config\": {\n",
    "                \"supply\": {\n",
    "                    \"unit\": \"T3DefaultBufferSupplier\",\n",
    "                    \"config\": {\n",
    "                        \"select\": {\n",
    "                            \"unit\": \"T3StockSelector\",\n",
    "                            \"config\": {\"channel\": channel}\n",
    "                        },\n",
    "                        \"load\": {\n",
    "                            \"unit\": \"T3SimpleDataLoader\",\n",
    "                            \"config\": {\n",
    "                                \"directives\": [\"STOCK\", \"T1\", \"T2DOC\"],\n",
    "                                \"channel\": channel\n",
    "                            }\n",
    "                        }\n",
    "                     }\n",
    "                },\n",
    "                \"stage\" : {\n",
    "                    \"unit\": \"T3SimpleStager\",\n",
    "                    \"config\": {\n",
    "                        \"execute\": [\n",
    "                            {\n",
    "                                \"unit\": \"ElasticcClassPublisher\",\n",
    "                                \"config\": t3config\n",
    "                            }\n",
    "                        ]\n",
    "                    }\n",
    "                }\n",
    "            }\n",
    "        }\n",
    "    ]\n",
    ")"
   ]
  },
  {
   "cell_type": "code",
   "execution_count": null,
   "id": "f5cd8634",
   "metadata": {},
   "outputs": [],
   "source": [
    "t3p.run()"
   ]
  },
  {
   "cell_type": "code",
   "execution_count": null,
   "id": "1eb07839",
   "metadata": {},
   "outputs": [],
   "source": []
  },
  {
   "cell_type": "code",
   "execution_count": null,
   "id": "385d9970",
   "metadata": {},
   "outputs": [],
   "source": [
    "ns = vault.get_named_secret('desc/user')"
   ]
  },
  {
   "cell_type": "code",
   "execution_count": null,
   "id": "9e02c508",
   "metadata": {},
   "outputs": [],
   "source": [
    "ns.value"
   ]
  },
  {
   "cell_type": "code",
   "execution_count": null,
   "id": "2cc9a24a",
   "metadata": {},
   "outputs": [],
   "source": []
  }
 ],
 "metadata": {
  "kernelspec": {
   "display_name": "Python 3 (ipykernel)",
   "language": "python",
   "name": "python3"
  },
  "language_info": {
   "codemirror_mode": {
    "name": "ipython",
    "version": 3
   },
   "file_extension": ".py",
   "mimetype": "text/x-python",
   "name": "python",
   "nbconvert_exporter": "python",
   "pygments_lexer": "ipython3",
   "version": "3.9.7"
  }
 },
 "nbformat": 4,
 "nbformat_minor": 5
}
