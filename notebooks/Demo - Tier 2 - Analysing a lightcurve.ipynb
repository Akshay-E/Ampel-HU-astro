{
 "cells": [
  {
   "cell_type": "markdown",
   "id": "26559339",
   "metadata": {},
   "source": [
    "The derivation of new information based on the existing occurs in Tier 2 of Ampel. In optical astronomy, the typical base available dataset is a `LightCurve`. From this we typically wish to calculate features like rise-time, peak brightness and age. More complex but funtionally identical tasks involve ML-based classification. \n",
    "\n",
    "To make use of the AMPEL capabilities for large scale feature calculation, provenance and real-time reaction, such analysis units need to be expressed as python modules inheriting from the proper base class. This ensures that AMPEL knows which kind of data the method expects as well as what sort of output is expected.\n",
    "\n",
    "Additional notes:\n",
    "- T2 units are either _state bound_, in which case they will be called each time a new datapoint is obtained, or _datapoint bount_ in which case it is only called the first time a transient is detected. This notebook deals with state bound case.\n",
    "- T2 units can make use also of information derived from other T2 units. An example of this would be using the redshift as obtained by a previous unit which looked through catalogs for distance information. Such units are called _linked_. This notebook demonstrates a non-linked T2."
   ]
  },
  {
   "cell_type": "markdown",
   "id": "922aea37",
   "metadata": {},
   "source": [
    "##### 1. Obtaining a sample lightcurve\n",
    "This section will obtain the `LightCurve` of a sample SN (see the \"Demo - Accessing the ZTF Alert Archive\" notebook)."
   ]
  },
  {
   "cell_type": "code",
   "execution_count": null,
   "id": "46553867",
   "metadata": {},
   "outputs": [],
   "source": [
    "import os\n",
    "from ampel_notebook_utils import api_get_lightcurve\n",
    "# Access to the AMPEL data archive assumes an individual *archive token* which can be obtained from \n",
    "archivetoken = os.environ[\"ARCHIVE_TOKEN\"] "
   ]
  },
  {
   "cell_type": "code",
   "execution_count": null,
   "id": "73f9f06a",
   "metadata": {},
   "outputs": [],
   "source": [
    "# ZTF name of transients to explore\n",
    "snname = \"ZTF22aaylnhq\""
   ]
  },
  {
   "cell_type": "code",
   "execution_count": null,
   "id": "0c463e19",
   "metadata": {},
   "outputs": [],
   "source": [
    "# Obtain the lightCurve\n",
    "lightCurve = api_get_lightcurve(snname, archivetoken)"
   ]
  },
  {
   "cell_type": "code",
   "execution_count": null,
   "id": "f52d2711",
   "metadata": {
    "scrolled": true
   },
   "outputs": [],
   "source": [
    "# The content of the transient datapoint can be directly printed...\n",
    "lightCurve.photopoints[0]"
   ]
  },
  {
   "cell_type": "code",
   "execution_count": null,
   "id": "9abbfe8e",
   "metadata": {},
   "outputs": [],
   "source": [
    "# ... or obtain a tuple of a select subset \n",
    "gphot = lightCurve.get_ntuples(['jd', 'magpsf'], \n",
    "                              {'attribute': 'fid', 'operator': '==', 'value': 1})\n",
    "gphot[0:5]"
   ]
  },
  {
   "cell_type": "markdown",
   "id": "46eb3f37",
   "metadata": {},
   "source": [
    "##### 2. Developing an analysis\n",
    "\n",
    "We will here develop a dummy lightcurve analysis looking for position drift with time. In a real case this would replaced by a science driven calculation."
   ]
  },
  {
   "cell_type": "code",
   "execution_count": null,
   "id": "109034cc",
   "metadata": {},
   "outputs": [],
   "source": [
    "# The algorithm behaviour will be controlled by a set of parameters.\n",
    "# These are fixed by the user in production to specficy the expected behaviour.\n",
    "use_filters = [1]"
   ]
  },
  {
   "cell_type": "code",
   "execution_count": null,
   "id": "1d246be5",
   "metadata": {},
   "outputs": [],
   "source": [
    "posdata = lightCurve.get_ntuples(['jd', 'magpsf', 'ra', 'dec', 'fid']) "
   ]
  },
  {
   "cell_type": "code",
   "execution_count": null,
   "id": "4e6a2ef2",
   "metadata": {},
   "outputs": [],
   "source": [
    "posdata = [p for p in posdata if p[-1] in use_filters]\n",
    "print(f'Working with {len(posdata)} datapoints')"
   ]
  },
  {
   "cell_type": "code",
   "execution_count": null,
   "id": "392608eb",
   "metadata": {},
   "outputs": [],
   "source": [
    "# We can make use of standard python packages, as well as non-standard when motivated\n",
    "import numpy as np\n",
    "posdata = np.asarray(posdata)"
   ]
  },
  {
   "cell_type": "code",
   "execution_count": null,
   "id": "a640b47a",
   "metadata": {},
   "outputs": [],
   "source": [
    "jd = posdata[:,0]\n",
    "ra_arcsec = (posdata[:,2]-posdata[:,2].mean())*60*60\n",
    "dec_arcsec = (posdata[:,3]-posdata[:,3].mean())*60*60"
   ]
  },
  {
   "cell_type": "code",
   "execution_count": null,
   "id": "fd3d4675",
   "metadata": {},
   "outputs": [],
   "source": [
    "from numpy.polynomial.polynomial import Polynomial"
   ]
  },
  {
   "cell_type": "code",
   "execution_count": null,
   "id": "470c62c1",
   "metadata": {},
   "outputs": [],
   "source": [
    "f = Polynomial.fit(jd, ra_arcsec, 1)\n",
    "ra_slope = f.coef[1]\n",
    "f = Polynomial.fit(jd, dec_arcsec, 1)\n",
    "dec_slope = f.coef[1]\n",
    "t_span = jd.max()-jd.min()"
   ]
  },
  {
   "cell_type": "code",
   "execution_count": null,
   "id": "8ad46a44",
   "metadata": {},
   "outputs": [],
   "source": [
    "print('Found slope in RA {} and in Dec {} arcsec / day for {} datapoints during {} days'.format(\n",
    "                                    ra_slope, dec_slope, len(jd), t_span))"
   ]
  },
  {
   "cell_type": "code",
   "execution_count": null,
   "id": "91267bc9",
   "metadata": {},
   "outputs": [],
   "source": [
    "import matplotlib.pyplot as plt"
   ]
  },
  {
   "cell_type": "code",
   "execution_count": null,
   "id": "9e0dbc88",
   "metadata": {},
   "outputs": [],
   "source": [
    "plt.plot(jd, ra_arcsec,'o', label='RA')\n",
    "plt.plot(jd, dec_arcsec,'o', label='Dec')\n",
    "plt.xlabel('JD')\n",
    "plt.ylabel('Shift w.r.t. mean position (arsec)')\n",
    "_ = plt.legend()"
   ]
  },
  {
   "cell_type": "markdown",
   "id": "8380b99f",
   "metadata": {},
   "source": [
    "##### 3. Develop as an Ampel unit\n",
    "\n",
    "We will here create an Ampel class carrying out the same calculation as above.\n",
    "\n",
    "Notes:\n",
    "- We encourage type hinting.\n",
    "- The output consists in a dictionary, which is then made available for the next tier (or linked T2 unit). This could involve a decision as to whether the slope is significant enough to react to."
   ]
  },
  {
   "cell_type": "code",
   "execution_count": null,
   "id": "8c4a7b42",
   "metadata": {},
   "outputs": [],
   "source": [
    "# The base lightcurve T2 unit is a realization of an AbsLightCurveT2Unit\n",
    "from ampel.abstract.AbsLightCurveT2Unit import AbsLightCurveT2Unit"
   ]
  },
  {
   "cell_type": "code",
   "execution_count": null,
   "id": "a934fb5c",
   "metadata": {},
   "outputs": [],
   "source": [
    "AbsLightCurveT2Unit??"
   ]
  },
  {
   "cell_type": "code",
   "execution_count": null,
   "id": "b406e28c",
   "metadata": {},
   "outputs": [],
   "source": [
    "# We here summarize imports done above, to mirror what would exist in a standalone file.\n",
    "from typing import Optional\n",
    "\n",
    "import os\n",
    "import numpy as np\n",
    "from numpy.polynomial.polynomial import Polynomial\n",
    "from ampel.abstract.AbsLightCurveT2Unit import AbsLightCurveT2Unit\n",
    "from ampel.view.LightCurve import LightCurve\n",
    "\n",
    "# Unit output verified through one of these types\n",
    "from ampel.types import UBson\n",
    "from ampel.struct.UnitResult import UnitResult\n",
    "\n",
    "\n",
    "\n",
    "\n",
    "class T2DemoCoordEval(AbsLightCurveT2Unit):\n",
    "    \"\"\"\n",
    "    Fit a linear evolution to the RA and Dec coordinates of a LightCurve. \n",
    "    \n",
    "    Parameters:\n",
    "     *use_filters* lists the filter ids, as encoded in the datapoint \"fid\" field\n",
    "    (e.g. present in ZTF alerts).\n",
    "    \n",
    "    Optionally plot debug lightcurves\n",
    "     *plot_lc*\n",
    "     *plot_lc_dir* \n",
    "    \n",
    "    \"\"\"\n",
    "\n",
    "    # These parameters can be provided by the user when specifying the channel\n",
    "    # If no (default) value exists this has to be provided\n",
    "    use_filters: list[int] = [1, 2, 3]\n",
    "        \n",
    "    plot_evo: bool = False\n",
    "    plot_evo_dir: Optional[str]\n",
    "\n",
    "    def process(self, light_curve: LightCurve) -> UBson | UnitResult:\n",
    "        \"\"\"        \n",
    "        The process method is called for each Transient state belonging to the transient.        \n",
    "        \"\"\"\n",
    "        \n",
    "        # Extract residuals in required bands\n",
    "        posdata = [p for p in lightCurve.get_ntuples(['jd', 'magpsf', 'ra', 'dec', 'fid']) \n",
    "                       if p[-1] in self.use_filters]\n",
    "        posdata = np.asarray(posdata)\n",
    "        jd = posdata[:,0]\n",
    "        ra_arcsec = (posdata[:,2]-posdata[:,2].mean())*60*60\n",
    "        dec_arcsec = (posdata[:,3]-posdata[:,3].mean())*60*60\n",
    "        \n",
    "        # Each AMPEL inut is provided with a logger instance which can be used\n",
    "        # to store run log info for later processing.\n",
    "        self.logger.info('Info level output should be used sparingly as it creates large datastreams.') \n",
    "        self.logger.debug('Debug output useful in development.')\n",
    "        self.logger.debug('Data expected to be used later is most efficiently saved as unit output.')\n",
    "        self.logger.debug( f'Working with {len(jd)} datapoints' )\n",
    "\n",
    "        # Carry out fits\n",
    "        f = Polynomial.fit(jd, ra_arcsec, 1)\n",
    "        ra_slope = f.coef[1]\n",
    "        f = Polynomial.fit(jd, dec_arcsec, 1)\n",
    "        dec_slope = f.coef[1]\n",
    "        t_span = jd.max()-jd.min()                \n",
    "                         \n",
    "        # Construct output dictionary\n",
    "        t2_output = {'RA_slope': ra_slope, 'Dec_slope': dec_slope, 't_span': t_span, 'ndet': len(jd) }\n",
    "        \n",
    "        # Optionally make debug plot \n",
    "        if self.plot_evo and self.plot_evo_dir is not None:\n",
    "            \n",
    "            plt.figure()\n",
    "            plt.plot(jd, ra_arcsec,'o', label='RA')\n",
    "            plt.plot(jd, dec_arcsec,'o', label='Dec')\n",
    "            plt.xlabel('JD')\n",
    "            plt.ylabel('Shift w.r.t. mean position (arsec)')\n",
    "            plt.legend()\n",
    "            plt.savefig( os.path.join(self.plot_evo_dir, 'plot_T2DemoCoordEval.png') )\n",
    "            plt.close()\n",
    "            \n",
    "\n",
    "\n",
    "        return t2_output"
   ]
  },
  {
   "cell_type": "markdown",
   "id": "40b99024",
   "metadata": {},
   "source": [
    "##### 4. Initialize and run the T2 unit\n",
    "\n",
    "We will here reprocess the LightCurve using the unit. The logging unit is here directly shown."
   ]
  },
  {
   "cell_type": "code",
   "execution_count": null,
   "id": "7bdc857b",
   "metadata": {},
   "outputs": [],
   "source": [
    "t2instance = T2DemoCoordEval(logger=AmpelLogger.get_logger())"
   ]
  },
  {
   "cell_type": "code",
   "execution_count": null,
   "id": "47e9a396",
   "metadata": {},
   "outputs": [],
   "source": [
    "from ampel.log import AmpelLogger"
   ]
  },
  {
   "cell_type": "code",
   "execution_count": null,
   "id": "e7401c8d",
   "metadata": {},
   "outputs": [],
   "source": [
    "t2output = t2instance.process(lightCurve)"
   ]
  },
  {
   "cell_type": "code",
   "execution_count": null,
   "id": "016686e2",
   "metadata": {},
   "outputs": [],
   "source": [
    "# This is the result that would be stored in the AMPEL DB, and provided to downstream units.\n",
    "t2output"
   ]
  },
  {
   "cell_type": "markdown",
   "id": "40c198cf",
   "metadata": {},
   "source": [
    "Redo with different parameters:"
   ]
  },
  {
   "cell_type": "code",
   "execution_count": null,
   "id": "4b471c17",
   "metadata": {},
   "outputs": [],
   "source": [
    "t2other = T2DemoCoordEval(use_filters=[1], plot_evo=True, plot_evo_dir='.', logger=AmpelLogger.get_logger())"
   ]
  },
  {
   "cell_type": "code",
   "execution_count": null,
   "id": "efc124a3",
   "metadata": {},
   "outputs": [],
   "source": [
    "t2other.process(lightCurve)"
   ]
  },
  {
   "cell_type": "code",
   "execution_count": null,
   "id": "a680dc55",
   "metadata": {},
   "outputs": [],
   "source": [
    "from IPython import display\n",
    "display.Image(\"./plot_T2DemoCoordEval.png\")"
   ]
  },
  {
   "cell_type": "markdown",
   "id": "2ef32edc",
   "metadata": {},
   "source": [
    "##### 5. Make a unit available for real-time, archive processing, or to other users.\n",
    "\n",
    "These steps all involve making the unit designed above accessible to other users (whether local users or data centers). This is best done through a dedicated github repository where:\n",
    "- The above python method is stored in a file `T2DemoCoordEval.py` placed in an ampel/contrib/[repositoryID]/t2 directory. \n",
    "- The unit name (`T2DemoCoordEval`) added to the conf/[repositoryName]/unit.yml file. \n",
    "\n",
    "Other users can then clone and install the repository, after which the unit will be accessible.\n",
    "\n",
    "Example setup can be seen in this repository (Ampel-HU-astro). "
   ]
  }
 ],
 "metadata": {
  "kernelspec": {
   "display_name": "Python 3 (ipykernel)",
   "language": "python",
   "name": "python3"
  },
  "language_info": {
   "codemirror_mode": {
    "name": "ipython",
    "version": 3
   },
   "file_extension": ".py",
   "mimetype": "text/x-python",
   "name": "python",
   "nbconvert_exporter": "python",
   "pygments_lexer": "ipython3",
   "version": "3.10.7"
  }
 },
 "nbformat": 4,
 "nbformat_minor": 5
}
