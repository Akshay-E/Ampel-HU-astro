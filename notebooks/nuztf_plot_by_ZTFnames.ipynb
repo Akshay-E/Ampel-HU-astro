{
 "cells": [
  {
   "cell_type": "code",
   "execution_count": 1,
   "metadata": {},
   "outputs": [],
   "source": [
    "# this notebook requires nuztf installation\n",
    "%load_ext autoreload\n",
    "%autoreload 2"
   ]
  },
  {
   "cell_type": "code",
   "execution_count": 2,
   "metadata": {},
   "outputs": [],
   "source": [
    "from nuztf.skymap_scanner import SkymapScanner\n",
    "\n",
    "import pandas as pd\n",
    "import numpy as np\n",
    "\n",
    "\n",
    "\n",
    "from tqdm.notebook import tqdm"
   ]
  },
  {
   "cell_type": "code",
   "execution_count": 3,
   "metadata": {},
   "outputs": [
    {
     "name": "stdout",
     "output_type": "stream",
     "text": [
      "    FOUND O3?  Ampel z  Ampel z (precision)  Ampel distance  \\\n",
      "26       True      NaN                  NaN             NaN   \n",
      "45       True      NaN                  NaN             NaN   \n",
      "46       True      NaN                  NaN             NaN   \n",
      "47       True      NaN                  NaN             NaN   \n",
      "56       True      NaN                  NaN             NaN   \n",
      "\n",
      "    Peak absmag (Possis)  Fit chisq (Possis)  Fit ndof (Possis)  Kilonovaness  \\\n",
      "26                   NaN                 NaN                NaN           NaN   \n",
      "45                   NaN                 NaN                NaN           NaN   \n",
      "46                   NaN                 NaN                NaN           NaN   \n",
      "47                   NaN                 NaN                NaN           NaN   \n",
      "56                   NaN                 NaN                NaN           NaN   \n",
      "\n",
      "   Rejects  Kilonovaness/Number of Checks  ...  Distances ampel, healpix  \\\n",
      "26     NaN                            NaN  ...                       NaN   \n",
      "45     NaN                            NaN  ...                       NaN   \n",
      "46     NaN                            NaN  ...                       NaN   \n",
      "47     NaN                            NaN  ...                       NaN   \n",
      "56     NaN                            NaN  ...                       NaN   \n",
      "\n",
      "    Sigma difference distances  Trigger time  Prob. contour  \\\n",
      "26                         NaN           NaN            NaN   \n",
      "45                         NaN           NaN            NaN   \n",
      "46                         NaN           NaN            NaN   \n",
      "47                         NaN           NaN            NaN   \n",
      "56                         NaN           NaN            NaN   \n",
      "\n",
      "            Healpix map stock        ztf_id  channels  FOUND AMPEL?  \\\n",
      "26  S190901ap.fits.gz,0   NaN  ZTF19abxdvcs       NaN         False   \n",
      "45   S190910h.fits.gz,0   NaN  ZTF19abygvmp       NaN         False   \n",
      "46   S190910h.fits.gz,0   NaN  ZTF19abylleu       NaN         False   \n",
      "47   S190910h.fits.gz,0   NaN  ZTF19abymhyi       NaN         False   \n",
      "56   S190923y.fits.gz,0   NaN  ZTF19acbmopl       NaN         False   \n",
      "\n",
      "   Not found ampel reason  \n",
      "26                history  \n",
      "45                  query  \n",
      "46                  query  \n",
      "47                history  \n",
      "56                history  \n",
      "\n",
      "[5 rows x 25 columns]\n"
     ]
    }
   ],
   "source": [
    "candidate_filename = \"/mnt/c/Users/Public/Documents/Uni/master/masterarbeit/ampel/ampel-results/ligo-healpix/test2/compareKasliwal_confirmed.ods\"\n",
    "\n",
    "data_df = pd.read_excel(candidate_filename)\n",
    "\n",
    "data_df = data_df.sort_values(by=\"Kilonovaness\", ascending=False)\n",
    "\n",
    "gw_map = data_df[\"Healpix map\"].unique()\n",
    "gw_names = [gw[:gw.find(\".\")] for gw in gw_map]\n",
    "print(data_df.tail())"
   ]
  },
  {
   "cell_type": "code",
   "execution_count": 8,
   "metadata": {},
   "outputs": [
    {
     "data": {
      "application/vnd.jupyter.widget-view+json": {
       "model_id": "c2e932001aff4108be676a7d15e48367",
       "version_major": 2,
       "version_minor": 0
      },
      "text/plain": [
       "  0%|          | 0/6 [00:00<?, ?it/s]"
      ]
     },
     "metadata": {},
     "output_type": "display_data"
    },
    {
     "name": "stdout",
     "output_type": "stream",
     "text": [
      "S190426c.fits.gz,1 ['ZTF19aasknld' 'ZTF19aaskmit' 'ZTF19aaslfre' 'ZTF19aaslswv'\n",
      " 'ZTF19aaslpds' 'ZTF19aatazmc' 'ZTF19aaslzjf' 'ZTF19aaslolf'\n",
      " 'ZTF19aaslozu' 'ZTF19aaslphi' 'ZTF19aaslszp' 'ZTF19aaslvwn'\n",
      " 'ZTF19aaslzfk' 'ZTF19aasmddt' 'ZTF19aasmdir' 'ZTF19aasmekb'\n",
      " 'ZTF19aasmftm' 'ZTF19aasmzqf' 'ZTF19aassfws' 'ZTF19aasshpf']\n"
     ]
    },
    {
     "data": {
      "application/vnd.jupyter.widget-view+json": {
       "model_id": "4371dcdc37b94f92a4c198df951a7bbb",
       "version_major": 2,
       "version_minor": 0
      },
      "text/plain": [
       "  0%|          | 0/3145728 [00:00<?, ?it/s]"
      ]
     },
     "metadata": {},
     "output_type": "display_data"
    },
    {
     "data": {
      "application/vnd.jupyter.widget-view+json": {
       "model_id": "f79d8a0680894cb78c879674da7d8083",
       "version_major": 2,
       "version_minor": 0
      },
      "text/plain": [
       "  0%|          | 0/1350 [00:00<?, ?it/s]"
      ]
     },
     "metadata": {},
     "output_type": "display_data"
    },
    {
     "name": "stderr",
     "output_type": "stream",
     "text": [
      "WARNING: TimeDeltaMissingUnitWarning: Numerical value without unit or explicit format passed to TimeDelta, assuming days [astropy.time.core]\n",
      "WARNING:astroquery:TimeDeltaMissingUnitWarning: Numerical value without unit or explicit format passed to TimeDelta, assuming days\n"
     ]
    },
    {
     "data": {
      "application/vnd.jupyter.widget-view+json": {
       "model_id": "8fb8bc23aeff412c95ac3baae53907ea",
       "version_major": 2,
       "version_minor": 0
      },
      "text/plain": [
       "  0%|          | 0/20 [00:00<?, ?it/s]"
      ]
     },
     "metadata": {},
     "output_type": "display_data"
    },
    {
     "name": "stdout",
     "output_type": "stream",
     "text": [
      "0.087\n",
      "0.129453341\n",
      "0.090271004\n",
      "None\n",
      "None\n",
      "0.106\n",
      "None\n",
      "0.102\n",
      "None\n",
      "None\n",
      "None\n",
      "0.0640993333333333\n",
      "None\n",
      "None\n",
      "None\n",
      "None\n",
      "None\n",
      "None\n",
      "None\n",
      "0.07781\n",
      "S190930t.fits.gz,0 ['ZTF19acbpsuf' 'ZTF19acccgfn' 'ZTF19acbvisk' 'ZTF19acbpqlh'\n",
      " 'ZTF19acbwaah']\n"
     ]
    },
    {
     "data": {
      "application/vnd.jupyter.widget-view+json": {
       "model_id": "872cc802cbaf4aa9a5e3bc7df88ff4c9",
       "version_major": 2,
       "version_minor": 0
      },
      "text/plain": [
       "  0%|          | 0/49152 [00:00<?, ?it/s]"
      ]
     },
     "metadata": {},
     "output_type": "display_data"
    },
    {
     "data": {
      "application/vnd.jupyter.widget-view+json": {
       "model_id": "3a445a6e71cc4b8dbf721a5e8780bf4f",
       "version_major": 2,
       "version_minor": 0
      },
      "text/plain": [
       "  0%|          | 0/28856 [00:00<?, ?it/s]"
      ]
     },
     "metadata": {},
     "output_type": "display_data"
    },
    {
     "name": "stderr",
     "output_type": "stream",
     "text": [
      "WARNING: TimeDeltaMissingUnitWarning: Numerical value without unit or explicit format passed to TimeDelta, assuming days [astropy.time.core]\n",
      "WARNING:astroquery:TimeDeltaMissingUnitWarning: Numerical value without unit or explicit format passed to TimeDelta, assuming days\n"
     ]
    },
    {
     "data": {
      "application/vnd.jupyter.widget-view+json": {
       "model_id": "2dd49e3d025f4d8b98f6989abbc9bbef",
       "version_major": 2,
       "version_minor": 0
      },
      "text/plain": [
       "  0%|          | 0/5 [00:00<?, ?it/s]"
      ]
     },
     "metadata": {},
     "output_type": "display_data"
    },
    {
     "name": "stdout",
     "output_type": "stream",
     "text": [
      "0.026\n",
      "0.032479569\n",
      "0.0368970620006323\n",
      "0.0318\n",
      "0.0162925792746333\n",
      "S190901ap.fits.gz,0 ['ZTF19abwsdzf' 'ZTF19abvionh' 'ZTF19abwtibv' 'ZTF19abviyme'\n",
      " 'ZTF19abvixoy' 'ZTF19abwvals' 'ZTF19abvislp' 'ZTF19abvizsw'\n",
      " 'ZTF19abwsmmd' 'ZTF19abxdvcs']\n"
     ]
    },
    {
     "data": {
      "application/vnd.jupyter.widget-view+json": {
       "model_id": "bc19ad3f905b4fb49cd5fbe141b95d7b",
       "version_major": 2,
       "version_minor": 0
      },
      "text/plain": [
       "  0%|          | 0/196608 [00:00<?, ?it/s]"
      ]
     },
     "metadata": {},
     "output_type": "display_data"
    },
    {
     "data": {
      "application/vnd.jupyter.widget-view+json": {
       "model_id": "af8a9d6e5f5e45828db49e52ab3b45a4",
       "version_major": 2,
       "version_minor": 0
      },
      "text/plain": [
       "  0%|          | 0/17576 [00:00<?, ?it/s]"
      ]
     },
     "metadata": {},
     "output_type": "display_data"
    },
    {
     "name": "stderr",
     "output_type": "stream",
     "text": [
      "WARNING: TimeDeltaMissingUnitWarning: Numerical value without unit or explicit format passed to TimeDelta, assuming days [astropy.time.core]\n",
      "WARNING:astroquery:TimeDeltaMissingUnitWarning: Numerical value without unit or explicit format passed to TimeDelta, assuming days\n"
     ]
    },
    {
     "data": {
      "application/vnd.jupyter.widget-view+json": {
       "model_id": "491544fb4e374913a7abebc9efb4e81e",
       "version_major": 2,
       "version_minor": 0
      },
      "text/plain": [
       "  0%|          | 0/10 [00:00<?, ?it/s]"
      ]
     },
     "metadata": {},
     "output_type": "display_data"
    },
    {
     "name": "stdout",
     "output_type": "stream",
     "text": [
      "0.061\n",
      "None\n",
      "None\n",
      "None\n",
      "None\n",
      "0.076\n",
      "None\n",
      "None\n",
      "0.09\n",
      "None\n",
      "S190910h.fits.gz,0 ['ZTF19abyioqq' 'ZTF19abyjfiw' 'ZTF19abyjcon' 'ZTF19abyiwje'\n",
      " 'ZTF19abyimuo' 'ZTF19abyiili' 'ZTF19abyhgqn' 'ZTF19abyhgbn'\n",
      " 'ZTF19abygpsw' 'ZTF19abyjcoo' 'ZTF19abyheza' 'ZTF19abyhhml'\n",
      " 'ZTF19abyjcom' 'ZTF19abyiwiw' 'ZTF19abyirjl' 'ZTF19abygvmp'\n",
      " 'ZTF19abylleu' 'ZTF19abymhyi']\n"
     ]
    },
    {
     "data": {
      "application/vnd.jupyter.widget-view+json": {
       "model_id": "44aeb7eb40f34780a1f10477a1c57380",
       "version_major": 2,
       "version_minor": 0
      },
      "text/plain": [
       "  0%|          | 0/49152 [00:00<?, ?it/s]"
      ]
     },
     "metadata": {},
     "output_type": "display_data"
    },
    {
     "data": {
      "application/vnd.jupyter.widget-view+json": {
       "model_id": "3bb343e1b4a84a0ea46790e8d53586ab",
       "version_major": 2,
       "version_minor": 0
      },
      "text/plain": [
       "  0%|          | 0/28908 [00:00<?, ?it/s]"
      ]
     },
     "metadata": {},
     "output_type": "display_data"
    },
    {
     "name": "stderr",
     "output_type": "stream",
     "text": [
      "WARNING: TimeDeltaMissingUnitWarning: Numerical value without unit or explicit format passed to TimeDelta, assuming days [astropy.time.core]\n",
      "WARNING:astroquery:TimeDeltaMissingUnitWarning: Numerical value without unit or explicit format passed to TimeDelta, assuming days\n"
     ]
    },
    {
     "ename": "PermissionError",
     "evalue": "[Errno 13] Permission denied: '/mnt/c/Users/Public/Documents/Uni/master/masterarbeit/nuZTF/ZTFDATA/nuztf/results/S190910h/rev3/0.9/candidates.pdf'",
     "output_type": "error",
     "traceback": [
      "\u001b[0;31m---------------------------------------------------------------------------\u001b[0m",
      "\u001b[0;31mPermissionError\u001b[0m                           Traceback (most recent call last)",
      "Cell \u001b[0;32mIn[8], line 48\u001b[0m\n\u001b[1;32m     44\u001b[0m     cand_dict\u001b[39m.\u001b[39mupdate({\u001b[39m\"\u001b[39m\u001b[39mkilonova_eval\u001b[39m\u001b[39m\"\u001b[39m: {\u001b[39m\"\u001b[39m\u001b[39mkilonovaness\u001b[39m\u001b[39m\"\u001b[39m: kilonovaness, \u001b[39m\"\u001b[39m\u001b[39mz\u001b[39m\u001b[39m\"\u001b[39m: z}})\n\u001b[1;32m     46\u001b[0m \u001b[39m#print(len(scanner.cache.keys()))\u001b[39;00m\n\u001b[0;32m---> 48\u001b[0m scanner\u001b[39m.\u001b[39;49mcreate_candidate_summary()\n\u001b[1;32m     51\u001b[0m \u001b[39m# plan: nimm aus data_df gw_name, \u001b[39;00m\n\u001b[1;32m     52\u001b[0m \u001b[39m# nur für candidates mit dem gw_name, mache pdfs\u001b[39;00m\n\u001b[1;32m     53\u001b[0m \u001b[39m# evtl versuche kilonovaness in pdf zu integrieren?\u001b[39;00m\n",
      "File \u001b[0;32m/mnt/c/Users/Public/Documents/Uni/master/masterarbeit/nuZTF/nuztf/nuztf/base_scanner.py:558\u001b[0m, in \u001b[0;36mBaseScanner.create_candidate_summary\u001b[0;34m(self)\u001b[0m\n\u001b[1;32m    553\u001b[0m \u001b[39mself\u001b[39m\u001b[39m.\u001b[39mlogger\u001b[39m.\u001b[39minfo(\n\u001b[1;32m    554\u001b[0m     \u001b[39mf\u001b[39m\u001b[39m\"\u001b[39m\u001b[39mCreating overviewpdf\u001b[39m\u001b[39m\\n\u001b[39;00m\u001b[39m(this might take a moment as it involves catalog matching)\u001b[39m\u001b[39m\"\u001b[39m\n\u001b[1;32m    555\u001b[0m )\n\u001b[1;32m    556\u001b[0m \u001b[39mself\u001b[39m\u001b[39m.\u001b[39mlogger\u001b[39m.\u001b[39mdebug(\u001b[39mf\u001b[39m\u001b[39m\"\u001b[39m\u001b[39mOverview pdf path: \u001b[39m\u001b[39m{\u001b[39;00mpdf_path\u001b[39m}\u001b[39;00m\u001b[39m\"\u001b[39m)\n\u001b[0;32m--> 558\u001b[0m \u001b[39mwith\u001b[39;00m PdfPages(pdf_path) \u001b[39mas\u001b[39;00m pdf:\n\u001b[1;32m    559\u001b[0m     \u001b[39mfor\u001b[39;00m name, alert \u001b[39min\u001b[39;00m tqdm(\u001b[39msorted\u001b[39m(\u001b[39mself\u001b[39m\u001b[39m.\u001b[39mcache\u001b[39m.\u001b[39mitems())):\n\u001b[1;32m    560\u001b[0m         fig, _ \u001b[39m=\u001b[39m lightcurve_from_alert(\n\u001b[1;32m    561\u001b[0m             [alert],\n\u001b[1;32m    562\u001b[0m             include_cutouts\u001b[39m=\u001b[39m\u001b[39mTrue\u001b[39;00m,\n\u001b[1;32m    563\u001b[0m             logger\u001b[39m=\u001b[39m\u001b[39mself\u001b[39m\u001b[39m.\u001b[39mlogger,\n\u001b[1;32m    564\u001b[0m             t_0_mjd\u001b[39m=\u001b[39m\u001b[39mself\u001b[39m\u001b[39m.\u001b[39mt_min\u001b[39m.\u001b[39mmjd,\n\u001b[1;32m    565\u001b[0m         )\n",
      "File \u001b[0;32m~/miniconda3/envs/ampel-nuztf/lib/python3.10/site-packages/matplotlib/backends/backend_pdf.py:2720\u001b[0m, in \u001b[0;36mPdfPages.__init__\u001b[0;34m(self, filename, keep_empty, metadata)\u001b[0m\n\u001b[1;32m   2695\u001b[0m \u001b[39mdef\u001b[39;00m \u001b[39m__init__\u001b[39m(\u001b[39mself\u001b[39m, filename, keep_empty\u001b[39m=\u001b[39m\u001b[39mTrue\u001b[39;00m, metadata\u001b[39m=\u001b[39m\u001b[39mNone\u001b[39;00m):\n\u001b[1;32m   2696\u001b[0m \u001b[39m    \u001b[39m\u001b[39m\"\"\"\u001b[39;00m\n\u001b[1;32m   2697\u001b[0m \u001b[39m    Create a new PdfPages object.\u001b[39;00m\n\u001b[1;32m   2698\u001b[0m \n\u001b[0;32m   (...)\u001b[0m\n\u001b[1;32m   2718\u001b[0m \u001b[39m        and 'CreationDate'. They can be removed by setting them to `None`.\u001b[39;00m\n\u001b[1;32m   2719\u001b[0m \u001b[39m    \"\"\"\u001b[39;00m\n\u001b[0;32m-> 2720\u001b[0m     \u001b[39mself\u001b[39m\u001b[39m.\u001b[39m_file \u001b[39m=\u001b[39m PdfFile(filename, metadata\u001b[39m=\u001b[39;49mmetadata)\n\u001b[1;32m   2721\u001b[0m     \u001b[39mself\u001b[39m\u001b[39m.\u001b[39mkeep_empty \u001b[39m=\u001b[39m keep_empty\n",
      "File \u001b[0;32m~/miniconda3/envs/ampel-nuztf/lib/python3.10/site-packages/matplotlib/backends/backend_pdf.py:713\u001b[0m, in \u001b[0;36mPdfFile.__init__\u001b[0;34m(self, filename, metadata)\u001b[0m\n\u001b[1;32m    711\u001b[0m \u001b[39mself\u001b[39m\u001b[39m.\u001b[39moriginal_file_like \u001b[39m=\u001b[39m \u001b[39mNone\u001b[39;00m\n\u001b[1;32m    712\u001b[0m \u001b[39mself\u001b[39m\u001b[39m.\u001b[39mtell_base \u001b[39m=\u001b[39m \u001b[39m0\u001b[39m\n\u001b[0;32m--> 713\u001b[0m fh, opened \u001b[39m=\u001b[39m cbook\u001b[39m.\u001b[39;49mto_filehandle(filename, \u001b[39m\"\u001b[39;49m\u001b[39mwb\u001b[39;49m\u001b[39m\"\u001b[39;49m, return_opened\u001b[39m=\u001b[39;49m\u001b[39mTrue\u001b[39;49;00m)\n\u001b[1;32m    714\u001b[0m \u001b[39mif\u001b[39;00m \u001b[39mnot\u001b[39;00m opened:\n\u001b[1;32m    715\u001b[0m     \u001b[39mtry\u001b[39;00m:\n",
      "File \u001b[0;32m~/miniconda3/envs/ampel-nuztf/lib/python3.10/site-packages/matplotlib/cbook/__init__.py:489\u001b[0m, in \u001b[0;36mto_filehandle\u001b[0;34m(fname, flag, return_opened, encoding)\u001b[0m\n\u001b[1;32m    487\u001b[0m         fh \u001b[39m=\u001b[39m bz2\u001b[39m.\u001b[39mBZ2File(fname, flag)\n\u001b[1;32m    488\u001b[0m     \u001b[39melse\u001b[39;00m:\n\u001b[0;32m--> 489\u001b[0m         fh \u001b[39m=\u001b[39m \u001b[39mopen\u001b[39;49m(fname, flag, encoding\u001b[39m=\u001b[39;49mencoding)\n\u001b[1;32m    490\u001b[0m     opened \u001b[39m=\u001b[39m \u001b[39mTrue\u001b[39;00m\n\u001b[1;32m    491\u001b[0m \u001b[39melif\u001b[39;00m \u001b[39mhasattr\u001b[39m(fname, \u001b[39m'\u001b[39m\u001b[39mseek\u001b[39m\u001b[39m'\u001b[39m):\n",
      "\u001b[0;31mPermissionError\u001b[0m: [Errno 13] Permission denied: '/mnt/c/Users/Public/Documents/Uni/master/masterarbeit/nuZTF/ZTFDATA/nuztf/results/S190910h/rev3/0.9/candidates.pdf'"
     ]
    }
   ],
   "source": [
    "for i in tqdm(range(0, len(gw_names))):\n",
    "    gw_name = gw_names[i]\n",
    "    data_subset = (data_df[data_df[\"Healpix map\"] == gw_map[i]]).sort_values(by=\"Kilonovaness\", ascending=False)\n",
    "\n",
    "    #print(data_subset.head(20))\n",
    "    \n",
    "    ztf_ids = np.char.strip(data_subset[\"ztf_id\"].to_numpy(dtype=\"str\"))\n",
    "\n",
    "    #print(data_subset.head())\n",
    "\n",
    "    print(gw_map[i], ztf_ids)\n",
    "    prob_threshold = 0.9\n",
    "    window = 3\n",
    "\n",
    "    #ztf_ids = [\"ZTF19aatubsj\"]\n",
    "\n",
    "    #print(ztf_ids)\n",
    "\n",
    "    scanner = SkymapScanner(\n",
    "        event=gw_name,\n",
    "        prob_threshold=prob_threshold,\n",
    "        n_days=window,\n",
    "    )\n",
    "    scanner.add_to_cache_by_names(ztf_ids=ztf_ids, with_history=False)\n",
    "\n",
    "    #print(len(scanner.cache.keys()))\n",
    "\n",
    "    #alert[\"kilonova_eval\"][\"kilonovaness\"]\n",
    "\n",
    "    for ztf_name, cand_dict in scanner.cache.items():\n",
    "        if data_subset.get(\"Kilonovaness\") is not None:\n",
    "            #print(ztf_name, data_subset[data_subset[\"ztf_id\"] == ztf_name][\"Kilonovaness\"].values)\n",
    "            #print(ztf_name, data_subset[data_subset[\"ztf_id\"] == ztf_name][\"Kilonovaness\"].values[0])\n",
    "            kilonovaness = data_subset[data_subset[\"ztf_id\"] == ztf_name][\"Kilonovaness\"].values[0]\n",
    "        else:\n",
    "            kilonovaness = None\n",
    "        #print(ztf_name, data_subset[data_subset[\"ztf_id\"] == ztf_name][\"Kilonovaness\"].values[0])\n",
    "\n",
    "        if data_subset.get(\"Ampel z\") is not None:\n",
    "            z = data_subset[data_subset[\"ztf_id\"] == ztf_name][\"Ampel z\"].values[0]\n",
    "        else:\n",
    "            z = None\n",
    "\n",
    "        cand_dict.update({\"kilonova_eval\": {\"kilonovaness\": kilonovaness, \"z\": z}})\n",
    "\n",
    "    #print(len(scanner.cache.keys()))\n",
    "\n",
    "    scanner.create_candidate_summary()\n",
    "\n",
    "\n",
    "    # plan: nimm aus data_df gw_name, \n",
    "    # nur für candidates mit dem gw_name, mache pdfs\n",
    "    # evtl versuche kilonovaness in pdf zu integrieren?"
   ]
  },
  {
   "cell_type": "code",
   "execution_count": 20,
   "metadata": {},
   "outputs": [
    {
     "data": {
      "text/plain": [
       "['S190923y']"
      ]
     },
     "execution_count": 20,
     "metadata": {},
     "output_type": "execute_result"
    }
   ],
   "source": [
    "gw_names[-1:]"
   ]
  },
  {
   "cell_type": "code",
   "execution_count": null,
   "metadata": {},
   "outputs": [],
   "source": []
  }
 ],
 "metadata": {
  "kernelspec": {
   "display_name": "ampel-nuztf",
   "language": "python",
   "name": "python3"
  },
  "language_info": {
   "codemirror_mode": {
    "name": "ipython",
    "version": 3
   },
   "file_extension": ".py",
   "mimetype": "text/x-python",
   "name": "python",
   "nbconvert_exporter": "python",
   "pygments_lexer": "ipython3",
   "version": "3.10.11"
  },
  "orig_nbformat": 4
 },
 "nbformat": 4,
 "nbformat_minor": 2
}
