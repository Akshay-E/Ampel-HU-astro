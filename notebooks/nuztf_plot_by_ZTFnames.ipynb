{
 "cells": [
  {
   "cell_type": "code",
   "execution_count": 1,
   "metadata": {},
   "outputs": [],
   "source": [
    "# this notebook requires nuztf installation\n",
    "%load_ext autoreload\n",
    "%autoreload 2"
   ]
  },
  {
   "cell_type": "code",
   "execution_count": 1,
   "metadata": {},
   "outputs": [],
   "source": [
    "from nuztf.skymap_scanner import SkymapScanner\n",
    "\n",
    "import pandas as pd\n",
    "import numpy as np\n",
    "\n",
    "import os\n",
    "\n",
    "from tqdm.notebook import tqdm"
   ]
  },
  {
   "cell_type": "code",
   "execution_count": 9,
   "metadata": {},
   "outputs": [
    {
     "name": "stdout",
     "output_type": "stream",
     "text": [
      "80\n"
     ]
    }
   ],
   "source": [
    "candidate_filename = \"/mnt/c/Users/Public/Documents/Uni/master/masterarbeit/ampel/ampel-results/ligo-healpix/test2/compareKasliwal_confirmed.ods\"\n",
    "#candidate_filename = \"/mnt/c/Users/Public/Documents/Uni/master/masterarbeit/ampel/ampel-results/ligo-healpix/test2/S190426c_ampel_kasliwal.ods\"\n",
    "#candidate_filename = \"/mnt/c/Users/Public/Documents/Uni/master/masterarbeit/ampel/ampel-results/ligo-healpix/test2/S200115j_rev_0/TransientTable.csv\"\n",
    "\n",
    "\n",
    "O3_candidates = pd.read_excel(candidate_filename)\n",
    "#data_df = pd.read_csv(candidate_filename, sep=\";\")\n",
    "\n",
    "#print(data_df.head())\n",
    "\n",
    "O3_candidates = O3_candidates.sort_values(by=\"Kilonovaness\", ascending=False)\n",
    "\n",
    "gw_map = O3_candidates[\"Healpix map\"].unique()\n",
    "gw_names = [gw[:gw.find(\".\")] for gw in gw_map]\n",
    "print(len(O3_candidates))"
   ]
  },
  {
   "cell_type": "code",
   "execution_count": 10,
   "metadata": {},
   "outputs": [
    {
     "name": "stdout",
     "output_type": "stream",
     "text": [
      "440\n",
      "['S190426c.fits.gz,1', 'S190901ap.fits.gz,0', 'S190910d.fits.gz,0', 'S190910h.fits.gz,0', 'S190930t.fits.gz,0', 'S191213g.fits.gz', 'S200115j.fit.gz,0', 'ALL', 'FOLLOWUP']\n"
     ]
    }
   ],
   "source": [
    "file_dir = \"/mnt/c/Users/Public/Documents/Uni/master/masterarbeit/ampel/ampel-results/ligo-healpix/test2/\"\n",
    "\n",
    "plot_dir = os.path.join(file_dir, \"visualisePlots\")\n",
    "\n",
    "try:\n",
    "    os.makedirs(plot_dir)\n",
    "except:\n",
    "    pass\n",
    "\n",
    "table_name = \"TransientTable.csv\"\n",
    "os.listdir(file_dir)\n",
    "\n",
    "transient_names = []\n",
    "\n",
    "ampel_candidates = pd.DataFrame()\n",
    "\n",
    "for transient in os.listdir(file_dir):\n",
    "    tableFile_dir = os.path.join(file_dir, transient, table_name)\n",
    "    if os.path.isfile(tableFile_dir):\n",
    "        table_df = pd.read_csv(tableFile_dir, sep=\";\")\n",
    "        transient_names.append(table_df[\"Healpix map\"].iloc[0])\n",
    "\n",
    "        #pd.read_csv(tableFile_dir, sep=\";\")\n",
    "\n",
    "        ampel_candidates = pd.concat([ampel_candidates, table_df])\n",
    "\n",
    "print(len(ampel_candidates))\n",
    "\n",
    "try:\n",
    "    possibleSelectKeys = ampel_candidates.keys()\n",
    "except:\n",
    "    print(\"No transient tables found.\")\n",
    "\n",
    "transient_names.extend([\"ALL\", \"FOLLOWUP\"])\n",
    "print(transient_names)"
   ]
  },
  {
   "cell_type": "code",
   "execution_count": 13,
   "metadata": {},
   "outputs": [
    {
     "data": {
      "text/plain": [
       "50"
      ]
     },
     "execution_count": 13,
     "metadata": {},
     "output_type": "execute_result"
    }
   ],
   "source": []
  },
  {
   "cell_type": "code",
   "execution_count": 2,
   "metadata": {},
   "outputs": [],
   "source": [
    "def print_nuztf_summary(gw_name, ztf_ids, data_subset):\n",
    "    prob_threshold = 0.9\n",
    "    window = 3\n",
    "\n",
    "    #ztf_ids = [\"ZTF19aatubsj\"]\n",
    "\n",
    "    #print(ztf_ids)\n",
    "\n",
    "    scanner = SkymapScanner(\n",
    "        event=gw_name,\n",
    "        prob_threshold=prob_threshold,\n",
    "        n_days=window,\n",
    "    )\n",
    "    scanner.add_to_cache_by_names(ztf_ids=ztf_ids, with_history=False)\n",
    "\n",
    "    print(scanner.cache.keys())\n",
    "\n",
    "    #alert[\"kilonova_eval\"][\"kilonovaness\"]\n",
    "\n",
    "    for ztf_name, cand_dict in scanner.cache.items():\n",
    "        if data_subset.get(\"Kilonovaness\") is not None:\n",
    "            #print(ztf_name, data_subset[data_subset[\"ztf_id\"] == ztf_name][\"Kilonovaness\"].values)\n",
    "            #print(ztf_name, data_subset[data_subset[\"ztf_id\"] == ztf_name][\"Kilonovaness\"].values[0])\n",
    "            kilonovaness = data_subset[data_subset[\"ztf_id\"] == ztf_name][\"Kilonovaness\"].values[0]\n",
    "        else:\n",
    "            kilonovaness = None\n",
    "        #print(ztf_name, data_subset[data_subset[\"ztf_id\"] == ztf_name][\"Kilonovaness\"].values[0])\n",
    "\n",
    "        if data_subset.get(\"Ampel z\") is not None:\n",
    "            z = data_subset[data_subset[\"ztf_id\"] == ztf_name][\"Ampel z\"].values[0]\n",
    "        else:\n",
    "            z = None\n",
    "\n",
    "        cand_dict.update({\"kilonova_eval\": {\"kilonovaness\": kilonovaness, \"z\": z}})\n",
    "\n",
    "    print(scanner.cache.keys())\n",
    "\n",
    "    scanner.create_candidate_summary()"
   ]
  },
  {
   "cell_type": "code",
   "execution_count": 14,
   "metadata": {},
   "outputs": [
    {
     "name": "stdout",
     "output_type": "stream",
     "text": [
      "['S190426c', 'S190901ap', 'S190910d', 'S190910h', 'S190930t', 'S191213g']\n"
     ]
    },
    {
     "data": {
      "application/vnd.jupyter.widget-view+json": {
       "model_id": "a358b28f3ab84415b3583fb6f2ec4c0b",
       "version_major": 2,
       "version_minor": 0
      },
      "text/plain": [
       "  0%|          | 0/6 [00:00<?, ?it/s]"
      ]
     },
     "metadata": {},
     "output_type": "display_data"
    },
    {
     "name": "stdout",
     "output_type": "stream",
     "text": [
      "S190426c ['ZTF19aaskmit' 'ZTF19aaslpds' 'ZTF19aaslfre' 'ZTF19aaslzjf'\n",
      " 'ZTF19aasknld' 'ZTF19aaslswv' 'ZTF19aaslozu' 'ZTF19aatazmc']\n"
     ]
    },
    {
     "data": {
      "application/vnd.jupyter.widget-view+json": {
       "model_id": "c7b11634593b4f9fa5b4c6f493373df5",
       "version_major": 2,
       "version_minor": 0
      },
      "text/plain": [
       "  0%|          | 0/3145728 [00:00<?, ?it/s]"
      ]
     },
     "metadata": {},
     "output_type": "display_data"
    },
    {
     "data": {
      "application/vnd.jupyter.widget-view+json": {
       "model_id": "56b08e5a5ffe40fb942c2386cde96303",
       "version_major": 2,
       "version_minor": 0
      },
      "text/plain": [
       "  0%|          | 0/1350 [00:00<?, ?it/s]"
      ]
     },
     "metadata": {},
     "output_type": "display_data"
    },
    {
     "name": "stderr",
     "output_type": "stream",
     "text": [
      "WARNING: TimeDeltaMissingUnitWarning: Numerical value without unit or explicit format passed to TimeDelta, assuming days [astropy.time.core]\n",
      "WARNING:astroquery:TimeDeltaMissingUnitWarning: Numerical value without unit or explicit format passed to TimeDelta, assuming days\n"
     ]
    },
    {
     "name": "stdout",
     "output_type": "stream",
     "text": [
      "dict_keys(['ZTF19aaskmit', 'ZTF19aaslpds', 'ZTF19aaslfre', 'ZTF19aaslzjf', 'ZTF19aasknld', 'ZTF19aaslswv', 'ZTF19aaslozu', 'ZTF19aatazmc'])\n",
      "dict_keys(['ZTF19aaskmit', 'ZTF19aaslpds', 'ZTF19aaslfre', 'ZTF19aaslzjf', 'ZTF19aasknld', 'ZTF19aaslswv', 'ZTF19aaslozu', 'ZTF19aatazmc'])\n"
     ]
    },
    {
     "data": {
      "application/vnd.jupyter.widget-view+json": {
       "model_id": "562e96a568d049bc8c0d8d4b78cea046",
       "version_major": 2,
       "version_minor": 0
      },
      "text/plain": [
       "  0%|          | 0/8 [00:00<?, ?it/s]"
      ]
     },
     "metadata": {},
     "output_type": "display_data"
    },
    {
     "name": "stdout",
     "output_type": "stream",
     "text": [
      "0.087\n",
      "0.106\n",
      "0.090271004\n",
      "0.0640993333333333\n",
      "0.129453341\n",
      "0.102\n",
      "None\n",
      "0.07781\n",
      "S190901ap ['ZTF19abwsdzf' 'ZTF19abvionh' 'ZTF19abvixoy' 'ZTF19abwvals'\n",
      " 'ZTF19abviyme' 'ZTF19abwtibv']\n"
     ]
    },
    {
     "data": {
      "application/vnd.jupyter.widget-view+json": {
       "model_id": "b36ad871b6344c459cbabce962b6827d",
       "version_major": 2,
       "version_minor": 0
      },
      "text/plain": [
       "  0%|          | 0/196608 [00:00<?, ?it/s]"
      ]
     },
     "metadata": {},
     "output_type": "display_data"
    },
    {
     "data": {
      "application/vnd.jupyter.widget-view+json": {
       "model_id": "876494a4bfc142b1adf2433e628b9c72",
       "version_major": 2,
       "version_minor": 0
      },
      "text/plain": [
       "  0%|          | 0/17576 [00:00<?, ?it/s]"
      ]
     },
     "metadata": {},
     "output_type": "display_data"
    },
    {
     "name": "stderr",
     "output_type": "stream",
     "text": [
      "WARNING: TimeDeltaMissingUnitWarning: Numerical value without unit or explicit format passed to TimeDelta, assuming days [astropy.time.core]\n",
      "WARNING:astroquery:TimeDeltaMissingUnitWarning: Numerical value without unit or explicit format passed to TimeDelta, assuming days\n"
     ]
    },
    {
     "name": "stdout",
     "output_type": "stream",
     "text": [
      "dict_keys(['ZTF19abwsdzf', 'ZTF19abvionh', 'ZTF19abvixoy', 'ZTF19abwvals', 'ZTF19abviyme', 'ZTF19abwtibv'])\n",
      "dict_keys(['ZTF19abwsdzf', 'ZTF19abvionh', 'ZTF19abvixoy', 'ZTF19abwvals', 'ZTF19abviyme', 'ZTF19abwtibv'])\n"
     ]
    },
    {
     "data": {
      "application/vnd.jupyter.widget-view+json": {
       "model_id": "d70b2ef2055f4f22a9b1754b23cfcd58",
       "version_major": 2,
       "version_minor": 0
      },
      "text/plain": [
       "  0%|          | 0/6 [00:00<?, ?it/s]"
      ]
     },
     "metadata": {},
     "output_type": "display_data"
    },
    {
     "name": "stdout",
     "output_type": "stream",
     "text": [
      "0.076\n",
      "0.061\n",
      "None\n",
      "0.09\n",
      "None\n",
      "None\n",
      "S190910d ['ZTF19abyfhov' 'ZTF19abyfazm' 'ZTF19abyhhml' 'ZTF19abykdvd'\n",
      " 'ZTF19abyheza' 'ZTF19abyfbii' 'ZTF19abyiwje' 'ZTF19abyfork'\n",
      " 'ZTF19abyneqd' 'ZTF19abyiwiw' 'ZTF19abyfhaq']\n"
     ]
    },
    {
     "data": {
      "application/vnd.jupyter.widget-view+json": {
       "model_id": "fa1db2b8b33e4d118944ac3e4402ba11",
       "version_major": 2,
       "version_minor": 0
      },
      "text/plain": [
       "  0%|          | 0/786432 [00:00<?, ?it/s]"
      ]
     },
     "metadata": {},
     "output_type": "display_data"
    },
    {
     "data": {
      "application/vnd.jupyter.widget-view+json": {
       "model_id": "1844d60a82ad4ffd974757c016482eb0",
       "version_major": 2,
       "version_minor": 0
      },
      "text/plain": [
       "  0%|          | 0/2957 [00:00<?, ?it/s]"
      ]
     },
     "metadata": {},
     "output_type": "display_data"
    },
    {
     "name": "stderr",
     "output_type": "stream",
     "text": [
      "WARNING: TimeDeltaMissingUnitWarning: Numerical value without unit or explicit format passed to TimeDelta, assuming days [astropy.time.core]\n",
      "WARNING:astroquery:TimeDeltaMissingUnitWarning: Numerical value without unit or explicit format passed to TimeDelta, assuming days\n"
     ]
    },
    {
     "name": "stdout",
     "output_type": "stream",
     "text": [
      "dict_keys(['ZTF19abyfhov', 'ZTF19abyfazm', 'ZTF19abyhhml', 'ZTF19abykdvd', 'ZTF19abyheza', 'ZTF19abyfbii', 'ZTF19abyiwje', 'ZTF19abyfork', 'ZTF19abyneqd', 'ZTF19abyiwiw', 'ZTF19abyfhaq'])\n",
      "dict_keys(['ZTF19abyfhov', 'ZTF19abyfazm', 'ZTF19abyhhml', 'ZTF19abykdvd', 'ZTF19abyheza', 'ZTF19abyfbii', 'ZTF19abyiwje', 'ZTF19abyfork', 'ZTF19abyneqd', 'ZTF19abyiwiw', 'ZTF19abyfhaq'])\n"
     ]
    },
    {
     "data": {
      "application/vnd.jupyter.widget-view+json": {
       "model_id": "5a9dbecf486e4d3aa511455f28c6aedb",
       "version_major": 2,
       "version_minor": 0
      },
      "text/plain": [
       "  0%|          | 0/11 [00:00<?, ?it/s]"
      ]
     },
     "metadata": {},
     "output_type": "display_data"
    },
    {
     "name": "stdout",
     "output_type": "stream",
     "text": [
      "0.150008732\n",
      "None\n",
      "None\n",
      "None\n",
      "None\n",
      "0.198\n",
      "None\n",
      "None\n",
      "None\n",
      "None\n",
      "None\n",
      "S190910h ['ZTF19abyhhml' 'ZTF19abyirjl' 'ZTF19abyimuo' 'ZTF19abygpsw'\n",
      " 'ZTF19abyhgbn' 'ZTF19abyhgqn' 'ZTF19abyioqq' 'ZTF19abyiili'\n",
      " 'ZTF19abyheza' 'ZTF19abyjfiw' 'ZTF19abyiwje' 'ZTF19abyjcon'\n",
      " 'ZTF19abyjcoo' 'ZTF19abyjcom' 'ZTF19abyiwiw']\n"
     ]
    },
    {
     "data": {
      "application/vnd.jupyter.widget-view+json": {
       "model_id": "0e5424a8b3ce43aa9575f64ecb4d65be",
       "version_major": 2,
       "version_minor": 0
      },
      "text/plain": [
       "  0%|          | 0/49152 [00:00<?, ?it/s]"
      ]
     },
     "metadata": {},
     "output_type": "display_data"
    },
    {
     "data": {
      "application/vnd.jupyter.widget-view+json": {
       "model_id": "bf4b6831e5dd4aa4ac8b73ae65068c85",
       "version_major": 2,
       "version_minor": 0
      },
      "text/plain": [
       "  0%|          | 0/28908 [00:00<?, ?it/s]"
      ]
     },
     "metadata": {},
     "output_type": "display_data"
    },
    {
     "name": "stderr",
     "output_type": "stream",
     "text": [
      "WARNING: TimeDeltaMissingUnitWarning: Numerical value without unit or explicit format passed to TimeDelta, assuming days [astropy.time.core]\n",
      "WARNING:astroquery:TimeDeltaMissingUnitWarning: Numerical value without unit or explicit format passed to TimeDelta, assuming days\n"
     ]
    },
    {
     "name": "stdout",
     "output_type": "stream",
     "text": [
      "dict_keys(['ZTF19abyhhml', 'ZTF19abyirjl', 'ZTF19abyimuo', 'ZTF19abygpsw', 'ZTF19abyhgbn', 'ZTF19abyhgqn', 'ZTF19abyioqq', 'ZTF19abyiili', 'ZTF19abyheza', 'ZTF19abyjfiw', 'ZTF19abyiwje', 'ZTF19abyjcon', 'ZTF19abyjcoo', 'ZTF19abyjcom', 'ZTF19abyiwiw'])\n",
      "dict_keys(['ZTF19abyhhml', 'ZTF19abyirjl', 'ZTF19abyimuo', 'ZTF19abygpsw', 'ZTF19abyhgbn', 'ZTF19abyhgqn', 'ZTF19abyioqq', 'ZTF19abyiili', 'ZTF19abyheza', 'ZTF19abyjfiw', 'ZTF19abyiwje', 'ZTF19abyjcon', 'ZTF19abyjcoo', 'ZTF19abyjcom', 'ZTF19abyiwiw'])\n"
     ]
    },
    {
     "data": {
      "application/vnd.jupyter.widget-view+json": {
       "model_id": "9481982aa1e049d4bed3fe178f2f4971",
       "version_major": 2,
       "version_minor": 0
      },
      "text/plain": [
       "  0%|          | 0/15 [00:00<?, ?it/s]"
      ]
     },
     "metadata": {},
     "output_type": "display_data"
    },
    {
     "name": "stdout",
     "output_type": "stream",
     "text": [
      "None\n",
      "0.112\n",
      "None\n",
      "None\n",
      "None\n",
      "None\n",
      "None\n",
      "None\n",
      "None\n",
      "None\n",
      "None\n",
      "None\n",
      "None\n",
      "None\n",
      "None\n",
      "S190930t ['ZTF19acbpqlh' 'ZTF19acbvisk' 'ZTF19acccgfn' 'ZTF19acbwaah'\n",
      " 'ZTF19acbpsuf']\n"
     ]
    },
    {
     "data": {
      "application/vnd.jupyter.widget-view+json": {
       "model_id": "d615aadcc3094d8aa1e0718d6a2bc25a",
       "version_major": 2,
       "version_minor": 0
      },
      "text/plain": [
       "  0%|          | 0/49152 [00:00<?, ?it/s]"
      ]
     },
     "metadata": {},
     "output_type": "display_data"
    },
    {
     "data": {
      "application/vnd.jupyter.widget-view+json": {
       "model_id": "8a1d4636dc3e42a2a5c60df4337d45fe",
       "version_major": 2,
       "version_minor": 0
      },
      "text/plain": [
       "  0%|          | 0/28856 [00:00<?, ?it/s]"
      ]
     },
     "metadata": {},
     "output_type": "display_data"
    },
    {
     "name": "stderr",
     "output_type": "stream",
     "text": [
      "WARNING: TimeDeltaMissingUnitWarning: Numerical value without unit or explicit format passed to TimeDelta, assuming days [astropy.time.core]\n",
      "WARNING:astroquery:TimeDeltaMissingUnitWarning: Numerical value without unit or explicit format passed to TimeDelta, assuming days\n"
     ]
    },
    {
     "name": "stdout",
     "output_type": "stream",
     "text": [
      "dict_keys(['ZTF19acbpqlh', 'ZTF19acbvisk', 'ZTF19acccgfn', 'ZTF19acbwaah', 'ZTF19acbpsuf'])\n",
      "dict_keys(['ZTF19acbpqlh', 'ZTF19acbvisk', 'ZTF19acccgfn', 'ZTF19acbwaah', 'ZTF19acbpsuf'])\n"
     ]
    },
    {
     "data": {
      "application/vnd.jupyter.widget-view+json": {
       "model_id": "1ac2b657fc9d42bfbab3d381f40611bd",
       "version_major": 2,
       "version_minor": 0
      },
      "text/plain": [
       "  0%|          | 0/5 [00:00<?, ?it/s]"
      ]
     },
     "metadata": {},
     "output_type": "display_data"
    },
    {
     "name": "stdout",
     "output_type": "stream",
     "text": [
      "0.026\n",
      "0.0368970620006322\n",
      "0.0162925792746333\n",
      "0.0318\n",
      "0.032479569\n",
      "S191213g ['ZTF19acyfoha' 'ZTF19acyldun' 'ZTF19acymaru' 'ZTF19acymlhi'\n",
      " 'ZTF19acyldum']\n"
     ]
    },
    {
     "data": {
      "application/vnd.jupyter.widget-view+json": {
       "model_id": "ebe9d66401464ebe9eb0f8d250d754f8",
       "version_major": 2,
       "version_minor": 0
      },
      "text/plain": [
       "  0%|          | 0/3145728 [00:00<?, ?it/s]"
      ]
     },
     "metadata": {},
     "output_type": "display_data"
    },
    {
     "data": {
      "application/vnd.jupyter.widget-view+json": {
       "model_id": "47b3e9e492564d19a783bfc8d1313e17",
       "version_major": 2,
       "version_minor": 0
      },
      "text/plain": [
       "  0%|          | 0/5336 [00:00<?, ?it/s]"
      ]
     },
     "metadata": {},
     "output_type": "display_data"
    },
    {
     "name": "stderr",
     "output_type": "stream",
     "text": [
      "WARNING: TimeDeltaMissingUnitWarning: Numerical value without unit or explicit format passed to TimeDelta, assuming days [astropy.time.core]\n",
      "WARNING:astroquery:TimeDeltaMissingUnitWarning: Numerical value without unit or explicit format passed to TimeDelta, assuming days\n"
     ]
    },
    {
     "name": "stdout",
     "output_type": "stream",
     "text": [
      "dict_keys(['ZTF19acyfoha', 'ZTF19acyldun', 'ZTF19acymaru', 'ZTF19acymlhi', 'ZTF19acyldum'])\n",
      "dict_keys(['ZTF19acyfoha', 'ZTF19acyldun', 'ZTF19acymaru', 'ZTF19acymlhi', 'ZTF19acyldum'])\n"
     ]
    },
    {
     "data": {
      "application/vnd.jupyter.widget-view+json": {
       "model_id": "ff7e401011cc4ece98147528d86d44b0",
       "version_major": 2,
       "version_minor": 0
      },
      "text/plain": [
       "  0%|          | 0/5 [00:00<?, ?it/s]"
      ]
     },
     "metadata": {},
     "output_type": "display_data"
    },
    {
     "name": "stdout",
     "output_type": "stream",
     "text": [
      "0.04138\n",
      "0.05727\n",
      "0.175709262\n",
      "0.142\n",
      "None\n"
     ]
    }
   ],
   "source": [
    "ampel_and_o3_candidates = ampel_candidates[ampel_candidates[\"ztf_id\"].isin(O3_candidates[\"ztf_id\"])]\n",
    "gw_map = ampel_and_o3_candidates[\"Healpix map\"].unique()\n",
    "gw_names = [gw[:gw.find(\".\")] for gw in gw_map]\n",
    "\n",
    "print(gw_names)\n",
    "\n",
    "\n",
    "for i in tqdm(range(0, len(gw_names))):\n",
    "    gw_name = gw_names[i]\n",
    "    data_subset = (ampel_and_o3_candidates[ampel_and_o3_candidates[\"Healpix map\"] == gw_map[i]]).sort_values(by=\"Kilonovaness\", ascending=False)\n",
    "\n",
    "    ztf_ids = np.char.strip(data_subset[\"ztf_id\"].to_numpy(dtype=\"str\"))\n",
    "\n",
    "    print(gw_name, ztf_ids)\n",
    "    print_nuztf_summary(gw_name, ztf_ids, data_subset)"
   ]
  },
  {
   "cell_type": "code",
   "execution_count": 19,
   "metadata": {},
   "outputs": [
    {
     "data": {
      "text/plain": [
       "27"
      ]
     },
     "execution_count": 19,
     "metadata": {},
     "output_type": "execute_result"
    }
   ],
   "source": [
    "ampel_not_o3_candidates = ampel_candidates[np.logical_not(ampel_candidates[\"ztf_id\"].isin(O3_candidates[\"ztf_id\"]))]\n",
    "ampel_not_o3_candidates = ampel_not_o3_candidates[ampel_not_o3_candidates[\"Kilonovaness\"] >= 20]\n",
    "\n",
    "len(ampel_not_o3_candidates)"
   ]
  },
  {
   "cell_type": "code",
   "execution_count": 20,
   "metadata": {},
   "outputs": [
    {
     "name": "stdout",
     "output_type": "stream",
     "text": [
      "['S190426c', 'S190901ap', 'S190910d', 'S190910h', 'S190930t', 'S191213g']\n"
     ]
    },
    {
     "data": {
      "application/vnd.jupyter.widget-view+json": {
       "model_id": "a0c4650d14b949aba458d4a5f62c5389",
       "version_major": 2,
       "version_minor": 0
      },
      "text/plain": [
       "  0%|          | 0/6 [00:00<?, ?it/s]"
      ]
     },
     "metadata": {},
     "output_type": "display_data"
    },
    {
     "name": "stdout",
     "output_type": "stream",
     "text": [
      "S190426c ['ZTF19aaskmit' 'ZTF19aaslpds' 'ZTF19aaslfre' 'ZTF19aaslzjf'\n",
      " 'ZTF19aasknld' 'ZTF19aaslswv' 'ZTF19aaslozu' 'ZTF19aatazmc']\n"
     ]
    },
    {
     "data": {
      "application/vnd.jupyter.widget-view+json": {
       "model_id": "82080df4178f41239518e6bc522d77fe",
       "version_major": 2,
       "version_minor": 0
      },
      "text/plain": [
       "  0%|          | 0/3145728 [00:00<?, ?it/s]"
      ]
     },
     "metadata": {},
     "output_type": "display_data"
    },
    {
     "data": {
      "application/vnd.jupyter.widget-view+json": {
       "model_id": "00732099a2db4a2da208353d378bb73c",
       "version_major": 2,
       "version_minor": 0
      },
      "text/plain": [
       "  0%|          | 0/1350 [00:00<?, ?it/s]"
      ]
     },
     "metadata": {},
     "output_type": "display_data"
    },
    {
     "name": "stderr",
     "output_type": "stream",
     "text": [
      "WARNING: TimeDeltaMissingUnitWarning: Numerical value without unit or explicit format passed to TimeDelta, assuming days [astropy.time.core]\n",
      "WARNING:astroquery:TimeDeltaMissingUnitWarning: Numerical value without unit or explicit format passed to TimeDelta, assuming days\n"
     ]
    },
    {
     "name": "stdout",
     "output_type": "stream",
     "text": [
      "dict_keys(['ZTF19aaskmit', 'ZTF19aaslpds', 'ZTF19aaslfre', 'ZTF19aaslzjf', 'ZTF19aasknld', 'ZTF19aaslswv', 'ZTF19aaslozu', 'ZTF19aatazmc'])\n",
      "dict_keys(['ZTF19aaskmit', 'ZTF19aaslpds', 'ZTF19aaslfre', 'ZTF19aaslzjf', 'ZTF19aasknld', 'ZTF19aaslswv', 'ZTF19aaslozu', 'ZTF19aatazmc'])\n"
     ]
    },
    {
     "data": {
      "application/vnd.jupyter.widget-view+json": {
       "model_id": "396e82428d7942038fa119a60500c35a",
       "version_major": 2,
       "version_minor": 0
      },
      "text/plain": [
       "  0%|          | 0/8 [00:00<?, ?it/s]"
      ]
     },
     "metadata": {},
     "output_type": "display_data"
    },
    {
     "name": "stdout",
     "output_type": "stream",
     "text": [
      "0.087\n",
      "0.106\n",
      "0.090271004\n",
      "0.0640993333333333\n",
      "0.129453341\n",
      "0.102\n",
      "None\n",
      "0.07781\n",
      "S190901ap ['ZTF19abwsdzf' 'ZTF19abvionh' 'ZTF19abvixoy' 'ZTF19abwvals'\n",
      " 'ZTF19abviyme' 'ZTF19abwtibv']\n"
     ]
    },
    {
     "data": {
      "application/vnd.jupyter.widget-view+json": {
       "model_id": "b18f3d7aa3a2469ea043059dad6b3209",
       "version_major": 2,
       "version_minor": 0
      },
      "text/plain": [
       "  0%|          | 0/196608 [00:00<?, ?it/s]"
      ]
     },
     "metadata": {},
     "output_type": "display_data"
    },
    {
     "data": {
      "application/vnd.jupyter.widget-view+json": {
       "model_id": "e73eab094c1b4f399db8d894897a3b47",
       "version_major": 2,
       "version_minor": 0
      },
      "text/plain": [
       "  0%|          | 0/17576 [00:00<?, ?it/s]"
      ]
     },
     "metadata": {},
     "output_type": "display_data"
    },
    {
     "name": "stderr",
     "output_type": "stream",
     "text": [
      "WARNING: TimeDeltaMissingUnitWarning: Numerical value without unit or explicit format passed to TimeDelta, assuming days [astropy.time.core]\n",
      "WARNING:astroquery:TimeDeltaMissingUnitWarning: Numerical value without unit or explicit format passed to TimeDelta, assuming days\n"
     ]
    },
    {
     "name": "stdout",
     "output_type": "stream",
     "text": [
      "dict_keys(['ZTF19abwsdzf', 'ZTF19abvionh', 'ZTF19abvixoy', 'ZTF19abwvals', 'ZTF19abviyme', 'ZTF19abwtibv'])\n",
      "dict_keys(['ZTF19abwsdzf', 'ZTF19abvionh', 'ZTF19abvixoy', 'ZTF19abwvals', 'ZTF19abviyme', 'ZTF19abwtibv'])\n"
     ]
    },
    {
     "data": {
      "application/vnd.jupyter.widget-view+json": {
       "model_id": "11fdb5fddd4f4033a103fdc9781048da",
       "version_major": 2,
       "version_minor": 0
      },
      "text/plain": [
       "  0%|          | 0/6 [00:00<?, ?it/s]"
      ]
     },
     "metadata": {},
     "output_type": "display_data"
    },
    {
     "name": "stdout",
     "output_type": "stream",
     "text": [
      "0.076\n",
      "0.061\n",
      "None\n",
      "0.09\n",
      "None\n",
      "None\n",
      "S190910d ['ZTF19abyfhov' 'ZTF19abyfazm' 'ZTF19abyhhml' 'ZTF19abykdvd'\n",
      " 'ZTF19abyheza' 'ZTF19abyfbii' 'ZTF19abyiwje' 'ZTF19abyfork'\n",
      " 'ZTF19abyneqd' 'ZTF19abyiwiw' 'ZTF19abyfhaq']\n"
     ]
    },
    {
     "data": {
      "application/vnd.jupyter.widget-view+json": {
       "model_id": "af637e109a364924babac25c2f612c8f",
       "version_major": 2,
       "version_minor": 0
      },
      "text/plain": [
       "  0%|          | 0/786432 [00:00<?, ?it/s]"
      ]
     },
     "metadata": {},
     "output_type": "display_data"
    },
    {
     "data": {
      "application/vnd.jupyter.widget-view+json": {
       "model_id": "53b0c061c8e84551bc6152cfebf6e256",
       "version_major": 2,
       "version_minor": 0
      },
      "text/plain": [
       "  0%|          | 0/2957 [00:00<?, ?it/s]"
      ]
     },
     "metadata": {},
     "output_type": "display_data"
    },
    {
     "name": "stderr",
     "output_type": "stream",
     "text": [
      "WARNING: TimeDeltaMissingUnitWarning: Numerical value without unit or explicit format passed to TimeDelta, assuming days [astropy.time.core]\n",
      "WARNING:astroquery:TimeDeltaMissingUnitWarning: Numerical value without unit or explicit format passed to TimeDelta, assuming days\n"
     ]
    },
    {
     "name": "stdout",
     "output_type": "stream",
     "text": [
      "dict_keys(['ZTF19abyfhov', 'ZTF19abyfazm', 'ZTF19abyhhml', 'ZTF19abykdvd', 'ZTF19abyheza', 'ZTF19abyfbii', 'ZTF19abyiwje', 'ZTF19abyfork', 'ZTF19abyneqd', 'ZTF19abyiwiw', 'ZTF19abyfhaq'])\n",
      "dict_keys(['ZTF19abyfhov', 'ZTF19abyfazm', 'ZTF19abyhhml', 'ZTF19abykdvd', 'ZTF19abyheza', 'ZTF19abyfbii', 'ZTF19abyiwje', 'ZTF19abyfork', 'ZTF19abyneqd', 'ZTF19abyiwiw', 'ZTF19abyfhaq'])\n"
     ]
    },
    {
     "data": {
      "application/vnd.jupyter.widget-view+json": {
       "model_id": "41c4382f4343499ab23d7eeb3f1bdede",
       "version_major": 2,
       "version_minor": 0
      },
      "text/plain": [
       "  0%|          | 0/11 [00:00<?, ?it/s]"
      ]
     },
     "metadata": {},
     "output_type": "display_data"
    },
    {
     "name": "stdout",
     "output_type": "stream",
     "text": [
      "0.150008732\n",
      "None\n",
      "None\n",
      "None\n",
      "None\n",
      "0.198\n",
      "None\n",
      "None\n",
      "None\n",
      "None\n",
      "None\n",
      "S190910h ['ZTF19abyhhml' 'ZTF19abyirjl' 'ZTF19abyimuo' 'ZTF19abygpsw'\n",
      " 'ZTF19abyhgbn' 'ZTF19abyhgqn' 'ZTF19abyioqq' 'ZTF19abyiili'\n",
      " 'ZTF19abyheza' 'ZTF19abyjfiw' 'ZTF19abyiwje' 'ZTF19abyjcon'\n",
      " 'ZTF19abyjcoo' 'ZTF19abyjcom' 'ZTF19abyiwiw']\n"
     ]
    },
    {
     "data": {
      "application/vnd.jupyter.widget-view+json": {
       "model_id": "ad2ce8e22d624a81beac0d441050e343",
       "version_major": 2,
       "version_minor": 0
      },
      "text/plain": [
       "  0%|          | 0/49152 [00:00<?, ?it/s]"
      ]
     },
     "metadata": {},
     "output_type": "display_data"
    },
    {
     "data": {
      "application/vnd.jupyter.widget-view+json": {
       "model_id": "f182198d8c4948e88dc915c86cae808c",
       "version_major": 2,
       "version_minor": 0
      },
      "text/plain": [
       "  0%|          | 0/28908 [00:00<?, ?it/s]"
      ]
     },
     "metadata": {},
     "output_type": "display_data"
    },
    {
     "name": "stderr",
     "output_type": "stream",
     "text": [
      "WARNING: TimeDeltaMissingUnitWarning: Numerical value without unit or explicit format passed to TimeDelta, assuming days [astropy.time.core]\n",
      "WARNING:astroquery:TimeDeltaMissingUnitWarning: Numerical value without unit or explicit format passed to TimeDelta, assuming days\n"
     ]
    },
    {
     "name": "stdout",
     "output_type": "stream",
     "text": [
      "dict_keys(['ZTF19abyhhml', 'ZTF19abyirjl', 'ZTF19abyimuo', 'ZTF19abygpsw', 'ZTF19abyhgbn', 'ZTF19abyhgqn', 'ZTF19abyioqq', 'ZTF19abyiili', 'ZTF19abyheza', 'ZTF19abyjfiw', 'ZTF19abyiwje', 'ZTF19abyjcon', 'ZTF19abyjcoo', 'ZTF19abyjcom', 'ZTF19abyiwiw'])\n",
      "dict_keys(['ZTF19abyhhml', 'ZTF19abyirjl', 'ZTF19abyimuo', 'ZTF19abygpsw', 'ZTF19abyhgbn', 'ZTF19abyhgqn', 'ZTF19abyioqq', 'ZTF19abyiili', 'ZTF19abyheza', 'ZTF19abyjfiw', 'ZTF19abyiwje', 'ZTF19abyjcon', 'ZTF19abyjcoo', 'ZTF19abyjcom', 'ZTF19abyiwiw'])\n"
     ]
    },
    {
     "data": {
      "application/vnd.jupyter.widget-view+json": {
       "model_id": "e836349763a24efb86575b1ac153d943",
       "version_major": 2,
       "version_minor": 0
      },
      "text/plain": [
       "  0%|          | 0/15 [00:00<?, ?it/s]"
      ]
     },
     "metadata": {},
     "output_type": "display_data"
    },
    {
     "name": "stdout",
     "output_type": "stream",
     "text": [
      "None\n",
      "0.112\n",
      "None\n",
      "None\n",
      "None\n",
      "None\n",
      "None\n",
      "None\n",
      "None\n",
      "None\n",
      "None\n",
      "None\n",
      "None\n",
      "None\n",
      "None\n",
      "S190930t ['ZTF19acbpqlh' 'ZTF19acbvisk' 'ZTF19acccgfn' 'ZTF19acbwaah'\n",
      " 'ZTF19acbpsuf']\n"
     ]
    },
    {
     "data": {
      "application/vnd.jupyter.widget-view+json": {
       "model_id": "f917dfdad47f4ef7b988c0072b63913c",
       "version_major": 2,
       "version_minor": 0
      },
      "text/plain": [
       "  0%|          | 0/49152 [00:00<?, ?it/s]"
      ]
     },
     "metadata": {},
     "output_type": "display_data"
    },
    {
     "data": {
      "application/vnd.jupyter.widget-view+json": {
       "model_id": "328584e7b58f45a8b677d8864c23c5bf",
       "version_major": 2,
       "version_minor": 0
      },
      "text/plain": [
       "  0%|          | 0/28856 [00:00<?, ?it/s]"
      ]
     },
     "metadata": {},
     "output_type": "display_data"
    },
    {
     "name": "stderr",
     "output_type": "stream",
     "text": [
      "WARNING: TimeDeltaMissingUnitWarning: Numerical value without unit or explicit format passed to TimeDelta, assuming days [astropy.time.core]\n",
      "WARNING:astroquery:TimeDeltaMissingUnitWarning: Numerical value without unit or explicit format passed to TimeDelta, assuming days\n"
     ]
    },
    {
     "name": "stdout",
     "output_type": "stream",
     "text": [
      "dict_keys(['ZTF19acbpqlh', 'ZTF19acbvisk', 'ZTF19acccgfn', 'ZTF19acbwaah', 'ZTF19acbpsuf'])\n",
      "dict_keys(['ZTF19acbpqlh', 'ZTF19acbvisk', 'ZTF19acccgfn', 'ZTF19acbwaah', 'ZTF19acbpsuf'])\n"
     ]
    },
    {
     "data": {
      "application/vnd.jupyter.widget-view+json": {
       "model_id": "418ea66db7534deb8a77e7b9acd3d8fb",
       "version_major": 2,
       "version_minor": 0
      },
      "text/plain": [
       "  0%|          | 0/5 [00:00<?, ?it/s]"
      ]
     },
     "metadata": {},
     "output_type": "display_data"
    },
    {
     "name": "stdout",
     "output_type": "stream",
     "text": [
      "0.026\n",
      "0.0368970620006322\n",
      "0.0162925792746333\n",
      "0.0318\n",
      "0.032479569\n",
      "S191213g ['ZTF19acyfoha' 'ZTF19acyldun' 'ZTF19acymaru' 'ZTF19acymlhi'\n",
      " 'ZTF19acyldum']\n"
     ]
    },
    {
     "data": {
      "application/vnd.jupyter.widget-view+json": {
       "model_id": "33139ad2f25a4bb0971a57c052082683",
       "version_major": 2,
       "version_minor": 0
      },
      "text/plain": [
       "  0%|          | 0/3145728 [00:00<?, ?it/s]"
      ]
     },
     "metadata": {},
     "output_type": "display_data"
    },
    {
     "data": {
      "application/vnd.jupyter.widget-view+json": {
       "model_id": "1a0ca648dbe7467fba9c5d6e810865ee",
       "version_major": 2,
       "version_minor": 0
      },
      "text/plain": [
       "  0%|          | 0/5336 [00:00<?, ?it/s]"
      ]
     },
     "metadata": {},
     "output_type": "display_data"
    },
    {
     "name": "stderr",
     "output_type": "stream",
     "text": [
      "WARNING: TimeDeltaMissingUnitWarning: Numerical value without unit or explicit format passed to TimeDelta, assuming days [astropy.time.core]\n",
      "WARNING:astroquery:TimeDeltaMissingUnitWarning: Numerical value without unit or explicit format passed to TimeDelta, assuming days\n"
     ]
    },
    {
     "name": "stdout",
     "output_type": "stream",
     "text": [
      "dict_keys(['ZTF19acyfoha', 'ZTF19acyldun', 'ZTF19acymaru', 'ZTF19acymlhi', 'ZTF19acyldum'])\n",
      "dict_keys(['ZTF19acyfoha', 'ZTF19acyldun', 'ZTF19acymaru', 'ZTF19acymlhi', 'ZTF19acyldum'])\n"
     ]
    },
    {
     "data": {
      "application/vnd.jupyter.widget-view+json": {
       "model_id": "37b7e781045047d8ad11ff7dd10ae010",
       "version_major": 2,
       "version_minor": 0
      },
      "text/plain": [
       "  0%|          | 0/5 [00:00<?, ?it/s]"
      ]
     },
     "metadata": {},
     "output_type": "display_data"
    },
    {
     "name": "stdout",
     "output_type": "stream",
     "text": [
      "0.04138\n",
      "0.05727\n",
      "0.175709262\n",
      "0.142\n",
      "None\n"
     ]
    }
   ],
   "source": [
    "ampel_not_o3_candidates = ampel_candidates[np.logical_not(ampel_candidates[\"ztf_id\"].isin(O3_candidates[\"ztf_id\"]))]\n",
    "gw_map = ampel_and_o3_candidates[\"Healpix map\"].unique()\n",
    "gw_names = [gw[:gw.find(\".\")] for gw in gw_map]\n",
    "\n",
    "print(gw_names)\n",
    "\n",
    "\n",
    "for i in tqdm(range(0, len(gw_names))):\n",
    "    gw_name = gw_names[i]\n",
    "    data_subset = (ampel_and_o3_candidates[ampel_and_o3_candidates[\"Healpix map\"] == gw_map[i]]).sort_values(by=\"Kilonovaness\", ascending=False)\n",
    "\n",
    "    ztf_ids = np.char.strip(data_subset[\"ztf_id\"].to_numpy(dtype=\"str\"))\n",
    "\n",
    "    print(gw_name, ztf_ids)\n",
    "    print_nuztf_summary(gw_name, ztf_ids, data_subset)"
   ]
  },
  {
   "cell_type": "code",
   "execution_count": 27,
   "metadata": {},
   "outputs": [
    {
     "data": {
      "application/vnd.jupyter.widget-view+json": {
       "model_id": "2343429ac4b04588ad0ad262a5d5e036",
       "version_major": 2,
       "version_minor": 0
      },
      "text/plain": [
       "  0%|          | 0/1 [00:00<?, ?it/s]"
      ]
     },
     "metadata": {},
     "output_type": "display_data"
    },
    {
     "name": "stdout",
     "output_type": "stream",
     "text": [
      "S190426c ['ZTF19aasknld' 'ZTF19aaslpds' 'ZTF19aaskmit' 'ZTF19aaslfre'\n",
      " 'ZTF19aaslswv' 'ZTF19aaslzjf' 'ZTF19aatazmc' 'ZTF19aaslolf'\n",
      " 'ZTF19aaslozu' 'ZTF19aaslphi' 'ZTF19aaslszp' 'ZTF19aaslvwn'\n",
      " 'ZTF19aaslzfk' 'ZTF19aasmddt' 'ZTF19aasmdir' 'ZTF19aasmekb'\n",
      " 'ZTF19aasmftm' 'ZTF19aasmzqf' 'ZTF19aassfws' 'ZTF19aasshpf']\n"
     ]
    },
    {
     "data": {
      "application/vnd.jupyter.widget-view+json": {
       "model_id": "b3993500dda640e4b3472f07af621f8a",
       "version_major": 2,
       "version_minor": 0
      },
      "text/plain": [
       "  0%|          | 0/3145728 [00:00<?, ?it/s]"
      ]
     },
     "metadata": {},
     "output_type": "display_data"
    },
    {
     "data": {
      "application/vnd.jupyter.widget-view+json": {
       "model_id": "a18dfcb80a0c4f2cbcada37ab66da531",
       "version_major": 2,
       "version_minor": 0
      },
      "text/plain": [
       "  0%|          | 0/1350 [00:00<?, ?it/s]"
      ]
     },
     "metadata": {},
     "output_type": "display_data"
    },
    {
     "name": "stderr",
     "output_type": "stream",
     "text": [
      "WARNING: TimeDeltaMissingUnitWarning: Numerical value without unit or explicit format passed to TimeDelta, assuming days [astropy.time.core]\n",
      "WARNING:astroquery:TimeDeltaMissingUnitWarning: Numerical value without unit or explicit format passed to TimeDelta, assuming days\n"
     ]
    },
    {
     "name": "stdout",
     "output_type": "stream",
     "text": [
      "dict_keys(['ZTF19aasknld', 'ZTF19aaslpds', 'ZTF19aaskmit', 'ZTF19aaslfre', 'ZTF19aaslswv', 'ZTF19aaslzjf', 'ZTF19aatazmc', 'ZTF19aaslolf', 'ZTF19aaslozu', 'ZTF19aaslphi', 'ZTF19aaslszp', 'ZTF19aaslvwn', 'ZTF19aaslzfk', 'ZTF19aasmddt', 'ZTF19aasmdir', 'ZTF19aasmekb', 'ZTF19aasmftm', 'ZTF19aasmzqf', 'ZTF19aassfws', 'ZTF19aasshpf'])\n",
      "dict_keys(['ZTF19aasknld', 'ZTF19aaslpds', 'ZTF19aaskmit', 'ZTF19aaslfre', 'ZTF19aaslswv', 'ZTF19aaslzjf', 'ZTF19aatazmc', 'ZTF19aaslolf', 'ZTF19aaslozu', 'ZTF19aaslphi', 'ZTF19aaslszp', 'ZTF19aaslvwn', 'ZTF19aaslzfk', 'ZTF19aasmddt', 'ZTF19aasmdir', 'ZTF19aasmekb', 'ZTF19aasmftm', 'ZTF19aasmzqf', 'ZTF19aassfws', 'ZTF19aasshpf'])\n"
     ]
    },
    {
     "data": {
      "application/vnd.jupyter.widget-view+json": {
       "model_id": "83827ff548244c7cb74b629fbc1aa94d",
       "version_major": 2,
       "version_minor": 0
      },
      "text/plain": [
       "  0%|          | 0/20 [00:00<?, ?it/s]"
      ]
     },
     "metadata": {},
     "output_type": "display_data"
    },
    {
     "name": "stdout",
     "output_type": "stream",
     "text": [
      "0.129453341\n",
      "0.106\n",
      "0.087\n",
      "0.090271004\n",
      "0.102\n",
      "0.0640993333333333\n",
      "0.07781\n",
      "None\n",
      "None\n",
      "None\n",
      "None\n",
      "None\n",
      "None\n",
      "None\n",
      "None\n",
      "None\n",
      "None\n",
      "None\n",
      "None\n",
      "None\n"
     ]
    }
   ],
   "source": [
    "for i in tqdm(range(0, len(gw_names)- 0)):\n",
    "    #print(i)\n",
    "    gw_name = gw_names[i]\n",
    "    data_subset = (O3_candidates[O3_candidates[\"Healpix map\"] == gw_map[i]]).sort_values(by=\"Kilonovaness\", ascending=False)\n",
    "\n",
    "    #print(data_subset.head(20))\n",
    "    \n",
    "    ztf_ids = np.char.strip(data_subset[\"ztf_id\"].to_numpy(dtype=\"str\"))\n",
    "\n",
    "    #print(data_subset.head())\n",
    "\n",
    "    print(gw_name, ztf_ids)\n",
    "    print_nuztf_summary(gw_name, ztf_ids, data_subset)\n",
    "\n",
    "    # plan: nimm aus data_df gw_name, \n",
    "    # nur für candidates mit dem gw_name, mache pdfs\n",
    "    # evtl versuche kilonovaness in pdf zu integrieren?"
   ]
  },
  {
   "cell_type": "code",
   "execution_count": 3,
   "metadata": {},
   "outputs": [
    {
     "name": "stdout",
     "output_type": "stream",
     "text": [
      "42\n",
      "['ZTF19aasknld' 'ZTF19aaslswv' 'ZTF19aaskmit' 'ZTF19aataxum'\n",
      " 'ZTF19aaslfre' 'ZTF19aatazmc' 'ZTF19aaslzjf' 'ZTF19aaslpsk'\n",
      " 'ZTF19aaskikg' 'ZTF19aaskktr' 'ZTF19aaskjsw' 'ZTF19aaslxmg'\n",
      " 'ZTF19aaskjwt' 'ZTF19aaslpqg' 'ZTF19aaskpbp' 'ZTF19aaskjyj'\n",
      " 'ZTF19aaskyxh' 'ZTF19aasknfi' 'ZTF19aaslixg' 'ZTF19aaskmpt'\n",
      " 'ZTF19aaskijn' 'ZTF19aasledp' 'ZTF19aaskiht' 'ZTF19aaskipx'\n",
      " 'ZTF19aasldad' 'ZTF19aaslrms' 'ZTF19aaslssx' 'ZTF19aaslddj'\n",
      " 'ZTF19aasldsv' 'ZTF19aaskpux' 'ZTF19aasslob' 'ZTF19aaslfmk'\n",
      " 'ZTF19aaslovx' 'ZTF19aasrgik' 'ZTF19aasmppj' 'ZTF19aasmqvm'\n",
      " 'ZTF19aaslldo' 'ZTF19aasmdqa' 'ZTF19aaslell' 'ZTF19aaskihm'\n",
      " 'ZTF19aaslpds' 'ZTF19aaslozu']\n"
     ]
    },
    {
     "data": {
      "application/vnd.jupyter.widget-view+json": {
       "model_id": "9dfa739dabff475687387dc8a30c914c",
       "version_major": 2,
       "version_minor": 0
      },
      "text/plain": [
       "  0%|          | 0/3145728 [00:00<?, ?it/s]"
      ]
     },
     "metadata": {},
     "output_type": "display_data"
    },
    {
     "data": {
      "application/vnd.jupyter.widget-view+json": {
       "model_id": "05481d06f7ec4fc7988d0d53c3d85d40",
       "version_major": 2,
       "version_minor": 0
      },
      "text/plain": [
       "  0%|          | 0/1350 [00:00<?, ?it/s]"
      ]
     },
     "metadata": {},
     "output_type": "display_data"
    },
    {
     "name": "stderr",
     "output_type": "stream",
     "text": [
      "WARNING: TimeDeltaMissingUnitWarning: Numerical value without unit or explicit format passed to TimeDelta, assuming days [astropy.time.core]\n",
      "WARNING:astroquery:TimeDeltaMissingUnitWarning: Numerical value without unit or explicit format passed to TimeDelta, assuming days\n"
     ]
    },
    {
     "name": "stdout",
     "output_type": "stream",
     "text": [
      "dict_keys(['ZTF19aasknld', 'ZTF19aaslswv', 'ZTF19aaskmit', 'ZTF19aataxum', 'ZTF19aaslfre', 'ZTF19aatazmc', 'ZTF19aaslzjf', 'ZTF19aaslpsk', 'ZTF19aaskikg', 'ZTF19aaskktr', 'ZTF19aaskjsw', 'ZTF19aaslxmg', 'ZTF19aaskjwt', 'ZTF19aaslpqg', 'ZTF19aaskpbp', 'ZTF19aaskjyj', 'ZTF19aaskyxh', 'ZTF19aasknfi', 'ZTF19aaslixg', 'ZTF19aaskmpt', 'ZTF19aaskijn', 'ZTF19aasledp', 'ZTF19aaskiht', 'ZTF19aaskipx', 'ZTF19aasldad', 'ZTF19aaslrms', 'ZTF19aaslssx', 'ZTF19aaslddj', 'ZTF19aasldsv', 'ZTF19aaskpux', 'ZTF19aasslob', 'ZTF19aaslfmk', 'ZTF19aaslovx', 'ZTF19aasrgik', 'ZTF19aasmppj', 'ZTF19aasmqvm', 'ZTF19aaslldo', 'ZTF19aasmdqa', 'ZTF19aaslell', 'ZTF19aaskihm', 'ZTF19aaslpds', 'ZTF19aaslozu'])\n",
      "dict_keys(['ZTF19aasknld', 'ZTF19aaslswv', 'ZTF19aaskmit', 'ZTF19aataxum', 'ZTF19aaslfre', 'ZTF19aatazmc', 'ZTF19aaslzjf', 'ZTF19aaslpsk', 'ZTF19aaskikg', 'ZTF19aaskktr', 'ZTF19aaskjsw', 'ZTF19aaslxmg', 'ZTF19aaskjwt', 'ZTF19aaslpqg', 'ZTF19aaskpbp', 'ZTF19aaskjyj', 'ZTF19aaskyxh', 'ZTF19aasknfi', 'ZTF19aaslixg', 'ZTF19aaskmpt', 'ZTF19aaskijn', 'ZTF19aasledp', 'ZTF19aaskiht', 'ZTF19aaskipx', 'ZTF19aasldad', 'ZTF19aaslrms', 'ZTF19aaslssx', 'ZTF19aaslddj', 'ZTF19aasldsv', 'ZTF19aaskpux', 'ZTF19aasslob', 'ZTF19aaslfmk', 'ZTF19aaslovx', 'ZTF19aasrgik', 'ZTF19aasmppj', 'ZTF19aasmqvm', 'ZTF19aaslldo', 'ZTF19aasmdqa', 'ZTF19aaslell', 'ZTF19aaskihm', 'ZTF19aaslpds', 'ZTF19aaslozu'])\n"
     ]
    },
    {
     "data": {
      "application/vnd.jupyter.widget-view+json": {
       "model_id": "37d408c2f45446449aff6e80b0c4f683",
       "version_major": 2,
       "version_minor": 0
      },
      "text/plain": [
       "  0%|          | 0/42 [00:00<?, ?it/s]"
      ]
     },
     "metadata": {},
     "output_type": "display_data"
    }
   ],
   "source": [
    "candidate_filename = \"/mnt/c/Users/Public/Documents/Uni/master/masterarbeit/ampel/ampel-results/ligo-healpix/test2/S190426c_rev_1/TransientTable.csv\"\n",
    "\n",
    "data = pd.read_csv(candidate_filename, sep=\";\")\n",
    "candidates = data.sort_values(by=\"Kilonovaness\", ascending=False)\n",
    "\n",
    "gw_map = candidates[\"Healpix map\"].unique()\n",
    "gw_names = [gw[:gw.find(\".\")] for gw in gw_map]\n",
    "print(len(candidates))\n",
    "\n",
    "ztf_ids = np.char.strip(data[\"ztf_id\"].to_numpy(dtype=\"str\"))\n",
    "\n",
    "print(ztf_ids)\n",
    "\n",
    "print_nuztf_summary(gw_names[0], ztf_ids, data)"
   ]
  }
 ],
 "metadata": {
  "kernelspec": {
   "display_name": "ampel-nuztf",
   "language": "python",
   "name": "python3"
  },
  "language_info": {
   "codemirror_mode": {
    "name": "ipython",
    "version": 3
   },
   "file_extension": ".py",
   "mimetype": "text/x-python",
   "name": "python",
   "nbconvert_exporter": "python",
   "pygments_lexer": "ipython3",
   "version": "3.10.11"
  },
  "orig_nbformat": 4
 },
 "nbformat": 4,
 "nbformat_minor": 2
}
