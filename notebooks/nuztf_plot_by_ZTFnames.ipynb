{
 "cells": [
  {
   "cell_type": "code",
   "execution_count": 1,
   "metadata": {},
   "outputs": [],
   "source": [
    "# this notebook requires nuztf installation\n",
    "%load_ext autoreload\n",
    "%autoreload 2"
   ]
  },
  {
   "cell_type": "code",
   "execution_count": 1,
   "metadata": {},
   "outputs": [],
   "source": [
    "from nuztf.skymap_scanner import SkymapScanner\n",
    "\n",
    "import pandas as pd\n",
    "import numpy as np\n",
    "\n",
    "\n",
    "\n",
    "from tqdm.notebook import tqdm"
   ]
  },
  {
   "cell_type": "code",
   "execution_count": 16,
   "metadata": {},
   "outputs": [
    {
     "name": "stdout",
     "output_type": "stream",
     "text": [
      "   Unnamed: 0  Ampel z  Ampel z (precision)  Ampel distance  \\\n",
      "0           0    0.128                 0.02         3.73565   \n",
      "1           1      NaN                  NaN             NaN   \n",
      "2           2      NaN                  NaN             NaN   \n",
      "\n",
      "   Peak absmag (Possis)  Fit chisq (Possis)  Fit ndof (Possis)  Kilonovaness  \\\n",
      "0            -20.127887           23.794426                1.0            15   \n",
      "1                   NaN                 NaN                NaN             8   \n",
      "2                   NaN                 NaN                NaN             8   \n",
      "\n",
      "                                             Rejects  \\\n",
      "0  ('distance_mismatch', 'absmag', 'PS1_photoz', ...   \n",
      "1  ('no_ampelz_match', 'no_possis_fits', 'TNS', '...   \n",
      "2  ('no_ampelz_match', 'no_possis_fits', 'GAIADR2...   \n",
      "\n",
      "   Kilonovaness/Number of Checks  ...  CatMatch-kilonovaness  \\\n",
      "0                       0.625000  ...                      0   \n",
      "1                       0.533333  ...                      0   \n",
      "2                       0.500000  ...                      0   \n",
      "\n",
      "   Dist-kilonovaness  Distances ampel, healpix  Sigma difference distances  \\\n",
      "0                  0                619.621568                    3.519451   \n",
      "1                  0                       NaN                         NaN   \n",
      "2                  0                       NaN                         NaN   \n",
      "\n",
      "   Trigger time  Prob. contour        Healpix map     stock        ztf_id  \\\n",
      "0  2.458864e+06       0.622809  S200115j.fit.gz,0  41228291  ZTF20aafqpum   \n",
      "1  2.458864e+06       0.693258  S200115j.fit.gz,0  41294691  ZTF20aafqvyc   \n",
      "2  2.458864e+06       0.727350  S200115j.fit.gz,0  41400755  ZTF20aafrftb   \n",
      "\n",
      "  channels  \n",
      "0     ligo  \n",
      "1     ligo  \n",
      "2     ligo  \n",
      "\n",
      "[3 rows x 23 columns]\n"
     ]
    }
   ],
   "source": [
    "candidate_filename = \"/mnt/c/Users/Public/Documents/Uni/master/masterarbeit/ampel/ampel-results/ligo-healpix/test2/compareKasliwal_confirmed.ods\"\n",
    "candidate_filename = \"/mnt/c/Users/Public/Documents/Uni/master/masterarbeit/ampel/ampel-results/ligo-healpix/test2/S190426c_ampel_kasliwal.ods\"\n",
    "candidate_filename = \"/mnt/c/Users/Public/Documents/Uni/master/masterarbeit/ampel/ampel-results/ligo-healpix/test2/S200115j_rev_0/TransientTable.csv\"\n",
    "\n",
    "\n",
    "#data_df = pd.read_excel(candidate_filename)\n",
    "data_df = pd.read_csv(candidate_filename, sep=\";\")\n",
    "\n",
    "#print(data_df.head())\n",
    "\n",
    "data_df = data_df.sort_values(by=\"Kilonovaness\", ascending=False)\n",
    "\n",
    "gw_map = data_df[\"Healpix map\"].unique()\n",
    "gw_names = [gw[:gw.find(\".\")] for gw in gw_map]\n",
    "print(data_df.tail())"
   ]
  },
  {
   "cell_type": "code",
   "execution_count": 17,
   "metadata": {},
   "outputs": [
    {
     "data": {
      "application/vnd.jupyter.widget-view+json": {
       "model_id": "3546acb27a6c472f98eb7dc7098f8888",
       "version_major": 2,
       "version_minor": 0
      },
      "text/plain": [
       "  0%|          | 0/1 [00:00<?, ?it/s]"
      ]
     },
     "metadata": {},
     "output_type": "display_data"
    },
    {
     "name": "stdout",
     "output_type": "stream",
     "text": [
      "S200115j ['ZTF20aafqpum' 'ZTF20aafqvyc' 'ZTF20aafrftb']\n"
     ]
    },
    {
     "data": {
      "application/vnd.jupyter.widget-view+json": {
       "model_id": "b89c9dddb7ba43a49e5956a5db260352",
       "version_major": 2,
       "version_minor": 0
      },
      "text/plain": [
       "  0%|          | 0/12582912 [00:00<?, ?it/s]"
      ]
     },
     "metadata": {},
     "output_type": "display_data"
    },
    {
     "data": {
      "application/vnd.jupyter.widget-view+json": {
       "model_id": "ef473689d7f64e4d8e9788e02661691d",
       "version_major": 2,
       "version_minor": 0
      },
      "text/plain": [
       "  0%|          | 0/980 [00:00<?, ?it/s]"
      ]
     },
     "metadata": {},
     "output_type": "display_data"
    },
    {
     "name": "stderr",
     "output_type": "stream",
     "text": [
      "WARNING: TimeDeltaMissingUnitWarning: Numerical value without unit or explicit format passed to TimeDelta, assuming days [astropy.time.core]\n",
      "WARNING:astroquery:TimeDeltaMissingUnitWarning: Numerical value without unit or explicit format passed to TimeDelta, assuming days\n"
     ]
    },
    {
     "name": "stdout",
     "output_type": "stream",
     "text": [
      "dict_keys(['ZTF20aafqpum', 'ZTF20aafqvyc', 'ZTF20aafrftb'])\n",
      "dict_keys(['ZTF20aafqpum', 'ZTF20aafqvyc', 'ZTF20aafrftb'])\n"
     ]
    },
    {
     "data": {
      "application/vnd.jupyter.widget-view+json": {
       "model_id": "73afc7458b2b4ddaa470f0b5942ca901",
       "version_major": 2,
       "version_minor": 0
      },
      "text/plain": [
       "  0%|          | 0/3 [00:00<?, ?it/s]"
      ]
     },
     "metadata": {},
     "output_type": "display_data"
    },
    {
     "name": "stdout",
     "output_type": "stream",
     "text": [
      "0.128\n",
      "None\n",
      "None\n"
     ]
    }
   ],
   "source": [
    "for i in tqdm(range(0, len(gw_names)- 0)):\n",
    "    #print(i)\n",
    "    gw_name = gw_names[i]\n",
    "    data_subset = (data_df[data_df[\"Healpix map\"] == gw_map[i]]).sort_values(by=\"Kilonovaness\", ascending=False)\n",
    "\n",
    "    #print(data_subset.head(20))\n",
    "    \n",
    "    ztf_ids = np.char.strip(data_subset[\"ztf_id\"].to_numpy(dtype=\"str\"))\n",
    "\n",
    "    #print(data_subset.head())\n",
    "\n",
    "    print(gw_name, ztf_ids)\n",
    "    prob_threshold = 0.9\n",
    "    window = 3\n",
    "\n",
    "    #ztf_ids = [\"ZTF19aatubsj\"]\n",
    "\n",
    "    #print(ztf_ids)\n",
    "\n",
    "    scanner = SkymapScanner(\n",
    "        event=gw_name,\n",
    "        prob_threshold=prob_threshold,\n",
    "        n_days=window,\n",
    "    )\n",
    "    scanner.add_to_cache_by_names(ztf_ids=ztf_ids, with_history=False)\n",
    "\n",
    "    print(scanner.cache.keys())\n",
    "\n",
    "    #alert[\"kilonova_eval\"][\"kilonovaness\"]\n",
    "\n",
    "    for ztf_name, cand_dict in scanner.cache.items():\n",
    "        if data_subset.get(\"Kilonovaness\") is not None:\n",
    "            #print(ztf_name, data_subset[data_subset[\"ztf_id\"] == ztf_name][\"Kilonovaness\"].values)\n",
    "            #print(ztf_name, data_subset[data_subset[\"ztf_id\"] == ztf_name][\"Kilonovaness\"].values[0])\n",
    "            kilonovaness = data_subset[data_subset[\"ztf_id\"] == ztf_name][\"Kilonovaness\"].values[0]\n",
    "        else:\n",
    "            kilonovaness = None\n",
    "        #print(ztf_name, data_subset[data_subset[\"ztf_id\"] == ztf_name][\"Kilonovaness\"].values[0])\n",
    "\n",
    "        if data_subset.get(\"Ampel z\") is not None:\n",
    "            z = data_subset[data_subset[\"ztf_id\"] == ztf_name][\"Ampel z\"].values[0]\n",
    "        else:\n",
    "            z = None\n",
    "\n",
    "        cand_dict.update({\"kilonova_eval\": {\"kilonovaness\": kilonovaness, \"z\": z}})\n",
    "\n",
    "    print(scanner.cache.keys())\n",
    "\n",
    "    scanner.create_candidate_summary()\n",
    "\n",
    "\n",
    "    # plan: nimm aus data_df gw_name, \n",
    "    # nur für candidates mit dem gw_name, mache pdfs\n",
    "    # evtl versuche kilonovaness in pdf zu integrieren?"
   ]
  },
  {
   "cell_type": "code",
   "execution_count": null,
   "metadata": {},
   "outputs": [],
   "source": []
  }
 ],
 "metadata": {
  "kernelspec": {
   "display_name": "ampel-nuztf",
   "language": "python",
   "name": "python3"
  },
  "language_info": {
   "codemirror_mode": {
    "name": "ipython",
    "version": 3
   },
   "file_extension": ".py",
   "mimetype": "text/x-python",
   "name": "python",
   "nbconvert_exporter": "python",
   "pygments_lexer": "ipython3",
   "version": "3.10.11"
  },
  "orig_nbformat": 4
 },
 "nbformat": 4,
 "nbformat_minor": 2
}
