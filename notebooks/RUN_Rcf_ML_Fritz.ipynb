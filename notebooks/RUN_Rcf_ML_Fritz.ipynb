{
 "cells": [
  {
   "cell_type": "markdown",
   "id": "4fd252ee",
   "metadata": {},
   "source": [
    "Run the RCF filter on some set of recent alerts, match with some catalogs and run SNguess and Parsnip. Hopefully submit to Fritz."
   ]
  },
  {
   "cell_type": "code",
   "execution_count": null,
   "id": "cc4d474e",
   "metadata": {},
   "outputs": [],
   "source": [
    "import requests, os\n",
    "from astropy.time import Time"
   ]
  },
  {
   "cell_type": "code",
   "execution_count": null,
   "id": "2304d7c2",
   "metadata": {},
   "outputs": [],
   "source": [
    "token = os.environ[\"ARCHIVE_TOKEN\"]\n",
    "header = {\"Authorization\": \"bearer \"+token}\n",
    "base_url = 'https://ampel.zeuthen.desy.de/api/ztf/archive/v3'\n",
    "from ampel.log.AmpelLogger import AmpelLogger\n",
    "from ampel.contrib.hu.t0.RcfFilter import RcfFilter\n",
    "\n",
    "from ampel.ztf.t0.load.ZTFArchiveAlertLoader import ZTFArchiveAlertLoader\n",
    "from ampel.ztf.alert.ZiAlertSupplier import ZiAlertSupplier\n",
    "from ampel.secret.AmpelVault import AmpelVault\n",
    "from ampel.secret.DictSecretProvider import DictSecretProvider\n",
    "from ampel.dev.DevAmpelContext import DevAmpelContext"
   ]
  },
  {
   "cell_type": "code",
   "execution_count": null,
   "id": "7af38731",
   "metadata": {},
   "outputs": [],
   "source": [
    "logger = AmpelLogger.get_logger()"
   ]
  },
  {
   "cell_type": "markdown",
   "id": "6da955a8",
   "metadata": {},
   "source": [
    "## A. Define filter parameters\n",
    "Default RCF 2020B values."
   ]
  },
  {
   "cell_type": "code",
   "execution_count": null,
   "id": "f779ff60",
   "metadata": {},
   "outputs": [],
   "source": [
    "# Decent filter parameters\n",
    "filter_config = {\n",
    "    \"min_ndet\": 1,          # Min number of detections\n",
    "    \"max_magpsf\": 19.,      \n",
    "    \"min_dist_to_sso\": 15,     \n",
    "    \"min_gal_lat\": 7,      \n",
    "    \"min_age\": 0.02,\n",
    "    \"max_ipac_age\": 0,\n",
    "    \"min_rb\": 0,\n",
    "    \"min_drb\": 0,\n",
    "}"
   ]
  },
  {
   "cell_type": "code",
   "execution_count": null,
   "id": "82d45239",
   "metadata": {},
   "outputs": [],
   "source": [
    "t0filter = RcfFilter( **filter_config, logger=logger )\n",
    "t0filter.post_init()"
   ]
  },
  {
   "cell_type": "markdown",
   "id": "3f9458b7",
   "metadata": {},
   "source": [
    "## B. Getting a handle to alerts.\n",
    "A _resume token_, which points to a specific set of alerts. We here present three ways of doing this. "
   ]
  },
  {
   "cell_type": "code",
   "execution_count": null,
   "id": "6fa69be4",
   "metadata": {},
   "outputs": [],
   "source": [
    "delta_t = 1."
   ]
  },
  {
   "cell_type": "code",
   "execution_count": null,
   "id": "9d57df8c",
   "metadata": {},
   "outputs": [],
   "source": [
    "# Adding some handles to make it feasible...\n",
    "query = {\n",
    "  \"jd\": {\n",
    "    \"$gt\": Time.now().jd-delta_t,\n",
    "    \"$lt\": Time.now().jd\n",
    "  },\n",
    "  \"candidate\": {\n",
    "    \"rb\": {\n",
    "      \"$gt\": 0.2\n",
    "    },\n",
    "    \"drb\": {\n",
    "      \"$gt\": 0.95   \n",
    "    },\n",
    "    \"magpsf\": {\n",
    "      \"$lt\": 20,\n",
    "      \"$gt\": 18\n",
    "    },\n",
    "    \"ra\": {\n",
    "      \"$lt\": 51.7,\n",
    "      \"$gt\": 51.6\n",
    "    },\n",
    "    \"dec\": {\n",
    "      \"$lt\": 9.19,\n",
    "      \"$gt\": 9.18\n",
    "    },\n",
    "    \"ndethist\": {\n",
    "      \"$gt\": 0,\n",
    "      \"$lte\": 7\n",
    "    },\n",
    "    \"isdiffpos\": {\"$in\": [\"t\", \"1\"]},\n",
    "  }\n",
    "}"
   ]
  },
  {
   "cell_type": "code",
   "execution_count": null,
   "id": "a8e8bc77",
   "metadata": {},
   "outputs": [],
   "source": [
    "# Connection\n",
    "endpoint = 'https://ampel.zeuthen.desy.de/api/ztf/archive/v3/streams/from_query?programid=1'\n",
    "#endpoint = 'https://ampel.zeuthen.desy.de/api/ztf/archive/v3/streams/from_query?'\n",
    "header = {\"Authorization\": \"bearer \"+os.environ[\"ARCHIVE_TOKEN\"]}"
   ]
  },
  {
   "cell_type": "code",
   "execution_count": null,
   "id": "a38013e0",
   "metadata": {},
   "outputs": [],
   "source": [
    "response = requests.post(endpoint, headers=header, json=query )"
   ]
  },
  {
   "cell_type": "code",
   "execution_count": null,
   "id": "6c95574a",
   "metadata": {},
   "outputs": [],
   "source": [
    "response.ok"
   ]
  },
  {
   "cell_type": "code",
   "execution_count": null,
   "id": "2f6de5f4",
   "metadata": {},
   "outputs": [],
   "source": [
    "resume_token = response.json()['resume_token']"
   ]
  },
  {
   "cell_type": "code",
   "execution_count": null,
   "id": "ab402828",
   "metadata": {},
   "outputs": [],
   "source": [
    "resume_token = 'uip_MPLU-XYNH_C9EU_loVdIdtnEFbDU6XVUwlYK1ms'"
   ]
  },
  {
   "cell_type": "code",
   "execution_count": null,
   "id": "6cdd97bc",
   "metadata": {},
   "outputs": [],
   "source": [
    "# Create a secret vault\n",
    "secrets = { 'slack/ztf_general/jno': os.environ[\"SNIaSLACK\"],\n",
    "            \"ztf/archive/token\": os.environ[\"ARCHIVE_TOKEN\"],\n",
    "          }\n",
    "vault = AmpelVault([DictSecretProvider(secrets)])"
   ]
  },
  {
   "cell_type": "code",
   "execution_count": null,
   "id": "26dc6668",
   "metadata": {},
   "outputs": [],
   "source": [
    "AMPEL_CONF = '/home/jnordin/github/ampel83/Ampel-HU-astro/ampel_conf.yaml'"
   ]
  },
  {
   "cell_type": "code",
   "execution_count": null,
   "id": "20ad2093",
   "metadata": {},
   "outputs": [],
   "source": [
    "channel = 'RCFnb'"
   ]
  },
  {
   "cell_type": "code",
   "execution_count": null,
   "id": "fedc62cb",
   "metadata": {},
   "outputs": [],
   "source": [
    "ctx = DevAmpelContext.load(\n",
    "    config = AMPEL_CONF,\n",
    "    db_prefix = 'dropme',\n",
    "    purge_db = True,\n",
    "    vault = vault\n",
    ")\n",
    "ctx.add_channel(\n",
    "    name=channel,\n",
    "    access=['ZTF', 'ZTF_PUB', 'ZTF_PRIV']\n",
    ")"
   ]
  },
  {
   "cell_type": "code",
   "execution_count": null,
   "id": "cd442506",
   "metadata": {},
   "outputs": [],
   "source": [
    "# Will use NED for spectroscopic redshifts.\n",
    "cat_conf = {\n",
    "    'catalogs' : {\n",
    "        'SDSS_spec' : {\n",
    "            'use' : 'extcats',\n",
    "            'rs_arcsec' : 10.0,\n",
    "            'keys_to_append' : ['z', 'bptclass', 'subclass'],\n",
    "            'all': False,\n",
    "        },\n",
    "        'NEDz' : {\n",
    "            'use' : 'catsHTM',\n",
    "            'rs_arcsec' : 10.0,\n",
    "            'keys_to_append' : ['ObjType', 'Velocity', 'z'],\n",
    "        },\n",
    "        'GLADEv23' : {\n",
    "            'use' : 'extcats',\n",
    "            'rs_arcsec' : 10,\n",
    "            'keys_to_append' : ['z', 'dist', 'dist_err', 'flag1', 'flag2', 'flag3'],\n",
    "        },\n",
    "        'LSPhotoZZou' : {\n",
    "            'use' : 'extcats',\n",
    "            'rs_arcsec' : 10.0,\n",
    "            'keys_to_append' : ['photoz','ra','dec','e_photoz','specz','_6','logMassBest','logMassInf','logMassSup'],\n",
    "            'pre_filter' : None,\n",
    "            'post_filter' : None,\n",
    "            'all': False,\n",
    "        },\n",
    "        'wiseScosPhotoz' : {\n",
    "            'use' : 'extcats',\n",
    "            'rs_arcsec' : 10.0,\n",
    "            'keys_to_append' : ['zPhoto_Corr','ra','dec','wiseID','w1mCorr','w2mCorr'],\n",
    "            'pre_filter' : None,\n",
    "            'post_filter' : None,\n",
    "        },\n",
    "        'twoMPZ' : {\n",
    "            'use' : 'extcats',\n",
    "            'rs_arcsec' : 10.0,\n",
    "            'keys_to_append' : ['zPhoto','ra','dec','zSpec'],\n",
    "            'pre_filter' : None,\n",
    "            'post_filter' : None,\n",
    "        },\n",
    "         'PS1_photoz' : {\n",
    "            'use' : 'extcats',\n",
    "            'rs_arcsec' : 10.0,\n",
    "            'keys_to_append' : ['raMean','decMean','z_phot','z_photErr', 'z_phot0', '_2'],\n",
    "            'pre_filter' : None,\n",
    "            'post_filter' : None,\n",
    "        },\n",
    "    }\n",
    "}"
   ]
  },
  {
   "cell_type": "code",
   "execution_count": null,
   "id": "aa77b013",
   "metadata": {},
   "outputs": [],
   "source": [
    "# New, new, also with all categories?\n",
    "ampelz_conf = {\n",
    "    \"max_redshift_category\" : 7,\n",
    "    \"t2_dependency\": [\n",
    "        {\n",
    "            \"unit\": \"T2CatalogMatch\",\n",
    "            \"config\": cat_conf,\n",
    "            \"link_override\": {\n",
    "                'filter': 'PPSFilter', 'sort': 'jd', \"select\": \"first\"\n",
    "                }\n",
    "        },\n",
    "#        {\n",
    "#            \"unit\": \"T2LSPhotoZTap\",\n",
    "#            \"config\": dl_config,\n",
    "#            \"link_override\": {\n",
    "#                'filter': 'PPSFilter', 'sort': 'jd', \"select\": \"first\"\n",
    "#                }\n",
    "#        },\n",
    "\n",
    "    ]\n",
    "}"
   ]
  },
  {
   "cell_type": "code",
   "execution_count": null,
   "id": "962163af",
   "metadata": {},
   "outputs": [],
   "source": [
    "sncosmo_conf = {\n",
    "    \"sncosmo_model_name\" : \"salt2\",\n",
    "    \"redshift_kind\" : 'T2DigestRedshifts',\n",
    "    \"max_ampelz_group\" : 7,      # For this purpose we use any available redshift\n",
    "#    \"unc\" : 3,\n",
    "    \"t2_dependency\": [\n",
    "        {\n",
    "            \"unit\": \"T2DigestRedshifts\",\n",
    "            \"config\": ampelz_conf,\n",
    "        },\n",
    "    ], \n",
    "    'tabulator': [\n",
    "        {'unit': 'ZTFT2Tabulator'},\n",
    "    ],\n",
    "    \"plot_props\": {\n",
    "        \"tags\": [\"SALT\", \"SNCOSMO\"],\n",
    "        \"file_name\": {\n",
    "            \"format_str\": \"%s_%s_%s.svg\",\n",
    "            \"arg_keys\": [\"stock\", \"model\", \"redshift_kind\"]\n",
    "        },\n",
    "        \"title\": {\n",
    "            \"format_str\": \"%s %s %s\",\n",
    "            \"arg_keys\": [\"stock\", \"model\", \"redshift_kind\"]\n",
    "        },\n",
    "        \"fig_text\": {\n",
    "            \"format_str\": \"%s %s \\nz-source %s \\nchisq %.2f ndof %s\",\n",
    "            \"arg_keys\": [\"stock\", \"model\", \"redshift_kind\", \"chisq\", \"ndof\"]\n",
    "        },\n",
    "        \"width\": 10,\n",
    "        \"height\": 6,\n",
    "#        \"id_mapper\": \"ZTFIdMapper\",\n",
    "        \"id_mapper\": None,\n",
    "        \"disk_save\": \"/home/jnordin/tmp/ztfsalt\",\n",
    "    }\n",
    "}"
   ]
  },
  {
   "cell_type": "code",
   "execution_count": null,
   "id": "a9b4211f",
   "metadata": {},
   "outputs": [],
   "source": [
    "parsnip_config = {\n",
    "    'parsnip_model':'/home/jnordin/data/parsnip/parsnip_ps1_ztf.pt', \n",
    "    'parsnip_classifier':'/home/jnordin/data/parsnip/ztf_classifier.pkl', \n",
    "    \"redshift_kind\" : 'T2DigestRedshifts',\n",
    "    \"max_ampelz_group\" : 7,      # For this purpose we use any available redshift\n",
    "    \"t2_dependency\": [\n",
    "        {\n",
    "            \"unit\": \"T2DigestRedshifts\",\n",
    "            \"config\": ampelz_conf,\n",
    "        },\n",
    "    ], \n",
    "    'plot_suffix': 'png',\n",
    "    'plot_dir': '/home/jnordin/tmp/ztfparsnip',\n",
    "    'tabulator': [\n",
    "        {'unit': 'ZTFT2Tabulator'},\n",
    "    ]\n",
    "}"
   ]
  },
  {
   "cell_type": "code",
   "execution_count": null,
   "id": "212e3b9d",
   "metadata": {},
   "outputs": [],
   "source": [
    "directives = [\n",
    "        {\n",
    "            \"channel\": channel,\n",
    "            \"filter\": {\n",
    "                \"unit\": \"RcfFilter\",\n",
    "                \"config\": filter_config,\n",
    "                \"on_stock_match\": 'bypass',\n",
    "            },\n",
    "            \"ingest\": {\n",
    "                \"mux\": {\n",
    "                    \"unit\": \"ZiArchiveMuxer\",\n",
    "                    \"config\": {\n",
    "                        \"history_days\": 999,\n",
    "                        \"future_days\": 999\n",
    "                    },\n",
    "                    \"combine\": [\n",
    "                        {\n",
    "                            \"unit\": \"ZiT1Combiner\",\n",
    "                            \"state_t2\": [\n",
    "                                {\n",
    "                                    \"unit\": \"T2DigestRedshifts\",\n",
    "                                    \"config\": ampelz_conf,\n",
    "                                },\n",
    "                                {\n",
    "                                    \"unit\": \"T2MatchBTS\",\n",
    "                                },\n",
    "                                {\n",
    "                                    \"unit\": \"T2BrightSNProb\",\n",
    "                                },\n",
    "                                {\n",
    "                                    \"unit\": \"T2RunSncosmo\",\n",
    "                                    \"config\": sncosmo_conf,\n",
    "                                },                            \n",
    "                                {\n",
    "                                    \"unit\": \"T2RunParsnip\",\n",
    "                                    \"config\": parsnip_config,\n",
    "                                },                            \n",
    "                            ]\n",
    "                        }\n",
    "                    ],\n",
    "                    \"insert\": {\n",
    "                        \"point_t2\": [\n",
    "                            {\n",
    "                                'unit': 'T2CatalogMatch',\n",
    "                                'config': cat_conf,\n",
    "                                \"ingest\": {\n",
    "                                    'filter': 'PPSFilter', 'sort': 'jd', 'select': 'first'\n",
    "                                }\n",
    "                            },\n",
    "#                            {\n",
    "#                                'unit': 'T2LSPhotoZTap',\n",
    "#                                'config': dl_config,\n",
    "#                                \"ingest\": {\n",
    "#                                    'filter': 'PPSFilter', 'sort': 'jd', 'select': 'first'\n",
    "#                                }\n",
    "#                            },\n",
    "                        ],\n",
    "                    }\n",
    "\n",
    "                }\n",
    "            }\n",
    "        }\n",
    "    ]"
   ]
  },
  {
   "cell_type": "code",
   "execution_count": null,
   "id": "1b170d16",
   "metadata": {},
   "outputs": [],
   "source": [
    "response.json()"
   ]
  },
  {
   "cell_type": "code",
   "execution_count": null,
   "id": "836b1612",
   "metadata": {},
   "outputs": [],
   "source": [
    "loader_config = {'archive':\"https://ampel.zeuthen.desy.de/api/ztf/archive/v3\", \"stream\":response.json()['resume_token']}"
   ]
  },
  {
   "cell_type": "code",
   "execution_count": null,
   "id": "74bcaa6f",
   "metadata": {},
   "outputs": [],
   "source": [
    "ac = ctx.new_context_unit(\n",
    "    unit = \"AlertConsumer\",\n",
    "    process_name = \"AP_test\",\n",
    "    iter_max = 1000000000,\n",
    "    log_profile = os.environ.get('log_profile', 'debug'),\n",
    "    shaper = \"ZiDataPointShaper\",\n",
    "    compiler_opts = \"ZiCompilerOptions\",\n",
    "    supplier = {\n",
    "        \"unit\": \"ZiAlertSupplier\",\n",
    "        'config': {\n",
    "            'deserialize': None,\n",
    "            'loader': {\n",
    "                'unit': 'ZTFArchiveAlertLoader',\n",
    "                'config': loader_config\n",
    "            }\n",
    "        }\n",
    "    },\n",
    "    directives = directives\n",
    ")\n"
   ]
  },
  {
   "cell_type": "code",
   "execution_count": null,
   "id": "cbfad1eb",
   "metadata": {},
   "outputs": [],
   "source": [
    "n = ac.run()"
   ]
  },
  {
   "cell_type": "code",
   "execution_count": null,
   "id": "799fe546",
   "metadata": {},
   "outputs": [],
   "source": [
    "n"
   ]
  },
  {
   "cell_type": "code",
   "execution_count": null,
   "id": "a6da6d07",
   "metadata": {},
   "outputs": [],
   "source": [
    "t2w = ctx.new_context_unit(\n",
    "    unit = 'T2Worker',\n",
    "    process_name = 'T2Processor_test',\n",
    "    log_profile = os.environ.get('log_profile', 'default')\n",
    ")"
   ]
  },
  {
   "cell_type": "code",
   "execution_count": null,
   "id": "c5bea120",
   "metadata": {},
   "outputs": [],
   "source": [
    "t2w.run()"
   ]
  },
  {
   "cell_type": "code",
   "execution_count": null,
   "id": "f5fbef27",
   "metadata": {},
   "outputs": [],
   "source": []
  },
  {
   "cell_type": "code",
   "execution_count": null,
   "id": "742c6c87",
   "metadata": {},
   "outputs": [],
   "source": [
    "table_config =  {\n",
    "                                        'table_schema' : {\n",
    "                                            'T2DigestRedshifts': {\n",
    "                                                'Ampel z' : ['ampel_z'],\n",
    "                                                'Ampel z group' : ['group_z_nbr'],\n",
    "                                                'Ampel distance' :['ampel_dist'],\n",
    "                                            },\n",
    "                                            'T2BrightSNProb' : {\n",
    "                                                'RiseDecline_Success' : ['success'],\n",
    "                                                'RiseDecline_SNguess' : ['SNGuess'],\n",
    "                                                'RiseDecline_SNBool' : ['SNGuessBool'],\n",
    "                                                'RiseDecline_nDet' : ['ndet'],\n",
    "                                            },\n",
    "                                            'T2MatchBTS' : {\n",
    "                                                'Type' : ['bts_type'],\n",
    "                                                'IAU ID': ['bts_IAUID'],\n",
    "                                            },\n",
    "                                            'T2RunSncosmo' : {\n",
    "                                                'Peak B abs mag' : ['fit_metrics','restpeak_model_absmag_B'],\n",
    "                                                'SALT2 X1' : ['sncosmo_result','paramdict','x1'],\n",
    "                                                'SALT2 X1 (err)' : ['sncosmo_result','errors','x1'],\n",
    "                                                'SALT2 Color' : ['sncosmo_result','paramdict','c'],\n",
    "                                                'SALT2 Color (err)' : ['sncosmo_result','errors','c'],\n",
    "                                                'Pulls around peak' : ['fit_metrics','absmean_peak_pull'],\n",
    "                                                'Det. around peak' : ['fit_metrics','nbr_peak_pulls'],\n",
    "                                            },\n",
    "                                            'T2RunParsnip' : {\n",
    "                                                'Parsnip chi2dpf' : ['prediction','chi2pdf'],\n",
    "                                                'Parsnip(SLSN)' : ['classification','SLSN'],\n",
    "                                                'Parsnip(SNII)' : ['classification','SNII'],\n",
    "                                                'Parsnip(SNIa)' : ['classification','SNIa'],\n",
    "                                                'Parsnip(SNIbc)' : ['classification','SNIbc'],\n",
    "                                                'Parsnip(TDE)' : ['classification','TDE'],\n",
    "                                            },\n",
    "                                            \n",
    "                                        },\n",
    "                                        'transient_table_schema' : {\n",
    "                                        },\n",
    "                                        'include_stock' : True,\n",
    "                                        'include_channels' : True,\n",
    "                                        'fmt' : 'csv',\n",
    "                                        'local_path' : \"/home/jnordin/tmp\"\n",
    "                                    }"
   ]
  },
  {
   "cell_type": "code",
   "execution_count": null,
   "id": "8673bf79",
   "metadata": {},
   "outputs": [],
   "source": [
    "t3p = ctx.new_context_unit(\n",
    "    process_name = \"LensPrint\",\n",
    "    unit = \"T3Processor\",\n",
    "    execute = [\n",
    "        {\n",
    "            \"unit\": \"T3ReviewUnitExecutor\",\n",
    "            \"config\": {\n",
    "                \"supply\": {\n",
    "                    \"unit\": \"T3DefaultBufferSupplier\",\n",
    "                    \"config\": {\n",
    "                        \"select\": {\n",
    "                            \"unit\": \"T3StockSelector\",\n",
    "                            \"config\": {\"channel\": channel}\n",
    "                        },\n",
    "                        \"load\": {\n",
    "                            \"unit\": \"T3SimpleDataLoader\",\n",
    "                            \"config\": {\n",
    "                                \"directives\": [\"STOCK\", \"T1\", \"T2DOC\"],\n",
    "                                \"channel\": channel\n",
    "                            }\n",
    "                        }\n",
    "                     }\n",
    "                },\n",
    "                \"stage\" : {\n",
    "                    \"unit\": \"T3SimpleStager\",\n",
    "                    \"config\": {\n",
    "                        \"execute\": [\n",
    "                            {\n",
    "                                \"unit\": \"TransientTablePublisher\",\n",
    "                                \"config\": table_config\n",
    "                            }\n",
    "                        ]\n",
    "                    }\n",
    "                }\n",
    "            }\n",
    "        }\n",
    "    ]\n",
    ")"
   ]
  },
  {
   "cell_type": "code",
   "execution_count": null,
   "id": "c8c26ed1",
   "metadata": {},
   "outputs": [],
   "source": [
    "t3p.run()"
   ]
  },
  {
   "cell_type": "code",
   "execution_count": null,
   "id": "a186815c",
   "metadata": {},
   "outputs": [],
   "source": []
  }
 ],
 "metadata": {
  "kernelspec": {
   "display_name": "Python 3 (ipykernel)",
   "language": "python",
   "name": "python3"
  },
  "language_info": {
   "codemirror_mode": {
    "name": "ipython",
    "version": 3
   },
   "file_extension": ".py",
   "mimetype": "text/x-python",
   "name": "python",
   "nbconvert_exporter": "python",
   "pygments_lexer": "ipython3",
   "version": "3.10.6"
  }
 },
 "nbformat": 4,
 "nbformat_minor": 5
}
