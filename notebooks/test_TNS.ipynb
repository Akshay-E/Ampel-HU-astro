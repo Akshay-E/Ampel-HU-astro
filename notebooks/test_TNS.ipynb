{
 "cells": [
  {
   "cell_type": "markdown",
   "id": "burning-arrow",
   "metadata": {},
   "source": [
    "Check the new T2 TNS selector, then try to get the client to work with all the config updates.."
   ]
  },
  {
   "cell_type": "code",
   "execution_count": null,
   "id": "silent-break",
   "metadata": {},
   "outputs": [],
   "source": [
    "import os\n",
    "%load_ext ampel_quick_import\n",
    "%qi DevAmpelContext DictSecretProvider AmpelLogger T2Processor ChannelModel AlertConsumer TarAlertLoader ChannelModel AbsAlertFilter T3Processor TransientInfoPrinter"
   ]
  },
  {
   "cell_type": "code",
   "execution_count": null,
   "id": "modern-tenant",
   "metadata": {},
   "outputs": [],
   "source": [
    "# See other sample notebooks for path to download\n",
    "ALERT_ARCHIVE = \"/home/jnordin/data/ztfalerts/ztf_public_20180731_nostars.tar.gz\"\n",
    "AMPEL_CONF = \"/home/jnordin/github/ampelv71/ampel_conf.yaml\""
   ]
  },
  {
   "cell_type": "code",
   "execution_count": null,
   "id": "indonesian-patrol",
   "metadata": {},
   "outputs": [],
   "source": [
    "secrets = DictSecretProvider( {'slack/ztf_general/jno':None,\n",
    "                              'mongo/logger':{},\n",
    "                              'mongo/writer':{},\n",
    "                               'fritz/jvs/ampelbot': None,\n",
    "                               'desi/skyportal/jno': None\n",
    "                               'tns/jnordin': None,\n",
    "                               'extcats/reader' : {},\n",
    "                               'lco/jnordin':None,\n",
    "                              })"
   ]
  },
  {
   "cell_type": "code",
   "execution_count": null,
   "id": "pacific-weather",
   "metadata": {},
   "outputs": [],
   "source": [
    "ctx = DevAmpelContext.load(\n",
    "    config_file_path = AMPEL_CONF,\n",
    "    db_prefix = \"TNSTest\",\n",
    "    purge_db = True,\n",
    "    secrets = secrets,\n",
    ")"
   ]
  },
  {
   "cell_type": "code",
   "execution_count": null,
   "id": "cheap-leather",
   "metadata": {},
   "outputs": [],
   "source": [
    "# First channel, general look combined with SNGuess\n",
    "ctx.add_channel(\n",
    "    name=\"TNS1\",\n",
    "    access=['ZTF', 'ZTF_PUB']\n",
    ")"
   ]
  },
  {
   "cell_type": "code",
   "execution_count": null,
   "id": "combined-tyler",
   "metadata": {},
   "outputs": [],
   "source": [
    "cat_conf = { 'catalogs' : {\n",
    "             'SDSS_spec' : {\n",
    "                 'use' : 'extcats',\n",
    "                 'catq_kwargs' : {\n",
    "                     'ra_key' : 'ra',\n",
    "                     'dec_key' : 'dec',\n",
    "                 },\n",
    "                 'rs_arcsec' : 10,\n",
    "                 'keys_to_append' : ['z','bptclass','subclass'],\n",
    "                 'pre_filter' : None,\n",
    "                 'post_filter' : None,\n",
    "             },\n",
    "             'milliquas' : {\n",
    "                 'use' : 'extcats',\n",
    "                 'catq_kwargs' : {\n",
    "                     'ra_key' : 'ra',\n",
    "                     'dec_key' : 'dec',\n",
    "                 },\n",
    "                 'rs_arcsec' : 3,\n",
    "                 'keys_to_append' : ['broad_type', 'name', 'redshift', 'qso_prob'],\n",
    "                 'pre_filter' : None,\n",
    "                 'post_filter' : None,\n",
    "             }\n",
    "        },\n",
    "        'extcats' : {\n",
    "            'auth' : {'key' : 'extcats/reader'},\n",
    "            'max_time' : 300.0            \n",
    "        }\n",
    "}"
   ]
  },
  {
   "cell_type": "code",
   "execution_count": null,
   "id": "expanded-science",
   "metadata": {},
   "outputs": [],
   "source": [
    "extcat_config_id = ctx.add_config_id( cat_conf )\n",
    "print(extcat_config_id)"
   ]
  },
  {
   "cell_type": "code",
   "execution_count": null,
   "id": "other-bloom",
   "metadata": {},
   "outputs": [],
   "source": [
    "tnseval_conf = {\n",
    "    \"t2_dependency\": [\n",
    "        {\n",
    "            \"unit\": \"T2CatalogMatch\",\n",
    "            \"config\": extcat_config_id,\n",
    "            \"link_override\": {\n",
    "                \"pps\": \"last\"\n",
    "                }\n",
    "        }\n",
    "    ]\n",
    "}"
   ]
  },
  {
   "cell_type": "code",
   "execution_count": null,
   "id": "accessible-monte",
   "metadata": {},
   "outputs": [],
   "source": [
    "tnseval_config_id = ctx.add_config_id( tnseval_conf )\n",
    "print(tnseval_config_id)"
   ]
  },
  {
   "cell_type": "code",
   "execution_count": null,
   "id": "distinguished-council",
   "metadata": {},
   "outputs": [],
   "source": [
    "ap = AlertConsumer(\n",
    "    context = ctx,\n",
    "    process_name = \"ipyton_notebook_test\",\n",
    "    supplier = \"ZiAlertSupplier\",\n",
    "    log_profile = \"debug\",\n",
    "    directives = [\n",
    "        {\n",
    "            \"channel\": \"TNS1\", \n",
    "            \"filter\": {\"unit\": \"SimpleDecentFilter\",\"config\": {\n",
    "#                                                                \"min_drb\":0.995,\n",
    "                                                                \"min_rb\":0.3,\n",
    "                                                                \"min_ndet\":3,\n",
    "                                                                \"min_tspan\":0.02,\n",
    "                                                                \"max_tspan\" : 999,\n",
    "                                                                \"min_gal_lat\" : 14\n",
    "                                                              }\n",
    "                        },\n",
    "            \"stock_update\": \"ZiStockIngester\",\n",
    "            't0_add': {\n",
    "                \"ingester\": \"ZiAlertContentIngester\",\n",
    "                \"t1_combine\": [\n",
    "                    {\n",
    "                        \"ingester\": \"PhotoCompoundIngester\",\n",
    "                        \"config\": {\"combiner\": \"ZiT1Combiner\"},\n",
    "                        \"t2_compute\": {\n",
    "                            \"ingester\": \"PhotoT2Ingester\",\n",
    "                            \"config\": {\"tags\": [\"ZTF\"]},\n",
    "                            \"units\": [\n",
    "                                {'unit': 'T2TNSEval',\n",
    "                                 'config': tnseval_config_id\n",
    "                                },\n",
    "                                {'unit': 'T2BrightSNProb'\n",
    "                                },\n",
    "                            ]\n",
    "                        }\n",
    "                    }\n",
    "                ],\n",
    "                \"t2_compute\": {\n",
    "                    'unit': 'DualPointT2Ingester',\n",
    "                    'config': {'tags': ['ZTF']},\n",
    "                    'units': [\n",
    "                        {\n",
    "                            'unit': 'T2CatalogMatch', \n",
    "                            'config' : extcat_config_id,\n",
    "                            \"ingest\": {'eligible': {'pps': 'first'}}\n",
    "                        }\n",
    "                    ],\n",
    "                },\n",
    "\n",
    "            }\n",
    "        }\n",
    "    ]\n",
    ")"
   ]
  },
  {
   "cell_type": "code",
   "execution_count": null,
   "id": "representative-country",
   "metadata": {},
   "outputs": [],
   "source": [
    "ap.set_loader(TarAlertLoader(ALERT_ARCHIVE))"
   ]
  },
  {
   "cell_type": "code",
   "execution_count": null,
   "id": "rotary-islam",
   "metadata": {},
   "outputs": [],
   "source": [
    "ap.set_iter_max(20)"
   ]
  },
  {
   "cell_type": "code",
   "execution_count": null,
   "id": "scientific-principal",
   "metadata": {
    "scrolled": true
   },
   "outputs": [],
   "source": [
    "ap.run()"
   ]
  },
  {
   "cell_type": "code",
   "execution_count": null,
   "id": "occupational-worth",
   "metadata": {},
   "outputs": [],
   "source": [
    "t2p = T2Processor(context=ctx, process_name=\"T2Processor_test\", log_profile=\"debug\")"
   ]
  },
  {
   "cell_type": "code",
   "execution_count": null,
   "id": "administrative-publication",
   "metadata": {
    "scrolled": true
   },
   "outputs": [],
   "source": [
    "t2p.run()"
   ]
  },
  {
   "cell_type": "code",
   "execution_count": null,
   "id": "qualified-writing",
   "metadata": {},
   "outputs": [],
   "source": [
    "t3p = T3Processor(\n",
    "    context=ctx,\n",
    "    process_name = \"T3Processor_test\",\n",
    "    log_profile = \"default\", # debug\n",
    "    channel = \"TNS1\",\n",
    "    directives = [ {\n",
    "        \"context\": [\n",
    "            {\"unit\": \"T3AddLastRunTime\"},\n",
    "            {\"unit\": \"T3AddAlertsNumber\"}\n",
    "        ],\n",
    "        \"select\": {\n",
    "            \"unit\": \"T3FilteringStockSelector\",\n",
    "            \"config\": {\n",
    "                \"created\": {\"after\": {\"match_type\": \"time_delta\", \"days\": -400000}},\n",
    "                'tag': {'with': \"ZTF\", 'without': 'HAS_ERROR'},\n",
    "                't2_filter':  {\n",
    "                    'unit': 'T2TNSEval',\n",
    "                    'match': {'tns_candidate':True },\n",
    "                }, \n",
    "            }\n",
    "        },\n",
    "        \"load\": {\n",
    "            \"unit\": \"T3SimpleDataLoader\",\n",
    "            \"config\": {\n",
    "                \"directives\": [\"TRANSIENT\", \"T2RECORD\"],\n",
    "            }\n",
    "\n",
    "        },\n",
    "        \"run\": {\n",
    "            \"unit\": \"T3UnitRunner\",\n",
    "            \"config\": {\n",
    "                \"directives\": [\n",
    "                      {\n",
    "                            \"project\": {\n",
    "                                \"unit\": \"T3ChannelProjector\",\n",
    "                                \"config\": {\n",
    "                                    \"channel\": \"TNS1\"\n",
    "                                }\n",
    "                            },\n",
    "                            \"execute\": [\n",
    "                                {\"unit\": \"TransientInfoPrinter\"},\n",
    "                                {\n",
    "                                    \"unit\": \"TNSTalker\",\n",
    "                                    \"config\": {\n",
    "                                        \"tns_api_key\": {\n",
    "                                            \"key\":\"tns/jnordin\",\n",
    "                                        },\n",
    "                                        \"sandbox\":True,\n",
    "                                        \"submit_tns\":True,\n",
    "                                    },\n",
    "                                },\n",
    "                            ]\n",
    "\n",
    "                      }\n",
    "                ]\n",
    "            }\n",
    "        }\n",
    "    } ]\n",
    ")\n"
   ]
  },
  {
   "cell_type": "code",
   "execution_count": null,
   "id": "ongoing-civilian",
   "metadata": {},
   "outputs": [],
   "source": [
    "t3p.run()"
   ]
  }
 ],
 "metadata": {
  "kernelspec": {
   "display_name": "Python 3",
   "language": "python",
   "name": "python3"
  },
  "language_info": {
   "codemirror_mode": {
    "name": "ipython",
    "version": 3
   },
   "file_extension": ".py",
   "mimetype": "text/x-python",
   "name": "python",
   "nbconvert_exporter": "python",
   "pygments_lexer": "ipython3",
   "version": "3.8.8"
  }
 },
 "nbformat": 4,
 "nbformat_minor": 5
}
