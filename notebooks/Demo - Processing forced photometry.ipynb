{
 "cells": [
  {
   "cell_type": "markdown",
   "id": "independent-detail",
   "metadata": {},
   "source": [
    "Demo for how to process data available as a fixed collection of forced photometry files.\n",
    "\n",
    "A typical application is that an initial workflow selected a number of transients for which forced photometry was retrieved, and now the workflow should be rerun based on the new data.\n",
    "This will also allow units to be tested on forced photometry like data.. \n",
    "\n",
    "\n",
    "\n",
    "\n",
    "`BasicMultiFilter`: Ampel-alerts/ampel/alert/filter/BasicMultiFilter.py\n",
    "`FileAlertLoader`: Ampel-alerts/ampel/alert/load/FileAlertLoader.py\n",
    "`TarAlertLoader`: Ampel-alerts/ampel/alert/load/TarAlertLoader.py\n",
    "\n",
    "Loaded files are converted to the ampel alert format through the supplier\n",
    "\n",
    "`ZiAlertSupplier` : ampel.ztf.alert.ZiAlertSupplier\n",
    "`LSSTAlertSupplier`: ampel.lsst.alert.LSSTAlertSupplier\n",
    "`ElasticcAlertSupplier`: ampel.lsst.alert.ElasticcAlertSupplier\n",
    "\n",
    "Forced photometry files can be loaded through \n",
    "`ZTFFPbotForcedPhotometryAlertSupplier` : ampel.ztf.alert.ZTFFPbotForcedPhotometryAlertSupplier\n",
    "\n",
    "\n"
   ]
  },
  {
   "cell_type": "code",
   "execution_count": null,
   "id": "82b06c6c",
   "metadata": {},
   "outputs": [],
   "source": [
    "#import os\n",
    "#from ampel_notebook_utils import * \n",
    "from ampel.alert.load.TarAlertLoader import TarAlertLoader\n",
    "from ampel.alert.load.DirAlertLoader import DirAlertLoader\n",
    "from ampel.lsst.alert.ElasticcAlertSupplier import ElasticcAlertSupplier\n",
    "from ampel.lsst.alert.LSSTAlertSupplier import LSSTAlertSupplier\n",
    "from ampel.ztf.alert.ZTFFPbotForcedPhotometryAlertSupplier import ZTFFPbotForcedPhotometryAlertSupplier \n",
    "from ampel.dev.DevAmpelContext import DevAmpelContext"
   ]
  },
  {
   "cell_type": "code",
   "execution_count": null,
   "id": "27d856ff",
   "metadata": {},
   "outputs": [],
   "source": [
    "AMPEL_CONF = '/home/jnordin/github/ampel83/Ampel-HU-astro/ampel_conf.yaml'"
   ]
  },
  {
   "cell_type": "code",
   "execution_count": null,
   "id": "05bc7c9f",
   "metadata": {},
   "outputs": [],
   "source": [
    "ctx = DevAmpelContext.load(\n",
    "    config = AMPEL_CONF,\n",
    "    db_prefix = 'dumpme',\n",
    "    purge_db = True,\n",
    ")"
   ]
  },
  {
   "cell_type": "markdown",
   "id": "299cae10",
   "metadata": {},
   "source": [
    "#### Loading alerts stored in a tarfile.\n"
   ]
  },
  {
   "cell_type": "code",
   "execution_count": null,
   "id": "4bfa250d",
   "metadata": {},
   "outputs": [],
   "source": [
    "# ZTF name of transients to explore\n",
    "tarpath = \"/home/jnordin/Downloads/elasticc-test-early-july.tar.gz\""
   ]
  },
  {
   "cell_type": "code",
   "execution_count": null,
   "id": "371e9dae",
   "metadata": {},
   "outputs": [],
   "source": [
    "loader = TarAlertLoader(file_path=tarpath)"
   ]
  },
  {
   "cell_type": "code",
   "execution_count": null,
   "id": "82bac422",
   "metadata": {},
   "outputs": [],
   "source": [
    "alert = next(loader)"
   ]
  },
  {
   "cell_type": "code",
   "execution_count": null,
   "id": "c4362050",
   "metadata": {},
   "outputs": [],
   "source": [
    "alert"
   ]
  },
  {
   "cell_type": "markdown",
   "id": "c1f160e8",
   "metadata": {},
   "source": [
    "#### Configuring an alert supplier.\n",
    "\n",
    "A unit which supplies AMPEL alerts through converting imput from a loader."
   ]
  },
  {
   "cell_type": "code",
   "execution_count": null,
   "id": "ba7965ec",
   "metadata": {},
   "outputs": [],
   "source": [
    "ElasticcAlertSupplier??"
   ]
  },
  {
   "cell_type": "code",
   "execution_count": null,
   "id": "796ce6f2",
   "metadata": {},
   "outputs": [],
   "source": [
    "supplier_config =  {\n",
    "    'deserialize': \"avro\",\n",
    "    'loader': {\n",
    "        'unit': 'TarAlertLoader',\n",
    "                'config': {'file_path': tarpath}\n",
    "            }\n",
    "        }\n"
   ]
  },
  {
   "cell_type": "markdown",
   "id": "3bc672ef",
   "metadata": {},
   "source": [
    "As a version of the above, we can directly get the latest alert."
   ]
  },
  {
   "cell_type": "code",
   "execution_count": null,
   "id": "000d85a5",
   "metadata": {},
   "outputs": [],
   "source": [
    "supplier = LSSTAlertSupplier(**supplier_config)"
   ]
  },
  {
   "cell_type": "code",
   "execution_count": null,
   "id": "f53fc793",
   "metadata": {},
   "outputs": [],
   "source": [
    "zs, galcols, mwebvs = [], [], []\n",
    "for alert in supplier:\n",
    "    obj_data = [dp for dp in alert.datapoints if 'mwebv' in dp.keys()]\n",
    "#    if z:= obj_data[0].get('hostgal_zspec', -1)>0:\n",
    " #       print('whhhwi z host spec')\n",
    "  #      print(obj_data)\n",
    "    if 9 < obj_data[0]['hostgal_mag_u'] < 35 and 9 < obj_data[0]['hostgal_mag_i'] < 35:\n",
    "        galcols.append( obj_data[0]['hostgal_mag_u'] - obj_data[0]['hostgal_mag_i'] )\n",
    "        zs.append(obj_data[0]['z_final'])\n",
    "        mwebvs.append( obj_data[0].get('mwebv') )\n",
    "        if galcols[-1]> 50:\n",
    "            print(obj_data)"
   ]
  },
  {
   "cell_type": "code",
   "execution_count": null,
   "id": "5f670146",
   "metadata": {},
   "outputs": [],
   "source": [
    "import matplotlib.pyplot as plt"
   ]
  },
  {
   "cell_type": "code",
   "execution_count": null,
   "id": "bf8d2e50",
   "metadata": {},
   "outputs": [],
   "source": [
    "plt.plot(zs, galcols, 'o')"
   ]
  },
  {
   "cell_type": "markdown",
   "id": "965b660f",
   "metadata": {},
   "source": [
    "So what do we need to do now? Presumably get back to the elasticc test database and extract all dp0, filter for those with mwebv info, then save channel, z, hostgal_u, g, r, i. We then plot the different stuff..."
   ]
  },
  {
   "cell_type": "code",
   "execution_count": null,
   "id": "2107d130",
   "metadata": {},
   "outputs": [],
   "source": [
    "plt.plot( mwebvs,galcols, 'o')\n",
    "plt.xlabel('MWEBV')\n",
    "plt.ylabel('Host color')"
   ]
  },
  {
   "cell_type": "markdown",
   "id": "2066c831",
   "metadata": {},
   "source": [
    "Now, reading forced photometry files. We are assuming these are saved locally. "
   ]
  },
  {
   "cell_type": "code",
   "execution_count": null,
   "id": "2bb40f1a",
   "metadata": {},
   "outputs": [],
   "source": [
    "ZTFFPbotForcedPhotometryAlertSupplier??"
   ]
  },
  {
   "cell_type": "code",
   "execution_count": null,
   "id": "397c790e",
   "metadata": {},
   "outputs": [],
   "source": [
    "fpsupplier_config =  {\n",
    "    'deserialize': None,\n",
    "    'loader': {\n",
    "        'unit': 'DirAlertLoader',\n",
    "                'config': {'folder':'/home/jnordin/data/ztf_fpbot/oct27/full_0_1000', 'extension':'*.csv'}\n",
    "            }\n",
    "        }"
   ]
  },
  {
   "cell_type": "code",
   "execution_count": null,
   "id": "bfced57d",
   "metadata": {},
   "outputs": [],
   "source": [
    "fpsupplier = ZTFFPbotForcedPhotometryAlertSupplier(**fpsupplier_config)"
   ]
  },
  {
   "cell_type": "code",
   "execution_count": null,
   "id": "98ebfaaf",
   "metadata": {},
   "outputs": [],
   "source": [
    "alert = next(fpsupplier)"
   ]
  },
  {
   "cell_type": "markdown",
   "id": "e368cafb",
   "metadata": {},
   "source": [
    "Let us use this time to repeat how the raw content of an alert (in this case consisting of forced photometry) is converted into a LightCurve object like those which T2 units receive in production."
   ]
  },
  {
   "cell_type": "code",
   "execution_count": null,
   "id": "8b3b156e",
   "metadata": {},
   "outputs": [],
   "source": [
    "from ampel.content.T1Document import T1Document\n",
    "from ampel.view.LightCurve import LightCurve\n",
    "from ampel.ztf.ingest.ZiDataPointShaper import ZiDataPointShaper\n",
    "from ampel.log.AmpelLogger import AmpelLogger\n",
    "import matplotlib.pyplot as plt"
   ]
  },
  {
   "cell_type": "code",
   "execution_count": null,
   "id": "71bfabf0",
   "metadata": {},
   "outputs": [],
   "source": [
    "# A barebones stock document. In an operational DB this would keep track of all the datapoints that were used.\n",
    "# Here we will use a dummy link.\n",
    "t1d = T1Document(stock=alert.id, link=0)"
   ]
  },
  {
   "cell_type": "code",
   "execution_count": null,
   "id": "fa2fc5a4",
   "metadata": {},
   "outputs": [],
   "source": [
    "# A shaper is used to convert alert properties (e.g. candid) to persistant AMPEL values (e.g. id)\n",
    "shaper = ZiDataPointShaper(logger=AmpelLogger.get_logger())"
   ]
  },
  {
   "cell_type": "code",
   "execution_count": null,
   "id": "9f3400b7",
   "metadata": {},
   "outputs": [],
   "source": [
    "# Convert all the datapoints\n",
    "dps = shaper.process( alert.datapoints, alert.id)"
   ]
  },
  {
   "cell_type": "code",
   "execution_count": null,
   "id": "40d08f97",
   "metadata": {},
   "outputs": [],
   "source": [
    "# Construct the lightcurve object\n",
    "lc = LightCurve.build(t1d, dps)"
   ]
  },
  {
   "cell_type": "code",
   "execution_count": null,
   "id": "754f86bf",
   "metadata": {},
   "outputs": [],
   "source": [
    "# At this point we can e.g. plot the forced photometry \n",
    "plt.plot(lc.get_values('jd'), lc.get_values('ampl'), 'o' )"
   ]
  },
  {
   "cell_type": "code",
   "execution_count": null,
   "id": "d608346f",
   "metadata": {},
   "outputs": [],
   "source": []
  }
 ],
 "metadata": {
  "kernelspec": {
   "display_name": "Python 3 (ipykernel)",
   "language": "python",
   "name": "python3"
  },
  "language_info": {
   "codemirror_mode": {
    "name": "ipython",
    "version": 3
   },
   "file_extension": ".py",
   "mimetype": "text/x-python",
   "name": "python",
   "nbconvert_exporter": "python",
   "pygments_lexer": "ipython3",
   "version": "3.10.6"
  }
 },
 "nbformat": 4,
 "nbformat_minor": 5
}
