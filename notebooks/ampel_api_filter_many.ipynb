{
 "cells": [
  {
   "attachments": {},
   "cell_type": "markdown",
   "id": "independent-detail",
   "metadata": {},
   "source": [
    "Notebook which will:\n",
    "- Obtain alert photometry for named SN and create alert.\n",
    "- Check whether this passes through a filter."
   ]
  },
  {
   "cell_type": "code",
   "execution_count": 2,
   "id": "pursuant-luxury",
   "metadata": {},
   "outputs": [],
   "source": [
    "import requests, os\n",
    "from ampel.log.AmpelLogger import AmpelLogger\n",
    "from ampel.contrib.hu.t0.SimpleDecentFilter import SimpleDecentFilter\n",
    "from ampel.contrib.hu.t0.RedshiftCatalogFilter import RedshiftCatalogFilter\n",
    "\n",
    "from ampel.ztf.alert.ZiAlertSupplier import ZiAlertSupplier\n",
    "\n",
    "import numpy as np"
   ]
  },
  {
   "cell_type": "code",
   "execution_count": 3,
   "id": "e251a1c3",
   "metadata": {},
   "outputs": [],
   "source": [
    "logger = AmpelLogger.get_logger()"
   ]
  },
  {
   "cell_type": "code",
   "execution_count": 4,
   "id": "e7656d26",
   "metadata": {},
   "outputs": [],
   "source": [
    "# Access to the AMPEL data archive assumes an individual *archive token* which can be obtained from \n",
    "# https://ampel.zeuthen.desy.de/live/dashboard/tokens\n",
    "# This currently builds on GitHub authorization for AmpelProject members.\n",
    "token = os.environ[\"ARCHIVE_TOKEN\"]"
   ]
  },
  {
   "cell_type": "code",
   "execution_count": 9,
   "id": "4bfa250d",
   "metadata": {},
   "outputs": [
    {
     "name": "stdout",
     "output_type": "stream",
     "text": [
      "['ZTF18acckpja' 'ZTF19aaevvnk' 'ZTF20aafqpdz' 'ZTF20aafmdyo'\n",
      " 'ZTF20aafmdyo' 'ZTF20aafqtmj' 'ZTF20aafqpyx' 'ZTF20aafduuu'\n",
      " 'ZTF20aafqtun' 'ZTF20aafqqqt' 'ZTF19aaevnir' 'ZTF20aafqpum'\n",
      " 'ZTF20aafqvyc' 'ZTF20aafrftb' 'ZTF20aafqxxd' 'ZTF20aafrelr'\n",
      " 'ZTF19aagymlm' 'ZTF20aaeodhh' 'ZTF20aafvbnj' 'ZTF19aamftdx'\n",
      " 'ZTF20aafvasg' 'ZTF20aaetqwv' 'ZTF20aafvash' 'ZTF20aafukwm']\n"
     ]
    }
   ],
   "source": [
    "filename = \"/mnt/c/Users/Public/Documents/Uni/master/masterarbeit/ampel/ampel-results/ligo-healpix/broken_ampel_200115.csv\"\n",
    "\n",
    "# Name of ZTF objects to lookup\n",
    "snnames = np.genfromtxt(filename, delimiter=\",\", dtype=None,encoding=\"UTF-8\")\n",
    "\n",
    "print(snnames)"
   ]
  },
  {
   "cell_type": "code",
   "execution_count": 11,
   "id": "48a9f580",
   "metadata": {},
   "outputs": [],
   "source": [
    "def api_to_alert(name, token, tags=['FilterTest']):\n",
    "    \"\"\"\n",
    "    Retrieve the alert history of a SN and return all recreated alerts.    \n",
    "    \"\"\"\n",
    "    \n",
    "    # Setup connection\n",
    "    endpoint = \"https://ampel.zeuthen.desy.de/api/ztf/archive/v3/object/{}/alerts?with_history=true\".format(name)\n",
    "\n",
    "    header = {\"Authorization\": \"bearer \"+token}\n",
    "\n",
    "    response = requests.get(endpoint, headers=header )\n",
    "    \n",
    "    if not response.ok:\n",
    "        print('... failed to get alert')\n",
    "        return None\n",
    "    \n",
    "    return [ZiAlertSupplier.shape_alert_dict( a, tags ) for a in response.json()]"
   ]
  },
  {
   "cell_type": "code",
   "execution_count": 12,
   "id": "vietnamese-singapore",
   "metadata": {
    "scrolled": true
   },
   "outputs": [
    {
     "name": "stdout",
     "output_type": "stream",
     "text": [
      "ZTF18acckpja: Found 59\n",
      "ZTF19aaevvnk: Found 8\n",
      "ZTF20aafqpdz: Found 1\n",
      "ZTF20aafmdyo: Found 26\n",
      "ZTF20aafmdyo: Found 26\n",
      "ZTF20aafqtmj: Found 4\n",
      "ZTF20aafqpyx: Found 3\n",
      "ZTF20aafduuu: Found 9\n",
      "ZTF20aafqtun: Found 7\n",
      "ZTF20aafqqqt: Found 8\n",
      "ZTF19aaevnir: Found 4\n",
      "ZTF20aafqpum: Found 3\n",
      "ZTF20aafqvyc: Found 2\n",
      "ZTF20aafrftb: Found 1\n",
      "ZTF20aafqxxd: Found 3\n",
      "ZTF20aafrelr: Found 1\n",
      "ZTF19aagymlm: Found 4\n",
      "ZTF20aaeodhh: Found 2\n",
      "ZTF20aafvbnj: Found 1\n",
      "ZTF19aamftdx: Found 28\n",
      "ZTF20aafvasg: Found 1\n",
      "ZTF20aaetqwv: Found 17\n",
      "ZTF20aafvash: Found 1\n",
      "ZTF20aafukwm: Found 12\n"
     ]
    }
   ],
   "source": [
    "alert_array = []\n",
    "for snname in snnames:\n",
    "    alerts = api_to_alert(snname, token)\n",
    "    print(f'{snname}: Found {len(alerts)} alerts.')\n",
    "    alert_array.append(alerts)"
   ]
  },
  {
   "attachments": {},
   "cell_type": "markdown",
   "id": "1efbaccf",
   "metadata": {},
   "source": [
    "Defining parameters for filter."
   ]
  },
  {
   "cell_type": "code",
   "execution_count": 21,
   "id": "02d62fcc",
   "metadata": {},
   "outputs": [],
   "source": [
    "filter_config = {\n",
    "    #\"gaia_excessnoise_sig_max\": 999,\n",
    "    #\"gaia_plx_signif\": 3,\n",
    "    #\"gaia_pm_signif\": 3,\n",
    "    #\"gaia_rs\": 10,\n",
    "    #\"gaia_veto_gmag_max\": 20,\n",
    "    #\"gaia_veto_gmag_min\": 9,\n",
    "    \"min_ndet\": 1, # should be 2\n",
    "    \"min_tspan\": -1,\n",
    "    \"max_tspan\": 365,\n",
    "    #min_archive_tspan: -99\n",
    "    \"max_archive_tspan\": 3,\n",
    "    \"min_drb\": 0.3,\n",
    "    \"min_gal_lat\": 0,\n",
    "    \"min_rb\": 0.0,\n",
    "    \"min_sso_dist\": 20,\n",
    "    \"ps1_confusion_rad\": 3,\n",
    "    \"ps1_confusion_sg_tol\": 0.1,\n",
    "    \"ps1_sgveto_rad\": 1,\n",
    "    \"ps1_sgveto_th\": 0.8,\n",
    "    \"max_fwhm\": 5.5,\n",
    "    # max_elong: 2\n",
    "    \"max_elong\": 1.4,\n",
    "    \"max_magdiff\": 1,\n",
    "    \"max_nbad\": 2\n",
    "}"
   ]
  },
  {
   "cell_type": "code",
   "execution_count": 30,
   "id": "8346187c",
   "metadata": {},
   "outputs": [
    {
     "name": "stderr",
     "output_type": "stream",
     "text": [
      "\n",
      "2023-05-25 11:22:53 SimpleDecentFilter:59 INFO\n",
      " Using min_ndet=1\n",
      " Using min_tspan=-1.0\n",
      " Using max_tspan=365.0\n",
      " Using min_archive_tspan=0.0\n",
      " Using max_archive_tspan=100000.0\n",
      " Using min_drb=0.3\n",
      " Using min_rb=0.0\n",
      " Using max_fwhm=5.5\n",
      " Using max_elong=1.4\n",
      " Using max_magdiff=1.0\n",
      " Using max_nbad=2\n",
      " Using min_sso_dist=20.0\n",
      " Using min_gal_lat=0.0\n",
      " Using ps1_sgveto_rad=1.0\n",
      " Using ps1_sgveto_th=0.8\n",
      " Using ps1_confusion_rad=3.0\n",
      " Using ps1_confusion_sg_tol=0.1\n"
     ]
    }
   ],
   "source": [
    "t0filter = SimpleDecentFilter( **filter_config, logger=logger )\n",
    "t0filter.post_init()"
   ]
  },
  {
   "cell_type": "code",
   "execution_count": 34,
   "id": "19b5b52c",
   "metadata": {},
   "outputs": [],
   "source": [
    "\n",
    "trigger_jd = 2458863.682951"
   ]
  },
  {
   "cell_type": "code",
   "execution_count": 43,
   "id": "57df8433",
   "metadata": {},
   "outputs": [],
   "source": [
    "def process(alerts):\n",
    "\n",
    "    pass_array = []\n",
    "\n",
    "    for alert in alerts:\n",
    "        passes = True\n",
    "        alert_jds = np.array(alert.get_values(\"jd\", filters=t0filter.filter_pps))\n",
    "\n",
    "        predetection_jds = [jd for jd in alert_jds if jd < trigger_jd]\n",
    "\n",
    "        #if len(predetection_jds) > 0:\n",
    "            #passes = False\n",
    "            #pass_array.append(passes)\n",
    "            #continue\n",
    "\n",
    "        #pass_array.append(passes)\n",
    "        #continue \n",
    "\n",
    "        foo = t0filter.process(alert)\n",
    "        if not foo:\n",
    "            #print(foo)\n",
    "            passes = False\n",
    "            pass_array.append(passes)\n",
    "            continue\n",
    "\n",
    "        pass_array.append(passes)\n",
    "        #print(foo)\n",
    "\n",
    "    print(\"total:\", np.any(pass_array), pass_array)"
   ]
  },
  {
   "cell_type": "code",
   "execution_count": 44,
   "id": "aa7ad631",
   "metadata": {},
   "outputs": [
    {
     "name": "stdout",
     "output_type": "stream",
     "text": [
      "ZTF18acckpja total: True [True, True, True, True, True, True, False, True, True, True, True, True, True, True, True, True, True, True, True, True, True, True, True, True, True, True, True, True, True, True, True, True, True, True, True, True, True, True, True, True, False, True, True, True, True, False, True, True, True, True, True, True, True, True, True, True, True, True, True]\n",
      "ZTF19aaevvnk total: True [False, True, False, True, False, False, False, False]\n",
      "ZTF20aafqpdz total: True [True]\n",
      "ZTF20aafmdyo total: True [True, True, True, True, True, True, False, False, False, False, True, True, True, False, True, True, True, True, True, False, False, True, True, True, True, True]\n",
      "ZTF20aafmdyo total: True [True, True, True, True, True, True, False, False, False, False, True, True, True, False, True, True, True, True, True, False, False, True, True, True, True, True]\n",
      "ZTF20aafqtmj total: True [True, True, True, True]\n",
      "ZTF20aafqpyx total: True [True, True, True]\n",
      "ZTF20aafduuu total: True [True, True, True, True, True, True, True, True, True]\n",
      "ZTF20aafqtun total: True [True, True, True, True, True, True, True]\n",
      "ZTF20aafqqqt total: True [True, True, True, True, True, True, True, True]\n",
      "ZTF19aaevnir total: True [False, False, False, True]\n",
      "ZTF20aafqpum total: True [False, True, False]\n",
      "ZTF20aafqvyc total: True [False, True]\n",
      "ZTF20aafrftb total: True [True]\n",
      "ZTF20aafqxxd total: True [True, True, True]\n",
      "ZTF20aafrelr total: True [True]\n",
      "ZTF19aagymlm total: True [False, True, True, True]\n",
      "ZTF20aaeodhh total: True [True, True]\n",
      "ZTF20aafvbnj total: True [True]\n",
      "ZTF19aamftdx "
     ]
    },
    {
     "name": "stderr",
     "output_type": "stream",
     "text": [
      "\n",
      "2023-05-25 11:42:33 SimpleDecentFilter:212 INFO [elong=1.4753451347351074]\n",
      "\n",
      "2023-05-25 11:42:33 SimpleDecentFilter:212 INFO [elong=1.5266457796096802]\n",
      "\n",
      "2023-05-25 11:42:33 SimpleDecentFilter:212 INFO [elong=1.4788419008255005]\n",
      "\n",
      "2023-05-25 11:42:33 SimpleDecentFilter:191 INFO [isdiffpos=f]\n",
      "\n",
      "2023-05-25 11:42:33 SimpleDecentFilter:191 INFO [isdiffpos=f]\n",
      "\n",
      "2023-05-25 11:42:33 SimpleDecentFilter:191 INFO [isdiffpos=f]\n",
      "\n",
      "2023-05-25 11:42:33 SimpleDecentFilter:191 INFO [isdiffpos=f]\n",
      "\n",
      "2023-05-25 11:42:33 SimpleDecentFilter:191 INFO [isdiffpos=f]\n",
      "\n",
      "2023-05-25 11:42:33 SimpleDecentFilter:202 INFO [drb=0.1122591495513916]\n",
      "\n",
      "2023-05-25 11:42:33 SimpleDecentFilter:207 INFO [fwhm=5.789999961853027]\n",
      "\n",
      "2023-05-25 11:42:33 SimpleDecentFilter:207 INFO [fwhm=6.639999866485596]\n",
      "\n",
      "2023-05-25 11:42:33 SimpleDecentFilter:207 INFO [fwhm=5.75]\n",
      "\n",
      "2023-05-25 11:42:33 SimpleDecentFilter:207 INFO [fwhm=5.670000076293945]\n",
      "\n",
      "2023-05-25 11:42:33 SimpleDecentFilter:207 INFO [fwhm=5.739999771118164]\n",
      "\n",
      "2023-05-25 11:42:33 SimpleDecentFilter:207 INFO [fwhm=5.579999923706055]\n",
      "\n",
      "2023-05-25 11:42:33 SimpleDecentFilter:207 INFO [fwhm=6.389999866485596]\n",
      "\n",
      "2023-05-25 11:42:33 SimpleDecentFilter:207 INFO [fwhm=5.789999961853027]\n",
      "\n",
      "2023-05-25 11:42:33 SimpleDecentFilter:207 INFO [fwhm=6.639999866485596]\n",
      "\n",
      "2023-05-25 11:42:33 SimpleDecentFilter:207 INFO [fwhm=5.75]\n",
      "\n",
      "2023-05-25 11:42:33 SimpleDecentFilter:207 INFO [fwhm=5.670000076293945]\n",
      "\n",
      "2023-05-25 11:42:33 SimpleDecentFilter:207 INFO [fwhm=5.739999771118164]\n",
      "\n",
      "2023-05-25 11:42:33 SimpleDecentFilter:207 INFO [fwhm=5.579999923706055]\n",
      "\n",
      "2023-05-25 11:42:33 SimpleDecentFilter:207 INFO [fwhm=6.389999866485596]\n",
      "\n",
      "2023-05-25 11:42:33 SimpleDecentFilter:191 INFO [isdiffpos=f]\n",
      "\n",
      "2023-05-25 11:42:33 SimpleDecentFilter:202 INFO [drb=0.15590277314186096]\n",
      "\n",
      "2023-05-25 11:42:33 SimpleDecentFilter:247 INFO [distpsnr1=0.23342469334602356]\n",
      "\n",
      "2023-05-25 11:42:33 SimpleDecentFilter:224 INFO [archive_tspan=0.0]\n",
      "\n",
      "2023-05-25 11:42:33 SimpleDecentFilter:207 INFO [fwhm=6.03000020980835]\n",
      "\n",
      "2023-05-25 11:42:33 SimpleDecentFilter:207 INFO [fwhm=5.699999809265137]\n",
      "\n",
      "2023-05-25 11:42:34 SimpleDecentFilter:224 INFO [archive_tspan=0.0]\n"
     ]
    },
    {
     "name": "stdout",
     "output_type": "stream",
     "text": [
      "total: True [True, True, True, True, True, True, True, True, True, True, True, True, True, True, True, True, True, True, True, True, True, True, True, True, True, True, True, True]\n",
      "ZTF20aafvasg total: True [True]\n",
      "ZTF20aaetqwv total: True [True, True, True, True, True, True, True, True, True, True, True, True, True, True, True, True, True]\n",
      "ZTF20aafvash total: True [True]\n",
      "ZTF20aafukwm total: True [True, True, False, False, True, True, True, True, True, True, True, True]\n"
     ]
    },
    {
     "name": "stderr",
     "output_type": "stream",
     "text": [
      "\n",
      "2023-05-25 11:42:34 SimpleDecentFilter:207 INFO [fwhm=5.75]\n",
      "\n",
      "2023-05-25 11:42:34 SimpleDecentFilter:207 INFO [fwhm=5.570000171661377]\n"
     ]
    }
   ],
   "source": [
    "for i, snname in enumerate(snnames):\n",
    "    print(snname, end =\" \")\n",
    "    process(alert_array[i])"
   ]
  },
  {
   "cell_type": "code",
   "execution_count": 25,
   "id": "5073a144",
   "metadata": {},
   "outputs": [
    {
     "name": "stdout",
     "output_type": "stream",
     "text": [
      "drb 0.9851456880569458\n",
      "rb 0.618571400642395\n",
      "isdiffpos t\n",
      "drb 0.9999991655349731\n",
      "rb 0.8242856860160828\n",
      "isdiffpos t\n",
      "drb 0.9996000528335571\n",
      "rb 0.46714285016059875\n",
      "isdiffpos t\n",
      "drb 0.9997393488883972\n",
      "rb 0.5571428537368774\n",
      "isdiffpos t\n",
      "drb 0.9999111890792847\n",
      "rb 0.8428571224212646\n",
      "isdiffpos t\n",
      "drb 0.9999647736549377\n",
      "rb 0.8357142806053162\n",
      "isdiffpos t\n",
      "drb 0.9970144033432007\n",
      "rb 0.7614285945892334\n",
      "isdiffpos t\n",
      "drb 0.9983726143836975\n",
      "rb 0.6842857003211975\n",
      "isdiffpos t\n",
      "drb 0.9981058835983276\n",
      "rb 0.7914285659790039\n",
      "isdiffpos t\n",
      "drb 0.9999994039535522\n",
      "rb 0.9314285516738892\n",
      "isdiffpos t\n",
      "drb 0.9996236562728882\n",
      "rb 0.9128571152687073\n",
      "isdiffpos t\n",
      "drb 0.9999997615814209\n",
      "rb 0.9385714530944824\n",
      "isdiffpos t\n"
     ]
    }
   ],
   "source": [
    "for a in alerts:\n",
    "    latest = a.datapoints[0]\n",
    "    # drb\n",
    "    try:\n",
    "        print('drb', latest['drb'])\n",
    "    except KeyError:\n",
    "        print('no drb')\n",
    "    # rb\n",
    "    try:\n",
    "        print('rb', latest['rb'])\n",
    "    except KeyError:\n",
    "        print('no rb')\n",
    "    # isdiffpos\n",
    "    try:\n",
    "        print('isdiffpos', latest['isdiffpos'])\n",
    "    except KeyError:\n",
    "        print('no isdiffpos')\n"
   ]
  },
  {
   "cell_type": "code",
   "execution_count": null,
   "id": "36f39516",
   "metadata": {},
   "outputs": [],
   "source": [
    "alerts[0].datapoints"
   ]
  },
  {
   "attachments": {},
   "cell_type": "markdown",
   "id": "d1efd010",
   "metadata": {},
   "source": [
    "### Explore the RedshiftFilter"
   ]
  },
  {
   "cell_type": "code",
   "execution_count": null,
   "id": "c34ef096",
   "metadata": {},
   "outputs": [],
   "source": [
    "zfilter_config = {\n",
    "    \"catalog_match_radius\": 30,\n",
    "    \"min_z\": 0.002,\n",
    "    \"max_z\": 0.025,\n",
    "    \"max_tspan\": 5.,        # Max total detection age in alert\n",
    "    \"max_archive_tspan\": 5.,        # Max total detection age in IPAC DB\n",
    "    \"min_rb\": 0.3,             # real bogus score\n",
    "    \"min_drb\": 0.995,         # deep learning real bogus score \n",
    "    # Should be set during proper install\n",
    "    \"resource\": {\"ampel-ztf/catalogmatch\":\"https://ampel.zeuthen.desy.de/api/catalogmatch/\"},\n",
    "}"
   ]
  },
  {
   "cell_type": "code",
   "execution_count": null,
   "id": "4b5e561d",
   "metadata": {},
   "outputs": [],
   "source": [
    "zfilter = RedshiftCatalogFilter( **zfilter_config, logger=logger )\n",
    "zfilter.post_init()"
   ]
  },
  {
   "cell_type": "code",
   "execution_count": null,
   "id": "6550b4ec",
   "metadata": {},
   "outputs": [],
   "source": [
    "for alert in alerts:\n",
    "    foo = zfilter.process(alert)\n",
    "    print(alert.datapoints[0]['jd'], foo)"
   ]
  },
  {
   "cell_type": "code",
   "execution_count": null,
   "id": "cc720bc4",
   "metadata": {},
   "outputs": [],
   "source": [
    "alerts[0].datapoints[0]['jd']"
   ]
  },
  {
   "cell_type": "code",
   "execution_count": null,
   "id": "29460f3e",
   "metadata": {},
   "outputs": [],
   "source": []
  }
 ],
 "metadata": {
  "kernelspec": {
   "display_name": "Python 3 (ipykernel)",
   "language": "python",
   "name": "python3"
  },
  "language_info": {
   "codemirror_mode": {
    "name": "ipython",
    "version": 3
   },
   "file_extension": ".py",
   "mimetype": "text/x-python",
   "name": "python",
   "nbconvert_exporter": "python",
   "pygments_lexer": "ipython3",
   "version": "3.10.9"
  }
 },
 "nbformat": 4,
 "nbformat_minor": 5
}
