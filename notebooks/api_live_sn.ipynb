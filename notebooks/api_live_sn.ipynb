{
 "cells": [
  {
   "cell_type": "markdown",
   "id": "7f99defb",
   "metadata": {},
   "source": [
    "Figure out which channels some transient were accepted by and what happened."
   ]
  },
  {
   "cell_type": "code",
   "execution_count": null,
   "id": "f1572458",
   "metadata": {},
   "outputs": [],
   "source": [
    "snname = 'ZTF22aafrjnw'"
   ]
  },
  {
   "cell_type": "code",
   "execution_count": null,
   "id": "bf01f626",
   "metadata": {},
   "outputs": [],
   "source": [
    "# Live access token from https://ampel.zeuthen.desy.de/live/dashboard/tokens\n",
    "token = \"\"\n",
    "header = {\"Authorization\": \"bearer \"+token}"
   ]
  },
  {
   "cell_type": "code",
   "execution_count": null,
   "id": "e5a7c513",
   "metadata": {},
   "outputs": [],
   "source": [
    "import requests"
   ]
  },
  {
   "cell_type": "code",
   "execution_count": null,
   "id": "da3ea1c4",
   "metadata": {},
   "outputs": [],
   "source": [
    "# Ampel api\n",
    "endpoint = \"https://ampel.zeuthen.desy.de/api/live/stock/ztf/{}\".format( snname )\n",
    "ret = requests.get(endpoint, headers=header )\n",
    "if not ret.ok:\n",
    "    print('... better check out', sn)"
   ]
  },
  {
   "cell_type": "code",
   "execution_count": null,
   "id": "9c691430",
   "metadata": {},
   "outputs": [],
   "source": [
    "dbcontent = ret.json()\n",
    "dbcontent"
   ]
  },
  {
   "cell_type": "code",
   "execution_count": null,
   "id": "4ca337d8",
   "metadata": {},
   "outputs": [],
   "source": [
    "# Which channels has accepted the transient\n",
    "print(dbcontent['channel'])"
   ]
  },
  {
   "cell_type": "code",
   "execution_count": null,
   "id": "8af50003",
   "metadata": {},
   "outputs": [],
   "source": [
    "# When was it first created\n",
    "dbcontent['created']['any']"
   ]
  },
  {
   "cell_type": "code",
   "execution_count": null,
   "id": "1308cfc1",
   "metadata": {},
   "outputs": [],
   "source": [
    "# Look for tier 2 documents\n",
    "endpoint = \"https://ampel.zeuthen.desy.de/api/live/stock/ztf/{}/t2\".format( snname )\n",
    "ret = requests.get(endpoint, headers=header )\n",
    "if not ret.ok:\n",
    "    print('... better check out', sn)"
   ]
  },
  {
   "cell_type": "code",
   "execution_count": null,
   "id": "6fb2292b",
   "metadata": {},
   "outputs": [],
   "source": [
    "[d['unit'] for d in ret.json()['matches']]"
   ]
  },
  {
   "cell_type": "code",
   "execution_count": null,
   "id": "226da9d0",
   "metadata": {},
   "outputs": [],
   "source": [
    "unit = 'T2CatalogMatch'"
   ]
  },
  {
   "cell_type": "code",
   "execution_count": null,
   "id": "57b5cbda",
   "metadata": {},
   "outputs": [],
   "source": [
    "[d for d in ret.json()['matches'] if d['unit']==unit]"
   ]
  },
  {
   "cell_type": "code",
   "execution_count": null,
   "id": "a4351e8c",
   "metadata": {},
   "outputs": [],
   "source": [
    "# Look for tier 0 documents\n",
    "endpoint = \"https://ampel.zeuthen.desy.de/api/live/stock/ztf/{}/t0\".format( snname )\n",
    "ret = requests.get(endpoint, headers=header )\n",
    "if not ret.ok:\n",
    "    print('... better check out', snname)"
   ]
  },
  {
   "cell_type": "code",
   "execution_count": null,
   "id": "756b3120",
   "metadata": {},
   "outputs": [],
   "source": [
    "ret.json()"
   ]
  },
  {
   "cell_type": "markdown",
   "id": "a11e5a63",
   "metadata": {},
   "source": [
    "Look at logs"
   ]
  },
  {
   "cell_type": "code",
   "execution_count": null,
   "id": "edbd2e68",
   "metadata": {},
   "outputs": [],
   "source": [
    "# Looking at the output above we identify the relevant runid\n",
    "#runid = 423349\n",
    "runid = 423351\n",
    "stock = 40675285"
   ]
  },
  {
   "cell_type": "code",
   "execution_count": null,
   "id": "8ed231de",
   "metadata": {},
   "outputs": [],
   "source": [
    "endpoint = \"https://ampel.zeuthen.desy.de/api/live/events/{}/logs?skip=0&limit=1000&flags=INFO\".format( runid )\n",
    "ret = requests.get(endpoint, headers=header )\n",
    "if not ret.ok:\n",
    "    print('... better check out', snname)"
   ]
  },
  {
   "cell_type": "code",
   "execution_count": null,
   "id": "cab876f4",
   "metadata": {},
   "outputs": [],
   "source": [
    "[d for d in ret.json()['logs'] if 'stock' in d.keys() and d['stock']==stock]"
   ]
  }
 ],
 "metadata": {
  "kernelspec": {
   "display_name": "Python 3 (ipykernel)",
   "language": "python",
   "name": "python3"
  },
  "language_info": {
   "codemirror_mode": {
    "name": "ipython",
    "version": 3
   },
   "file_extension": ".py",
   "mimetype": "text/x-python",
   "name": "python",
   "nbconvert_exporter": "python",
   "pygments_lexer": "ipython3",
   "version": "3.9.7"
  }
 },
 "nbformat": 4,
 "nbformat_minor": 5
}
