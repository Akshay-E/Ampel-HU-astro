{
 "cells": [
  {
   "cell_type": "markdown",
   "id": "43827f56",
   "metadata": {},
   "source": [
    "Run, develop and demonstrate a pipeline for searching for potential lensed supernovae.\n",
    "\n",
    "Steps:\n",
    "* Create an alert query token and start iterating through those.\n",
    "* Filter these based on the minimal criteria of potential detections.\n",
    "* Obtain redshift information from number of sources: masterlens, NED, SDSS photo-z, LS photo-z\n",
    "* Fit SALT2 model on best redshift estimate, return estimated absolute peak magnitude\n",
    "* Plot lightcurve fit + links to slack\n",
    "\n",
    "The code assumes that the Ampel libraries are installed. Three steps are needed for this:\n",
    "* Start a local MongoDB instance (with default connections).\n",
    "* Download AMPEL v 0.8 core, ZTF and ampel-hu-astro libraries.\n",
    "* Create a default ampel configuration file through running 'ampel-config build > ampel_conf.yaml'."
   ]
  },
  {
   "cell_type": "code",
   "execution_count": null,
   "id": "2e1e53d4",
   "metadata": {},
   "outputs": [],
   "source": [
    "import sys, os\n",
    "import requests"
   ]
  },
  {
   "cell_type": "code",
   "execution_count": null,
   "id": "9f65a940",
   "metadata": {},
   "outputs": [],
   "source": [
    "from ampel.secret.AmpelVault import AmpelVault\n",
    "from ampel.secret.DictSecretProvider import DictSecretProvider\n",
    "from ampel.dev.DevAmpelContext import DevAmpelContext"
   ]
  },
  {
   "cell_type": "code",
   "execution_count": null,
   "id": "241454f0",
   "metadata": {},
   "outputs": [],
   "source": [
    "# Create a secret vault\n",
    "secrets = { 'slack/ztf_general/jno': os.environ[\"SNIaSLACK\"],\n",
    "                              'mongo/logger':{},\n",
    "                              'mongo/writer':{},\n",
    "                              'extcats/reader':{},\n",
    "            'ztf/archive/auth' : {'user' : '', 'password' : ''},\n",
    "            'datalab/pwd':os.environ[\"DATALABPWD\"],\n",
    "            \"desycloud\" : {},\n",
    "            \"ztf/archive/token\": \"4d16154b-6e6a-445a-abfa-ec6ed449d4ec\",\n",
    "#            \"ztf/archive/token\": os.environ[\"ARCHIVE_TOKEN\"],\n",
    "          }\n",
    "vault = AmpelVault([DictSecretProvider(secrets)])"
   ]
  },
  {
   "cell_type": "code",
   "execution_count": null,
   "id": "8ec0a85b",
   "metadata": {},
   "outputs": [],
   "source": [
    "header = {\"Authorization\": \"bearer \"+vault.get_named_secret(\"ztf/archive/token\").value}\n",
    "endpoint = 'https://ampel.zeuthen.desy.de/api/ztf/archive/v3/streams/from_query?programid=1'"
   ]
  },
  {
   "cell_type": "code",
   "execution_count": null,
   "id": "de503b18",
   "metadata": {},
   "outputs": [],
   "source": [
    "# at six month when 2458849.50000 at one year 2459031.50000 (from july 1st 2019)\n",
    "query = {\n",
    "  \"jd\": {\n",
    "    \"$gt\": 2458911.5,\n",
    "    \"$lt\": 2458915.,\n",
    "  },\n",
    "  \"candidate\": {\n",
    "    \"drb\": {\n",
    "      \"$gt\": 0.995\n",
    "    },\n",
    "    \"magpsf\": {\n",
    "      \"$gt\": 18\n",
    "    },\n",
    "    \"ndethist\": {\n",
    "      \"$gt\": 6,\n",
    "      \"$lte\": 30\n",
    "    },\n",
    "    \"isdiffpos\": {\"$in\": [\"t\", \"1\"]},\n",
    "  }\n",
    "}"
   ]
  },
  {
   "cell_type": "code",
   "execution_count": null,
   "id": "69cdc520",
   "metadata": {},
   "outputs": [],
   "source": [
    "response = requests.post(endpoint, headers=header, json=query )"
   ]
  },
  {
   "cell_type": "code",
   "execution_count": null,
   "id": "2dba9c1c",
   "metadata": {},
   "outputs": [],
   "source": [
    "if not response.ok:\n",
    "    print( 'Query creation failed' )\n",
    "    print(response)"
   ]
  },
  {
   "cell_type": "code",
   "execution_count": null,
   "id": "d32d1e5e",
   "metadata": {},
   "outputs": [],
   "source": [
    "loader_config = {'archive':\"https://ampel.zeuthen.desy.de/api/ztf/archive/v3\", \"stream\":response.json()['resume_token']}"
   ]
  },
  {
   "cell_type": "code",
   "execution_count": null,
   "id": "0c05a781",
   "metadata": {},
   "outputs": [],
   "source": [
    "AMPEL_CONF = '/home/jnordin/github/ampel82/ampel_conf_630434.yaml'"
   ]
  },
  {
   "cell_type": "code",
   "execution_count": null,
   "id": "24fbac12",
   "metadata": {},
   "outputs": [],
   "source": [
    "# Select date of query with format e.g. '20210610'\n",
    "channel = 'GeneralLens'\n",
    "ITER_MAX = 1000000"
   ]
  },
  {
   "cell_type": "code",
   "execution_count": null,
   "id": "13471b29",
   "metadata": {},
   "outputs": [],
   "source": [
    "ctx = DevAmpelContext.load(\n",
    "    config = AMPEL_CONF,\n",
    "    db_prefix = 'LensQuery',\n",
    "    purge_db = False,\n",
    "    vault = vault\n",
    ")\n",
    "ctx.add_channel(\n",
    "    name=channel,\n",
    "    access=['ZTF', 'ZTF_PUB', 'ZTF_PRIV']\n",
    ")"
   ]
  },
  {
   "cell_type": "code",
   "execution_count": null,
   "id": "b3959cc9",
   "metadata": {},
   "outputs": [],
   "source": [
    "# For accessing the datalab portal to LS photo-z. Replace the username with what matches with the password \n",
    "# entered above\n",
    "dl_config = {\n",
    "    'datalab_user' : 'datalab_user_id',\n",
    "    'datalab_pwd' : 'datalab_user_pwd',\n",
    "}"
   ]
  },
  {
   "cell_type": "code",
   "execution_count": null,
   "id": "4039e71f",
   "metadata": {},
   "outputs": [],
   "source": [
    "# These are configuration parameters for the initial alert filter step.\n",
    "# Note that this filter configuration assumes that a first filter based on nbr of points were made in the alert query\n",
    "# The T0 stage will not be exposed to the full candidate history. \n",
    "filter_config = {\n",
    "    'min_ndet': 1,\n",
    "    'min_tspan': 0,\n",
    "    'max_tspan': 50,\n",
    "    'min_archive_tspan': 6,\n",
    "    'max_archive_tspan': 50,    \n",
    "    'min_rb': 0.3,\n",
    "    'min_drb': 0.995,\n",
    "    'max_fwhm': 5.5,\n",
    "    'min_gal_lat': 14,\n",
    "    'ps1_sgveto_rad': 1,\n",
    "    'ps1_sgveto_th': 0.8,\n",
    "    'ps1_confusion_rad': 3,\n",
    "    'ps1_confusion_sg_tol': 0.1\n",
    "}"
   ]
  },
  {
   "cell_type": "code",
   "execution_count": null,
   "id": "4deca441",
   "metadata": {},
   "outputs": [],
   "source": [
    "# Will use NED for spectroscopic redshifts.\n",
    "cat_conf = {\n",
    "    'catalogs' : {\n",
    "        'SDSS_spec' : {\n",
    "            'use' : 'extcats',\n",
    "            'rs_arcsec' : 10.0,\n",
    "            'keys_to_append' : ['z', 'bptclass', 'subclass'],\n",
    "            'all': False,\n",
    "        },\n",
    "        'NEDz' : {\n",
    "            'use' : 'catsHTM',\n",
    "            'rs_arcsec' : 10.0,\n",
    "            'keys_to_append' : ['ObjType', 'Velocity', 'z'],\n",
    "        },\n",
    "        'GLADEv23' : {\n",
    "            'use' : 'extcats',\n",
    "            'rs_arcsec' : 10,\n",
    "            'keys_to_append' : ['z', 'dist', 'dist_err', 'flag1', 'flag2', 'flag3'],\n",
    "        },\n",
    "        'LSPhotoZZou' : {\n",
    "            'use' : 'extcats',\n",
    "            'rs_arcsec' : 10.0,\n",
    "            'keys_to_append' : ['photoz','ra','dec','e_photoz','specz','_6','logMassBest','logMassInf','logMassSup'],\n",
    "            'pre_filter' : None,\n",
    "            'post_filter' : None,\n",
    "            'all': False,\n",
    "        },\n",
    "        'wiseScosPhotoz' : {\n",
    "            'use' : 'extcats',\n",
    "            'rs_arcsec' : 10.0,\n",
    "            'keys_to_append' : ['zPhoto_Corr','ra','dec','wiseID','w1mCorr','w2mCorr'],\n",
    "            'pre_filter' : None,\n",
    "            'post_filter' : None,\n",
    "        },\n",
    "        'twoMPZ' : {\n",
    "            'use' : 'extcats',\n",
    "            'rs_arcsec' : 10.0,\n",
    "            'keys_to_append' : ['zPhoto','ra','dec','zSpec'],\n",
    "            'pre_filter' : None,\n",
    "            'post_filter' : None,\n",
    "        },\n",
    "\n",
    "    }\n",
    "}"
   ]
  },
  {
   "cell_type": "code",
   "execution_count": null,
   "id": "6243e2ef",
   "metadata": {},
   "outputs": [],
   "source": [
    "# New, new, also with all categories?\n",
    "ampelz_conf = {\n",
    "    \"max_redshift_category\" : 7,\n",
    "    \"t2_dependency\": [\n",
    "        {\n",
    "            \"unit\": \"T2CatalogMatch\",\n",
    "            \"config\": cat_conf,\n",
    "            \"link_override\": {\n",
    "                'filter': 'PPSFilter', 'sort': 'jd', \"select\": \"first\"\n",
    "                }\n",
    "        },\n",
    "#        {\n",
    "#            \"unit\": \"T2LSPhotoZTap\",\n",
    "#            \"config\": dl_config,\n",
    "#            \"link_override\": {\n",
    "#                'filter': 'PPSFilter', 'sort': 'jd', \"select\": \"first\"\n",
    "#                }\n",
    "#        },\n",
    "\n",
    "    ]\n",
    "}"
   ]
  },
  {
   "cell_type": "code",
   "execution_count": null,
   "id": "c897c158",
   "metadata": {},
   "outputs": [],
   "source": [
    "sncosmo_conf = {\n",
    "    \"sncosmo_model_name\" : \"salt2\",\n",
    "    \"redshift_kind\" : 'T2DigestRedshifts',\n",
    "    \"max_ampelz_group\" : 7,      # For this purpose we use any available redshift\n",
    "    \"unc\" : 3,\n",
    "    \"t2_dependency\": [\n",
    "        {\n",
    "            \"unit\": \"T2DigestRedshifts\",\n",
    "            \"config\": ampelz_conf,\n",
    "        },\n",
    "    ], \n",
    "    \"plot_props\": {\n",
    "        \"tags\": [\"SALT\", \"SNCOSMO\"],\n",
    "        \"file_name\": {\n",
    "            \"format_str\": \"%s_%s_%s.svg\",\n",
    "            \"arg_keys\": [\"stock\", \"model\", \"redshift_kind\"]\n",
    "        },\n",
    "        \"title\": {\n",
    "            \"format_str\": \"%s %s %s\",\n",
    "            \"arg_keys\": [\"stock\", \"model\", \"redshift_kind\"]\n",
    "        },\n",
    "        \"fig_text\": {\n",
    "            \"format_str\": \"%s %s \\nz-source %s \\nchisq %.2f ndof %s\",\n",
    "            \"arg_keys\": [\"stock\", \"model\", \"redshift_kind\", \"chisq\", \"ndof\"]\n",
    "        },\n",
    "        \"width\": 10,\n",
    "        \"height\": 6,\n",
    "        \"id_mapper\": \"ZTFIdMapper\",\n",
    "        \"disk_save\": \"/home/jnordin/tmp/ztfsalt\",\n",
    "    }\n",
    "}"
   ]
  },
  {
   "cell_type": "code",
   "execution_count": null,
   "id": "acf464d0",
   "metadata": {},
   "outputs": [],
   "source": [
    "# We now add a second sncosmo configuration, with scaled z\n",
    "sncosmo_conf_zscale = {\n",
    "    \"sncosmo_model_name\" : \"salt2\",\n",
    "    \"redshift_kind\" : 'T2DigestRedshifts',\n",
    "    \"max_ampelz_group\" : 7,      # For this purpose we use any available redshift\n",
    "    \"unc\" : 3,\n",
    "    \"t2_dependency\": [\n",
    "        {\n",
    "            \"unit\": \"T2DigestRedshifts\",\n",
    "            \"config\": ampelz_conf,\n",
    "        },\n",
    "    ], \n",
    "    \"plot_props\": {\n",
    "        \"tags\": [\"SALT\", \"SNCOSMO\"],\n",
    "        \"file_name\": {\n",
    "            \"format_str\": \"%s_%s_%s.svg\",\n",
    "            \"arg_keys\": [\"stock\", \"model\", \"redshift_kind\"]\n",
    "        },\n",
    "        \"title\": {\n",
    "            \"format_str\": \"%s %s %s\",\n",
    "            \"arg_keys\": [\"stock\", \"model\", \"redshift_kind\"]\n",
    "        },\n",
    "        \"fig_text\": {\n",
    "            \"format_str\": \"%s %s \\nz-source %s \\nchisq %.2f ndof %s\",\n",
    "            \"arg_keys\": [\"stock\", \"model\", \"redshift_kind\", \"chisq\", \"ndof\"]\n",
    "        },\n",
    "        \"width\": 10,\n",
    "        \"height\": 6,\n",
    "        \"id_mapper\": \"ZTFIdMapper\",\n",
    "        \"disk_save\": \"/home/jnordin/tmp/ztfsalt2z\",\n",
    "    },\n",
    "    \"scale_z\": 2.,\n",
    "}"
   ]
  },
  {
   "cell_type": "code",
   "execution_count": null,
   "id": "a123e135",
   "metadata": {},
   "outputs": [],
   "source": [
    "parsnip_config = {\n",
    "    'parsnip_model':'/home/jnordin/data/parsnip/parsnip_ps1_ztf.pt', \n",
    "    'parsnip_classifier':'/home/jnordin/data/parsnip/ztf_classifier.pkl', \n",
    "    \"redshift_kind\" : 'T2DigestRedshifts',\n",
    "    \"max_ampelz_group\" : 7,      # For this purpose we use any available redshift\n",
    "    \"t2_dependency\": [\n",
    "        {\n",
    "            \"unit\": \"T2DigestRedshifts\",\n",
    "            \"config\": ampelz_conf,\n",
    "        },\n",
    "    ], \n",
    "    'plot_suffix': 'png',\n",
    "    'plot_dir': '/home/jnordin/tmp' \n",
    "}"
   ]
  },
  {
   "cell_type": "code",
   "execution_count": null,
   "id": "062107ad",
   "metadata": {},
   "outputs": [],
   "source": [
    "directives = [\n",
    "        {\n",
    "            \"channel\": channel,\n",
    "            \"filter\": {\n",
    "                \"unit\": \"SimpleDecentFilter\",\n",
    "                \"config\": filter_config,\n",
    "                \"on_stock_match\": 'bypass',\n",
    "            },\n",
    "            \"ingest\": {\n",
    "                \"mux\": {\n",
    "                    \"unit\": \"ZiArchiveMuxer\",\n",
    "                    \"config\": {\n",
    "                        \"history_days\": 999,\n",
    "                        \"future_days\": 999\n",
    "                    },\n",
    "                    \"combine\": [\n",
    "                        {\n",
    "                            \"unit\": \"ZiT1Combiner\",\n",
    "                            \"state_t2\": [\n",
    "                                {\n",
    "                                    \"unit\": \"T2DigestRedshifts\",\n",
    "                                    \"config\": ampelz_conf,\n",
    "                                },\n",
    "                                {\n",
    "                                    \"unit\": \"T2MatchBTS\",\n",
    "                                },\n",
    "                                {\n",
    "                                    \"unit\": \"T2GetLensSNParameters\",\n",
    "                                    \"config\": sncosmo_conf,\n",
    "                                },                            \n",
    "                                {\n",
    "                                    \"unit\": \"T2GetLensSNParameters\",\n",
    "                                    \"config\": sncosmo_conf_zscale,\n",
    "                                },                            \n",
    "                                {\n",
    "                                    \"unit\": \"T2RunParsnip\",\n",
    "                                    \"config\": parsnip_config,\n",
    "                                },                            \n",
    "                            ]\n",
    "                        }\n",
    "                    ],\n",
    "                    \"insert\": {\n",
    "                        \"point_t2\": [\n",
    "                            {\n",
    "                                'unit': 'T2CatalogMatch',\n",
    "                                'config': cat_conf,\n",
    "                                \"ingest\": {\n",
    "                                    'filter': 'PPSFilter', 'sort': 'jd', 'select': 'first'\n",
    "                                }\n",
    "                            },\n",
    "#                            {\n",
    "#                                'unit': 'T2LSPhotoZTap',\n",
    "#                                'config': dl_config,\n",
    "#                                \"ingest\": {\n",
    "#                                    'filter': 'PPSFilter', 'sort': 'jd', 'select': 'first'\n",
    "#                                }\n",
    "#                            },\n",
    "                        ],\n",
    "                    }\n",
    "\n",
    "                }\n",
    "            }\n",
    "        }\n",
    "    ]"
   ]
  },
  {
   "cell_type": "code",
   "execution_count": null,
   "id": "aa341787",
   "metadata": {},
   "outputs": [],
   "source": [
    "ac = ctx.new_context_unit(\n",
    "    unit = \"AlertConsumer\",\n",
    "    process_name = \"AP_test\",\n",
    "    iter_max = ITER_MAX,\n",
    "    log_profile = os.environ.get('log_profile', 'debug'),\n",
    "    shaper = \"ZiDataPointShaper\",\n",
    "    compiler_opts = \"ZiCompilerOptions\",\n",
    "    supplier = {\n",
    "        \"unit\": \"ZiAlertSupplier\",\n",
    "        'config': {\n",
    "            'deserialize': None,\n",
    "            'loader': {\n",
    "                'unit': 'ZTFArchiveAlertLoader',\n",
    "                'config': loader_config\n",
    "            }\n",
    "        }\n",
    "    },\n",
    "    directives = directives\n",
    ")\n"
   ]
  },
  {
   "cell_type": "code",
   "execution_count": null,
   "id": "75650ff7",
   "metadata": {},
   "outputs": [],
   "source": [
    "n = ac.run()"
   ]
  },
  {
   "cell_type": "code",
   "execution_count": null,
   "id": "ae825934",
   "metadata": {},
   "outputs": [],
   "source": [
    "print(f\"{n} alerts processed for channel {channel}\")"
   ]
  },
  {
   "cell_type": "code",
   "execution_count": null,
   "id": "f08b8043",
   "metadata": {},
   "outputs": [],
   "source": [
    "t2w = ctx.new_context_unit(\n",
    "    unit = 'T2Worker',\n",
    "    process_name = 'T2Processor_test',\n",
    "    log_profile = os.environ.get('log_profile', 'default')\n",
    ")"
   ]
  },
  {
   "cell_type": "code",
   "execution_count": null,
   "id": "b7e92bba",
   "metadata": {},
   "outputs": [],
   "source": [
    "t2w.run()"
   ]
  },
  {
   "cell_type": "code",
   "execution_count": null,
   "id": "22c8e3f5",
   "metadata": {},
   "outputs": [],
   "source": [
    "table_config =  {\n",
    "                                        'table_schema' : {\n",
    "                                            'T2DigestRedshifts': {\n",
    "                                                'Ampel z' : ['ampel_z'],\n",
    "                                                'Ampel z group' : ['group_z_nbr'],\n",
    "                                                'Ampel distance' :['ampel_dist'],\n",
    "                                            },\n",
    "                                            'T2GetLensSNParameters' : {\n",
    "                                                '(g-r) peak' : ['fit_metrics', 'g_r_colour_peak'],\n",
    "                                                '(r-i) peak' : ['fit_metrics', 'r_i_colour_peak'],\n",
    "                                                '(g-i) peak' : ['fit_metrics', 'g_i_colour_peak'],\n",
    "                                                '(g-r) plus7' : ['fit_metrics', 'g_r_colour_plus7'],\n",
    "                                                '(r-i) plus7' : ['fit_metrics', 'r_i_colour_plus7'],\n",
    "                                                '(g-i) plus7' : ['fit_metrics', 'g_i_colour_plus7'],\n",
    "                                                '(g-r) minus7' : ['fit_metrics', 'g_r_colour_minus7'],\n",
    "                                                '(r-i) minus7' : ['fit_metrics', 'r_i_colour_minus7'],\n",
    "                                                '(g-i) minus7' : ['fit_metrics', 'g_i_colour_minus7'],\n",
    "                                                '(g-r) peak err' : ['fit_metrics', 'g_r_colour_peak_err'],\n",
    "                                                '(r-i) peak err' : ['fit_metrics', 'r_i_colour_peak_err'],\n",
    "                                                '(g-i) peak err' : ['fit_metrics', 'g_i_colour_peak_err'],\n",
    "                                                '(g-r) plus7 err' : ['fit_metrics', 'g_r_colour_plus7_err'],\n",
    "                                                '(r-i) plus7 err' : ['fit_metrics', 'r_i_colour_plus7_err'],\n",
    "                                                '(g-i) plus7 err' : ['fit_metrics', 'g_i_colour_plus7_err'],\n",
    "                                                '(g-r) minus7 err' : ['fit_metrics', 'g_r_colour_minus7_err'],\n",
    "                                                '(r-i) minus7 err' : ['fit_metrics', 'r_i_colour_minus7_err'],\n",
    "                                                '(g-i) minus7 err' : ['fit_metrics', 'g_i_colour_plus7_err'],\n",
    "                                                'Peak g-band obs mag' : ['fit_metrics', 'obsmag_ztfg_peak'],\n",
    "                                                'Peak r-band obs mag' : ['fit_metrics', 'obsmag_ztfr_peak'],\n",
    "                                                'Peak i-band obs mag' : ['fit_metrics', 'obsmag_ztfi_peak'],\n",
    "                                                'Plus7 g-band obs mag' : ['fit_metrics', 'obsmag_ztfg_plus7'],\n",
    "                                                'Plus7 r-band obs mag' : ['fit_metrics', 'obsmag_ztfr_plus7'],\n",
    "                                                'Plus7 i-band obs mag' : ['fit_metrics', 'obsmag_ztfi_plus7'],\n",
    "                                                'Minus7 g-band obs mag' : ['fit_metrics', 'obsmag_ztfg_minus7'],\n",
    "                                                'Minus7 r-band obs mag' : ['fit_metrics', 'obsmag_ztfr_minus7'],\n",
    "                                                'Minus7 i-band obs mag' : ['fit_metrics', 'obsmag_ztfi_minus7'],\n",
    "                                                'Peak B abs mag' : ['fit_metrics','restpeak_model_absmag_B'],\n",
    "                                                'SALT2 X1' : ['sncosmo_result','paramdict','x1'],\n",
    "                                                'SALT2 X1 (err)' : ['sncosmo_result','errors','x1'],\n",
    "                                                'SALT2 Color' : ['sncosmo_result','paramdict','c'],\n",
    "                                                'SALT2 Color (err)' : ['sncosmo_result','errors','c'],\n",
    "                                                'Pulls around peak' : ['fit_metrics','absmean_peak_pull'],\n",
    "                                                'Det. around peak' : ['fit_metrics','nbr_peak_pulls'],\n",
    "                                            },\n",
    "                                            'T2MatchBTS' : {\n",
    "                                                'Type' : ['bts_type'],\n",
    "                                                'IAU ID': ['bts_IAUID'],\n",
    "                                            },\n",
    "                                            \n",
    "                                        },\n",
    "                                        'transient_table_schema' : {\n",
    "                                            \n",
    "                                            'T2LSPhotoZTap' : {\n",
    "                                              'LSPhotoZ photo-z' : ['T2LSPhotoZTap', 'z_phot_mean'],\n",
    "                                              'LSPhotoZ spec-z' : ['T2LSPhotoZTap', 'z_spec'],\n",
    "                                              'LSPhotoZ dist2transient' : ['T2LSPhotoZTap', 'dist2transient'],\n",
    "                                              'LSPhotoZ r' : ['T2LSPhotoZTap', 'dered_mag_r'],\n",
    "                                              'LSPhotoZ z' : ['T2LSPhotoZTap', 'dered_mag_z'],\n",
    "                                              'LSPhotoZ g' : ['T2LSPhotoZTap', 'dered_mag_g'],\n",
    "                                              'LSPhotoZ w1' : ['T2LSPhotoZTap', 'dered_mag_w1'],\n",
    "                                              'LSPhotoZ w2' : ['T2LSPhotoZTap', 'dered_mag_w2'],\n",
    "                                              'LSPhotoZ w3' : ['T2LSPhotoZTap', 'dered_mag_w3'],\n",
    "                                              'LSPhotoZ w4' : ['T2LSPhotoZTap', 'dered_mag_w4'],\n",
    "                                            },\n",
    "                                            \n",
    "                                            'T2CatalogMatch': {\n",
    "                                                'SDSS spec z' : ['SDSS_spec','z'],\n",
    "                                                \"NED z\" : ['NEDz','z'],\n",
    "                                                \"NED dist\" : ['NEDz','dist2transient'],\n",
    "                                                \"Glade z\" : ['GLADEv23','z'],\n",
    "                                                \"LS_Zou Photo-z\": ['LSPhotoZZou','photoz'],\n",
    "                                                \"LS_Zou dist\": ['LSPhotoZZou','dist2transient'],\n",
    "                                                \"LS_Zou logMassBest\": ['LSPhotoZZou','logMassBest'],\n",
    "                                                \"LS_Zou logMassInf\": ['LSPhotoZZou','logMassInf'],\n",
    "                                                \"LS_Zou logMassSup\": ['LSPhotoZZou','logMassSup'],\n",
    "                                                \"WiseCos Photo-z\": ['wiseScosPhotoz','zPhoto_Corr'],\n",
    "                                                \"WiseCos dist\": ['wiseScosPhotoz','dist2transient'],\n",
    "                                            },\n",
    "                                            \n",
    "                                        },\n",
    "                                        'include_stock' : True,\n",
    "                                        'include_channels' : True,\n",
    "                                        'fmt' : 'csv',\n",
    "                                        'local_path' : \"/home/jnordin/tmp\"\n",
    "                                    }"
   ]
  },
  {
   "cell_type": "code",
   "execution_count": null,
   "id": "b3eec499",
   "metadata": {},
   "outputs": [],
   "source": [
    "t3p = ctx.new_context_unit(\n",
    "    process_name = \"LensPrint\",\n",
    "    unit = \"T3Processor\",\n",
    "    execute = [\n",
    "        {\n",
    "            \"unit\": \"T3ReviewUnitExecutor\",\n",
    "            \"config\": {\n",
    "                \"supply\": {\n",
    "                    \"unit\": \"T3DefaultBufferSupplier\",\n",
    "                    \"config\": {\n",
    "                        \"select\": {\n",
    "                            \"unit\": \"T3StockSelector\",\n",
    "                            \"config\": {\"channel\": channel}\n",
    "                        },\n",
    "                        \"load\": {\n",
    "                            \"unit\": \"T3SimpleDataLoader\",\n",
    "                            \"config\": {\n",
    "                                \"directives\": [\"STOCK\", \"T1\", \"T2DOC\"],\n",
    "                                \"channel\": channel\n",
    "                            }\n",
    "                        }\n",
    "                     }\n",
    "                },\n",
    "                \"stage\" : {\n",
    "                    \"unit\": \"T3SimpleStager\",\n",
    "                    \"config\": {\n",
    "                        \"execute\": [\n",
    "                            {\n",
    "                                \"unit\": \"TransientTablePublisher\",\n",
    "                                \"config\": table_config\n",
    "                            }\n",
    "                        ]\n",
    "                    }\n",
    "                }\n",
    "            }\n",
    "        }\n",
    "    ]\n",
    ")"
   ]
  },
  {
   "cell_type": "code",
   "execution_count": null,
   "id": "62941364",
   "metadata": {},
   "outputs": [],
   "source": [
    "t3p.run()"
   ]
  },
  {
   "cell_type": "code",
   "execution_count": null,
   "id": "edf4056c",
   "metadata": {},
   "outputs": [],
   "source": [
    "# Trying the plot"
   ]
  },
  {
   "cell_type": "code",
   "execution_count": null,
   "id": "d220ba32",
   "metadata": {},
   "outputs": [],
   "source": [
    "lcplot_config = {\n",
    "    'lc_model' : 'salt2',\n",
    "    'param' : ['x1','c'],\n",
    "    'param_bounds': {'x1':[-10,10], 'c':[-1,3] },\n",
    "    'bts_classes' : {\n",
    "        'SN Ia' : ['SN Ia', 'SN Ia-91T'],\n",
    "        'SN II' : ['SN II', 'SN IIP', 'SN IIb', 'SN IIb', 'SN IIn'],\n",
    "        'SN Ibc' : ['SN Ic-BL', 'SN Ib/c', 'SN Ic', 'SN Ib', 'SN Ibn'],\n",
    "        'SLSNL' : ['SLSN-I', 'SLSN-II'],\n",
    "        'TDE' : ['TDE'],\n",
    "    },\n",
    "    'z_source' : 'AMPELz',\n",
    "    'plot_dir': '/home/jnordin/tmp',\n",
    "    'name_filter': {'ZTF name': 'ZTF', 'TNS ID': 'TNS'},\n",
    "    'save_table': True,\n",
    "    'unit_name': 'T2GetLensSNParameters',\n",
    "    'include_absmag': True,\n",
    "}\n"
   ]
  },
  {
   "cell_type": "code",
   "execution_count": null,
   "id": "8e648380",
   "metadata": {},
   "outputs": [],
   "source": [
    "t3p = ctx.new_context_unit(\n",
    "    process_name = \"LensPrint\",\n",
    "    unit = \"T3Processor\",\n",
    "    execute = [\n",
    "        {\n",
    "            \"unit\": \"T3ReviewUnitExecutor\",\n",
    "            \"config\": {\n",
    "                \"supply\": {\n",
    "                    \"unit\": \"T3DefaultBufferSupplier\",\n",
    "                    \"config\": {\n",
    "                        \"select\": {\n",
    "                            \"unit\": \"T3StockSelector\",\n",
    "                            \"config\": {\"channel\": channel}\n",
    "                        },\n",
    "                        \"load\": {\n",
    "                            \"unit\": \"T3SimpleDataLoader\",\n",
    "                            \"config\": {\n",
    "                                \"directives\": [\"STOCK\", \"T1\", \"T2DOC\"],\n",
    "                                \"channel\": channel\n",
    "                            }\n",
    "                        }\n",
    "                     }\n",
    "                },\n",
    "                \"stage\" : {\n",
    "                    \"unit\": \"T3SimpleStager\",\n",
    "                    \"config\": {\n",
    "                        \"execute\": [\n",
    "                            {\n",
    "                                \"unit\": \"PlotLightcurveSample\",\n",
    "                                \"config\": lcplot_config\n",
    "                            }\n",
    "                        ]\n",
    "                    }\n",
    "                }\n",
    "            }\n",
    "        }\n",
    "    ]\n",
    ")"
   ]
  },
  {
   "cell_type": "code",
   "execution_count": null,
   "id": "90258fa3",
   "metadata": {},
   "outputs": [],
   "source": [
    "t3p.run()"
   ]
  },
  {
   "cell_type": "markdown",
   "id": "b4154757",
   "metadata": {},
   "source": [
    "## Parse some output files"
   ]
  },
  {
   "cell_type": "code",
   "execution_count": null,
   "id": "8ebc556e",
   "metadata": {},
   "outputs": [],
   "source": [
    "import pandas as pd\n",
    "import matplotlib.pyplot as plt"
   ]
  },
  {
   "cell_type": "code",
   "execution_count": null,
   "id": "931782cf",
   "metadata": {},
   "outputs": [],
   "source": [
    "df_z = pd.read_csv('/home/jnordin/tmp/LensedTable_RealZ.csv')"
   ]
  },
  {
   "cell_type": "code",
   "execution_count": null,
   "id": "a163654c",
   "metadata": {},
   "outputs": [],
   "source": [
    "df_2z = pd.read_csv('/home/jnordin/tmp/LensedTable_DoubleZ.csv')"
   ]
  },
  {
   "cell_type": "code",
   "execution_count": null,
   "id": "304d1b90",
   "metadata": {},
   "outputs": [],
   "source": [
    "df = pd.merge(df_z, df_2z, on=\"stock\", suffixes=(\"_z\", \"_2z\"))"
   ]
  },
  {
   "cell_type": "code",
   "execution_count": null,
   "id": "cd503709",
   "metadata": {},
   "outputs": [],
   "source": [
    "plt.plot(df['SALT2 Color_z'], df['SALT2 Color_2z'], 'o')\n",
    "plt.axis([-0.5,1,-0.5,1])"
   ]
  },
  {
   "cell_type": "code",
   "execution_count": null,
   "id": "49b01349",
   "metadata": {},
   "outputs": [],
   "source": [
    "plt.plot(df['SALT2 X1_z'], df['SALT2 X1_2z'], 'o')\n",
    "plt.axis([-5,5,-5,5])"
   ]
  },
  {
   "cell_type": "code",
   "execution_count": null,
   "id": "84452e3b",
   "metadata": {},
   "outputs": [],
   "source": [
    "good_in_z = ( (df['SALT2 X1_z']>-4) & (df['SALT2 X1_z']<4) & (df['SALT2 Color_z']>-0.2) & (df['SALT2 X1_z']<0.3) )"
   ]
  },
  {
   "cell_type": "code",
   "execution_count": null,
   "id": "865e4646",
   "metadata": {},
   "outputs": [],
   "source": [
    "good_in_2z = ( (df['SALT2 X1_2z']>-4) & (df['SALT2 X1_2z']<4) & (df['SALT2 Color_2z']>-0.2) & (df['SALT2 X1_2z']<0.3) )"
   ]
  },
  {
   "cell_type": "code",
   "execution_count": null,
   "id": "0823a642",
   "metadata": {},
   "outputs": [],
   "source": [
    "ok_fit = ( (df['Ampel z_z']>0.15) & (df['SALT2 X1 (err)_2z']<1) & (df['SALT2 Color (err)_2z']<1) )"
   ]
  },
  {
   "cell_type": "code",
   "execution_count": null,
   "id": "fd7c8f0a",
   "metadata": {},
   "outputs": [],
   "source": [
    "df_sub = df[(good_in_2z & ~good_in_z & ok_fit) ]"
   ]
  },
  {
   "cell_type": "code",
   "execution_count": null,
   "id": "8e8cce65",
   "metadata": {},
   "outputs": [],
   "source": [
    "df_sub"
   ]
  }
 ],
 "metadata": {
  "kernelspec": {
   "display_name": "Python 3 (ipykernel)",
   "language": "python",
   "name": "python3"
  },
  "language_info": {
   "codemirror_mode": {
    "name": "ipython",
    "version": 3
   },
   "file_extension": ".py",
   "mimetype": "text/x-python",
   "name": "python",
   "nbconvert_exporter": "python",
   "pygments_lexer": "ipython3",
   "version": "3.9.7"
  }
 },
 "nbformat": 4,
 "nbformat_minor": 5
}
