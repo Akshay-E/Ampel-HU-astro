{
 "cells": [
  {
   "cell_type": "markdown",
   "id": "burning-arrow",
   "metadata": {},
   "source": [
    "Test the XShooterFilter"
   ]
  },
  {
   "cell_type": "code",
   "execution_count": null,
   "id": "elder-brand",
   "metadata": {},
   "outputs": [],
   "source": [
    "import os\n",
    "%load_ext ampel_quick_import\n",
    "%qi AmpelLogger XShooterFilter DevAlertProcessor PhotoAlertPlotter\n",
    "from random import choice\n",
    "import matplotlib.pyplot as plt"
   ]
  },
  {
   "cell_type": "code",
   "execution_count": null,
   "id": "modern-tenant",
   "metadata": {},
   "outputs": [],
   "source": [
    "# See other sample notebooks for path to download\n",
    "#ALERT_ARCHIVE = \"/home/jnordin/data/ztfalerts/ztf_public_20180731_nostars.tar.gz\"\n",
    "#ALERT_ARCHIVE = \"/home/jnordin/github/ampelv07/Ampel-notebooks/ztf/skyportal/HU_TNS_PARTNER.tar.gz\"\n",
    "ALERT_ARCHIVE = \"/home/jnordin/data/ztfalerts/HU_RAPID_HU_RAPID_SINGLE.tar.gz\"\n",
    "AMPEL_CONF = \"/home/jnordin/github/ampelv71/ampel_conf.yaml\""
   ]
  },
  {
   "cell_type": "code",
   "execution_count": null,
   "id": "other-bloom",
   "metadata": {},
   "outputs": [],
   "source": [
    "# Base filter configuration\n",
    "filter_conf = {\n",
    "    \"max_dec\": 999,\n",
    "    \"ul_within\": 5,\n",
    "    \"det_within\": 1,\n",
    "    \"min_tspan\": -666,\n",
    "    \"max_elong\": 1.4,\n",
    "    \"max_magdiff\": 1,\n",
    "    \"max_nbad\": 0,\n",
    "    \"min_sso_dist\": 20,\n",
    "    \"min_gal_lat\": 14,\n",
    "    \"gaia_rs\": 20,\n",
    "    \"gaia_pm_signif\": 3,\n",
    "    \"gaia_plx_signif\": 3,\n",
    "    \"gaia_veto_gmag_min\": 9,\n",
    "    \"gaia_veto_gmag_max\": 20,\n",
    "    \"gaia_excessnoise_sig_max\": 999,\n",
    "    \"ps1_sgveto_th\": 0.8,\n",
    "    \"ps1_confusion_rad\": 3,\n",
    "    \"ps1_confusion_sg_tol\": 0.1,    \n",
    "    \"ul_within\": 3,\n",
    "    \"min_ndet\": 1,\n",
    "    \"max_tspan\": 2,\n",
    "    \"min_rb\": 0.4,\n",
    "    \"min_drb\": 0.995,\n",
    "    \"max_fwhm\": 4.5,\n",
    "    \"ps1_sgveto_rad\": 2,\n",
    "    \"max_chipsf\": 4.,\n",
    "    \"max_seeratio\": 2.,\n",
    "    \"min_sumrat\": 0.68,\n",
    "}"
   ]
  },
  {
   "cell_type": "code",
   "execution_count": null,
   "id": "qualified-writing",
   "metadata": {},
   "outputs": [],
   "source": [
    "# Disable Gaia\n",
    "filter_conf['gaia_rs'] = 0 \n",
    "# Reduce sample by only looking at recent events\n",
    "filter_conf['det_within'] = 0.25"
   ]
  },
  {
   "cell_type": "code",
   "execution_count": null,
   "id": "opposed-steal",
   "metadata": {},
   "outputs": [],
   "source": [
    "# Possible changes\n",
    "#filter_conf['max_chipsf'] = 2\n",
    "#filter_conf['max_seeratio'] = 1.3\n",
    "#filter_conf['min_sumrat'] = 0.8\n"
   ]
  },
  {
   "cell_type": "code",
   "execution_count": null,
   "id": "rolled-dover",
   "metadata": {},
   "outputs": [],
   "source": [
    "logger = AmpelLogger.get_logger()"
   ]
  },
  {
   "cell_type": "code",
   "execution_count": null,
   "id": "cleared-parameter",
   "metadata": {},
   "outputs": [],
   "source": [
    "t0filter = XShooterFilter( **filter_conf, logger=logger )\n"
   ]
  },
  {
   "cell_type": "code",
   "execution_count": null,
   "id": "ideal-farming",
   "metadata": {},
   "outputs": [],
   "source": [
    "ap = DevAlertProcessor( t0filter )"
   ]
  },
  {
   "cell_type": "code",
   "execution_count": null,
   "id": "bottom-reservation",
   "metadata": {},
   "outputs": [],
   "source": [
    "iter_max = 10000"
   ]
  },
  {
   "cell_type": "code",
   "execution_count": null,
   "id": "ideal-venice",
   "metadata": {},
   "outputs": [],
   "source": [
    "n_processed = ap.process_tar( ALERT_ARCHIVE, iter_max=iter_max )"
   ]
  },
  {
   "cell_type": "code",
   "execution_count": null,
   "id": "limiting-guide",
   "metadata": {},
   "outputs": [],
   "source": [
    "print('Processed %s alerts out of which %s were accepted'%(n_processed,len(ap.get_accepted_alerts())))"
   ]
  },
  {
   "cell_type": "code",
   "execution_count": null,
   "id": "dimensional-status",
   "metadata": {},
   "outputs": [],
   "source": [
    "sne = [alert.id for alert in ap.get_accepted_alerts()]"
   ]
  },
  {
   "cell_type": "markdown",
   "id": "warming-macintosh",
   "metadata": {},
   "source": [
    "#### Redo the above but with a cut in max_chipsf"
   ]
  },
  {
   "cell_type": "code",
   "execution_count": null,
   "id": "european-slave",
   "metadata": {},
   "outputs": [],
   "source": [
    "chi_conf = dict( filter_conf )"
   ]
  },
  {
   "cell_type": "code",
   "execution_count": null,
   "id": "irish-patrol",
   "metadata": {},
   "outputs": [],
   "source": [
    "chi_conf['max_chipsf'] = 2"
   ]
  },
  {
   "cell_type": "code",
   "execution_count": null,
   "id": "diagnostic-cheat",
   "metadata": {},
   "outputs": [],
   "source": [
    "chi_t0filter = XShooterFilter( **chi_conf, logger=logger )"
   ]
  },
  {
   "cell_type": "code",
   "execution_count": null,
   "id": "conventional-adaptation",
   "metadata": {},
   "outputs": [],
   "source": [
    "chi_ap = DevAlertProcessor( chi_t0filter )"
   ]
  },
  {
   "cell_type": "code",
   "execution_count": null,
   "id": "dirty-algeria",
   "metadata": {},
   "outputs": [],
   "source": [
    "n_processed = chi_ap.process_tar( ALERT_ARCHIVE, iter_max=iter_max )"
   ]
  },
  {
   "cell_type": "code",
   "execution_count": null,
   "id": "considerable-twist",
   "metadata": {},
   "outputs": [],
   "source": [
    "print('Processed %s alerts out of which %s were accepted'%(n_processed,len(chi_ap.get_accepted_alerts())))"
   ]
  },
  {
   "cell_type": "code",
   "execution_count": null,
   "id": "greater-wrestling",
   "metadata": {},
   "outputs": [],
   "source": [
    "chi_sne = [alert.id for alert in chi_ap.get_accepted_alerts()]"
   ]
  },
  {
   "cell_type": "code",
   "execution_count": null,
   "id": "following-employer",
   "metadata": {},
   "outputs": [],
   "source": [
    "chi_diff = set(sne)-set(chi_sne) "
   ]
  },
  {
   "cell_type": "code",
   "execution_count": null,
   "id": "dressed-illinois",
   "metadata": {},
   "outputs": [],
   "source": [
    "for k in range(10):\n",
    "#    print( \"https://fritz.science/source/{}\".format(choice(list(chi_diff)) ) )\n",
    "    print( \"http://alerce.online/object/{}\".format(choice(list(chi_diff)) ))"
   ]
  },
  {
   "cell_type": "code",
   "execution_count": null,
   "id": "ranking-pulse",
   "metadata": {},
   "outputs": [],
   "source": []
  },
  {
   "cell_type": "markdown",
   "id": "sitting-better",
   "metadata": {},
   "source": [
    "#### Redo the above but with a cut in max_chipsf"
   ]
  },
  {
   "cell_type": "code",
   "execution_count": null,
   "id": "automated-cartridge",
   "metadata": {},
   "outputs": [],
   "source": [
    "seeratio_conf = dict( filter_conf )"
   ]
  },
  {
   "cell_type": "code",
   "execution_count": null,
   "id": "caroline-future",
   "metadata": {},
   "outputs": [],
   "source": [
    "seeratio_conf['max_seeratio'] = 1.3"
   ]
  },
  {
   "cell_type": "code",
   "execution_count": null,
   "id": "invisible-position",
   "metadata": {},
   "outputs": [],
   "source": [
    "seeratio_t0filter = XShooterFilter( **seeratio_conf, logger=logger )"
   ]
  },
  {
   "cell_type": "code",
   "execution_count": null,
   "id": "convenient-portland",
   "metadata": {},
   "outputs": [],
   "source": [
    "seeratio_ap = DevAlertProcessor( seeratio_t0filter )"
   ]
  },
  {
   "cell_type": "code",
   "execution_count": null,
   "id": "capital-system",
   "metadata": {},
   "outputs": [],
   "source": [
    "n_processed = seeratio_ap.process_tar( ALERT_ARCHIVE, iter_max=iter_max )"
   ]
  },
  {
   "cell_type": "code",
   "execution_count": null,
   "id": "foster-fellow",
   "metadata": {},
   "outputs": [],
   "source": [
    "print('Processed %s alerts out of which %s were accepted'%(n_processed,len(seeratio_ap.get_accepted_alerts())))"
   ]
  },
  {
   "cell_type": "code",
   "execution_count": null,
   "id": "leading-strip",
   "metadata": {},
   "outputs": [],
   "source": [
    "seeratio_sne = [alert.id for alert in seeratio_ap.get_accepted_alerts()]"
   ]
  },
  {
   "cell_type": "code",
   "execution_count": null,
   "id": "worldwide-agenda",
   "metadata": {},
   "outputs": [],
   "source": [
    "seeratio_diff = set(sne)-set(seeratio_sne) \n",
    "print(len(seeratio_diff))"
   ]
  },
  {
   "cell_type": "code",
   "execution_count": null,
   "id": "particular-terry",
   "metadata": {},
   "outputs": [],
   "source": [
    "for k in range(10):\n",
    "#    print( \"https://fritz.science/source/{}\".format(choice(list(chi_diff)) ) )\n",
    "    print( \"http://alerce.online/object/{}\".format(choice(list(seeratio_diff)) ))"
   ]
  },
  {
   "cell_type": "markdown",
   "id": "banner-wrong",
   "metadata": {},
   "source": [
    "#### Redo the above but with a cut in min_sumrat"
   ]
  },
  {
   "cell_type": "code",
   "execution_count": null,
   "id": "ambient-cheese",
   "metadata": {},
   "outputs": [],
   "source": [
    "sumrat_conf = dict( filter_conf )"
   ]
  },
  {
   "cell_type": "code",
   "execution_count": null,
   "id": "express-connecticut",
   "metadata": {},
   "outputs": [],
   "source": [
    "sumrat_conf['min_sumrat'] = 0.8"
   ]
  },
  {
   "cell_type": "code",
   "execution_count": null,
   "id": "absent-singer",
   "metadata": {},
   "outputs": [],
   "source": [
    "sumrat_t0filter = XShooterFilter( **sumrat_conf, logger=logger )"
   ]
  },
  {
   "cell_type": "code",
   "execution_count": null,
   "id": "primary-adrian",
   "metadata": {},
   "outputs": [],
   "source": [
    "sumrat_ap = DevAlertProcessor( sumrat_t0filter )"
   ]
  },
  {
   "cell_type": "code",
   "execution_count": null,
   "id": "special-template",
   "metadata": {},
   "outputs": [],
   "source": [
    "n_processed = sumrat_ap.process_tar( ALERT_ARCHIVE, iter_max=iter_max )"
   ]
  },
  {
   "cell_type": "code",
   "execution_count": null,
   "id": "minute-linux",
   "metadata": {},
   "outputs": [],
   "source": [
    "print('Processed %s alerts out of which %s were accepted'%(n_processed,len(sumrat_ap.get_accepted_alerts())))"
   ]
  },
  {
   "cell_type": "code",
   "execution_count": null,
   "id": "checked-disorder",
   "metadata": {},
   "outputs": [],
   "source": [
    "sumrat_sne = [alert.id for alert in sumrat_ap.get_accepted_alerts()]"
   ]
  },
  {
   "cell_type": "code",
   "execution_count": null,
   "id": "southern-longer",
   "metadata": {},
   "outputs": [],
   "source": [
    "sumrat_diff = set(sne)-set(sumrat_sne) \n",
    "print(len(sumrat_diff))"
   ]
  },
  {
   "cell_type": "code",
   "execution_count": null,
   "id": "specified-broadcasting",
   "metadata": {},
   "outputs": [],
   "source": [
    "for k in range(10):\n",
    "#    print( \"https://fritz.science/source/{}\".format(choice(list(chi_diff)) ) )\n",
    "    print( \"http://alerce.online/object/{}\".format(choice(list(sumrat_diff)) ))"
   ]
  },
  {
   "cell_type": "markdown",
   "id": "fossil-plasma",
   "metadata": {},
   "source": [
    "#### Redo the above but with all cuts"
   ]
  },
  {
   "cell_type": "code",
   "execution_count": null,
   "id": "grateful-addiction",
   "metadata": {},
   "outputs": [],
   "source": [
    "new_conf = dict( filter_conf )"
   ]
  },
  {
   "cell_type": "code",
   "execution_count": null,
   "id": "strange-housing",
   "metadata": {},
   "outputs": [],
   "source": [
    "new_conf['max_chipsf'] = 2\n",
    "new_conf['max_seeratio'] = 1.3\n",
    "new_conf['min_sumrat'] = 0.8"
   ]
  },
  {
   "cell_type": "code",
   "execution_count": null,
   "id": "empirical-triumph",
   "metadata": {},
   "outputs": [],
   "source": [
    "new_t0filter = XShooterFilter( **new_conf, logger=logger )"
   ]
  },
  {
   "cell_type": "code",
   "execution_count": null,
   "id": "later-webmaster",
   "metadata": {},
   "outputs": [],
   "source": [
    "new_ap = DevAlertProcessor( new_t0filter )"
   ]
  },
  {
   "cell_type": "code",
   "execution_count": null,
   "id": "supposed-simulation",
   "metadata": {},
   "outputs": [],
   "source": [
    "n_processed = new_ap.process_tar( ALERT_ARCHIVE, iter_max=iter_max )"
   ]
  },
  {
   "cell_type": "code",
   "execution_count": null,
   "id": "copyrighted-frederick",
   "metadata": {},
   "outputs": [],
   "source": [
    "print('Processed %s alerts out of which %s were accepted'%(n_processed,len(new_ap.get_accepted_alerts())))"
   ]
  },
  {
   "cell_type": "code",
   "execution_count": null,
   "id": "desirable-command",
   "metadata": {},
   "outputs": [],
   "source": [
    "new_sne = [alert.id for alert in new_ap.get_accepted_alerts()]"
   ]
  },
  {
   "cell_type": "code",
   "execution_count": null,
   "id": "heard-initial",
   "metadata": {},
   "outputs": [],
   "source": [
    "new_diff = set(sne)-set(new_sne) \n",
    "print(len(new_diff))"
   ]
  },
  {
   "cell_type": "code",
   "execution_count": null,
   "id": "other-mambo",
   "metadata": {},
   "outputs": [],
   "source": [
    "for k in range(7):\n",
    "#    print( \"https://fritz.science/source/{}\".format(choice(list(chi_diff)) ) )\n",
    "    print( \"http://alerce.online/object/{}\".format(choice(list(new_diff)) ))"
   ]
  },
  {
   "cell_type": "code",
   "execution_count": null,
   "id": "devoted-philippines",
   "metadata": {},
   "outputs": [],
   "source": [
    "# Also look at some of the accepted alerts\n",
    "for k in range(7):\n",
    "#    print( \"https://fritz.science/source/{}\".format(choice(list(chi_diff)) ) )\n",
    "    print( \"http://alerce.online/object/{}\".format(choice(new_sne) ))"
   ]
  },
  {
   "cell_type": "code",
   "execution_count": null,
   "id": "major-resource",
   "metadata": {},
   "outputs": [],
   "source": []
  },
  {
   "cell_type": "code",
   "execution_count": null,
   "id": "neutral-arrangement",
   "metadata": {},
   "outputs": [],
   "source": [
    "plotter = PhotoAlertPlotter(interactive=True)"
   ]
  },
  {
   "cell_type": "code",
   "execution_count": null,
   "id": "swedish-converter",
   "metadata": {},
   "outputs": [],
   "source": [
    "plotter.summary_plot(ap.get_accepted_alerts()[0])"
   ]
  },
  {
   "cell_type": "code",
   "execution_count": null,
   "id": "included-aside",
   "metadata": {},
   "outputs": [],
   "source": []
  }
 ],
 "metadata": {
  "kernelspec": {
   "display_name": "Python 3",
   "language": "python",
   "name": "python3"
  },
  "language_info": {
   "codemirror_mode": {
    "name": "ipython",
    "version": 3
   },
   "file_extension": ".py",
   "mimetype": "text/x-python",
   "name": "python",
   "nbconvert_exporter": "python",
   "pygments_lexer": "ipython3",
   "version": "3.8.8"
  }
 },
 "nbformat": 4,
 "nbformat_minor": 5
}
